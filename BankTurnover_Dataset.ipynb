{
  "nbformat": 4,
  "nbformat_minor": 0,
  "metadata": {
    "colab": {
      "name": "BankTurnover_Dataset.ipynb",
      "provenance": [],
      "collapsed_sections": []
    },
    "kernelspec": {
      "name": "python3",
      "display_name": "Python 3"
    },
    "language_info": {
      "name": "python"
    }
  },
  "cells": [
    {
      "cell_type": "code",
      "metadata": {
        "id": "5Lu5oIL6i8Hk"
      },
      "source": [
        "import pandas as pd\n",
        "from matplotlib import pyplot as plt\n",
        "import numpy as np\n",
        "import seaborn as sns\n",
        "import tensorflow as tf\n",
        "from tensorflow import keras"
      ],
      "execution_count": 312,
      "outputs": []
    },
    {
      "cell_type": "code",
      "metadata": {
        "colab": {
          "base_uri": "https://localhost:8080/",
          "height": 215
        },
        "id": "pL3GDLFMjGAX",
        "outputId": "4c974c24-cd30-42c3-988c-fb5541686a0f"
      },
      "source": [
        "df = pd.read_csv(\"/content/Churn_Modelling.csv\")\n",
        "df.sample(5)"
      ],
      "execution_count": 313,
      "outputs": [
        {
          "output_type": "execute_result",
          "data": {
            "text/html": [
              "<div>\n",
              "<style scoped>\n",
              "    .dataframe tbody tr th:only-of-type {\n",
              "        vertical-align: middle;\n",
              "    }\n",
              "\n",
              "    .dataframe tbody tr th {\n",
              "        vertical-align: top;\n",
              "    }\n",
              "\n",
              "    .dataframe thead th {\n",
              "        text-align: right;\n",
              "    }\n",
              "</style>\n",
              "<table border=\"1\" class=\"dataframe\">\n",
              "  <thead>\n",
              "    <tr style=\"text-align: right;\">\n",
              "      <th></th>\n",
              "      <th>RowNumber</th>\n",
              "      <th>CustomerId</th>\n",
              "      <th>Surname</th>\n",
              "      <th>CreditScore</th>\n",
              "      <th>Geography</th>\n",
              "      <th>Gender</th>\n",
              "      <th>Age</th>\n",
              "      <th>Tenure</th>\n",
              "      <th>Balance</th>\n",
              "      <th>NumOfProducts</th>\n",
              "      <th>HasCrCard</th>\n",
              "      <th>IsActiveMember</th>\n",
              "      <th>EstimatedSalary</th>\n",
              "      <th>Exited</th>\n",
              "    </tr>\n",
              "  </thead>\n",
              "  <tbody>\n",
              "    <tr>\n",
              "      <th>1623</th>\n",
              "      <td>1624</td>\n",
              "      <td>15804516</td>\n",
              "      <td>Builder</td>\n",
              "      <td>589</td>\n",
              "      <td>France</td>\n",
              "      <td>Male</td>\n",
              "      <td>38</td>\n",
              "      <td>2</td>\n",
              "      <td>0.00</td>\n",
              "      <td>1</td>\n",
              "      <td>1</td>\n",
              "      <td>0</td>\n",
              "      <td>79915.28</td>\n",
              "      <td>0</td>\n",
              "    </tr>\n",
              "    <tr>\n",
              "      <th>1950</th>\n",
              "      <td>1951</td>\n",
              "      <td>15615456</td>\n",
              "      <td>Aleksandrova</td>\n",
              "      <td>680</td>\n",
              "      <td>France</td>\n",
              "      <td>Female</td>\n",
              "      <td>37</td>\n",
              "      <td>10</td>\n",
              "      <td>123806.28</td>\n",
              "      <td>1</td>\n",
              "      <td>1</td>\n",
              "      <td>0</td>\n",
              "      <td>81776.84</td>\n",
              "      <td>1</td>\n",
              "    </tr>\n",
              "    <tr>\n",
              "      <th>5561</th>\n",
              "      <td>5562</td>\n",
              "      <td>15583073</td>\n",
              "      <td>Martin</td>\n",
              "      <td>771</td>\n",
              "      <td>Spain</td>\n",
              "      <td>Female</td>\n",
              "      <td>56</td>\n",
              "      <td>2</td>\n",
              "      <td>0.00</td>\n",
              "      <td>1</td>\n",
              "      <td>1</td>\n",
              "      <td>1</td>\n",
              "      <td>25222.60</td>\n",
              "      <td>1</td>\n",
              "    </tr>\n",
              "    <tr>\n",
              "      <th>1780</th>\n",
              "      <td>1781</td>\n",
              "      <td>15601008</td>\n",
              "      <td>Stevenson</td>\n",
              "      <td>802</td>\n",
              "      <td>France</td>\n",
              "      <td>Male</td>\n",
              "      <td>33</td>\n",
              "      <td>8</td>\n",
              "      <td>0.00</td>\n",
              "      <td>2</td>\n",
              "      <td>1</td>\n",
              "      <td>0</td>\n",
              "      <td>143706.18</td>\n",
              "      <td>0</td>\n",
              "    </tr>\n",
              "    <tr>\n",
              "      <th>4245</th>\n",
              "      <td>4246</td>\n",
              "      <td>15569446</td>\n",
              "      <td>Tu</td>\n",
              "      <td>732</td>\n",
              "      <td>France</td>\n",
              "      <td>Female</td>\n",
              "      <td>34</td>\n",
              "      <td>8</td>\n",
              "      <td>122338.43</td>\n",
              "      <td>2</td>\n",
              "      <td>1</td>\n",
              "      <td>0</td>\n",
              "      <td>187985.85</td>\n",
              "      <td>0</td>\n",
              "    </tr>\n",
              "  </tbody>\n",
              "</table>\n",
              "</div>"
            ],
            "text/plain": [
              "      RowNumber  CustomerId  ... EstimatedSalary  Exited\n",
              "1623       1624    15804516  ...        79915.28       0\n",
              "1950       1951    15615456  ...        81776.84       1\n",
              "5561       5562    15583073  ...        25222.60       1\n",
              "1780       1781    15601008  ...       143706.18       0\n",
              "4245       4246    15569446  ...       187985.85       0\n",
              "\n",
              "[5 rows x 14 columns]"
            ]
          },
          "metadata": {
            "tags": []
          },
          "execution_count": 313
        }
      ]
    },
    {
      "cell_type": "code",
      "metadata": {
        "colab": {
          "base_uri": "https://localhost:8080/",
          "height": 422
        },
        "id": "M1YNk1iPj_fa",
        "outputId": "3a00d7a4-6f8c-4e82-e2df-c61f36e54533"
      },
      "source": [
        "df.isnull()"
      ],
      "execution_count": 314,
      "outputs": [
        {
          "output_type": "execute_result",
          "data": {
            "text/html": [
              "<div>\n",
              "<style scoped>\n",
              "    .dataframe tbody tr th:only-of-type {\n",
              "        vertical-align: middle;\n",
              "    }\n",
              "\n",
              "    .dataframe tbody tr th {\n",
              "        vertical-align: top;\n",
              "    }\n",
              "\n",
              "    .dataframe thead th {\n",
              "        text-align: right;\n",
              "    }\n",
              "</style>\n",
              "<table border=\"1\" class=\"dataframe\">\n",
              "  <thead>\n",
              "    <tr style=\"text-align: right;\">\n",
              "      <th></th>\n",
              "      <th>RowNumber</th>\n",
              "      <th>CustomerId</th>\n",
              "      <th>Surname</th>\n",
              "      <th>CreditScore</th>\n",
              "      <th>Geography</th>\n",
              "      <th>Gender</th>\n",
              "      <th>Age</th>\n",
              "      <th>Tenure</th>\n",
              "      <th>Balance</th>\n",
              "      <th>NumOfProducts</th>\n",
              "      <th>HasCrCard</th>\n",
              "      <th>IsActiveMember</th>\n",
              "      <th>EstimatedSalary</th>\n",
              "      <th>Exited</th>\n",
              "    </tr>\n",
              "  </thead>\n",
              "  <tbody>\n",
              "    <tr>\n",
              "      <th>0</th>\n",
              "      <td>False</td>\n",
              "      <td>False</td>\n",
              "      <td>False</td>\n",
              "      <td>False</td>\n",
              "      <td>False</td>\n",
              "      <td>False</td>\n",
              "      <td>False</td>\n",
              "      <td>False</td>\n",
              "      <td>False</td>\n",
              "      <td>False</td>\n",
              "      <td>False</td>\n",
              "      <td>False</td>\n",
              "      <td>False</td>\n",
              "      <td>False</td>\n",
              "    </tr>\n",
              "    <tr>\n",
              "      <th>1</th>\n",
              "      <td>False</td>\n",
              "      <td>False</td>\n",
              "      <td>False</td>\n",
              "      <td>False</td>\n",
              "      <td>False</td>\n",
              "      <td>False</td>\n",
              "      <td>False</td>\n",
              "      <td>False</td>\n",
              "      <td>False</td>\n",
              "      <td>False</td>\n",
              "      <td>False</td>\n",
              "      <td>False</td>\n",
              "      <td>False</td>\n",
              "      <td>False</td>\n",
              "    </tr>\n",
              "    <tr>\n",
              "      <th>2</th>\n",
              "      <td>False</td>\n",
              "      <td>False</td>\n",
              "      <td>False</td>\n",
              "      <td>False</td>\n",
              "      <td>False</td>\n",
              "      <td>False</td>\n",
              "      <td>False</td>\n",
              "      <td>False</td>\n",
              "      <td>False</td>\n",
              "      <td>False</td>\n",
              "      <td>False</td>\n",
              "      <td>False</td>\n",
              "      <td>False</td>\n",
              "      <td>False</td>\n",
              "    </tr>\n",
              "    <tr>\n",
              "      <th>3</th>\n",
              "      <td>False</td>\n",
              "      <td>False</td>\n",
              "      <td>False</td>\n",
              "      <td>False</td>\n",
              "      <td>False</td>\n",
              "      <td>False</td>\n",
              "      <td>False</td>\n",
              "      <td>False</td>\n",
              "      <td>False</td>\n",
              "      <td>False</td>\n",
              "      <td>False</td>\n",
              "      <td>False</td>\n",
              "      <td>False</td>\n",
              "      <td>False</td>\n",
              "    </tr>\n",
              "    <tr>\n",
              "      <th>4</th>\n",
              "      <td>False</td>\n",
              "      <td>False</td>\n",
              "      <td>False</td>\n",
              "      <td>False</td>\n",
              "      <td>False</td>\n",
              "      <td>False</td>\n",
              "      <td>False</td>\n",
              "      <td>False</td>\n",
              "      <td>False</td>\n",
              "      <td>False</td>\n",
              "      <td>False</td>\n",
              "      <td>False</td>\n",
              "      <td>False</td>\n",
              "      <td>False</td>\n",
              "    </tr>\n",
              "    <tr>\n",
              "      <th>...</th>\n",
              "      <td>...</td>\n",
              "      <td>...</td>\n",
              "      <td>...</td>\n",
              "      <td>...</td>\n",
              "      <td>...</td>\n",
              "      <td>...</td>\n",
              "      <td>...</td>\n",
              "      <td>...</td>\n",
              "      <td>...</td>\n",
              "      <td>...</td>\n",
              "      <td>...</td>\n",
              "      <td>...</td>\n",
              "      <td>...</td>\n",
              "      <td>...</td>\n",
              "    </tr>\n",
              "    <tr>\n",
              "      <th>9995</th>\n",
              "      <td>False</td>\n",
              "      <td>False</td>\n",
              "      <td>False</td>\n",
              "      <td>False</td>\n",
              "      <td>False</td>\n",
              "      <td>False</td>\n",
              "      <td>False</td>\n",
              "      <td>False</td>\n",
              "      <td>False</td>\n",
              "      <td>False</td>\n",
              "      <td>False</td>\n",
              "      <td>False</td>\n",
              "      <td>False</td>\n",
              "      <td>False</td>\n",
              "    </tr>\n",
              "    <tr>\n",
              "      <th>9996</th>\n",
              "      <td>False</td>\n",
              "      <td>False</td>\n",
              "      <td>False</td>\n",
              "      <td>False</td>\n",
              "      <td>False</td>\n",
              "      <td>False</td>\n",
              "      <td>False</td>\n",
              "      <td>False</td>\n",
              "      <td>False</td>\n",
              "      <td>False</td>\n",
              "      <td>False</td>\n",
              "      <td>False</td>\n",
              "      <td>False</td>\n",
              "      <td>False</td>\n",
              "    </tr>\n",
              "    <tr>\n",
              "      <th>9997</th>\n",
              "      <td>False</td>\n",
              "      <td>False</td>\n",
              "      <td>False</td>\n",
              "      <td>False</td>\n",
              "      <td>False</td>\n",
              "      <td>False</td>\n",
              "      <td>False</td>\n",
              "      <td>False</td>\n",
              "      <td>False</td>\n",
              "      <td>False</td>\n",
              "      <td>False</td>\n",
              "      <td>False</td>\n",
              "      <td>False</td>\n",
              "      <td>False</td>\n",
              "    </tr>\n",
              "    <tr>\n",
              "      <th>9998</th>\n",
              "      <td>False</td>\n",
              "      <td>False</td>\n",
              "      <td>False</td>\n",
              "      <td>False</td>\n",
              "      <td>False</td>\n",
              "      <td>False</td>\n",
              "      <td>False</td>\n",
              "      <td>False</td>\n",
              "      <td>False</td>\n",
              "      <td>False</td>\n",
              "      <td>False</td>\n",
              "      <td>False</td>\n",
              "      <td>False</td>\n",
              "      <td>False</td>\n",
              "    </tr>\n",
              "    <tr>\n",
              "      <th>9999</th>\n",
              "      <td>False</td>\n",
              "      <td>False</td>\n",
              "      <td>False</td>\n",
              "      <td>False</td>\n",
              "      <td>False</td>\n",
              "      <td>False</td>\n",
              "      <td>False</td>\n",
              "      <td>False</td>\n",
              "      <td>False</td>\n",
              "      <td>False</td>\n",
              "      <td>False</td>\n",
              "      <td>False</td>\n",
              "      <td>False</td>\n",
              "      <td>False</td>\n",
              "    </tr>\n",
              "  </tbody>\n",
              "</table>\n",
              "<p>10000 rows × 14 columns</p>\n",
              "</div>"
            ],
            "text/plain": [
              "      RowNumber  CustomerId  Surname  ...  IsActiveMember  EstimatedSalary  Exited\n",
              "0         False       False    False  ...           False            False   False\n",
              "1         False       False    False  ...           False            False   False\n",
              "2         False       False    False  ...           False            False   False\n",
              "3         False       False    False  ...           False            False   False\n",
              "4         False       False    False  ...           False            False   False\n",
              "...         ...         ...      ...  ...             ...              ...     ...\n",
              "9995      False       False    False  ...           False            False   False\n",
              "9996      False       False    False  ...           False            False   False\n",
              "9997      False       False    False  ...           False            False   False\n",
              "9998      False       False    False  ...           False            False   False\n",
              "9999      False       False    False  ...           False            False   False\n",
              "\n",
              "[10000 rows x 14 columns]"
            ]
          },
          "metadata": {
            "tags": []
          },
          "execution_count": 314
        }
      ]
    },
    {
      "cell_type": "code",
      "metadata": {
        "colab": {
          "base_uri": "https://localhost:8080/",
          "height": 358
        },
        "id": "VAr829rUklg4",
        "outputId": "c62b8e41-ecc0-40ea-cdc8-41da50b561cc"
      },
      "source": [
        "sns.heatmap(df.isnull(),yticklabels=False,cbar=True,cmap='cividis')"
      ],
      "execution_count": 315,
      "outputs": [
        {
          "output_type": "execute_result",
          "data": {
            "text/plain": [
              "<matplotlib.axes._subplots.AxesSubplot at 0x7f5f46931050>"
            ]
          },
          "metadata": {
            "tags": []
          },
          "execution_count": 315
        },
        {
          "output_type": "display_data",
          "data": {
            "image/png": "[encoded data removed]",
            "text/plain": [
              "<Figure size 432x288 with 2 Axes>"
            ]
          },
          "metadata": {
            "tags": []
          }
        }
      ]
    },
    {
      "cell_type": "code",
      "metadata": {
        "colab": {
          "base_uri": "https://localhost:8080/"
        },
        "id": "hl4h9I49kraU",
        "outputId": "3177ebf1-dc38-41d4-b245-451a50b85db9"
      },
      "source": [
        "df.dtypes"
      ],
      "execution_count": 316,
      "outputs": [
        {
          "output_type": "execute_result",
          "data": {
            "text/plain": [
              "RowNumber            int64\n",
              "CustomerId           int64\n",
              "Surname             object\n",
              "CreditScore          int64\n",
              "Geography           object\n",
              "Gender              object\n",
              "Age                  int64\n",
              "Tenure               int64\n",
              "Balance            float64\n",
              "NumOfProducts        int64\n",
              "HasCrCard            int64\n",
              "IsActiveMember       int64\n",
              "EstimatedSalary    float64\n",
              "Exited               int64\n",
              "dtype: object"
            ]
          },
          "metadata": {
            "tags": []
          },
          "execution_count": 316
        }
      ]
    },
    {
      "cell_type": "code",
      "metadata": {
        "colab": {
          "base_uri": "https://localhost:8080/",
          "height": 304
        },
        "id": "cmVLKrQEN_oy",
        "outputId": "054e7ad9-a4bf-40a4-9f6c-6a3eb86f6827"
      },
      "source": [
        "df.describe()"
      ],
      "execution_count": 317,
      "outputs": [
        {
          "output_type": "execute_result",
          "data": {
            "text/html": [
              "<div>\n",
              "<style scoped>\n",
              "    .dataframe tbody tr th:only-of-type {\n",
              "        vertical-align: middle;\n",
              "    }\n",
              "\n",
              "    .dataframe tbody tr th {\n",
              "        vertical-align: top;\n",
              "    }\n",
              "\n",
              "    .dataframe thead th {\n",
              "        text-align: right;\n",
              "    }\n",
              "</style>\n",
              "<table border=\"1\" class=\"dataframe\">\n",
              "  <thead>\n",
              "    <tr style=\"text-align: right;\">\n",
              "      <th></th>\n",
              "      <th>RowNumber</th>\n",
              "      <th>CustomerId</th>\n",
              "      <th>CreditScore</th>\n",
              "      <th>Age</th>\n",
              "      <th>Tenure</th>\n",
              "      <th>Balance</th>\n",
              "      <th>NumOfProducts</th>\n",
              "      <th>HasCrCard</th>\n",
              "      <th>IsActiveMember</th>\n",
              "      <th>EstimatedSalary</th>\n",
              "      <th>Exited</th>\n",
              "    </tr>\n",
              "  </thead>\n",
              "  <tbody>\n",
              "    <tr>\n",
              "      <th>count</th>\n",
              "      <td>10000.00000</td>\n",
              "      <td>1.000000e+04</td>\n",
              "      <td>10000.000000</td>\n",
              "      <td>10000.000000</td>\n",
              "      <td>10000.000000</td>\n",
              "      <td>10000.000000</td>\n",
              "      <td>10000.000000</td>\n",
              "      <td>10000.00000</td>\n",
              "      <td>10000.000000</td>\n",
              "      <td>10000.000000</td>\n",
              "      <td>10000.000000</td>\n",
              "    </tr>\n",
              "    <tr>\n",
              "      <th>mean</th>\n",
              "      <td>5000.50000</td>\n",
              "      <td>1.569094e+07</td>\n",
              "      <td>650.528800</td>\n",
              "      <td>38.921800</td>\n",
              "      <td>5.012800</td>\n",
              "      <td>76485.889288</td>\n",
              "      <td>1.530200</td>\n",
              "      <td>0.70550</td>\n",
              "      <td>0.515100</td>\n",
              "      <td>100090.239881</td>\n",
              "      <td>0.203700</td>\n",
              "    </tr>\n",
              "    <tr>\n",
              "      <th>std</th>\n",
              "      <td>2886.89568</td>\n",
              "      <td>7.193619e+04</td>\n",
              "      <td>96.653299</td>\n",
              "      <td>10.487806</td>\n",
              "      <td>2.892174</td>\n",
              "      <td>62397.405202</td>\n",
              "      <td>0.581654</td>\n",
              "      <td>0.45584</td>\n",
              "      <td>0.499797</td>\n",
              "      <td>57510.492818</td>\n",
              "      <td>0.402769</td>\n",
              "    </tr>\n",
              "    <tr>\n",
              "      <th>min</th>\n",
              "      <td>1.00000</td>\n",
              "      <td>1.556570e+07</td>\n",
              "      <td>350.000000</td>\n",
              "      <td>18.000000</td>\n",
              "      <td>0.000000</td>\n",
              "      <td>0.000000</td>\n",
              "      <td>1.000000</td>\n",
              "      <td>0.00000</td>\n",
              "      <td>0.000000</td>\n",
              "      <td>11.580000</td>\n",
              "      <td>0.000000</td>\n",
              "    </tr>\n",
              "    <tr>\n",
              "      <th>25%</th>\n",
              "      <td>2500.75000</td>\n",
              "      <td>1.562853e+07</td>\n",
              "      <td>584.000000</td>\n",
              "      <td>32.000000</td>\n",
              "      <td>3.000000</td>\n",
              "      <td>0.000000</td>\n",
              "      <td>1.000000</td>\n",
              "      <td>0.00000</td>\n",
              "      <td>0.000000</td>\n",
              "      <td>51002.110000</td>\n",
              "      <td>0.000000</td>\n",
              "    </tr>\n",
              "    <tr>\n",
              "      <th>50%</th>\n",
              "      <td>5000.50000</td>\n",
              "      <td>1.569074e+07</td>\n",
              "      <td>652.000000</td>\n",
              "      <td>37.000000</td>\n",
              "      <td>5.000000</td>\n",
              "      <td>97198.540000</td>\n",
              "      <td>1.000000</td>\n",
              "      <td>1.00000</td>\n",
              "      <td>1.000000</td>\n",
              "      <td>100193.915000</td>\n",
              "      <td>0.000000</td>\n",
              "    </tr>\n",
              "    <tr>\n",
              "      <th>75%</th>\n",
              "      <td>7500.25000</td>\n",
              "      <td>1.575323e+07</td>\n",
              "      <td>718.000000</td>\n",
              "      <td>44.000000</td>\n",
              "      <td>7.000000</td>\n",
              "      <td>127644.240000</td>\n",
              "      <td>2.000000</td>\n",
              "      <td>1.00000</td>\n",
              "      <td>1.000000</td>\n",
              "      <td>149388.247500</td>\n",
              "      <td>0.000000</td>\n",
              "    </tr>\n",
              "    <tr>\n",
              "      <th>max</th>\n",
              "      <td>10000.00000</td>\n",
              "      <td>1.581569e+07</td>\n",
              "      <td>850.000000</td>\n",
              "      <td>92.000000</td>\n",
              "      <td>10.000000</td>\n",
              "      <td>250898.090000</td>\n",
              "      <td>4.000000</td>\n",
              "      <td>1.00000</td>\n",
              "      <td>1.000000</td>\n",
              "      <td>199992.480000</td>\n",
              "      <td>1.000000</td>\n",
              "    </tr>\n",
              "  </tbody>\n",
              "</table>\n",
              "</div>"
            ],
            "text/plain": [
              "         RowNumber    CustomerId  ...  EstimatedSalary        Exited\n",
              "count  10000.00000  1.000000e+04  ...     10000.000000  10000.000000\n",
              "mean    5000.50000  1.569094e+07  ...    100090.239881      0.203700\n",
              "std     2886.89568  7.193619e+04  ...     57510.492818      0.402769\n",
              "min        1.00000  1.556570e+07  ...        11.580000      0.000000\n",
              "25%     2500.75000  1.562853e+07  ...     51002.110000      0.000000\n",
              "50%     5000.50000  1.569074e+07  ...    100193.915000      0.000000\n",
              "75%     7500.25000  1.575323e+07  ...    149388.247500      0.000000\n",
              "max    10000.00000  1.581569e+07  ...    199992.480000      1.000000\n",
              "\n",
              "[8 rows x 11 columns]"
            ]
          },
          "metadata": {
            "tags": []
          },
          "execution_count": 317
        }
      ]
    },
    {
      "cell_type": "code",
      "metadata": {
        "colab": {
          "base_uri": "https://localhost:8080/",
          "height": 296
        },
        "id": "XeXfHEPFOieq",
        "outputId": "cc88b20e-4ada-421e-9fc0-17ba70a8c6e3"
      },
      "source": [
        "sns.set_style('darkgrid')\n",
        "sns.countplot(x=\"Exited\", data=df)"
      ],
      "execution_count": 318,
      "outputs": [
        {
          "output_type": "execute_result",
          "data": {
            "text/plain": [
              "<matplotlib.axes._subplots.AxesSubplot at 0x7f5f4472cd50>"
            ]
          },
          "metadata": {
            "tags": []
          },
          "execution_count": 318
        },
        {
          "output_type": "display_data",
          "data": {
            "image/png": "[encoded data removed]",
            "text/plain": [
              "<Figure size 432x288 with 1 Axes>"
            ]
          },
          "metadata": {
            "tags": []
          }
        }
      ]
    },
    {
      "cell_type": "code",
      "metadata": {
        "id": "ZnWyZBmPk8-D",
        "colab": {
          "base_uri": "https://localhost:8080/",
          "height": 296
        },
        "outputId": "18635380-87b5-47fb-c926-a443b7efbb78"
      },
      "source": [
        "sns.set_style('darkgrid')\n",
        "sns.countplot(x='NumOfProducts',hue='Exited',data=df,palette='rainbow')"
      ],
      "execution_count": 319,
      "outputs": [
        {
          "output_type": "execute_result",
          "data": {
            "text/plain": [
              "<matplotlib.axes._subplots.AxesSubplot at 0x7f5f446ef410>"
            ]
          },
          "metadata": {
            "tags": []
          },
          "execution_count": 319
        },
        {
          "output_type": "display_data",
          "data": {
            "image/png": "[encoded data removed]",
            "text/plain": [
              "<Figure size 432x288 with 1 Axes>"
            ]
          },
          "metadata": {
            "tags": []
          }
        }
      ]
    },
    {
      "cell_type": "code",
      "metadata": {
        "colab": {
          "base_uri": "https://localhost:8080/",
          "height": 296
        },
        "id": "QWpb2b5XN1NV",
        "outputId": "1850fa6a-835c-497c-c71d-400a5f53b678"
      },
      "source": [
        "sns.set_style('darkgrid')\n",
        "sns.countplot(x='HasCrCard',hue='Exited',data=df,palette='Set1')"
      ],
      "execution_count": 320,
      "outputs": [
        {
          "output_type": "execute_result",
          "data": {
            "text/plain": [
              "<matplotlib.axes._subplots.AxesSubplot at 0x7f5f4467cc90>"
            ]
          },
          "metadata": {
            "tags": []
          },
          "execution_count": 320
        },
        {
          "output_type": "display_data",
          "data": {
            "image/png": "[encoded data removed]",
            "text/plain": [
              "<Figure size 432x288 with 1 Axes>"
            ]
          },
          "metadata": {
            "tags": []
          }
        }
      ]
    },
    {
      "cell_type": "code",
      "metadata": {
        "colab": {
          "base_uri": "https://localhost:8080/",
          "height": 296
        },
        "id": "k92Ypo5ROYWG",
        "outputId": "ae0284e3-0796-4b51-d3d8-89bddaf29baa"
      },
      "source": [
        "sns.set_style('darkgrid')\n",
        "sns.countplot(x='Gender',hue='Exited',data=df)"
      ],
      "execution_count": 321,
      "outputs": [
        {
          "output_type": "execute_result",
          "data": {
            "text/plain": [
              "<matplotlib.axes._subplots.AxesSubplot at 0x7f5f445d2890>"
            ]
          },
          "metadata": {
            "tags": []
          },
          "execution_count": 321
        },
        {
          "output_type": "display_data",
          "data": {
            "image/png": "[encoded data removed]",
            "text/plain": [
              "<Figure size 432x288 with 1 Axes>"
            ]
          },
          "metadata": {
            "tags": []
          }
        }
      ]
    },
    {
      "cell_type": "code",
      "metadata": {
        "colab": {
          "base_uri": "https://localhost:8080/",
          "height": 296
        },
        "id": "_Ik7f3ffO2lh",
        "outputId": "b3e39de8-4143-4ee4-f56e-1a8d7e87435b"
      },
      "source": [
        "sns.set_style('darkgrid')\n",
        "sns.countplot(x='Geography',hue='Exited',data=df,palette='pastel')"
      ],
      "execution_count": 322,
      "outputs": [
        {
          "output_type": "execute_result",
          "data": {
            "text/plain": [
              "<matplotlib.axes._subplots.AxesSubplot at 0x7f5f445c04d0>"
            ]
          },
          "metadata": {
            "tags": []
          },
          "execution_count": 322
        },
        {
          "output_type": "display_data",
          "data": {
            "image/png": "[encoded data removed]",
            "text/plain": [
              "<Figure size 432x288 with 1 Axes>"
            ]
          },
          "metadata": {
            "tags": []
          }
        }
      ]
    },
    {
      "cell_type": "code",
      "metadata": {
        "colab": {
          "base_uri": "https://localhost:8080/",
          "height": 296
        },
        "id": "3Bb5NTCMO6Rc",
        "outputId": "aff0fa8a-5021-4891-f0d2-abaaeef22bae"
      },
      "source": [
        "sns.set_style('darkgrid')\n",
        "sns.countplot(x='IsActiveMember',hue='Exited',data=df,palette='Set2')"
      ],
      "execution_count": 323,
      "outputs": [
        {
          "output_type": "execute_result",
          "data": {
            "text/plain": [
              "<matplotlib.axes._subplots.AxesSubplot at 0x7f5f44538d50>"
            ]
          },
          "metadata": {
            "tags": []
          },
          "execution_count": 323
        },
        {
          "output_type": "display_data",
          "data": {
            "image/png": "[encoded data removed]",
            "text/plain": [
              "<Figure size 432x288 with 1 Axes>"
            ]
          },
          "metadata": {
            "tags": []
          }
        }
      ]
    },
    {
      "cell_type": "code",
      "metadata": {
        "colab": {
          "base_uri": "https://localhost:8080/",
          "height": 386
        },
        "id": "0L0ptMLTPAT7",
        "outputId": "27e1af37-cad6-4320-a8ef-21825d772d65"
      },
      "source": [
        "sns.displot(df['Age'].dropna(),kde=True,color='skyblue')"
      ],
      "execution_count": 324,
      "outputs": [
        {
          "output_type": "execute_result",
          "data": {
            "text/plain": [
              "<seaborn.axisgrid.FacetGrid at 0x7f5f4453f4d0>"
            ]
          },
          "metadata": {
            "tags": []
          },
          "execution_count": 324
        },
        {
          "output_type": "display_data",
          "data": {
            "image/png": "[encoded data removed]",
            "text/plain": [
              "<Figure size 360x360 with 1 Axes>"
            ]
          },
          "metadata": {
            "tags": []
          }
        }
      ]
    },
    {
      "cell_type": "code",
      "metadata": {
        "colab": {
          "base_uri": "https://localhost:8080/"
        },
        "id": "i4rW5WncQzRF",
        "outputId": "077b7b67-0d3a-43d5-8f05-89e5dc5dca15"
      },
      "source": [
        "df.Gender.unique()"
      ],
      "execution_count": 325,
      "outputs": [
        {
          "output_type": "execute_result",
          "data": {
            "text/plain": [
              "array(['Female', 'Male'], dtype=object)"
            ]
          },
          "metadata": {
            "tags": []
          },
          "execution_count": 325
        }
      ]
    },
    {
      "cell_type": "code",
      "metadata": {
        "id": "Fru2mH3PRf8w"
      },
      "source": [
        "df['Gender'].replace({'Female':0,'Male':1},inplace=True)"
      ],
      "execution_count": 326,
      "outputs": []
    },
    {
      "cell_type": "code",
      "metadata": {
        "colab": {
          "base_uri": "https://localhost:8080/"
        },
        "id": "w3Jrq8G8RkSg",
        "outputId": "441e8938-4f29-429d-91f6-2a2a91b17c17"
      },
      "source": [
        "df.Gender.unique()"
      ],
      "execution_count": 327,
      "outputs": [
        {
          "output_type": "execute_result",
          "data": {
            "text/plain": [
              "array([0, 1])"
            ]
          },
          "metadata": {
            "tags": []
          },
          "execution_count": 327
        }
      ]
    },
    {
      "cell_type": "code",
      "metadata": {
        "colab": {
          "base_uri": "https://localhost:8080/"
        },
        "id": "vbpopC3RRmGK",
        "outputId": "ed22d6fa-3bd9-4f34-8b32-d11d9cf56ea2"
      },
      "source": [
        "df1 = pd.get_dummies(data=df,columns=['Geography'])\n",
        "df1.columns"
      ],
      "execution_count": 328,
      "outputs": [
        {
          "output_type": "execute_result",
          "data": {
            "text/plain": [
              "Index(['RowNumber', 'CustomerId', 'Surname', 'CreditScore', 'Gender', 'Age',\n",
              "       'Tenure', 'Balance', 'NumOfProducts', 'HasCrCard', 'IsActiveMember',\n",
              "       'EstimatedSalary', 'Exited', 'Geography_France', 'Geography_Germany',\n",
              "       'Geography_Spain'],\n",
              "      dtype='object')"
            ]
          },
          "metadata": {
            "tags": []
          },
          "execution_count": 328
        }
      ]
    },
    {
      "cell_type": "code",
      "metadata": {
        "id": "Gv-9bT8cSBJp"
      },
      "source": [
        "cols_to_scale=['CreditScore','Age','Balance','EstimatedSalary','Tenure','NumOfProducts']\n",
        "from sklearn.preprocessing import MinMaxScaler\n",
        "scaler = MinMaxScaler()\n",
        "df1[cols_to_scale] = scaler.fit_transform(df1[cols_to_scale])"
      ],
      "execution_count": 329,
      "outputs": []
    },
    {
      "cell_type": "code",
      "metadata": {
        "colab": {
          "base_uri": "https://localhost:8080/",
          "height": 422
        },
        "id": "8oT6nOMpSwaW",
        "outputId": "ebcf455f-96fe-49e9-9cc4-c3d6a72946ab"
      },
      "source": [
        "df1"
      ],
      "execution_count": 330,
      "outputs": [
        {
          "output_type": "execute_result",
          "data": {
            "text/html": [
              "<div>\n",
              "<style scoped>\n",
              "    .dataframe tbody tr th:only-of-type {\n",
              "        vertical-align: middle;\n",
              "    }\n",
              "\n",
              "    .dataframe tbody tr th {\n",
              "        vertical-align: top;\n",
              "    }\n",
              "\n",
              "    .dataframe thead th {\n",
              "        text-align: right;\n",
              "    }\n",
              "</style>\n",
              "<table border=\"1\" class=\"dataframe\">\n",
              "  <thead>\n",
              "    <tr style=\"text-align: right;\">\n",
              "      <th></th>\n",
              "      <th>RowNumber</th>\n",
              "      <th>CustomerId</th>\n",
              "      <th>Surname</th>\n",
              "      <th>CreditScore</th>\n",
              "      <th>Gender</th>\n",
              "      <th>Age</th>\n",
              "      <th>Tenure</th>\n",
              "      <th>Balance</th>\n",
              "      <th>NumOfProducts</th>\n",
              "      <th>HasCrCard</th>\n",
              "      <th>IsActiveMember</th>\n",
              "      <th>EstimatedSalary</th>\n",
              "      <th>Exited</th>\n",
              "      <th>Geography_France</th>\n",
              "      <th>Geography_Germany</th>\n",
              "      <th>Geography_Spain</th>\n",
              "    </tr>\n",
              "  </thead>\n",
              "  <tbody>\n",
              "    <tr>\n",
              "      <th>0</th>\n",
              "      <td>1</td>\n",
              "      <td>15634602</td>\n",
              "      <td>Hargrave</td>\n",
              "      <td>0.538</td>\n",
              "      <td>0</td>\n",
              "      <td>0.324324</td>\n",
              "      <td>0.2</td>\n",
              "      <td>0.000000</td>\n",
              "      <td>0.000000</td>\n",
              "      <td>1</td>\n",
              "      <td>1</td>\n",
              "      <td>0.506735</td>\n",
              "      <td>1</td>\n",
              "      <td>1</td>\n",
              "      <td>0</td>\n",
              "      <td>0</td>\n",
              "    </tr>\n",
              "    <tr>\n",
              "      <th>1</th>\n",
              "      <td>2</td>\n",
              "      <td>15647311</td>\n",
              "      <td>Hill</td>\n",
              "      <td>0.516</td>\n",
              "      <td>0</td>\n",
              "      <td>0.310811</td>\n",
              "      <td>0.1</td>\n",
              "      <td>0.334031</td>\n",
              "      <td>0.000000</td>\n",
              "      <td>0</td>\n",
              "      <td>1</td>\n",
              "      <td>0.562709</td>\n",
              "      <td>0</td>\n",
              "      <td>0</td>\n",
              "      <td>0</td>\n",
              "      <td>1</td>\n",
              "    </tr>\n",
              "    <tr>\n",
              "      <th>2</th>\n",
              "      <td>3</td>\n",
              "      <td>15619304</td>\n",
              "      <td>Onio</td>\n",
              "      <td>0.304</td>\n",
              "      <td>0</td>\n",
              "      <td>0.324324</td>\n",
              "      <td>0.8</td>\n",
              "      <td>0.636357</td>\n",
              "      <td>0.666667</td>\n",
              "      <td>1</td>\n",
              "      <td>0</td>\n",
              "      <td>0.569654</td>\n",
              "      <td>1</td>\n",
              "      <td>1</td>\n",
              "      <td>0</td>\n",
              "      <td>0</td>\n",
              "    </tr>\n",
              "    <tr>\n",
              "      <th>3</th>\n",
              "      <td>4</td>\n",
              "      <td>15701354</td>\n",
              "      <td>Boni</td>\n",
              "      <td>0.698</td>\n",
              "      <td>0</td>\n",
              "      <td>0.283784</td>\n",
              "      <td>0.1</td>\n",
              "      <td>0.000000</td>\n",
              "      <td>0.333333</td>\n",
              "      <td>0</td>\n",
              "      <td>0</td>\n",
              "      <td>0.469120</td>\n",
              "      <td>0</td>\n",
              "      <td>1</td>\n",
              "      <td>0</td>\n",
              "      <td>0</td>\n",
              "    </tr>\n",
              "    <tr>\n",
              "      <th>4</th>\n",
              "      <td>5</td>\n",
              "      <td>15737888</td>\n",
              "      <td>Mitchell</td>\n",
              "      <td>1.000</td>\n",
              "      <td>0</td>\n",
              "      <td>0.337838</td>\n",
              "      <td>0.2</td>\n",
              "      <td>0.500246</td>\n",
              "      <td>0.000000</td>\n",
              "      <td>1</td>\n",
              "      <td>1</td>\n",
              "      <td>0.395400</td>\n",
              "      <td>0</td>\n",
              "      <td>0</td>\n",
              "      <td>0</td>\n",
              "      <td>1</td>\n",
              "    </tr>\n",
              "    <tr>\n",
              "      <th>...</th>\n",
              "      <td>...</td>\n",
              "      <td>...</td>\n",
              "      <td>...</td>\n",
              "      <td>...</td>\n",
              "      <td>...</td>\n",
              "      <td>...</td>\n",
              "      <td>...</td>\n",
              "      <td>...</td>\n",
              "      <td>...</td>\n",
              "      <td>...</td>\n",
              "      <td>...</td>\n",
              "      <td>...</td>\n",
              "      <td>...</td>\n",
              "      <td>...</td>\n",
              "      <td>...</td>\n",
              "      <td>...</td>\n",
              "    </tr>\n",
              "    <tr>\n",
              "      <th>9995</th>\n",
              "      <td>9996</td>\n",
              "      <td>15606229</td>\n",
              "      <td>Obijiaku</td>\n",
              "      <td>0.842</td>\n",
              "      <td>1</td>\n",
              "      <td>0.283784</td>\n",
              "      <td>0.5</td>\n",
              "      <td>0.000000</td>\n",
              "      <td>0.333333</td>\n",
              "      <td>1</td>\n",
              "      <td>0</td>\n",
              "      <td>0.481341</td>\n",
              "      <td>0</td>\n",
              "      <td>1</td>\n",
              "      <td>0</td>\n",
              "      <td>0</td>\n",
              "    </tr>\n",
              "    <tr>\n",
              "      <th>9996</th>\n",
              "      <td>9997</td>\n",
              "      <td>15569892</td>\n",
              "      <td>Johnstone</td>\n",
              "      <td>0.332</td>\n",
              "      <td>1</td>\n",
              "      <td>0.229730</td>\n",
              "      <td>1.0</td>\n",
              "      <td>0.228657</td>\n",
              "      <td>0.000000</td>\n",
              "      <td>1</td>\n",
              "      <td>1</td>\n",
              "      <td>0.508490</td>\n",
              "      <td>0</td>\n",
              "      <td>1</td>\n",
              "      <td>0</td>\n",
              "      <td>0</td>\n",
              "    </tr>\n",
              "    <tr>\n",
              "      <th>9997</th>\n",
              "      <td>9998</td>\n",
              "      <td>15584532</td>\n",
              "      <td>Liu</td>\n",
              "      <td>0.718</td>\n",
              "      <td>0</td>\n",
              "      <td>0.243243</td>\n",
              "      <td>0.7</td>\n",
              "      <td>0.000000</td>\n",
              "      <td>0.000000</td>\n",
              "      <td>0</td>\n",
              "      <td>1</td>\n",
              "      <td>0.210390</td>\n",
              "      <td>1</td>\n",
              "      <td>1</td>\n",
              "      <td>0</td>\n",
              "      <td>0</td>\n",
              "    </tr>\n",
              "    <tr>\n",
              "      <th>9998</th>\n",
              "      <td>9999</td>\n",
              "      <td>15682355</td>\n",
              "      <td>Sabbatini</td>\n",
              "      <td>0.844</td>\n",
              "      <td>1</td>\n",
              "      <td>0.324324</td>\n",
              "      <td>0.3</td>\n",
              "      <td>0.299226</td>\n",
              "      <td>0.333333</td>\n",
              "      <td>1</td>\n",
              "      <td>0</td>\n",
              "      <td>0.464429</td>\n",
              "      <td>1</td>\n",
              "      <td>0</td>\n",
              "      <td>1</td>\n",
              "      <td>0</td>\n",
              "    </tr>\n",
              "    <tr>\n",
              "      <th>9999</th>\n",
              "      <td>10000</td>\n",
              "      <td>15628319</td>\n",
              "      <td>Walker</td>\n",
              "      <td>0.884</td>\n",
              "      <td>0</td>\n",
              "      <td>0.135135</td>\n",
              "      <td>0.4</td>\n",
              "      <td>0.518708</td>\n",
              "      <td>0.000000</td>\n",
              "      <td>1</td>\n",
              "      <td>0</td>\n",
              "      <td>0.190914</td>\n",
              "      <td>0</td>\n",
              "      <td>1</td>\n",
              "      <td>0</td>\n",
              "      <td>0</td>\n",
              "    </tr>\n",
              "  </tbody>\n",
              "</table>\n",
              "<p>10000 rows × 16 columns</p>\n",
              "</div>"
            ],
            "text/plain": [
              "      RowNumber  CustomerId  ... Geography_Germany  Geography_Spain\n",
              "0             1    15634602  ...                 0                0\n",
              "1             2    15647311  ...                 0                1\n",
              "2             3    15619304  ...                 0                0\n",
              "3             4    15701354  ...                 0                0\n",
              "4             5    15737888  ...                 0                1\n",
              "...         ...         ...  ...               ...              ...\n",
              "9995       9996    15606229  ...                 0                0\n",
              "9996       9997    15569892  ...                 0                0\n",
              "9997       9998    15584532  ...                 0                0\n",
              "9998       9999    15682355  ...                 1                0\n",
              "9999      10000    15628319  ...                 0                0\n",
              "\n",
              "[10000 rows x 16 columns]"
            ]
          },
          "metadata": {
            "tags": []
          },
          "execution_count": 330
        }
      ]
    },
    {
      "cell_type": "code",
      "metadata": {
        "id": "oKVfTNV5Sxmg"
      },
      "source": [
        "df1.drop(['RowNumber','CustomerId','Surname'],axis=1,inplace=True)"
      ],
      "execution_count": 331,
      "outputs": []
    },
    {
      "cell_type": "code",
      "metadata": {
        "colab": {
          "base_uri": "https://localhost:8080/",
          "height": 422
        },
        "id": "rhSVAbqZTCKF",
        "outputId": "6b8a975b-f09d-49db-d906-3c88db05f145"
      },
      "source": [
        "df1"
      ],
      "execution_count": 332,
      "outputs": [
        {
          "output_type": "execute_result",
          "data": {
            "text/html": [
              "<div>\n",
              "<style scoped>\n",
              "    .dataframe tbody tr th:only-of-type {\n",
              "        vertical-align: middle;\n",
              "    }\n",
              "\n",
              "    .dataframe tbody tr th {\n",
              "        vertical-align: top;\n",
              "    }\n",
              "\n",
              "    .dataframe thead th {\n",
              "        text-align: right;\n",
              "    }\n",
              "</style>\n",
              "<table border=\"1\" class=\"dataframe\">\n",
              "  <thead>\n",
              "    <tr style=\"text-align: right;\">\n",
              "      <th></th>\n",
              "      <th>CreditScore</th>\n",
              "      <th>Gender</th>\n",
              "      <th>Age</th>\n",
              "      <th>Tenure</th>\n",
              "      <th>Balance</th>\n",
              "      <th>NumOfProducts</th>\n",
              "      <th>HasCrCard</th>\n",
              "      <th>IsActiveMember</th>\n",
              "      <th>EstimatedSalary</th>\n",
              "      <th>Exited</th>\n",
              "      <th>Geography_France</th>\n",
              "      <th>Geography_Germany</th>\n",
              "      <th>Geography_Spain</th>\n",
              "    </tr>\n",
              "  </thead>\n",
              "  <tbody>\n",
              "    <tr>\n",
              "      <th>0</th>\n",
              "      <td>0.538</td>\n",
              "      <td>0</td>\n",
              "      <td>0.324324</td>\n",
              "      <td>0.2</td>\n",
              "      <td>0.000000</td>\n",
              "      <td>0.000000</td>\n",
              "      <td>1</td>\n",
              "      <td>1</td>\n",
              "      <td>0.506735</td>\n",
              "      <td>1</td>\n",
              "      <td>1</td>\n",
              "      <td>0</td>\n",
              "      <td>0</td>\n",
              "    </tr>\n",
              "    <tr>\n",
              "      <th>1</th>\n",
              "      <td>0.516</td>\n",
              "      <td>0</td>\n",
              "      <td>0.310811</td>\n",
              "      <td>0.1</td>\n",
              "      <td>0.334031</td>\n",
              "      <td>0.000000</td>\n",
              "      <td>0</td>\n",
              "      <td>1</td>\n",
              "      <td>0.562709</td>\n",
              "      <td>0</td>\n",
              "      <td>0</td>\n",
              "      <td>0</td>\n",
              "      <td>1</td>\n",
              "    </tr>\n",
              "    <tr>\n",
              "      <th>2</th>\n",
              "      <td>0.304</td>\n",
              "      <td>0</td>\n",
              "      <td>0.324324</td>\n",
              "      <td>0.8</td>\n",
              "      <td>0.636357</td>\n",
              "      <td>0.666667</td>\n",
              "      <td>1</td>\n",
              "      <td>0</td>\n",
              "      <td>0.569654</td>\n",
              "      <td>1</td>\n",
              "      <td>1</td>\n",
              "      <td>0</td>\n",
              "      <td>0</td>\n",
              "    </tr>\n",
              "    <tr>\n",
              "      <th>3</th>\n",
              "      <td>0.698</td>\n",
              "      <td>0</td>\n",
              "      <td>0.283784</td>\n",
              "      <td>0.1</td>\n",
              "      <td>0.000000</td>\n",
              "      <td>0.333333</td>\n",
              "      <td>0</td>\n",
              "      <td>0</td>\n",
              "      <td>0.469120</td>\n",
              "      <td>0</td>\n",
              "      <td>1</td>\n",
              "      <td>0</td>\n",
              "      <td>0</td>\n",
              "    </tr>\n",
              "    <tr>\n",
              "      <th>4</th>\n",
              "      <td>1.000</td>\n",
              "      <td>0</td>\n",
              "      <td>0.337838</td>\n",
              "      <td>0.2</td>\n",
              "      <td>0.500246</td>\n",
              "      <td>0.000000</td>\n",
              "      <td>1</td>\n",
              "      <td>1</td>\n",
              "      <td>0.395400</td>\n",
              "      <td>0</td>\n",
              "      <td>0</td>\n",
              "      <td>0</td>\n",
              "      <td>1</td>\n",
              "    </tr>\n",
              "    <tr>\n",
              "      <th>...</th>\n",
              "      <td>...</td>\n",
              "      <td>...</td>\n",
              "      <td>...</td>\n",
              "      <td>...</td>\n",
              "      <td>...</td>\n",
              "      <td>...</td>\n",
              "      <td>...</td>\n",
              "      <td>...</td>\n",
              "      <td>...</td>\n",
              "      <td>...</td>\n",
              "      <td>...</td>\n",
              "      <td>...</td>\n",
              "      <td>...</td>\n",
              "    </tr>\n",
              "    <tr>\n",
              "      <th>9995</th>\n",
              "      <td>0.842</td>\n",
              "      <td>1</td>\n",
              "      <td>0.283784</td>\n",
              "      <td>0.5</td>\n",
              "      <td>0.000000</td>\n",
              "      <td>0.333333</td>\n",
              "      <td>1</td>\n",
              "      <td>0</td>\n",
              "      <td>0.481341</td>\n",
              "      <td>0</td>\n",
              "      <td>1</td>\n",
              "      <td>0</td>\n",
              "      <td>0</td>\n",
              "    </tr>\n",
              "    <tr>\n",
              "      <th>9996</th>\n",
              "      <td>0.332</td>\n",
              "      <td>1</td>\n",
              "      <td>0.229730</td>\n",
              "      <td>1.0</td>\n",
              "      <td>0.228657</td>\n",
              "      <td>0.000000</td>\n",
              "      <td>1</td>\n",
              "      <td>1</td>\n",
              "      <td>0.508490</td>\n",
              "      <td>0</td>\n",
              "      <td>1</td>\n",
              "      <td>0</td>\n",
              "      <td>0</td>\n",
              "    </tr>\n",
              "    <tr>\n",
              "      <th>9997</th>\n",
              "      <td>0.718</td>\n",
              "      <td>0</td>\n",
              "      <td>0.243243</td>\n",
              "      <td>0.7</td>\n",
              "      <td>0.000000</td>\n",
              "      <td>0.000000</td>\n",
              "      <td>0</td>\n",
              "      <td>1</td>\n",
              "      <td>0.210390</td>\n",
              "      <td>1</td>\n",
              "      <td>1</td>\n",
              "      <td>0</td>\n",
              "      <td>0</td>\n",
              "    </tr>\n",
              "    <tr>\n",
              "      <th>9998</th>\n",
              "      <td>0.844</td>\n",
              "      <td>1</td>\n",
              "      <td>0.324324</td>\n",
              "      <td>0.3</td>\n",
              "      <td>0.299226</td>\n",
              "      <td>0.333333</td>\n",
              "      <td>1</td>\n",
              "      <td>0</td>\n",
              "      <td>0.464429</td>\n",
              "      <td>1</td>\n",
              "      <td>0</td>\n",
              "      <td>1</td>\n",
              "      <td>0</td>\n",
              "    </tr>\n",
              "    <tr>\n",
              "      <th>9999</th>\n",
              "      <td>0.884</td>\n",
              "      <td>0</td>\n",
              "      <td>0.135135</td>\n",
              "      <td>0.4</td>\n",
              "      <td>0.518708</td>\n",
              "      <td>0.000000</td>\n",
              "      <td>1</td>\n",
              "      <td>0</td>\n",
              "      <td>0.190914</td>\n",
              "      <td>0</td>\n",
              "      <td>1</td>\n",
              "      <td>0</td>\n",
              "      <td>0</td>\n",
              "    </tr>\n",
              "  </tbody>\n",
              "</table>\n",
              "<p>10000 rows × 13 columns</p>\n",
              "</div>"
            ],
            "text/plain": [
              "      CreditScore  Gender  ...  Geography_Germany  Geography_Spain\n",
              "0           0.538       0  ...                  0                0\n",
              "1           0.516       0  ...                  0                1\n",
              "2           0.304       0  ...                  0                0\n",
              "3           0.698       0  ...                  0                0\n",
              "4           1.000       0  ...                  0                1\n",
              "...           ...     ...  ...                ...              ...\n",
              "9995        0.842       1  ...                  0                0\n",
              "9996        0.332       1  ...                  0                0\n",
              "9997        0.718       0  ...                  0                0\n",
              "9998        0.844       1  ...                  1                0\n",
              "9999        0.884       0  ...                  0                0\n",
              "\n",
              "[10000 rows x 13 columns]"
            ]
          },
          "metadata": {
            "tags": []
          },
          "execution_count": 332
        }
      ]
    },
    {
      "cell_type": "code",
      "metadata": {
        "colab": {
          "base_uri": "https://localhost:8080/",
          "height": 304
        },
        "id": "jWe_lNnqTFpj",
        "outputId": "dbe0ac07-62d8-4d23-ce5d-f027c724f44b"
      },
      "source": [
        "df1.describe()"
      ],
      "execution_count": 333,
      "outputs": [
        {
          "output_type": "execute_result",
          "data": {
            "text/html": [
              "<div>\n",
              "<style scoped>\n",
              "    .dataframe tbody tr th:only-of-type {\n",
              "        vertical-align: middle;\n",
              "    }\n",
              "\n",
              "    .dataframe tbody tr th {\n",
              "        vertical-align: top;\n",
              "    }\n",
              "\n",
              "    .dataframe thead th {\n",
              "        text-align: right;\n",
              "    }\n",
              "</style>\n",
              "<table border=\"1\" class=\"dataframe\">\n",
              "  <thead>\n",
              "    <tr style=\"text-align: right;\">\n",
              "      <th></th>\n",
              "      <th>CreditScore</th>\n",
              "      <th>Gender</th>\n",
              "      <th>Age</th>\n",
              "      <th>Tenure</th>\n",
              "      <th>Balance</th>\n",
              "      <th>NumOfProducts</th>\n",
              "      <th>HasCrCard</th>\n",
              "      <th>IsActiveMember</th>\n",
              "      <th>EstimatedSalary</th>\n",
              "      <th>Exited</th>\n",
              "      <th>Geography_France</th>\n",
              "      <th>Geography_Germany</th>\n",
              "      <th>Geography_Spain</th>\n",
              "    </tr>\n",
              "  </thead>\n",
              "  <tbody>\n",
              "    <tr>\n",
              "      <th>count</th>\n",
              "      <td>10000.000000</td>\n",
              "      <td>10000.000000</td>\n",
              "      <td>10000.000000</td>\n",
              "      <td>10000.000000</td>\n",
              "      <td>10000.000000</td>\n",
              "      <td>10000.000000</td>\n",
              "      <td>10000.00000</td>\n",
              "      <td>10000.000000</td>\n",
              "      <td>10000.000000</td>\n",
              "      <td>10000.000000</td>\n",
              "      <td>10000.000000</td>\n",
              "      <td>10000.000000</td>\n",
              "      <td>10000.000000</td>\n",
              "    </tr>\n",
              "    <tr>\n",
              "      <th>mean</th>\n",
              "      <td>0.601058</td>\n",
              "      <td>0.545700</td>\n",
              "      <td>0.282727</td>\n",
              "      <td>0.501280</td>\n",
              "      <td>0.304848</td>\n",
              "      <td>0.176733</td>\n",
              "      <td>0.70550</td>\n",
              "      <td>0.515100</td>\n",
              "      <td>0.500441</td>\n",
              "      <td>0.203700</td>\n",
              "      <td>0.501400</td>\n",
              "      <td>0.250900</td>\n",
              "      <td>0.247700</td>\n",
              "    </tr>\n",
              "    <tr>\n",
              "      <th>std</th>\n",
              "      <td>0.193307</td>\n",
              "      <td>0.497932</td>\n",
              "      <td>0.141727</td>\n",
              "      <td>0.289217</td>\n",
              "      <td>0.248696</td>\n",
              "      <td>0.193885</td>\n",
              "      <td>0.45584</td>\n",
              "      <td>0.499797</td>\n",
              "      <td>0.287580</td>\n",
              "      <td>0.402769</td>\n",
              "      <td>0.500023</td>\n",
              "      <td>0.433553</td>\n",
              "      <td>0.431698</td>\n",
              "    </tr>\n",
              "    <tr>\n",
              "      <th>min</th>\n",
              "      <td>0.000000</td>\n",
              "      <td>0.000000</td>\n",
              "      <td>0.000000</td>\n",
              "      <td>0.000000</td>\n",
              "      <td>0.000000</td>\n",
              "      <td>0.000000</td>\n",
              "      <td>0.00000</td>\n",
              "      <td>0.000000</td>\n",
              "      <td>0.000000</td>\n",
              "      <td>0.000000</td>\n",
              "      <td>0.000000</td>\n",
              "      <td>0.000000</td>\n",
              "      <td>0.000000</td>\n",
              "    </tr>\n",
              "    <tr>\n",
              "      <th>25%</th>\n",
              "      <td>0.468000</td>\n",
              "      <td>0.000000</td>\n",
              "      <td>0.189189</td>\n",
              "      <td>0.300000</td>\n",
              "      <td>0.000000</td>\n",
              "      <td>0.000000</td>\n",
              "      <td>0.00000</td>\n",
              "      <td>0.000000</td>\n",
              "      <td>0.254977</td>\n",
              "      <td>0.000000</td>\n",
              "      <td>0.000000</td>\n",
              "      <td>0.000000</td>\n",
              "      <td>0.000000</td>\n",
              "    </tr>\n",
              "    <tr>\n",
              "      <th>50%</th>\n",
              "      <td>0.604000</td>\n",
              "      <td>1.000000</td>\n",
              "      <td>0.256757</td>\n",
              "      <td>0.500000</td>\n",
              "      <td>0.387402</td>\n",
              "      <td>0.000000</td>\n",
              "      <td>1.00000</td>\n",
              "      <td>1.000000</td>\n",
              "      <td>0.500960</td>\n",
              "      <td>0.000000</td>\n",
              "      <td>1.000000</td>\n",
              "      <td>0.000000</td>\n",
              "      <td>0.000000</td>\n",
              "    </tr>\n",
              "    <tr>\n",
              "      <th>75%</th>\n",
              "      <td>0.736000</td>\n",
              "      <td>1.000000</td>\n",
              "      <td>0.351351</td>\n",
              "      <td>0.700000</td>\n",
              "      <td>0.508749</td>\n",
              "      <td>0.333333</td>\n",
              "      <td>1.00000</td>\n",
              "      <td>1.000000</td>\n",
              "      <td>0.746955</td>\n",
              "      <td>0.000000</td>\n",
              "      <td>1.000000</td>\n",
              "      <td>1.000000</td>\n",
              "      <td>0.000000</td>\n",
              "    </tr>\n",
              "    <tr>\n",
              "      <th>max</th>\n",
              "      <td>1.000000</td>\n",
              "      <td>1.000000</td>\n",
              "      <td>1.000000</td>\n",
              "      <td>1.000000</td>\n",
              "      <td>1.000000</td>\n",
              "      <td>1.000000</td>\n",
              "      <td>1.00000</td>\n",
              "      <td>1.000000</td>\n",
              "      <td>1.000000</td>\n",
              "      <td>1.000000</td>\n",
              "      <td>1.000000</td>\n",
              "      <td>1.000000</td>\n",
              "      <td>1.000000</td>\n",
              "    </tr>\n",
              "  </tbody>\n",
              "</table>\n",
              "</div>"
            ],
            "text/plain": [
              "        CreditScore        Gender  ...  Geography_Germany  Geography_Spain\n",
              "count  10000.000000  10000.000000  ...       10000.000000     10000.000000\n",
              "mean       0.601058      0.545700  ...           0.250900         0.247700\n",
              "std        0.193307      0.497932  ...           0.433553         0.431698\n",
              "min        0.000000      0.000000  ...           0.000000         0.000000\n",
              "25%        0.468000      0.000000  ...           0.000000         0.000000\n",
              "50%        0.604000      1.000000  ...           0.000000         0.000000\n",
              "75%        0.736000      1.000000  ...           1.000000         0.000000\n",
              "max        1.000000      1.000000  ...           1.000000         1.000000\n",
              "\n",
              "[8 rows x 13 columns]"
            ]
          },
          "metadata": {
            "tags": []
          },
          "execution_count": 333
        }
      ]
    },
    {
      "cell_type": "code",
      "metadata": {
        "id": "tNR2TAoUTkLl",
        "colab": {
          "base_uri": "https://localhost:8080/",
          "height": 215
        },
        "outputId": "f68189f5-a8a8-4ddb-f6f4-14283d9166e8"
      },
      "source": [
        "x = df1.drop(['Exited'],axis=1)\n",
        "x.head()"
      ],
      "execution_count": 334,
      "outputs": [
        {
          "output_type": "execute_result",
          "data": {
            "text/html": [
              "<div>\n",
              "<style scoped>\n",
              "    .dataframe tbody tr th:only-of-type {\n",
              "        vertical-align: middle;\n",
              "    }\n",
              "\n",
              "    .dataframe tbody tr th {\n",
              "        vertical-align: top;\n",
              "    }\n",
              "\n",
              "    .dataframe thead th {\n",
              "        text-align: right;\n",
              "    }\n",
              "</style>\n",
              "<table border=\"1\" class=\"dataframe\">\n",
              "  <thead>\n",
              "    <tr style=\"text-align: right;\">\n",
              "      <th></th>\n",
              "      <th>CreditScore</th>\n",
              "      <th>Gender</th>\n",
              "      <th>Age</th>\n",
              "      <th>Tenure</th>\n",
              "      <th>Balance</th>\n",
              "      <th>NumOfProducts</th>\n",
              "      <th>HasCrCard</th>\n",
              "      <th>IsActiveMember</th>\n",
              "      <th>EstimatedSalary</th>\n",
              "      <th>Geography_France</th>\n",
              "      <th>Geography_Germany</th>\n",
              "      <th>Geography_Spain</th>\n",
              "    </tr>\n",
              "  </thead>\n",
              "  <tbody>\n",
              "    <tr>\n",
              "      <th>0</th>\n",
              "      <td>0.538</td>\n",
              "      <td>0</td>\n",
              "      <td>0.324324</td>\n",
              "      <td>0.2</td>\n",
              "      <td>0.000000</td>\n",
              "      <td>0.000000</td>\n",
              "      <td>1</td>\n",
              "      <td>1</td>\n",
              "      <td>0.506735</td>\n",
              "      <td>1</td>\n",
              "      <td>0</td>\n",
              "      <td>0</td>\n",
              "    </tr>\n",
              "    <tr>\n",
              "      <th>1</th>\n",
              "      <td>0.516</td>\n",
              "      <td>0</td>\n",
              "      <td>0.310811</td>\n",
              "      <td>0.1</td>\n",
              "      <td>0.334031</td>\n",
              "      <td>0.000000</td>\n",
              "      <td>0</td>\n",
              "      <td>1</td>\n",
              "      <td>0.562709</td>\n",
              "      <td>0</td>\n",
              "      <td>0</td>\n",
              "      <td>1</td>\n",
              "    </tr>\n",
              "    <tr>\n",
              "      <th>2</th>\n",
              "      <td>0.304</td>\n",
              "      <td>0</td>\n",
              "      <td>0.324324</td>\n",
              "      <td>0.8</td>\n",
              "      <td>0.636357</td>\n",
              "      <td>0.666667</td>\n",
              "      <td>1</td>\n",
              "      <td>0</td>\n",
              "      <td>0.569654</td>\n",
              "      <td>1</td>\n",
              "      <td>0</td>\n",
              "      <td>0</td>\n",
              "    </tr>\n",
              "    <tr>\n",
              "      <th>3</th>\n",
              "      <td>0.698</td>\n",
              "      <td>0</td>\n",
              "      <td>0.283784</td>\n",
              "      <td>0.1</td>\n",
              "      <td>0.000000</td>\n",
              "      <td>0.333333</td>\n",
              "      <td>0</td>\n",
              "      <td>0</td>\n",
              "      <td>0.469120</td>\n",
              "      <td>1</td>\n",
              "      <td>0</td>\n",
              "      <td>0</td>\n",
              "    </tr>\n",
              "    <tr>\n",
              "      <th>4</th>\n",
              "      <td>1.000</td>\n",
              "      <td>0</td>\n",
              "      <td>0.337838</td>\n",
              "      <td>0.2</td>\n",
              "      <td>0.500246</td>\n",
              "      <td>0.000000</td>\n",
              "      <td>1</td>\n",
              "      <td>1</td>\n",
              "      <td>0.395400</td>\n",
              "      <td>0</td>\n",
              "      <td>0</td>\n",
              "      <td>1</td>\n",
              "    </tr>\n",
              "  </tbody>\n",
              "</table>\n",
              "</div>"
            ],
            "text/plain": [
              "   CreditScore  Gender  ...  Geography_Germany  Geography_Spain\n",
              "0        0.538       0  ...                  0                0\n",
              "1        0.516       0  ...                  0                1\n",
              "2        0.304       0  ...                  0                0\n",
              "3        0.698       0  ...                  0                0\n",
              "4        1.000       0  ...                  0                1\n",
              "\n",
              "[5 rows x 12 columns]"
            ]
          },
          "metadata": {
            "tags": []
          },
          "execution_count": 334
        }
      ]
    },
    {
      "cell_type": "code",
      "metadata": {
        "colab": {
          "base_uri": "https://localhost:8080/"
        },
        "id": "ALoULjQU3C2U",
        "outputId": "d88bd479-13e2-4d23-efb1-b1c4fdbe53b7"
      },
      "source": [
        "y = df1['Exited']\n",
        "y.head()"
      ],
      "execution_count": 335,
      "outputs": [
        {
          "output_type": "execute_result",
          "data": {
            "text/plain": [
              "0    1\n",
              "1    0\n",
              "2    1\n",
              "3    0\n",
              "4    0\n",
              "Name: Exited, dtype: int64"
            ]
          },
          "metadata": {
            "tags": []
          },
          "execution_count": 335
        }
      ]
    },
    {
      "cell_type": "code",
      "metadata": {
        "id": "fFORyXcP3Jee"
      },
      "source": [
        "from sklearn.model_selection import train_test_split\n",
        "X_train, X_test, y_train, y_test = train_test_split(x,y,test_size=0.2,random_state=15,stratify=y)"
      ],
      "execution_count": 336,
      "outputs": []
    },
    {
      "cell_type": "code",
      "metadata": {
        "colab": {
          "base_uri": "https://localhost:8080/"
        },
        "id": "NiQ81kb1Va5M",
        "outputId": "9204ce7b-9887-43a9-852d-2a5bda5589d6"
      },
      "source": [
        "X_train.shape"
      ],
      "execution_count": 337,
      "outputs": [
        {
          "output_type": "execute_result",
          "data": {
            "text/plain": [
              "(8000, 12)"
            ]
          },
          "metadata": {
            "tags": []
          },
          "execution_count": 337
        }
      ]
    },
    {
      "cell_type": "code",
      "metadata": {
        "colab": {
          "base_uri": "https://localhost:8080/"
        },
        "id": "hac49oA-Vt00",
        "outputId": "3e8d4db7-d04f-4b8c-e5a1-41360238467f"
      },
      "source": [
        "X_test.shape"
      ],
      "execution_count": 338,
      "outputs": [
        {
          "output_type": "execute_result",
          "data": {
            "text/plain": [
              "(2000, 12)"
            ]
          },
          "metadata": {
            "tags": []
          },
          "execution_count": 338
        }
      ]
    },
    {
      "cell_type": "code",
      "metadata": {
        "colab": {
          "base_uri": "https://localhost:8080/",
          "height": 363
        },
        "id": "8MSWtggWVvgt",
        "outputId": "674e9769-f472-460a-fcec-a015051f1b69"
      },
      "source": [
        "X_train[0:10]"
      ],
      "execution_count": 339,
      "outputs": [
        {
          "output_type": "execute_result",
          "data": {
            "text/html": [
              "<div>\n",
              "<style scoped>\n",
              "    .dataframe tbody tr th:only-of-type {\n",
              "        vertical-align: middle;\n",
              "    }\n",
              "\n",
              "    .dataframe tbody tr th {\n",
              "        vertical-align: top;\n",
              "    }\n",
              "\n",
              "    .dataframe thead th {\n",
              "        text-align: right;\n",
              "    }\n",
              "</style>\n",
              "<table border=\"1\" class=\"dataframe\">\n",
              "  <thead>\n",
              "    <tr style=\"text-align: right;\">\n",
              "      <th></th>\n",
              "      <th>CreditScore</th>\n",
              "      <th>Gender</th>\n",
              "      <th>Age</th>\n",
              "      <th>Tenure</th>\n",
              "      <th>Balance</th>\n",
              "      <th>NumOfProducts</th>\n",
              "      <th>HasCrCard</th>\n",
              "      <th>IsActiveMember</th>\n",
              "      <th>EstimatedSalary</th>\n",
              "      <th>Geography_France</th>\n",
              "      <th>Geography_Germany</th>\n",
              "      <th>Geography_Spain</th>\n",
              "    </tr>\n",
              "  </thead>\n",
              "  <tbody>\n",
              "    <tr>\n",
              "      <th>5710</th>\n",
              "      <td>0.856</td>\n",
              "      <td>1</td>\n",
              "      <td>0.216216</td>\n",
              "      <td>0.5</td>\n",
              "      <td>0.554265</td>\n",
              "      <td>0.333333</td>\n",
              "      <td>0</td>\n",
              "      <td>0</td>\n",
              "      <td>0.339721</td>\n",
              "      <td>1</td>\n",
              "      <td>0</td>\n",
              "      <td>0</td>\n",
              "    </tr>\n",
              "    <tr>\n",
              "      <th>3745</th>\n",
              "      <td>0.852</td>\n",
              "      <td>0</td>\n",
              "      <td>0.256757</td>\n",
              "      <td>0.1</td>\n",
              "      <td>0.371163</td>\n",
              "      <td>0.333333</td>\n",
              "      <td>1</td>\n",
              "      <td>1</td>\n",
              "      <td>0.980432</td>\n",
              "      <td>0</td>\n",
              "      <td>1</td>\n",
              "      <td>0</td>\n",
              "    </tr>\n",
              "    <tr>\n",
              "      <th>5429</th>\n",
              "      <td>0.664</td>\n",
              "      <td>0</td>\n",
              "      <td>0.405405</td>\n",
              "      <td>0.7</td>\n",
              "      <td>0.000000</td>\n",
              "      <td>0.333333</td>\n",
              "      <td>1</td>\n",
              "      <td>0</td>\n",
              "      <td>0.325318</td>\n",
              "      <td>1</td>\n",
              "      <td>0</td>\n",
              "      <td>0</td>\n",
              "    </tr>\n",
              "    <tr>\n",
              "      <th>551</th>\n",
              "      <td>0.648</td>\n",
              "      <td>1</td>\n",
              "      <td>0.391892</td>\n",
              "      <td>0.6</td>\n",
              "      <td>0.426077</td>\n",
              "      <td>0.000000</td>\n",
              "      <td>1</td>\n",
              "      <td>1</td>\n",
              "      <td>0.010339</td>\n",
              "      <td>0</td>\n",
              "      <td>1</td>\n",
              "      <td>0</td>\n",
              "    </tr>\n",
              "    <tr>\n",
              "      <th>8967</th>\n",
              "      <td>0.970</td>\n",
              "      <td>1</td>\n",
              "      <td>0.094595</td>\n",
              "      <td>0.7</td>\n",
              "      <td>0.000000</td>\n",
              "      <td>0.333333</td>\n",
              "      <td>1</td>\n",
              "      <td>1</td>\n",
              "      <td>0.417230</td>\n",
              "      <td>1</td>\n",
              "      <td>0</td>\n",
              "      <td>0</td>\n",
              "    </tr>\n",
              "    <tr>\n",
              "      <th>4131</th>\n",
              "      <td>0.366</td>\n",
              "      <td>1</td>\n",
              "      <td>0.391892</td>\n",
              "      <td>0.9</td>\n",
              "      <td>0.332196</td>\n",
              "      <td>0.000000</td>\n",
              "      <td>1</td>\n",
              "      <td>1</td>\n",
              "      <td>0.688489</td>\n",
              "      <td>1</td>\n",
              "      <td>0</td>\n",
              "      <td>0</td>\n",
              "    </tr>\n",
              "    <tr>\n",
              "      <th>7576</th>\n",
              "      <td>0.652</td>\n",
              "      <td>1</td>\n",
              "      <td>0.121622</td>\n",
              "      <td>0.4</td>\n",
              "      <td>0.000000</td>\n",
              "      <td>0.000000</td>\n",
              "      <td>0</td>\n",
              "      <td>1</td>\n",
              "      <td>0.539772</td>\n",
              "      <td>0</td>\n",
              "      <td>0</td>\n",
              "      <td>1</td>\n",
              "    </tr>\n",
              "    <tr>\n",
              "      <th>6066</th>\n",
              "      <td>0.304</td>\n",
              "      <td>1</td>\n",
              "      <td>0.364865</td>\n",
              "      <td>0.0</td>\n",
              "      <td>0.000000</td>\n",
              "      <td>0.000000</td>\n",
              "      <td>0</td>\n",
              "      <td>0</td>\n",
              "      <td>0.423299</td>\n",
              "      <td>1</td>\n",
              "      <td>0</td>\n",
              "      <td>0</td>\n",
              "    </tr>\n",
              "    <tr>\n",
              "      <th>3747</th>\n",
              "      <td>0.510</td>\n",
              "      <td>1</td>\n",
              "      <td>0.189189</td>\n",
              "      <td>0.9</td>\n",
              "      <td>0.000000</td>\n",
              "      <td>0.333333</td>\n",
              "      <td>1</td>\n",
              "      <td>1</td>\n",
              "      <td>0.278590</td>\n",
              "      <td>1</td>\n",
              "      <td>0</td>\n",
              "      <td>0</td>\n",
              "    </tr>\n",
              "    <tr>\n",
              "      <th>6345</th>\n",
              "      <td>0.808</td>\n",
              "      <td>0</td>\n",
              "      <td>0.229730</td>\n",
              "      <td>0.4</td>\n",
              "      <td>0.000000</td>\n",
              "      <td>0.333333</td>\n",
              "      <td>1</td>\n",
              "      <td>0</td>\n",
              "      <td>0.224117</td>\n",
              "      <td>1</td>\n",
              "      <td>0</td>\n",
              "      <td>0</td>\n",
              "    </tr>\n",
              "  </tbody>\n",
              "</table>\n",
              "</div>"
            ],
            "text/plain": [
              "      CreditScore  Gender  ...  Geography_Germany  Geography_Spain\n",
              "5710        0.856       1  ...                  0                0\n",
              "3745        0.852       0  ...                  1                0\n",
              "5429        0.664       0  ...                  0                0\n",
              "551         0.648       1  ...                  1                0\n",
              "8967        0.970       1  ...                  0                0\n",
              "4131        0.366       1  ...                  0                0\n",
              "7576        0.652       1  ...                  0                1\n",
              "6066        0.304       1  ...                  0                0\n",
              "3747        0.510       1  ...                  0                0\n",
              "6345        0.808       0  ...                  0                0\n",
              "\n",
              "[10 rows x 12 columns]"
            ]
          },
          "metadata": {
            "tags": []
          },
          "execution_count": 339
        }
      ]
    },
    {
      "cell_type": "code",
      "metadata": {
        "id": "Y9DpUEke5hZt"
      },
      "source": [
        "def ANN(X_train, y_train, X_test, y_test, loss, weights):\n",
        "    model = keras.Sequential([\n",
        "        keras.layers.Dense(12, input_dim=12, activation='relu'),\n",
        "        keras.layers.Dense(8, activation='relu'),\n",
        "        keras.layers.Dense(1, activation='sigmoid')\n",
        "    ])\n",
        "\n",
        "    model.compile(optimizer='adam', loss=loss, metrics=['accuracy'])\n",
        "    \n",
        "    if weights == -1:\n",
        "        model.fit(X_train, y_train, epochs=100)\n",
        "    else:\n",
        "        model.fit(X_train, y_train, epochs=100, class_weight = weights)\n",
        "    \n",
        "    print(model.evaluate(X_test, y_test))\n",
        "    \n",
        "    y_preds = model.predict(X_test)\n",
        "    y_preds = np.round(y_preds)\n",
        "    \n",
        "    print(\"Classification Report: \\n\", classification_report(y_test, y_preds))\n",
        "    \n",
        "    return y_preds"
      ],
      "execution_count": 340,
      "outputs": []
    },
    {
      "cell_type": "code",
      "metadata": {
        "colab": {
          "base_uri": "https://localhost:8080/"
        },
        "id": "juiYmLjO56ps",
        "outputId": "c65a4ba4-3009-40f0-a504-93c7c9a2ea89"
      },
      "source": [
        "y_pred = ANN(X_train, y_train, X_test, y_test, 'binary_crossentropy', -1)"
      ],
      "execution_count": 341,
      "outputs": [
        {
          "output_type": "stream",
          "text": [
            "Epoch 1/100\n",
            "250/250 [==============================] - 1s 1ms/step - loss: 0.5696 - accuracy: 0.7664\n",
            "Epoch 2/100\n",
            "250/250 [==============================] - 0s 1ms/step - loss: 0.4710 - accuracy: 0.7962\n",
            "Epoch 3/100\n",
            "250/250 [==============================] - 0s 1ms/step - loss: 0.4556 - accuracy: 0.7995\n",
            "Epoch 4/100\n",
            "250/250 [==============================] - 0s 1ms/step - loss: 0.4442 - accuracy: 0.8074\n",
            "Epoch 5/100\n",
            "250/250 [==============================] - 0s 1ms/step - loss: 0.4365 - accuracy: 0.8133\n",
            "Epoch 6/100\n",
            "250/250 [==============================] - 0s 1ms/step - loss: 0.4318 - accuracy: 0.8133\n",
            "Epoch 7/100\n",
            "250/250 [==============================] - 0s 1ms/step - loss: 0.4294 - accuracy: 0.8133\n",
            "Epoch 8/100\n",
            "250/250 [==============================] - 0s 1ms/step - loss: 0.4278 - accuracy: 0.8133\n",
            "Epoch 9/100\n",
            "250/250 [==============================] - 0s 1ms/step - loss: 0.4250 - accuracy: 0.8163\n",
            "Epoch 10/100\n",
            "250/250 [==============================] - 0s 1ms/step - loss: 0.4199 - accuracy: 0.8163\n",
            "Epoch 11/100\n",
            "250/250 [==============================] - 0s 1ms/step - loss: 0.4143 - accuracy: 0.8205\n",
            "Epoch 12/100\n",
            "250/250 [==============================] - 0s 1ms/step - loss: 0.4077 - accuracy: 0.8231\n",
            "Epoch 13/100\n",
            "250/250 [==============================] - 0s 1ms/step - loss: 0.4004 - accuracy: 0.8298\n",
            "Epoch 14/100\n",
            "250/250 [==============================] - 0s 1ms/step - loss: 0.3918 - accuracy: 0.8338\n",
            "Epoch 15/100\n",
            "250/250 [==============================] - 0s 1ms/step - loss: 0.3833 - accuracy: 0.8361\n",
            "Epoch 16/100\n",
            "250/250 [==============================] - 0s 1ms/step - loss: 0.3776 - accuracy: 0.8396\n",
            "Epoch 17/100\n",
            "250/250 [==============================] - 0s 1ms/step - loss: 0.3730 - accuracy: 0.8414\n",
            "Epoch 18/100\n",
            "250/250 [==============================] - 0s 1ms/step - loss: 0.3705 - accuracy: 0.8422\n",
            "Epoch 19/100\n",
            "250/250 [==============================] - 0s 1ms/step - loss: 0.3664 - accuracy: 0.8453\n",
            "Epoch 20/100\n",
            "250/250 [==============================] - 0s 1ms/step - loss: 0.3649 - accuracy: 0.8450\n",
            "Epoch 21/100\n",
            "250/250 [==============================] - 0s 1ms/step - loss: 0.3631 - accuracy: 0.8478\n",
            "Epoch 22/100\n",
            "250/250 [==============================] - 0s 1ms/step - loss: 0.3618 - accuracy: 0.8499\n",
            "Epoch 23/100\n",
            "250/250 [==============================] - 0s 1ms/step - loss: 0.3603 - accuracy: 0.8493\n",
            "Epoch 24/100\n",
            "250/250 [==============================] - 0s 1ms/step - loss: 0.3595 - accuracy: 0.8518\n",
            "Epoch 25/100\n",
            "250/250 [==============================] - 0s 1ms/step - loss: 0.3586 - accuracy: 0.8510\n",
            "Epoch 26/100\n",
            "250/250 [==============================] - 0s 1ms/step - loss: 0.3574 - accuracy: 0.8516\n",
            "Epoch 27/100\n",
            "250/250 [==============================] - 0s 1ms/step - loss: 0.3573 - accuracy: 0.8531\n",
            "Epoch 28/100\n",
            "250/250 [==============================] - 0s 1ms/step - loss: 0.3568 - accuracy: 0.8522\n",
            "Epoch 29/100\n",
            "250/250 [==============================] - 0s 1ms/step - loss: 0.3551 - accuracy: 0.8525\n",
            "Epoch 30/100\n",
            "250/250 [==============================] - 0s 1ms/step - loss: 0.3546 - accuracy: 0.8531\n",
            "Epoch 31/100\n",
            "250/250 [==============================] - 0s 1ms/step - loss: 0.3545 - accuracy: 0.8528\n",
            "Epoch 32/100\n",
            "250/250 [==============================] - 0s 1ms/step - loss: 0.3537 - accuracy: 0.8533\n",
            "Epoch 33/100\n",
            "250/250 [==============================] - 0s 1ms/step - loss: 0.3527 - accuracy: 0.8519\n",
            "Epoch 34/100\n",
            "250/250 [==============================] - 0s 1ms/step - loss: 0.3526 - accuracy: 0.8544\n",
            "Epoch 35/100\n",
            "250/250 [==============================] - 0s 1ms/step - loss: 0.3526 - accuracy: 0.8544\n",
            "Epoch 36/100\n",
            "250/250 [==============================] - 0s 1ms/step - loss: 0.3519 - accuracy: 0.8554\n",
            "Epoch 37/100\n",
            "250/250 [==============================] - 0s 1ms/step - loss: 0.3515 - accuracy: 0.8564\n",
            "Epoch 38/100\n",
            "250/250 [==============================] - 0s 1ms/step - loss: 0.3507 - accuracy: 0.8554\n",
            "Epoch 39/100\n",
            "250/250 [==============================] - 0s 1ms/step - loss: 0.3501 - accuracy: 0.8559\n",
            "Epoch 40/100\n",
            "250/250 [==============================] - 0s 1ms/step - loss: 0.3502 - accuracy: 0.8551\n",
            "Epoch 41/100\n",
            "250/250 [==============================] - 0s 1ms/step - loss: 0.3507 - accuracy: 0.8546\n",
            "Epoch 42/100\n",
            "250/250 [==============================] - 0s 1ms/step - loss: 0.3497 - accuracy: 0.8560\n",
            "Epoch 43/100\n",
            "250/250 [==============================] - 0s 1ms/step - loss: 0.3501 - accuracy: 0.8551\n",
            "Epoch 44/100\n",
            "250/250 [==============================] - 0s 1ms/step - loss: 0.3490 - accuracy: 0.8564\n",
            "Epoch 45/100\n",
            "250/250 [==============================] - 0s 1ms/step - loss: 0.3489 - accuracy: 0.8564\n",
            "Epoch 46/100\n",
            "250/250 [==============================] - 0s 1ms/step - loss: 0.3483 - accuracy: 0.8565\n",
            "Epoch 47/100\n",
            "250/250 [==============================] - 0s 1ms/step - loss: 0.3483 - accuracy: 0.8566\n",
            "Epoch 48/100\n",
            "250/250 [==============================] - 0s 1ms/step - loss: 0.3480 - accuracy: 0.8572\n",
            "Epoch 49/100\n",
            "250/250 [==============================] - 0s 1ms/step - loss: 0.3476 - accuracy: 0.8570\n",
            "Epoch 50/100\n",
            "250/250 [==============================] - 0s 1ms/step - loss: 0.3475 - accuracy: 0.8570\n",
            "Epoch 51/100\n",
            "250/250 [==============================] - 0s 1ms/step - loss: 0.3475 - accuracy: 0.8554\n",
            "Epoch 52/100\n",
            "250/250 [==============================] - 0s 1ms/step - loss: 0.3473 - accuracy: 0.8575\n",
            "Epoch 53/100\n",
            "250/250 [==============================] - 0s 1ms/step - loss: 0.3469 - accuracy: 0.8572\n",
            "Epoch 54/100\n",
            "250/250 [==============================] - 0s 1ms/step - loss: 0.3477 - accuracy: 0.8575\n",
            "Epoch 55/100\n",
            "250/250 [==============================] - 0s 1ms/step - loss: 0.3468 - accuracy: 0.8564\n",
            "Epoch 56/100\n",
            "250/250 [==============================] - 0s 1ms/step - loss: 0.3460 - accuracy: 0.8593\n",
            "Epoch 57/100\n",
            "250/250 [==============================] - 0s 1ms/step - loss: 0.3458 - accuracy: 0.8575\n",
            "Epoch 58/100\n",
            "250/250 [==============================] - 0s 1ms/step - loss: 0.3454 - accuracy: 0.8587\n",
            "Epoch 59/100\n",
            "250/250 [==============================] - 0s 1ms/step - loss: 0.3453 - accuracy: 0.8569\n",
            "Epoch 60/100\n",
            "250/250 [==============================] - 0s 1ms/step - loss: 0.3455 - accuracy: 0.8583\n",
            "Epoch 61/100\n",
            "250/250 [==============================] - 0s 1ms/step - loss: 0.3446 - accuracy: 0.8595\n",
            "Epoch 62/100\n",
            "250/250 [==============================] - 0s 1ms/step - loss: 0.3449 - accuracy: 0.8584\n",
            "Epoch 63/100\n",
            "250/250 [==============================] - 0s 1ms/step - loss: 0.3448 - accuracy: 0.8584\n",
            "Epoch 64/100\n",
            "250/250 [==============================] - 0s 1ms/step - loss: 0.3443 - accuracy: 0.8572\n",
            "Epoch 65/100\n",
            "250/250 [==============================] - 0s 1ms/step - loss: 0.3445 - accuracy: 0.8580\n",
            "Epoch 66/100\n",
            "250/250 [==============================] - 0s 1ms/step - loss: 0.3445 - accuracy: 0.8570\n",
            "Epoch 67/100\n",
            "250/250 [==============================] - 0s 1ms/step - loss: 0.3430 - accuracy: 0.8580\n",
            "Epoch 68/100\n",
            "250/250 [==============================] - 0s 1ms/step - loss: 0.3442 - accuracy: 0.8586\n",
            "Epoch 69/100\n",
            "250/250 [==============================] - 0s 1ms/step - loss: 0.3434 - accuracy: 0.8580\n",
            "Epoch 70/100\n",
            "250/250 [==============================] - 0s 1ms/step - loss: 0.3435 - accuracy: 0.8579\n",
            "Epoch 71/100\n",
            "250/250 [==============================] - 0s 1ms/step - loss: 0.3429 - accuracy: 0.8591\n",
            "Epoch 72/100\n",
            "250/250 [==============================] - 0s 1ms/step - loss: 0.3434 - accuracy: 0.8590\n",
            "Epoch 73/100\n",
            "250/250 [==============================] - 0s 1ms/step - loss: 0.3426 - accuracy: 0.8596\n",
            "Epoch 74/100\n",
            "250/250 [==============================] - 0s 1ms/step - loss: 0.3425 - accuracy: 0.8602\n",
            "Epoch 75/100\n",
            "250/250 [==============================] - 0s 1ms/step - loss: 0.3426 - accuracy: 0.8597\n",
            "Epoch 76/100\n",
            "250/250 [==============================] - 0s 1ms/step - loss: 0.3421 - accuracy: 0.8605\n",
            "Epoch 77/100\n",
            "250/250 [==============================] - 0s 1ms/step - loss: 0.3423 - accuracy: 0.8608\n",
            "Epoch 78/100\n",
            "250/250 [==============================] - 0s 1ms/step - loss: 0.3421 - accuracy: 0.8583\n",
            "Epoch 79/100\n",
            "250/250 [==============================] - 0s 1ms/step - loss: 0.3419 - accuracy: 0.8595\n",
            "Epoch 80/100\n",
            "250/250 [==============================] - 0s 1ms/step - loss: 0.3428 - accuracy: 0.8591\n",
            "Epoch 81/100\n",
            "250/250 [==============================] - 0s 1ms/step - loss: 0.3413 - accuracy: 0.8602\n",
            "Epoch 82/100\n",
            "250/250 [==============================] - 0s 1ms/step - loss: 0.3414 - accuracy: 0.8602\n",
            "Epoch 83/100\n",
            "250/250 [==============================] - 0s 1ms/step - loss: 0.3416 - accuracy: 0.8595\n",
            "Epoch 84/100\n",
            "250/250 [==============================] - 0s 1ms/step - loss: 0.3414 - accuracy: 0.8625\n",
            "Epoch 85/100\n",
            "250/250 [==============================] - 0s 1ms/step - loss: 0.3411 - accuracy: 0.8595\n",
            "Epoch 86/100\n",
            "250/250 [==============================] - 0s 1ms/step - loss: 0.3414 - accuracy: 0.8585\n",
            "Epoch 87/100\n",
            "250/250 [==============================] - 0s 1ms/step - loss: 0.3408 - accuracy: 0.8609\n",
            "Epoch 88/100\n",
            "250/250 [==============================] - 0s 1ms/step - loss: 0.3412 - accuracy: 0.8596\n",
            "Epoch 89/100\n",
            "250/250 [==============================] - 0s 1ms/step - loss: 0.3408 - accuracy: 0.8599\n",
            "Epoch 90/100\n",
            "250/250 [==============================] - 0s 1ms/step - loss: 0.3402 - accuracy: 0.8611\n",
            "Epoch 91/100\n",
            "250/250 [==============================] - 0s 1ms/step - loss: 0.3405 - accuracy: 0.8595\n",
            "Epoch 92/100\n",
            "250/250 [==============================] - 0s 1ms/step - loss: 0.3399 - accuracy: 0.8608\n",
            "Epoch 93/100\n",
            "250/250 [==============================] - 0s 1ms/step - loss: 0.3395 - accuracy: 0.8595\n",
            "Epoch 94/100\n",
            "250/250 [==============================] - 0s 1ms/step - loss: 0.3404 - accuracy: 0.8618\n",
            "Epoch 95/100\n",
            "250/250 [==============================] - 0s 1ms/step - loss: 0.3398 - accuracy: 0.8608\n",
            "Epoch 96/100\n",
            "250/250 [==============================] - 0s 1ms/step - loss: 0.3412 - accuracy: 0.8618\n",
            "Epoch 97/100\n",
            "250/250 [==============================] - 0s 1ms/step - loss: 0.3390 - accuracy: 0.8621\n",
            "Epoch 98/100\n",
            "250/250 [==============================] - 0s 1ms/step - loss: 0.3391 - accuracy: 0.8608\n",
            "Epoch 99/100\n",
            "250/250 [==============================] - 0s 1ms/step - loss: 0.3391 - accuracy: 0.8609\n",
            "Epoch 100/100\n",
            "250/250 [==============================] - 0s 1ms/step - loss: 0.3378 - accuracy: 0.8589\n",
            "63/63 [==============================] - 0s 1ms/step - loss: 0.3261 - accuracy: 0.8670\n",
            "[0.32614263892173767, 0.8669999837875366]\n",
            "Classification Report: \n",
            "               precision    recall  f1-score   support\n",
            "\n",
            "           0       0.88      0.97      0.92      1593\n",
            "           1       0.81      0.46      0.58       407\n",
            "\n",
            "    accuracy                           0.87      2000\n",
            "   macro avg       0.84      0.71      0.75      2000\n",
            "weighted avg       0.86      0.87      0.85      2000\n",
            "\n"
          ],
          "name": "stdout"
        }
      ]
    },
    {
      "cell_type": "code",
      "metadata": {
        "colab": {
          "base_uri": "https://localhost:8080/",
          "height": 459
        },
        "id": "zOyOW7_lYDt6",
        "outputId": "ed2fe770-7bd3-4467-ebbc-95a64802bbf9"
      },
      "source": [
        "cm = tf.math.confusion_matrix(labels=y_test,predictions=y_pred)\n",
        "\n",
        "plt.figure(figsize = (10,7))\n",
        "sns.heatmap(cm, annot=True, fmt='d')\n",
        "plt.xlabel('Predicted')\n",
        "plt.ylabel('Truth')"
      ],
      "execution_count": 342,
      "outputs": [
        {
          "output_type": "execute_result",
          "data": {
            "text/plain": [
              "Text(69.0, 0.5, 'Truth')"
            ]
          },
          "metadata": {
            "tags": []
          },
          "execution_count": 342
        },
        {
          "output_type": "display_data",
          "data": {
            "image/png": "[encoded data removed]",
            "text/plain": [
              "<Figure size 720x504 with 2 Axes>"
            ]
          },
          "metadata": {
            "tags": []
          }
        }
      ]
    },
    {
      "cell_type": "code",
      "metadata": {
        "id": "KbIb9S9zXj84"
      },
      "source": [
        "y_pred = []\n",
        "for element in yp:\n",
        "    if element > 0.5:\n",
        "        y_pred.append(1)\n",
        "    else:\n",
        "        y_pred.append(0)"
      ],
      "execution_count": 343,
      "outputs": []
    },
    {
      "cell_type": "code",
      "metadata": {
        "colab": {
          "base_uri": "https://localhost:8080/"
        },
        "id": "yCRsE2GjXsOo",
        "outputId": "72e25209-5a64-4b92-d06d-1c498bd5c912"
      },
      "source": [
        "y_pred[:10]"
      ],
      "execution_count": 344,
      "outputs": [
        {
          "output_type": "execute_result",
          "data": {
            "text/plain": [
              "[0, 0, 0, 0, 0, 0, 0, 0, 0, 1]"
            ]
          },
          "metadata": {
            "tags": []
          },
          "execution_count": 344
        }
      ]
    },
    {
      "cell_type": "code",
      "metadata": {
        "colab": {
          "base_uri": "https://localhost:8080/"
        },
        "id": "oy5MrINsXwV4",
        "outputId": "34d8fc97-87e2-4473-fee5-f77e15a7ff04"
      },
      "source": [
        "y_test[:10]"
      ],
      "execution_count": 345,
      "outputs": [
        {
          "output_type": "execute_result",
          "data": {
            "text/plain": [
              "5337    1\n",
              "8732    0\n",
              "3359    0\n",
              "5580    0\n",
              "3485    1\n",
              "2608    0\n",
              "5334    0\n",
              "5953    0\n",
              "3939    0\n",
              "6463    0\n",
              "Name: Exited, dtype: int64"
            ]
          },
          "metadata": {
            "tags": []
          },
          "execution_count": 345
        }
      ]
    },
    {
      "cell_type": "markdown",
      "metadata": {
        "id": "QWfZZ3TY4PU5"
      },
      "source": [
        "# Method 1: Undersampling"
      ]
    },
    {
      "cell_type": "code",
      "metadata": {
        "id": "RYaThuwzYdj4"
      },
      "source": [
        "# Class count\n",
        "count_class_0, count_class_1 = df1.Exited.value_counts()\n",
        "\n",
        "# Divide by class\n",
        "df_class_0 = df1[df1['Exited'] == 0]\n",
        "df_class_1 = df1[df1['Exited'] == 1]"
      ],
      "execution_count": 346,
      "outputs": []
    },
    {
      "cell_type": "code",
      "metadata": {
        "colab": {
          "base_uri": "https://localhost:8080/"
        },
        "id": "QTSnKRSA4lyJ",
        "outputId": "12a3cb20-9754-4005-ec9e-01ea888c5991"
      },
      "source": [
        "# Undersample 0-class and concat the DataFrames of both class\n",
        "df_class_0_under = df_class_0.sample(count_class_1)\n",
        "df_test_under = pd.concat([df_class_0_under, df_class_1], axis=0)\n",
        "\n",
        "print('Random under-sampling:')\n",
        "print(df_test_under.Exited.value_counts())"
      ],
      "execution_count": 347,
      "outputs": [
        {
          "output_type": "stream",
          "text": [
            "Random under-sampling:\n",
            "1    2037\n",
            "0    2037\n",
            "Name: Exited, dtype: int64\n"
          ],
          "name": "stdout"
        }
      ]
    },
    {
      "cell_type": "code",
      "metadata": {
        "id": "GIvbSjaS9r8o"
      },
      "source": [
        "X = df_test_under.drop('Exited',axis='columns')\n",
        "y = df_test_under['Exited']\n",
        "\n",
        "X_train, X_test, y_train, y_test = train_test_split(X, y, test_size=0.2, random_state=15, stratify=y)"
      ],
      "execution_count": 348,
      "outputs": []
    },
    {
      "cell_type": "code",
      "metadata": {
        "colab": {
          "base_uri": "https://localhost:8080/"
        },
        "id": "ZgFu9VKh8MIn",
        "outputId": "17c71191-6b9f-49b3-cad2-a0dfb318855a"
      },
      "source": [
        "y_train.value_counts()"
      ],
      "execution_count": 349,
      "outputs": [
        {
          "output_type": "execute_result",
          "data": {
            "text/plain": [
              "1    1630\n",
              "0    1629\n",
              "Name: Exited, dtype: int64"
            ]
          },
          "metadata": {
            "tags": []
          },
          "execution_count": 349
        }
      ]
    },
    {
      "cell_type": "code",
      "metadata": {
        "colab": {
          "base_uri": "https://localhost:8080/"
        },
        "id": "AFzukVrT8yTB",
        "outputId": "6fac1836-b5af-4de2-f73d-20393d0d5cc3"
      },
      "source": [
        "y_pred1 = ANN(X_train, y_train, X_test, y_test, 'binary_crossentropy', -1)"
      ],
      "execution_count": 350,
      "outputs": [
        {
          "output_type": "stream",
          "text": [
            "Epoch 1/100\n",
            "102/102 [==============================] - 1s 1ms/step - loss: 0.6825 - accuracy: 0.5551\n",
            "Epoch 2/100\n",
            "102/102 [==============================] - 0s 1ms/step - loss: 0.6596 - accuracy: 0.6269\n",
            "Epoch 3/100\n",
            "102/102 [==============================] - 0s 1ms/step - loss: 0.6397 - accuracy: 0.6582\n",
            "Epoch 4/100\n",
            "102/102 [==============================] - 0s 2ms/step - loss: 0.6230 - accuracy: 0.6640\n",
            "Epoch 5/100\n",
            "102/102 [==============================] - 0s 1ms/step - loss: 0.6085 - accuracy: 0.6797\n",
            "Epoch 6/100\n",
            "102/102 [==============================] - 0s 1ms/step - loss: 0.5937 - accuracy: 0.6950\n",
            "Epoch 7/100\n",
            "102/102 [==============================] - 0s 1ms/step - loss: 0.5784 - accuracy: 0.7088\n",
            "Epoch 8/100\n",
            "102/102 [==============================] - 0s 1ms/step - loss: 0.5646 - accuracy: 0.7168\n",
            "Epoch 9/100\n",
            "102/102 [==============================] - 0s 1ms/step - loss: 0.5510 - accuracy: 0.7263\n",
            "Epoch 10/100\n",
            "102/102 [==============================] - 0s 1ms/step - loss: 0.5394 - accuracy: 0.7309\n",
            "Epoch 11/100\n",
            "102/102 [==============================] - 0s 1ms/step - loss: 0.5290 - accuracy: 0.7306\n",
            "Epoch 12/100\n",
            "102/102 [==============================] - 0s 1ms/step - loss: 0.5225 - accuracy: 0.7410\n",
            "Epoch 13/100\n",
            "102/102 [==============================] - 0s 1ms/step - loss: 0.5173 - accuracy: 0.7426\n",
            "Epoch 14/100\n",
            "102/102 [==============================] - 0s 1ms/step - loss: 0.5110 - accuracy: 0.7496\n",
            "Epoch 15/100\n",
            "102/102 [==============================] - 0s 1ms/step - loss: 0.5062 - accuracy: 0.7499\n",
            "Epoch 16/100\n",
            "102/102 [==============================] - 0s 1ms/step - loss: 0.5023 - accuracy: 0.7515\n",
            "Epoch 17/100\n",
            "102/102 [==============================] - 0s 1ms/step - loss: 0.5013 - accuracy: 0.7527\n",
            "Epoch 18/100\n",
            "102/102 [==============================] - 0s 1ms/step - loss: 0.4968 - accuracy: 0.7533\n",
            "Epoch 19/100\n",
            "102/102 [==============================] - 0s 1ms/step - loss: 0.4935 - accuracy: 0.7533\n",
            "Epoch 20/100\n",
            "102/102 [==============================] - 0s 1ms/step - loss: 0.4923 - accuracy: 0.7564\n",
            "Epoch 21/100\n",
            "102/102 [==============================] - 0s 1ms/step - loss: 0.4908 - accuracy: 0.7573\n",
            "Epoch 22/100\n",
            "102/102 [==============================] - 0s 1ms/step - loss: 0.4892 - accuracy: 0.7576\n",
            "Epoch 23/100\n",
            "102/102 [==============================] - 0s 1ms/step - loss: 0.4880 - accuracy: 0.7567\n",
            "Epoch 24/100\n",
            "102/102 [==============================] - 0s 1ms/step - loss: 0.4863 - accuracy: 0.7625\n",
            "Epoch 25/100\n",
            "102/102 [==============================] - 0s 1ms/step - loss: 0.4867 - accuracy: 0.7573\n",
            "Epoch 26/100\n",
            "102/102 [==============================] - 0s 1ms/step - loss: 0.4849 - accuracy: 0.7625\n",
            "Epoch 27/100\n",
            "102/102 [==============================] - 0s 1ms/step - loss: 0.4832 - accuracy: 0.7594\n",
            "Epoch 28/100\n",
            "102/102 [==============================] - 0s 1ms/step - loss: 0.4826 - accuracy: 0.7619\n",
            "Epoch 29/100\n",
            "102/102 [==============================] - 0s 1ms/step - loss: 0.4838 - accuracy: 0.7616\n",
            "Epoch 30/100\n",
            "102/102 [==============================] - 0s 1ms/step - loss: 0.4832 - accuracy: 0.7591\n",
            "Epoch 31/100\n",
            "102/102 [==============================] - 0s 1ms/step - loss: 0.4815 - accuracy: 0.7613\n",
            "Epoch 32/100\n",
            "102/102 [==============================] - 0s 1ms/step - loss: 0.4805 - accuracy: 0.7616\n",
            "Epoch 33/100\n",
            "102/102 [==============================] - 0s 1ms/step - loss: 0.4802 - accuracy: 0.7613\n",
            "Epoch 34/100\n",
            "102/102 [==============================] - 0s 1ms/step - loss: 0.4819 - accuracy: 0.7613\n",
            "Epoch 35/100\n",
            "102/102 [==============================] - 0s 1ms/step - loss: 0.4806 - accuracy: 0.7619\n",
            "Epoch 36/100\n",
            "102/102 [==============================] - 0s 1ms/step - loss: 0.4787 - accuracy: 0.7619\n",
            "Epoch 37/100\n",
            "102/102 [==============================] - 0s 1ms/step - loss: 0.4796 - accuracy: 0.7619\n",
            "Epoch 38/100\n",
            "102/102 [==============================] - 0s 1ms/step - loss: 0.4781 - accuracy: 0.7625\n",
            "Epoch 39/100\n",
            "102/102 [==============================] - 0s 1ms/step - loss: 0.4792 - accuracy: 0.7619\n",
            "Epoch 40/100\n",
            "102/102 [==============================] - 0s 1ms/step - loss: 0.4778 - accuracy: 0.7653\n",
            "Epoch 41/100\n",
            "102/102 [==============================] - 0s 1ms/step - loss: 0.4769 - accuracy: 0.7622\n",
            "Epoch 42/100\n",
            "102/102 [==============================] - 0s 1ms/step - loss: 0.4767 - accuracy: 0.7600\n",
            "Epoch 43/100\n",
            "102/102 [==============================] - 0s 1ms/step - loss: 0.4776 - accuracy: 0.7634\n",
            "Epoch 44/100\n",
            "102/102 [==============================] - 0s 1ms/step - loss: 0.4776 - accuracy: 0.7570\n",
            "Epoch 45/100\n",
            "102/102 [==============================] - 0s 1ms/step - loss: 0.4754 - accuracy: 0.7640\n",
            "Epoch 46/100\n",
            "102/102 [==============================] - 0s 1ms/step - loss: 0.4757 - accuracy: 0.7634\n",
            "Epoch 47/100\n",
            "102/102 [==============================] - 0s 1ms/step - loss: 0.4744 - accuracy: 0.7628\n",
            "Epoch 48/100\n",
            "102/102 [==============================] - 0s 1ms/step - loss: 0.4737 - accuracy: 0.7656\n",
            "Epoch 49/100\n",
            "102/102 [==============================] - 0s 1ms/step - loss: 0.4752 - accuracy: 0.7628\n",
            "Epoch 50/100\n",
            "102/102 [==============================] - 0s 1ms/step - loss: 0.4745 - accuracy: 0.7597\n",
            "Epoch 51/100\n",
            "102/102 [==============================] - 0s 1ms/step - loss: 0.4741 - accuracy: 0.7622\n",
            "Epoch 52/100\n",
            "102/102 [==============================] - 0s 1ms/step - loss: 0.4736 - accuracy: 0.7643\n",
            "Epoch 53/100\n",
            "102/102 [==============================] - 0s 1ms/step - loss: 0.4738 - accuracy: 0.7653\n",
            "Epoch 54/100\n",
            "102/102 [==============================] - 0s 1ms/step - loss: 0.4739 - accuracy: 0.7650\n",
            "Epoch 55/100\n",
            "102/102 [==============================] - 0s 1ms/step - loss: 0.4741 - accuracy: 0.7686\n",
            "Epoch 56/100\n",
            "102/102 [==============================] - 0s 1ms/step - loss: 0.4722 - accuracy: 0.7631\n",
            "Epoch 57/100\n",
            "102/102 [==============================] - 0s 1ms/step - loss: 0.4724 - accuracy: 0.7653\n",
            "Epoch 58/100\n",
            "102/102 [==============================] - 0s 1ms/step - loss: 0.4742 - accuracy: 0.7625\n",
            "Epoch 59/100\n",
            "102/102 [==============================] - 0s 1ms/step - loss: 0.4725 - accuracy: 0.7619\n",
            "Epoch 60/100\n",
            "102/102 [==============================] - 0s 1ms/step - loss: 0.4717 - accuracy: 0.7653\n",
            "Epoch 61/100\n",
            "102/102 [==============================] - 0s 1ms/step - loss: 0.4717 - accuracy: 0.7650\n",
            "Epoch 62/100\n",
            "102/102 [==============================] - 0s 1ms/step - loss: 0.4714 - accuracy: 0.7653\n",
            "Epoch 63/100\n",
            "102/102 [==============================] - 0s 1ms/step - loss: 0.4716 - accuracy: 0.7656\n",
            "Epoch 64/100\n",
            "102/102 [==============================] - 0s 1ms/step - loss: 0.4711 - accuracy: 0.7625\n",
            "Epoch 65/100\n",
            "102/102 [==============================] - 0s 1ms/step - loss: 0.4702 - accuracy: 0.7671\n",
            "Epoch 66/100\n",
            "102/102 [==============================] - 0s 1ms/step - loss: 0.4710 - accuracy: 0.7659\n",
            "Epoch 67/100\n",
            "102/102 [==============================] - 0s 1ms/step - loss: 0.4710 - accuracy: 0.7613\n",
            "Epoch 68/100\n",
            "102/102 [==============================] - 0s 1ms/step - loss: 0.4716 - accuracy: 0.7659\n",
            "Epoch 69/100\n",
            "102/102 [==============================] - 0s 1ms/step - loss: 0.4730 - accuracy: 0.7622\n",
            "Epoch 70/100\n",
            "102/102 [==============================] - 0s 1ms/step - loss: 0.4706 - accuracy: 0.7696\n",
            "Epoch 71/100\n",
            "102/102 [==============================] - 0s 1ms/step - loss: 0.4706 - accuracy: 0.7643\n",
            "Epoch 72/100\n",
            "102/102 [==============================] - 0s 1ms/step - loss: 0.4703 - accuracy: 0.7680\n",
            "Epoch 73/100\n",
            "102/102 [==============================] - 0s 1ms/step - loss: 0.4700 - accuracy: 0.7668\n",
            "Epoch 74/100\n",
            "102/102 [==============================] - 0s 1ms/step - loss: 0.4696 - accuracy: 0.7689\n",
            "Epoch 75/100\n",
            "102/102 [==============================] - 0s 1ms/step - loss: 0.4690 - accuracy: 0.7650\n",
            "Epoch 76/100\n",
            "102/102 [==============================] - 0s 1ms/step - loss: 0.4701 - accuracy: 0.7659\n",
            "Epoch 77/100\n",
            "102/102 [==============================] - 0s 1ms/step - loss: 0.4689 - accuracy: 0.7671\n",
            "Epoch 78/100\n",
            "102/102 [==============================] - 0s 1ms/step - loss: 0.4683 - accuracy: 0.7693\n",
            "Epoch 79/100\n",
            "102/102 [==============================] - 0s 1ms/step - loss: 0.4688 - accuracy: 0.7643\n",
            "Epoch 80/100\n",
            "102/102 [==============================] - 0s 1ms/step - loss: 0.4697 - accuracy: 0.7659\n",
            "Epoch 81/100\n",
            "102/102 [==============================] - 0s 1ms/step - loss: 0.4691 - accuracy: 0.7640\n",
            "Epoch 82/100\n",
            "102/102 [==============================] - 0s 1ms/step - loss: 0.4686 - accuracy: 0.7677\n",
            "Epoch 83/100\n",
            "102/102 [==============================] - 0s 1ms/step - loss: 0.4688 - accuracy: 0.7736\n",
            "Epoch 84/100\n",
            "102/102 [==============================] - 0s 1ms/step - loss: 0.4689 - accuracy: 0.7689\n",
            "Epoch 85/100\n",
            "102/102 [==============================] - 0s 1ms/step - loss: 0.4676 - accuracy: 0.7674\n",
            "Epoch 86/100\n",
            "102/102 [==============================] - 0s 1ms/step - loss: 0.4692 - accuracy: 0.7696\n",
            "Epoch 87/100\n",
            "102/102 [==============================] - 0s 1ms/step - loss: 0.4682 - accuracy: 0.7705\n",
            "Epoch 88/100\n",
            "102/102 [==============================] - 0s 1ms/step - loss: 0.4678 - accuracy: 0.7668\n",
            "Epoch 89/100\n",
            "102/102 [==============================] - 0s 1ms/step - loss: 0.4675 - accuracy: 0.7671\n",
            "Epoch 90/100\n",
            "102/102 [==============================] - 0s 1ms/step - loss: 0.4673 - accuracy: 0.7686\n",
            "Epoch 91/100\n",
            "102/102 [==============================] - 0s 1ms/step - loss: 0.4675 - accuracy: 0.7705\n",
            "Epoch 92/100\n",
            "102/102 [==============================] - 0s 1ms/step - loss: 0.4668 - accuracy: 0.7683\n",
            "Epoch 93/100\n",
            "102/102 [==============================] - 0s 1ms/step - loss: 0.4668 - accuracy: 0.7714\n",
            "Epoch 94/100\n",
            "102/102 [==============================] - 0s 1ms/step - loss: 0.4673 - accuracy: 0.7729\n",
            "Epoch 95/100\n",
            "102/102 [==============================] - 0s 1ms/step - loss: 0.4671 - accuracy: 0.7686\n",
            "Epoch 96/100\n",
            "102/102 [==============================] - 0s 1ms/step - loss: 0.4665 - accuracy: 0.7689\n",
            "Epoch 97/100\n",
            "102/102 [==============================] - 0s 1ms/step - loss: 0.4675 - accuracy: 0.7723\n",
            "Epoch 98/100\n",
            "102/102 [==============================] - 0s 1ms/step - loss: 0.4666 - accuracy: 0.7662\n",
            "Epoch 99/100\n",
            "102/102 [==============================] - 0s 1ms/step - loss: 0.4652 - accuracy: 0.7729\n",
            "Epoch 100/100\n",
            "102/102 [==============================] - 0s 1ms/step - loss: 0.4655 - accuracy: 0.7699\n",
            "26/26 [==============================] - 0s 1ms/step - loss: 0.4712 - accuracy: 0.7681\n",
            "[0.47118353843688965, 0.7680981755256653]\n",
            "Classification Report: \n",
            "               precision    recall  f1-score   support\n",
            "\n",
            "           0       0.77      0.77      0.77       408\n",
            "           1       0.77      0.77      0.77       407\n",
            "\n",
            "    accuracy                           0.77       815\n",
            "   macro avg       0.77      0.77      0.77       815\n",
            "weighted avg       0.77      0.77      0.77       815\n",
            "\n"
          ],
          "name": "stdout"
        }
      ]
    },
    {
      "cell_type": "code",
      "metadata": {
        "colab": {
          "base_uri": "https://localhost:8080/",
          "height": 459
        },
        "id": "VEEPbTJJ_J0t",
        "outputId": "e3712a1a-b19f-4757-e8e3-9cd186a102e0"
      },
      "source": [
        "cm = tf.math.confusion_matrix(labels=y_test,predictions=y_pred1)\n",
        "\n",
        "plt.figure(figsize = (10,7))\n",
        "sns.heatmap(cm, annot=True, fmt='d')\n",
        "plt.xlabel('Predicted')\n",
        "plt.ylabel('Truth')"
      ],
      "execution_count": 351,
      "outputs": [
        {
          "output_type": "execute_result",
          "data": {
            "text/plain": [
              "Text(69.0, 0.5, 'Truth')"
            ]
          },
          "metadata": {
            "tags": []
          },
          "execution_count": 351
        },
        {
          "output_type": "display_data",
          "data": {
            "image/png": "[encoded data removed]",
            "text/plain": [
              "<Figure size 720x504 with 2 Axes>"
            ]
          },
          "metadata": {
            "tags": []
          }
        }
      ]
    },
    {
      "cell_type": "markdown",
      "metadata": {
        "id": "HzT-ETo19Wrs"
      },
      "source": [
        "# Method2: Oversampling"
      ]
    },
    {
      "cell_type": "code",
      "metadata": {
        "colab": {
          "base_uri": "https://localhost:8080/"
        },
        "id": "PG8-JRGr9IU8",
        "outputId": "7d786e30-c002-4169-cbb9-40903a1e4994"
      },
      "source": [
        "df_class_1_over = df_class_1.sample(count_class_0, replace=True)\n",
        "df_test_over = pd.concat([df_class_0, df_class_1_over], axis=0)\n",
        "\n",
        "print('Random over-sampling:')\n",
        "print(df_test_over.Exited.value_counts())"
      ],
      "execution_count": 352,
      "outputs": [
        {
          "output_type": "stream",
          "text": [
            "Random over-sampling:\n",
            "1    7963\n",
            "0    7963\n",
            "Name: Exited, dtype: int64\n"
          ],
          "name": "stdout"
        }
      ]
    },
    {
      "cell_type": "code",
      "metadata": {
        "id": "rZU28iSP9ejW"
      },
      "source": [
        "X = df_test_over.drop('Exited',axis='columns')\n",
        "y = df_test_over['Exited']\n",
        "\n",
        "X_train, X_test, y_train, y_test = train_test_split(X, y, test_size=0.2, random_state=15, stratify=y)"
      ],
      "execution_count": 353,
      "outputs": []
    },
    {
      "cell_type": "code",
      "metadata": {
        "colab": {
          "base_uri": "https://localhost:8080/"
        },
        "id": "HueWqAUv92Ts",
        "outputId": "d130d166-d134-4e87-b22d-5c8753517de6"
      },
      "source": [
        "y_pred2 = ANN(X_train, y_train, X_test, y_test, 'binary_crossentropy', -1)"
      ],
      "execution_count": 354,
      "outputs": [
        {
          "output_type": "stream",
          "text": [
            "Epoch 1/100\n",
            "399/399 [==============================] - 1s 1ms/step - loss: 0.6510 - accuracy: 0.6174\n",
            "Epoch 2/100\n",
            "399/399 [==============================] - 1s 1ms/step - loss: 0.6019 - accuracy: 0.6750\n",
            "Epoch 3/100\n",
            "399/399 [==============================] - 1s 1ms/step - loss: 0.5815 - accuracy: 0.6928\n",
            "Epoch 4/100\n",
            "399/399 [==============================] - 1s 1ms/step - loss: 0.5739 - accuracy: 0.7032\n",
            "Epoch 5/100\n",
            "399/399 [==============================] - 1s 1ms/step - loss: 0.5697 - accuracy: 0.7086\n",
            "Epoch 6/100\n",
            "399/399 [==============================] - 1s 1ms/step - loss: 0.5662 - accuracy: 0.7114\n",
            "Epoch 7/100\n",
            "399/399 [==============================] - 0s 1ms/step - loss: 0.5646 - accuracy: 0.7118\n",
            "Epoch 8/100\n",
            "399/399 [==============================] - 0s 1ms/step - loss: 0.5620 - accuracy: 0.7141\n",
            "Epoch 9/100\n",
            "399/399 [==============================] - 0s 1ms/step - loss: 0.5596 - accuracy: 0.7158\n",
            "Epoch 10/100\n",
            "399/399 [==============================] - 1s 1ms/step - loss: 0.5570 - accuracy: 0.7180\n",
            "Epoch 11/100\n",
            "399/399 [==============================] - 0s 1ms/step - loss: 0.5509 - accuracy: 0.7188\n",
            "Epoch 12/100\n",
            "399/399 [==============================] - 1s 1ms/step - loss: 0.5300 - accuracy: 0.7314\n",
            "Epoch 13/100\n",
            "399/399 [==============================] - 0s 1ms/step - loss: 0.5111 - accuracy: 0.7501\n",
            "Epoch 14/100\n",
            "399/399 [==============================] - 1s 1ms/step - loss: 0.4963 - accuracy: 0.7560\n",
            "Epoch 15/100\n",
            "399/399 [==============================] - 1s 1ms/step - loss: 0.4877 - accuracy: 0.7586\n",
            "Epoch 16/100\n",
            "399/399 [==============================] - 1s 1ms/step - loss: 0.4813 - accuracy: 0.7608\n",
            "Epoch 17/100\n",
            "399/399 [==============================] - 0s 1ms/step - loss: 0.4769 - accuracy: 0.7622\n",
            "Epoch 18/100\n",
            "399/399 [==============================] - 1s 1ms/step - loss: 0.4753 - accuracy: 0.7652\n",
            "Epoch 19/100\n",
            "399/399 [==============================] - 0s 1ms/step - loss: 0.4726 - accuracy: 0.7647\n",
            "Epoch 20/100\n",
            "399/399 [==============================] - 0s 1ms/step - loss: 0.4714 - accuracy: 0.7676\n",
            "Epoch 21/100\n",
            "399/399 [==============================] - 1s 1ms/step - loss: 0.4689 - accuracy: 0.7691\n",
            "Epoch 22/100\n",
            "399/399 [==============================] - 0s 1ms/step - loss: 0.4673 - accuracy: 0.7711\n",
            "Epoch 23/100\n",
            "399/399 [==============================] - 1s 1ms/step - loss: 0.4658 - accuracy: 0.7699\n",
            "Epoch 24/100\n",
            "399/399 [==============================] - 0s 1ms/step - loss: 0.4659 - accuracy: 0.7721\n",
            "Epoch 25/100\n",
            "399/399 [==============================] - 0s 1ms/step - loss: 0.4646 - accuracy: 0.7724\n",
            "Epoch 26/100\n",
            "399/399 [==============================] - 1s 1ms/step - loss: 0.4639 - accuracy: 0.7736\n",
            "Epoch 27/100\n",
            "399/399 [==============================] - 0s 1ms/step - loss: 0.4627 - accuracy: 0.7732\n",
            "Epoch 28/100\n",
            "399/399 [==============================] - 1s 1ms/step - loss: 0.4616 - accuracy: 0.7749\n",
            "Epoch 29/100\n",
            "399/399 [==============================] - 1s 1ms/step - loss: 0.4622 - accuracy: 0.7750\n",
            "Epoch 30/100\n",
            "399/399 [==============================] - 1s 1ms/step - loss: 0.4610 - accuracy: 0.7758\n",
            "Epoch 31/100\n",
            "399/399 [==============================] - 1s 1ms/step - loss: 0.4617 - accuracy: 0.7742\n",
            "Epoch 32/100\n",
            "399/399 [==============================] - 0s 1ms/step - loss: 0.4601 - accuracy: 0.7742\n",
            "Epoch 33/100\n",
            "399/399 [==============================] - 1s 1ms/step - loss: 0.4602 - accuracy: 0.7761\n",
            "Epoch 34/100\n",
            "399/399 [==============================] - 1s 1ms/step - loss: 0.4599 - accuracy: 0.7764\n",
            "Epoch 35/100\n",
            "399/399 [==============================] - 1s 1ms/step - loss: 0.4586 - accuracy: 0.7762\n",
            "Epoch 36/100\n",
            "399/399 [==============================] - 1s 1ms/step - loss: 0.4595 - accuracy: 0.7771\n",
            "Epoch 37/100\n",
            "399/399 [==============================] - 0s 1ms/step - loss: 0.4589 - accuracy: 0.7760\n",
            "Epoch 38/100\n",
            "399/399 [==============================] - 1s 1ms/step - loss: 0.4580 - accuracy: 0.7772\n",
            "Epoch 39/100\n",
            "399/399 [==============================] - 1s 1ms/step - loss: 0.4573 - accuracy: 0.7786\n",
            "Epoch 40/100\n",
            "399/399 [==============================] - 1s 1ms/step - loss: 0.4581 - accuracy: 0.7783\n",
            "Epoch 41/100\n",
            "399/399 [==============================] - 1s 1ms/step - loss: 0.4565 - accuracy: 0.7788\n",
            "Epoch 42/100\n",
            "399/399 [==============================] - 0s 1ms/step - loss: 0.4569 - accuracy: 0.7780\n",
            "Epoch 43/100\n",
            "399/399 [==============================] - 1s 1ms/step - loss: 0.4567 - accuracy: 0.7765\n",
            "Epoch 44/100\n",
            "399/399 [==============================] - 0s 1ms/step - loss: 0.4558 - accuracy: 0.7818\n",
            "Epoch 45/100\n",
            "399/399 [==============================] - 0s 1ms/step - loss: 0.4548 - accuracy: 0.7818\n",
            "Epoch 46/100\n",
            "399/399 [==============================] - 0s 1ms/step - loss: 0.4552 - accuracy: 0.7798\n",
            "Epoch 47/100\n",
            "399/399 [==============================] - 1s 1ms/step - loss: 0.4548 - accuracy: 0.7805\n",
            "Epoch 48/100\n",
            "399/399 [==============================] - 0s 1ms/step - loss: 0.4556 - accuracy: 0.7825\n",
            "Epoch 49/100\n",
            "399/399 [==============================] - 1s 1ms/step - loss: 0.4541 - accuracy: 0.7797\n",
            "Epoch 50/100\n",
            "399/399 [==============================] - 1s 1ms/step - loss: 0.4541 - accuracy: 0.7803\n",
            "Epoch 51/100\n",
            "399/399 [==============================] - 1s 1ms/step - loss: 0.4538 - accuracy: 0.7823\n",
            "Epoch 52/100\n",
            "399/399 [==============================] - 0s 1ms/step - loss: 0.4533 - accuracy: 0.7841\n",
            "Epoch 53/100\n",
            "399/399 [==============================] - 1s 1ms/step - loss: 0.4534 - accuracy: 0.7816\n",
            "Epoch 54/100\n",
            "399/399 [==============================] - 1s 1ms/step - loss: 0.4524 - accuracy: 0.7836\n",
            "Epoch 55/100\n",
            "399/399 [==============================] - 0s 1ms/step - loss: 0.4522 - accuracy: 0.7808\n",
            "Epoch 56/100\n",
            "399/399 [==============================] - 0s 1ms/step - loss: 0.4520 - accuracy: 0.7815\n",
            "Epoch 57/100\n",
            "399/399 [==============================] - 1s 1ms/step - loss: 0.4512 - accuracy: 0.7827\n",
            "Epoch 58/100\n",
            "399/399 [==============================] - 1s 1ms/step - loss: 0.4527 - accuracy: 0.7816\n",
            "Epoch 59/100\n",
            "399/399 [==============================] - 1s 1ms/step - loss: 0.4512 - accuracy: 0.7834\n",
            "Epoch 60/100\n",
            "399/399 [==============================] - 0s 1ms/step - loss: 0.4515 - accuracy: 0.7819\n",
            "Epoch 61/100\n",
            "399/399 [==============================] - 1s 1ms/step - loss: 0.4513 - accuracy: 0.7838\n",
            "Epoch 62/100\n",
            "399/399 [==============================] - 0s 1ms/step - loss: 0.4505 - accuracy: 0.7855\n",
            "Epoch 63/100\n",
            "399/399 [==============================] - 1s 1ms/step - loss: 0.4501 - accuracy: 0.7862\n",
            "Epoch 64/100\n",
            "399/399 [==============================] - 1s 1ms/step - loss: 0.4500 - accuracy: 0.7835\n",
            "Epoch 65/100\n",
            "399/399 [==============================] - 1s 1ms/step - loss: 0.4500 - accuracy: 0.7851\n",
            "Epoch 66/100\n",
            "399/399 [==============================] - 1s 1ms/step - loss: 0.4489 - accuracy: 0.7835\n",
            "Epoch 67/100\n",
            "399/399 [==============================] - 0s 1ms/step - loss: 0.4492 - accuracy: 0.7870\n",
            "Epoch 68/100\n",
            "399/399 [==============================] - 1s 1ms/step - loss: 0.4487 - accuracy: 0.7849\n",
            "Epoch 69/100\n",
            "399/399 [==============================] - 1s 1ms/step - loss: 0.4486 - accuracy: 0.7845\n",
            "Epoch 70/100\n",
            "399/399 [==============================] - 1s 1ms/step - loss: 0.4479 - accuracy: 0.7856\n",
            "Epoch 71/100\n",
            "399/399 [==============================] - 1s 1ms/step - loss: 0.4480 - accuracy: 0.7860\n",
            "Epoch 72/100\n",
            "399/399 [==============================] - 1s 1ms/step - loss: 0.4479 - accuracy: 0.7864\n",
            "Epoch 73/100\n",
            "399/399 [==============================] - 0s 1ms/step - loss: 0.4486 - accuracy: 0.7856\n",
            "Epoch 74/100\n",
            "399/399 [==============================] - 1s 1ms/step - loss: 0.4474 - accuracy: 0.7862\n",
            "Epoch 75/100\n",
            "399/399 [==============================] - 1s 1ms/step - loss: 0.4483 - accuracy: 0.7833\n",
            "Epoch 76/100\n",
            "399/399 [==============================] - 0s 1ms/step - loss: 0.4472 - accuracy: 0.7846\n",
            "Epoch 77/100\n",
            "399/399 [==============================] - 0s 1ms/step - loss: 0.4467 - accuracy: 0.7867\n",
            "Epoch 78/100\n",
            "399/399 [==============================] - 1s 1ms/step - loss: 0.4462 - accuracy: 0.7876\n",
            "Epoch 79/100\n",
            "399/399 [==============================] - 1s 1ms/step - loss: 0.4463 - accuracy: 0.7878\n",
            "Epoch 80/100\n",
            "399/399 [==============================] - 1s 1ms/step - loss: 0.4464 - accuracy: 0.7844\n",
            "Epoch 81/100\n",
            "399/399 [==============================] - 1s 1ms/step - loss: 0.4457 - accuracy: 0.7878\n",
            "Epoch 82/100\n",
            "399/399 [==============================] - 1s 1ms/step - loss: 0.4455 - accuracy: 0.7871\n",
            "Epoch 83/100\n",
            "399/399 [==============================] - 1s 1ms/step - loss: 0.4462 - accuracy: 0.7861\n",
            "Epoch 84/100\n",
            "399/399 [==============================] - 1s 1ms/step - loss: 0.4458 - accuracy: 0.7859\n",
            "Epoch 85/100\n",
            "399/399 [==============================] - 1s 1ms/step - loss: 0.4457 - accuracy: 0.7867\n",
            "Epoch 86/100\n",
            "399/399 [==============================] - 1s 1ms/step - loss: 0.4452 - accuracy: 0.7856\n",
            "Epoch 87/100\n",
            "399/399 [==============================] - 1s 1ms/step - loss: 0.4449 - accuracy: 0.7894\n",
            "Epoch 88/100\n",
            "399/399 [==============================] - 0s 1ms/step - loss: 0.4453 - accuracy: 0.7857\n",
            "Epoch 89/100\n",
            "399/399 [==============================] - 1s 1ms/step - loss: 0.4448 - accuracy: 0.7858\n",
            "Epoch 90/100\n",
            "399/399 [==============================] - 0s 1ms/step - loss: 0.4452 - accuracy: 0.7889\n",
            "Epoch 91/100\n",
            "399/399 [==============================] - 1s 1ms/step - loss: 0.4445 - accuracy: 0.7873\n",
            "Epoch 92/100\n",
            "399/399 [==============================] - 1s 1ms/step - loss: 0.4447 - accuracy: 0.7860\n",
            "Epoch 93/100\n",
            "399/399 [==============================] - 0s 1ms/step - loss: 0.4451 - accuracy: 0.7870\n",
            "Epoch 94/100\n",
            "399/399 [==============================] - 1s 1ms/step - loss: 0.4451 - accuracy: 0.7892\n",
            "Epoch 95/100\n",
            "399/399 [==============================] - 1s 1ms/step - loss: 0.4438 - accuracy: 0.7892\n",
            "Epoch 96/100\n",
            "399/399 [==============================] - 0s 1ms/step - loss: 0.4437 - accuracy: 0.7881\n",
            "Epoch 97/100\n",
            "399/399 [==============================] - 1s 1ms/step - loss: 0.4461 - accuracy: 0.7874\n",
            "Epoch 98/100\n",
            "399/399 [==============================] - 1s 1ms/step - loss: 0.4437 - accuracy: 0.7872\n",
            "Epoch 99/100\n",
            "399/399 [==============================] - 1s 1ms/step - loss: 0.4456 - accuracy: 0.7875\n",
            "Epoch 100/100\n",
            "399/399 [==============================] - 0s 1ms/step - loss: 0.4442 - accuracy: 0.7891\n",
            "100/100 [==============================] - 0s 930us/step - loss: 0.4532 - accuracy: 0.7837\n",
            "[0.45321914553642273, 0.7837413549423218]\n",
            "Classification Report: \n",
            "               precision    recall  f1-score   support\n",
            "\n",
            "           0       0.79      0.77      0.78      1593\n",
            "           1       0.77      0.80      0.79      1593\n",
            "\n",
            "    accuracy                           0.78      3186\n",
            "   macro avg       0.78      0.78      0.78      3186\n",
            "weighted avg       0.78      0.78      0.78      3186\n",
            "\n"
          ],
          "name": "stdout"
        }
      ]
    },
    {
      "cell_type": "code",
      "metadata": {
        "colab": {
          "base_uri": "https://localhost:8080/",
          "height": 459
        },
        "id": "pZCU2036-A3U",
        "outputId": "8568c2c0-4b3a-4cfa-e79c-29fed3c9b182"
      },
      "source": [
        "cm = tf.math.confusion_matrix(labels=y_test,predictions=y_pred2)\n",
        "\n",
        "plt.figure(figsize = (10,7))\n",
        "sns.heatmap(cm, annot=True, fmt='d')\n",
        "plt.xlabel('Predicted')\n",
        "plt.ylabel('Truth')"
      ],
      "execution_count": 355,
      "outputs": [
        {
          "output_type": "execute_result",
          "data": {
            "text/plain": [
              "Text(69.0, 0.5, 'Truth')"
            ]
          },
          "metadata": {
            "tags": []
          },
          "execution_count": 355
        },
        {
          "output_type": "display_data",
          "data": {
            "image/png": "[encoded data removed]",
            "text/plain": [
              "<Figure size 720x504 with 2 Axes>"
            ]
          },
          "metadata": {
            "tags": []
          }
        }
      ]
    },
    {
      "cell_type": "markdown",
      "metadata": {
        "id": "z1h2eJPtBDhD"
      },
      "source": [
        "#Method3: SMOTE"
      ]
    },
    {
      "cell_type": "code",
      "metadata": {
        "id": "DUIBKVPzAnbL"
      },
      "source": [
        "X = df1.drop('Exited',axis='columns')\n",
        "y = df1['Exited']"
      ],
      "execution_count": 356,
      "outputs": []
    },
    {
      "cell_type": "code",
      "metadata": {
        "colab": {
          "base_uri": "https://localhost:8080/"
        },
        "id": "WWrTZ0hQBNkD",
        "outputId": "d22c5579-26d9-4c40-bf8f-edbb9b921b7a"
      },
      "source": [
        "from imblearn.over_sampling import SMOTE\n",
        "\n",
        "smote = SMOTE(sampling_strategy='minority')\n",
        "X_sm, y_sm = smote.fit_sample(X, y)"
      ],
      "execution_count": 357,
      "outputs": [
        {
          "output_type": "stream",
          "text": [
            "/usr/local/lib/python3.7/dist-packages/sklearn/utils/deprecation.py:87: FutureWarning: Function safe_indexing is deprecated; safe_indexing is deprecated in version 0.22 and will be removed in version 0.24.\n",
            "  warnings.warn(msg, category=FutureWarning)\n"
          ],
          "name": "stderr"
        }
      ]
    },
    {
      "cell_type": "code",
      "metadata": {
        "id": "KlZB0_POBRlF"
      },
      "source": [
        "X_train, X_test, y_train, y_test = train_test_split(X_sm, y_sm, test_size=0.2, random_state=15, stratify=y_sm)"
      ],
      "execution_count": 358,
      "outputs": []
    },
    {
      "cell_type": "code",
      "metadata": {
        "colab": {
          "base_uri": "https://localhost:8080/"
        },
        "id": "bcQQhP2XBfon",
        "outputId": "cc3b8426-57d1-4d4f-be88-5ed134fd00db"
      },
      "source": [
        "y_pred3 = ANN(X_train, y_train, X_test, y_test, 'binary_crossentropy', -1)"
      ],
      "execution_count": 359,
      "outputs": [
        {
          "output_type": "stream",
          "text": [
            "Epoch 1/100\n",
            "399/399 [==============================] - 1s 1ms/step - loss: 0.6719 - accuracy: 0.6024\n",
            "Epoch 2/100\n",
            "399/399 [==============================] - 0s 1ms/step - loss: 0.6195 - accuracy: 0.6914\n",
            "Epoch 3/100\n",
            "399/399 [==============================] - 0s 1ms/step - loss: 0.5680 - accuracy: 0.7448\n",
            "Epoch 4/100\n",
            "399/399 [==============================] - 1s 1ms/step - loss: 0.5363 - accuracy: 0.7568\n",
            "Epoch 5/100\n",
            "399/399 [==============================] - 0s 1ms/step - loss: 0.5191 - accuracy: 0.7624\n",
            "Epoch 6/100\n",
            "399/399 [==============================] - 0s 1ms/step - loss: 0.5098 - accuracy: 0.7631\n",
            "Epoch 7/100\n",
            "399/399 [==============================] - 0s 1ms/step - loss: 0.5024 - accuracy: 0.7637\n",
            "Epoch 8/100\n",
            "399/399 [==============================] - 0s 1ms/step - loss: 0.4969 - accuracy: 0.7662\n",
            "Epoch 9/100\n",
            "399/399 [==============================] - 0s 1ms/step - loss: 0.4933 - accuracy: 0.7659\n",
            "Epoch 10/100\n",
            "399/399 [==============================] - 0s 1ms/step - loss: 0.4904 - accuracy: 0.7675\n",
            "Epoch 11/100\n",
            "399/399 [==============================] - 1s 1ms/step - loss: 0.4882 - accuracy: 0.7679\n",
            "Epoch 12/100\n",
            "399/399 [==============================] - 1s 1ms/step - loss: 0.4853 - accuracy: 0.7679\n",
            "Epoch 13/100\n",
            "399/399 [==============================] - 1s 1ms/step - loss: 0.4832 - accuracy: 0.7701\n",
            "Epoch 14/100\n",
            "399/399 [==============================] - 0s 1ms/step - loss: 0.4808 - accuracy: 0.7699\n",
            "Epoch 15/100\n",
            "399/399 [==============================] - 0s 1ms/step - loss: 0.4797 - accuracy: 0.7710\n",
            "Epoch 16/100\n",
            "399/399 [==============================] - 1s 1ms/step - loss: 0.4781 - accuracy: 0.7724\n",
            "Epoch 17/100\n",
            "399/399 [==============================] - 1s 1ms/step - loss: 0.4763 - accuracy: 0.7713\n",
            "Epoch 18/100\n",
            "399/399 [==============================] - 0s 1ms/step - loss: 0.4756 - accuracy: 0.7717\n",
            "Epoch 19/100\n",
            "399/399 [==============================] - 0s 1ms/step - loss: 0.4740 - accuracy: 0.7714\n",
            "Epoch 20/100\n",
            "399/399 [==============================] - 1s 1ms/step - loss: 0.4728 - accuracy: 0.7743\n",
            "Epoch 21/100\n",
            "399/399 [==============================] - 1s 1ms/step - loss: 0.4720 - accuracy: 0.7721\n",
            "Epoch 22/100\n",
            "399/399 [==============================] - 1s 1ms/step - loss: 0.4708 - accuracy: 0.7739\n",
            "Epoch 23/100\n",
            "399/399 [==============================] - 0s 1ms/step - loss: 0.4705 - accuracy: 0.7722\n",
            "Epoch 24/100\n",
            "399/399 [==============================] - 0s 1ms/step - loss: 0.4694 - accuracy: 0.7706\n",
            "Epoch 25/100\n",
            "399/399 [==============================] - 0s 1ms/step - loss: 0.4680 - accuracy: 0.7731\n",
            "Epoch 26/100\n",
            "399/399 [==============================] - 1s 1ms/step - loss: 0.4684 - accuracy: 0.7735\n",
            "Epoch 27/100\n",
            "399/399 [==============================] - 1s 1ms/step - loss: 0.4672 - accuracy: 0.7738\n",
            "Epoch 28/100\n",
            "399/399 [==============================] - 0s 1ms/step - loss: 0.4661 - accuracy: 0.7757\n",
            "Epoch 29/100\n",
            "399/399 [==============================] - 0s 1ms/step - loss: 0.4659 - accuracy: 0.7714\n",
            "Epoch 30/100\n",
            "399/399 [==============================] - 1s 1ms/step - loss: 0.4659 - accuracy: 0.7727\n",
            "Epoch 31/100\n",
            "399/399 [==============================] - 0s 1ms/step - loss: 0.4649 - accuracy: 0.7757\n",
            "Epoch 32/100\n",
            "399/399 [==============================] - 1s 1ms/step - loss: 0.4643 - accuracy: 0.7758\n",
            "Epoch 33/100\n",
            "399/399 [==============================] - 0s 1ms/step - loss: 0.4636 - accuracy: 0.7747\n",
            "Epoch 34/100\n",
            "399/399 [==============================] - 1s 1ms/step - loss: 0.4632 - accuracy: 0.7750\n",
            "Epoch 35/100\n",
            "399/399 [==============================] - 0s 1ms/step - loss: 0.4634 - accuracy: 0.7768\n",
            "Epoch 36/100\n",
            "399/399 [==============================] - 1s 1ms/step - loss: 0.4630 - accuracy: 0.7757\n",
            "Epoch 37/100\n",
            "399/399 [==============================] - 1s 1ms/step - loss: 0.4626 - accuracy: 0.7765\n",
            "Epoch 38/100\n",
            "399/399 [==============================] - 0s 1ms/step - loss: 0.4619 - accuracy: 0.7761\n",
            "Epoch 39/100\n",
            "399/399 [==============================] - 0s 1ms/step - loss: 0.4611 - accuracy: 0.7782\n",
            "Epoch 40/100\n",
            "399/399 [==============================] - 0s 1ms/step - loss: 0.4612 - accuracy: 0.7788\n",
            "Epoch 41/100\n",
            "399/399 [==============================] - 1s 1ms/step - loss: 0.4603 - accuracy: 0.7790\n",
            "Epoch 42/100\n",
            "399/399 [==============================] - 1s 1ms/step - loss: 0.4606 - accuracy: 0.7768\n",
            "Epoch 43/100\n",
            "399/399 [==============================] - 0s 1ms/step - loss: 0.4597 - accuracy: 0.7783\n",
            "Epoch 44/100\n",
            "399/399 [==============================] - 1s 1ms/step - loss: 0.4593 - accuracy: 0.7766\n",
            "Epoch 45/100\n",
            "399/399 [==============================] - 0s 1ms/step - loss: 0.4587 - accuracy: 0.7769\n",
            "Epoch 46/100\n",
            "399/399 [==============================] - 0s 1ms/step - loss: 0.4586 - accuracy: 0.7783\n",
            "Epoch 47/100\n",
            "399/399 [==============================] - 1s 1ms/step - loss: 0.4584 - accuracy: 0.7769\n",
            "Epoch 48/100\n",
            "399/399 [==============================] - 1s 1ms/step - loss: 0.4585 - accuracy: 0.7783\n",
            "Epoch 49/100\n",
            "399/399 [==============================] - 1s 1ms/step - loss: 0.4580 - accuracy: 0.7762\n",
            "Epoch 50/100\n",
            "399/399 [==============================] - 1s 1ms/step - loss: 0.4569 - accuracy: 0.7776\n",
            "Epoch 51/100\n",
            "399/399 [==============================] - 0s 1ms/step - loss: 0.4563 - accuracy: 0.7805\n",
            "Epoch 52/100\n",
            "399/399 [==============================] - 1s 1ms/step - loss: 0.4569 - accuracy: 0.7782\n",
            "Epoch 53/100\n",
            "399/399 [==============================] - 0s 1ms/step - loss: 0.4561 - accuracy: 0.7783\n",
            "Epoch 54/100\n",
            "399/399 [==============================] - 1s 1ms/step - loss: 0.4556 - accuracy: 0.7802\n",
            "Epoch 55/100\n",
            "399/399 [==============================] - 1s 1ms/step - loss: 0.4549 - accuracy: 0.7807\n",
            "Epoch 56/100\n",
            "399/399 [==============================] - 1s 1ms/step - loss: 0.4543 - accuracy: 0.7798\n",
            "Epoch 57/100\n",
            "399/399 [==============================] - 0s 1ms/step - loss: 0.4546 - accuracy: 0.7791\n",
            "Epoch 58/100\n",
            "399/399 [==============================] - 1s 1ms/step - loss: 0.4538 - accuracy: 0.7780\n",
            "Epoch 59/100\n",
            "399/399 [==============================] - 1s 1ms/step - loss: 0.4537 - accuracy: 0.7809\n",
            "Epoch 60/100\n",
            "399/399 [==============================] - 0s 1ms/step - loss: 0.4530 - accuracy: 0.7798\n",
            "Epoch 61/100\n",
            "399/399 [==============================] - 0s 1ms/step - loss: 0.4519 - accuracy: 0.7819\n",
            "Epoch 62/100\n",
            "399/399 [==============================] - 1s 1ms/step - loss: 0.4519 - accuracy: 0.7811\n",
            "Epoch 63/100\n",
            "399/399 [==============================] - 0s 1ms/step - loss: 0.4514 - accuracy: 0.7843\n",
            "Epoch 64/100\n",
            "399/399 [==============================] - 1s 1ms/step - loss: 0.4510 - accuracy: 0.7831\n",
            "Epoch 65/100\n",
            "399/399 [==============================] - 1s 1ms/step - loss: 0.4510 - accuracy: 0.7814\n",
            "Epoch 66/100\n",
            "399/399 [==============================] - 1s 1ms/step - loss: 0.4513 - accuracy: 0.7819\n",
            "Epoch 67/100\n",
            "399/399 [==============================] - 0s 1ms/step - loss: 0.4495 - accuracy: 0.7842\n",
            "Epoch 68/100\n",
            "399/399 [==============================] - 1s 1ms/step - loss: 0.4498 - accuracy: 0.7813\n",
            "Epoch 69/100\n",
            "399/399 [==============================] - 0s 1ms/step - loss: 0.4500 - accuracy: 0.7822\n",
            "Epoch 70/100\n",
            "399/399 [==============================] - 1s 1ms/step - loss: 0.4488 - accuracy: 0.7813\n",
            "Epoch 71/100\n",
            "399/399 [==============================] - 1s 1ms/step - loss: 0.4478 - accuracy: 0.7830\n",
            "Epoch 72/100\n",
            "399/399 [==============================] - 1s 1ms/step - loss: 0.4474 - accuracy: 0.7840\n",
            "Epoch 73/100\n",
            "399/399 [==============================] - 1s 1ms/step - loss: 0.4472 - accuracy: 0.7823\n",
            "Epoch 74/100\n",
            "399/399 [==============================] - 1s 1ms/step - loss: 0.4474 - accuracy: 0.7818\n",
            "Epoch 75/100\n",
            "399/399 [==============================] - 1s 1ms/step - loss: 0.4468 - accuracy: 0.7834\n",
            "Epoch 76/100\n",
            "399/399 [==============================] - 1s 1ms/step - loss: 0.4448 - accuracy: 0.7858\n",
            "Epoch 77/100\n",
            "399/399 [==============================] - 1s 1ms/step - loss: 0.4469 - accuracy: 0.7845\n",
            "Epoch 78/100\n",
            "399/399 [==============================] - 1s 1ms/step - loss: 0.4453 - accuracy: 0.7828\n",
            "Epoch 79/100\n",
            "399/399 [==============================] - 0s 1ms/step - loss: 0.4446 - accuracy: 0.7857\n",
            "Epoch 80/100\n",
            "399/399 [==============================] - 1s 1ms/step - loss: 0.4439 - accuracy: 0.7861\n",
            "Epoch 81/100\n",
            "399/399 [==============================] - 1s 1ms/step - loss: 0.4440 - accuracy: 0.7874\n",
            "Epoch 82/100\n",
            "399/399 [==============================] - 1s 1ms/step - loss: 0.4437 - accuracy: 0.7853\n",
            "Epoch 83/100\n",
            "399/399 [==============================] - 0s 1ms/step - loss: 0.4430 - accuracy: 0.7885\n",
            "Epoch 84/100\n",
            "399/399 [==============================] - 1s 1ms/step - loss: 0.4431 - accuracy: 0.7866\n",
            "Epoch 85/100\n",
            "399/399 [==============================] - 1s 1ms/step - loss: 0.4427 - accuracy: 0.7890\n",
            "Epoch 86/100\n",
            "399/399 [==============================] - 1s 1ms/step - loss: 0.4425 - accuracy: 0.7856\n",
            "Epoch 87/100\n",
            "399/399 [==============================] - 1s 1ms/step - loss: 0.4411 - accuracy: 0.7867\n",
            "Epoch 88/100\n",
            "399/399 [==============================] - 1s 1ms/step - loss: 0.4413 - accuracy: 0.7889\n",
            "Epoch 89/100\n",
            "399/399 [==============================] - 1s 1ms/step - loss: 0.4433 - accuracy: 0.7874\n",
            "Epoch 90/100\n",
            "399/399 [==============================] - 1s 1ms/step - loss: 0.4407 - accuracy: 0.7846\n",
            "Epoch 91/100\n",
            "399/399 [==============================] - 1s 1ms/step - loss: 0.4406 - accuracy: 0.7890\n",
            "Epoch 92/100\n",
            "399/399 [==============================] - 1s 1ms/step - loss: 0.4395 - accuracy: 0.7891\n",
            "Epoch 93/100\n",
            "399/399 [==============================] - 1s 1ms/step - loss: 0.4396 - accuracy: 0.7890\n",
            "Epoch 94/100\n",
            "399/399 [==============================] - 1s 1ms/step - loss: 0.4401 - accuracy: 0.7877\n",
            "Epoch 95/100\n",
            "399/399 [==============================] - 1s 1ms/step - loss: 0.4389 - accuracy: 0.7888\n",
            "Epoch 96/100\n",
            "399/399 [==============================] - 1s 1ms/step - loss: 0.4390 - accuracy: 0.7877\n",
            "Epoch 97/100\n",
            "399/399 [==============================] - 1s 1ms/step - loss: 0.4387 - accuracy: 0.7870\n",
            "Epoch 98/100\n",
            "399/399 [==============================] - 1s 1ms/step - loss: 0.4390 - accuracy: 0.7890\n",
            "Epoch 99/100\n",
            "399/399 [==============================] - 1s 1ms/step - loss: 0.4377 - accuracy: 0.7913\n",
            "Epoch 100/100\n",
            "399/399 [==============================] - 0s 1ms/step - loss: 0.4375 - accuracy: 0.7904\n",
            "100/100 [==============================] - 0s 961us/step - loss: 0.4438 - accuracy: 0.7834\n",
            "[0.44383853673934937, 0.7834274768829346]\n",
            "Classification Report: \n",
            "               precision    recall  f1-score   support\n",
            "\n",
            "           0       0.76      0.83      0.79      1593\n",
            "           1       0.81      0.73      0.77      1593\n",
            "\n",
            "    accuracy                           0.78      3186\n",
            "   macro avg       0.79      0.78      0.78      3186\n",
            "weighted avg       0.79      0.78      0.78      3186\n",
            "\n"
          ],
          "name": "stdout"
        }
      ]
    },
    {
      "cell_type": "code",
      "metadata": {
        "colab": {
          "base_uri": "https://localhost:8080/",
          "height": 459
        },
        "id": "kNrbcpawD0m-",
        "outputId": "2ed56029-e0ac-4ee2-9a68-c0def056ed79"
      },
      "source": [
        "cm = tf.math.confusion_matrix(labels=y_test,predictions=y_pred3)\n",
        "\n",
        "plt.figure(figsize = (10,7))\n",
        "sns.heatmap(cm, annot=True, fmt='d')\n",
        "plt.xlabel('Predicted')\n",
        "plt.ylabel('Truth')"
      ],
      "execution_count": 360,
      "outputs": [
        {
          "output_type": "execute_result",
          "data": {
            "text/plain": [
              "Text(69.0, 0.5, 'Truth')"
            ]
          },
          "metadata": {
            "tags": []
          },
          "execution_count": 360
        },
        {
          "output_type": "display_data",
          "data": {
            "image/png": "[encoded data removed]",
            "text/plain": [
              "<Figure size 720x504 with 2 Axes>"
            ]
          },
          "metadata": {
            "tags": []
          }
        }
      ]
    },
    {
      "cell_type": "markdown",
      "metadata": {
        "id": "VdpebjtlEoCM"
      },
      "source": [
        "# Method4: Use of Ensemble with undersampling"
      ]
    },
    {
      "cell_type": "code",
      "metadata": {
        "colab": {
          "base_uri": "https://localhost:8080/"
        },
        "id": "84bCbdobEd2P",
        "outputId": "9d66e999-43fa-4742-eb80-309c359448e5"
      },
      "source": [
        "df1.Exited.value_counts()"
      ],
      "execution_count": 361,
      "outputs": [
        {
          "output_type": "execute_result",
          "data": {
            "text/plain": [
              "0    7963\n",
              "1    2037\n",
              "Name: Exited, dtype: int64"
            ]
          },
          "metadata": {
            "tags": []
          },
          "execution_count": 361
        }
      ]
    },
    {
      "cell_type": "code",
      "metadata": {
        "id": "Dmo3SshLEvzS"
      },
      "source": [
        "X = df1.drop('Exited',axis='columns')\n",
        "y = df1['Exited']"
      ],
      "execution_count": 362,
      "outputs": []
    },
    {
      "cell_type": "code",
      "metadata": {
        "id": "t2kebLvpE1uX"
      },
      "source": [
        "X_train, X_test, y_train, y_test = train_test_split(X, y, test_size=0.2, random_state=15, stratify=y)"
      ],
      "execution_count": 363,
      "outputs": []
    },
    {
      "cell_type": "code",
      "metadata": {
        "colab": {
          "base_uri": "https://localhost:8080/"
        },
        "id": "El8G4Jw1E38l",
        "outputId": "ab76c216-1ec7-424e-c4bf-433d8d1b0b03"
      },
      "source": [
        "y_train.value_counts()"
      ],
      "execution_count": 364,
      "outputs": [
        {
          "output_type": "execute_result",
          "data": {
            "text/plain": [
              "0    6370\n",
              "1    1630\n",
              "Name: Exited, dtype: int64"
            ]
          },
          "metadata": {
            "tags": []
          },
          "execution_count": 364
        }
      ]
    },
    {
      "cell_type": "code",
      "metadata": {
        "id": "bTS_GDODE5m7"
      },
      "source": [
        "df2 = X_train.copy()\n",
        "df2['Exited'] = y_train"
      ],
      "execution_count": 365,
      "outputs": []
    },
    {
      "cell_type": "code",
      "metadata": {
        "colab": {
          "base_uri": "https://localhost:8080/",
          "height": 215
        },
        "id": "VN-FJ7s_FBwt",
        "outputId": "bdac22b0-80b8-4dba-c696-91c64fe5005c"
      },
      "source": [
        "df2.head()"
      ],
      "execution_count": 366,
      "outputs": [
        {
          "output_type": "execute_result",
          "data": {
            "text/html": [
              "<div>\n",
              "<style scoped>\n",
              "    .dataframe tbody tr th:only-of-type {\n",
              "        vertical-align: middle;\n",
              "    }\n",
              "\n",
              "    .dataframe tbody tr th {\n",
              "        vertical-align: top;\n",
              "    }\n",
              "\n",
              "    .dataframe thead th {\n",
              "        text-align: right;\n",
              "    }\n",
              "</style>\n",
              "<table border=\"1\" class=\"dataframe\">\n",
              "  <thead>\n",
              "    <tr style=\"text-align: right;\">\n",
              "      <th></th>\n",
              "      <th>CreditScore</th>\n",
              "      <th>Gender</th>\n",
              "      <th>Age</th>\n",
              "      <th>Tenure</th>\n",
              "      <th>Balance</th>\n",
              "      <th>NumOfProducts</th>\n",
              "      <th>HasCrCard</th>\n",
              "      <th>IsActiveMember</th>\n",
              "      <th>EstimatedSalary</th>\n",
              "      <th>Geography_France</th>\n",
              "      <th>Geography_Germany</th>\n",
              "      <th>Geography_Spain</th>\n",
              "      <th>Exited</th>\n",
              "    </tr>\n",
              "  </thead>\n",
              "  <tbody>\n",
              "    <tr>\n",
              "      <th>5710</th>\n",
              "      <td>0.856</td>\n",
              "      <td>1</td>\n",
              "      <td>0.216216</td>\n",
              "      <td>0.5</td>\n",
              "      <td>0.554265</td>\n",
              "      <td>0.333333</td>\n",
              "      <td>0</td>\n",
              "      <td>0</td>\n",
              "      <td>0.339721</td>\n",
              "      <td>1</td>\n",
              "      <td>0</td>\n",
              "      <td>0</td>\n",
              "      <td>0</td>\n",
              "    </tr>\n",
              "    <tr>\n",
              "      <th>3745</th>\n",
              "      <td>0.852</td>\n",
              "      <td>0</td>\n",
              "      <td>0.256757</td>\n",
              "      <td>0.1</td>\n",
              "      <td>0.371163</td>\n",
              "      <td>0.333333</td>\n",
              "      <td>1</td>\n",
              "      <td>1</td>\n",
              "      <td>0.980432</td>\n",
              "      <td>0</td>\n",
              "      <td>1</td>\n",
              "      <td>0</td>\n",
              "      <td>0</td>\n",
              "    </tr>\n",
              "    <tr>\n",
              "      <th>5429</th>\n",
              "      <td>0.664</td>\n",
              "      <td>0</td>\n",
              "      <td>0.405405</td>\n",
              "      <td>0.7</td>\n",
              "      <td>0.000000</td>\n",
              "      <td>0.333333</td>\n",
              "      <td>1</td>\n",
              "      <td>0</td>\n",
              "      <td>0.325318</td>\n",
              "      <td>1</td>\n",
              "      <td>0</td>\n",
              "      <td>0</td>\n",
              "      <td>0</td>\n",
              "    </tr>\n",
              "    <tr>\n",
              "      <th>551</th>\n",
              "      <td>0.648</td>\n",
              "      <td>1</td>\n",
              "      <td>0.391892</td>\n",
              "      <td>0.6</td>\n",
              "      <td>0.426077</td>\n",
              "      <td>0.000000</td>\n",
              "      <td>1</td>\n",
              "      <td>1</td>\n",
              "      <td>0.010339</td>\n",
              "      <td>0</td>\n",
              "      <td>1</td>\n",
              "      <td>0</td>\n",
              "      <td>1</td>\n",
              "    </tr>\n",
              "    <tr>\n",
              "      <th>8967</th>\n",
              "      <td>0.970</td>\n",
              "      <td>1</td>\n",
              "      <td>0.094595</td>\n",
              "      <td>0.7</td>\n",
              "      <td>0.000000</td>\n",
              "      <td>0.333333</td>\n",
              "      <td>1</td>\n",
              "      <td>1</td>\n",
              "      <td>0.417230</td>\n",
              "      <td>1</td>\n",
              "      <td>0</td>\n",
              "      <td>0</td>\n",
              "      <td>0</td>\n",
              "    </tr>\n",
              "  </tbody>\n",
              "</table>\n",
              "</div>"
            ],
            "text/plain": [
              "      CreditScore  Gender       Age  ...  Geography_Germany  Geography_Spain  Exited\n",
              "5710        0.856       1  0.216216  ...                  0                0       0\n",
              "3745        0.852       0  0.256757  ...                  1                0       0\n",
              "5429        0.664       0  0.405405  ...                  0                0       0\n",
              "551         0.648       1  0.391892  ...                  1                0       1\n",
              "8967        0.970       1  0.094595  ...                  0                0       0\n",
              "\n",
              "[5 rows x 13 columns]"
            ]
          },
          "metadata": {
            "tags": []
          },
          "execution_count": 366
        }
      ]
    },
    {
      "cell_type": "code",
      "metadata": {
        "id": "E5_aEHUsFDtS"
      },
      "source": [
        "df2_class0 = df2[df2.Exited==0]\n",
        "df2_class1 = df2[df2.Exited==1]"
      ],
      "execution_count": 367,
      "outputs": []
    },
    {
      "cell_type": "code",
      "metadata": {
        "id": "fpLY6it5FMj3"
      },
      "source": [
        "def get_train_batch(df_majority, df_minority, start, end):\n",
        "    df_train = pd.concat([df_majority[start:end], df_minority], axis=0)\n",
        "\n",
        "    X_train = df_train.drop('Exited', axis='columns')\n",
        "    y_train = df_train.Exited\n",
        "    return X_train, y_train"
      ],
      "execution_count": 368,
      "outputs": []
    },
    {
      "cell_type": "code",
      "metadata": {
        "colab": {
          "base_uri": "https://localhost:8080/"
        },
        "id": "oa5ydZOrFT2e",
        "outputId": "cb0d1a79-77a4-4737-bf5a-cf8624c24d7b"
      },
      "source": [
        "X_train, y_train = get_train_batch(df2_class0, df2_class1, 0, 1630)\n",
        "\n",
        "y_pred4_1 = ANN(X_train, y_train, X_test, y_test, 'binary_crossentropy', -1)"
      ],
      "execution_count": 369,
      "outputs": [
        {
          "output_type": "stream",
          "text": [
            "Epoch 1/100\n",
            "102/102 [==============================] - 1s 1ms/step - loss: 0.6763 - accuracy: 0.5883\n",
            "Epoch 2/100\n",
            "102/102 [==============================] - 0s 1ms/step - loss: 0.6523 - accuracy: 0.6319\n",
            "Epoch 3/100\n",
            "102/102 [==============================] - 0s 1ms/step - loss: 0.6420 - accuracy: 0.6433\n",
            "Epoch 4/100\n",
            "102/102 [==============================] - 0s 1ms/step - loss: 0.6351 - accuracy: 0.6521\n",
            "Epoch 5/100\n",
            "102/102 [==============================] - 0s 1ms/step - loss: 0.6286 - accuracy: 0.6598\n",
            "Epoch 6/100\n",
            "102/102 [==============================] - 0s 1ms/step - loss: 0.6223 - accuracy: 0.6660\n",
            "Epoch 7/100\n",
            "102/102 [==============================] - 0s 1ms/step - loss: 0.6170 - accuracy: 0.6696\n",
            "Epoch 8/100\n",
            "102/102 [==============================] - 0s 1ms/step - loss: 0.6118 - accuracy: 0.6764\n",
            "Epoch 9/100\n",
            "102/102 [==============================] - 0s 1ms/step - loss: 0.6051 - accuracy: 0.6810\n",
            "Epoch 10/100\n",
            "102/102 [==============================] - 0s 1ms/step - loss: 0.6000 - accuracy: 0.6853\n",
            "Epoch 11/100\n",
            "102/102 [==============================] - 0s 1ms/step - loss: 0.5936 - accuracy: 0.6911\n",
            "Epoch 12/100\n",
            "102/102 [==============================] - 0s 1ms/step - loss: 0.5881 - accuracy: 0.6914\n",
            "Epoch 13/100\n",
            "102/102 [==============================] - 0s 1ms/step - loss: 0.5823 - accuracy: 0.7018\n",
            "Epoch 14/100\n",
            "102/102 [==============================] - 0s 1ms/step - loss: 0.5786 - accuracy: 0.7043\n",
            "Epoch 15/100\n",
            "102/102 [==============================] - 0s 1ms/step - loss: 0.5734 - accuracy: 0.7086\n",
            "Epoch 16/100\n",
            "102/102 [==============================] - 0s 1ms/step - loss: 0.5692 - accuracy: 0.7113\n",
            "Epoch 17/100\n",
            "102/102 [==============================] - 0s 1ms/step - loss: 0.5648 - accuracy: 0.7129\n",
            "Epoch 18/100\n",
            "102/102 [==============================] - 0s 1ms/step - loss: 0.5614 - accuracy: 0.7221\n",
            "Epoch 19/100\n",
            "102/102 [==============================] - 0s 1ms/step - loss: 0.5556 - accuracy: 0.7252\n",
            "Epoch 20/100\n",
            "102/102 [==============================] - 0s 1ms/step - loss: 0.5521 - accuracy: 0.7258\n",
            "Epoch 21/100\n",
            "102/102 [==============================] - 0s 1ms/step - loss: 0.5476 - accuracy: 0.7248\n",
            "Epoch 22/100\n",
            "102/102 [==============================] - 0s 1ms/step - loss: 0.5413 - accuracy: 0.7310\n",
            "Epoch 23/100\n",
            "102/102 [==============================] - 0s 1ms/step - loss: 0.5356 - accuracy: 0.7383\n",
            "Epoch 24/100\n",
            "102/102 [==============================] - 0s 1ms/step - loss: 0.5311 - accuracy: 0.7436\n",
            "Epoch 25/100\n",
            "102/102 [==============================] - 0s 1ms/step - loss: 0.5279 - accuracy: 0.7482\n",
            "Epoch 26/100\n",
            "102/102 [==============================] - 0s 1ms/step - loss: 0.5231 - accuracy: 0.7472\n",
            "Epoch 27/100\n",
            "102/102 [==============================] - 0s 1ms/step - loss: 0.5194 - accuracy: 0.7515\n",
            "Epoch 28/100\n",
            "102/102 [==============================] - 0s 1ms/step - loss: 0.5171 - accuracy: 0.7509\n",
            "Epoch 29/100\n",
            "102/102 [==============================] - 0s 1ms/step - loss: 0.5126 - accuracy: 0.7574\n",
            "Epoch 30/100\n",
            "102/102 [==============================] - 0s 1ms/step - loss: 0.5086 - accuracy: 0.7549\n",
            "Epoch 31/100\n",
            "102/102 [==============================] - 0s 1ms/step - loss: 0.5068 - accuracy: 0.7567\n",
            "Epoch 32/100\n",
            "102/102 [==============================] - 0s 1ms/step - loss: 0.5044 - accuracy: 0.7574\n",
            "Epoch 33/100\n",
            "102/102 [==============================] - 0s 1ms/step - loss: 0.5008 - accuracy: 0.7574\n",
            "Epoch 34/100\n",
            "102/102 [==============================] - 0s 1ms/step - loss: 0.4998 - accuracy: 0.7537\n",
            "Epoch 35/100\n",
            "102/102 [==============================] - 0s 1ms/step - loss: 0.4962 - accuracy: 0.7543\n",
            "Epoch 36/100\n",
            "102/102 [==============================] - 0s 1ms/step - loss: 0.4955 - accuracy: 0.7629\n",
            "Epoch 37/100\n",
            "102/102 [==============================] - 0s 1ms/step - loss: 0.4925 - accuracy: 0.7617\n",
            "Epoch 38/100\n",
            "102/102 [==============================] - 0s 1ms/step - loss: 0.4906 - accuracy: 0.7574\n",
            "Epoch 39/100\n",
            "102/102 [==============================] - 0s 1ms/step - loss: 0.4890 - accuracy: 0.7592\n",
            "Epoch 40/100\n",
            "102/102 [==============================] - 0s 1ms/step - loss: 0.4879 - accuracy: 0.7613\n",
            "Epoch 41/100\n",
            "102/102 [==============================] - 0s 1ms/step - loss: 0.4877 - accuracy: 0.7638\n",
            "Epoch 42/100\n",
            "102/102 [==============================] - 0s 1ms/step - loss: 0.4859 - accuracy: 0.7629\n",
            "Epoch 43/100\n",
            "102/102 [==============================] - 0s 1ms/step - loss: 0.4851 - accuracy: 0.7660\n",
            "Epoch 44/100\n",
            "102/102 [==============================] - 0s 1ms/step - loss: 0.4836 - accuracy: 0.7632\n",
            "Epoch 45/100\n",
            "102/102 [==============================] - 0s 1ms/step - loss: 0.4824 - accuracy: 0.7660\n",
            "Epoch 46/100\n",
            "102/102 [==============================] - 0s 1ms/step - loss: 0.4815 - accuracy: 0.7635\n",
            "Epoch 47/100\n",
            "102/102 [==============================] - 0s 1ms/step - loss: 0.4813 - accuracy: 0.7623\n",
            "Epoch 48/100\n",
            "102/102 [==============================] - 0s 1ms/step - loss: 0.4802 - accuracy: 0.7660\n",
            "Epoch 49/100\n",
            "102/102 [==============================] - 0s 1ms/step - loss: 0.4790 - accuracy: 0.7653\n",
            "Epoch 50/100\n",
            "102/102 [==============================] - 0s 1ms/step - loss: 0.4786 - accuracy: 0.7653\n",
            "Epoch 51/100\n",
            "102/102 [==============================] - 0s 1ms/step - loss: 0.4776 - accuracy: 0.7641\n",
            "Epoch 52/100\n",
            "102/102 [==============================] - 0s 1ms/step - loss: 0.4783 - accuracy: 0.7653\n",
            "Epoch 53/100\n",
            "102/102 [==============================] - 0s 1ms/step - loss: 0.4764 - accuracy: 0.7709\n",
            "Epoch 54/100\n",
            "102/102 [==============================] - 0s 1ms/step - loss: 0.4766 - accuracy: 0.7638\n",
            "Epoch 55/100\n",
            "102/102 [==============================] - 0s 1ms/step - loss: 0.4760 - accuracy: 0.7702\n",
            "Epoch 56/100\n",
            "102/102 [==============================] - 0s 1ms/step - loss: 0.4755 - accuracy: 0.7687\n",
            "Epoch 57/100\n",
            "102/102 [==============================] - 0s 1ms/step - loss: 0.4743 - accuracy: 0.7687\n",
            "Epoch 58/100\n",
            "102/102 [==============================] - 0s 1ms/step - loss: 0.4748 - accuracy: 0.7721\n",
            "Epoch 59/100\n",
            "102/102 [==============================] - 0s 1ms/step - loss: 0.4742 - accuracy: 0.7672\n",
            "Epoch 60/100\n",
            "102/102 [==============================] - 0s 1ms/step - loss: 0.4741 - accuracy: 0.7687\n",
            "Epoch 61/100\n",
            "102/102 [==============================] - 0s 1ms/step - loss: 0.4738 - accuracy: 0.7672\n",
            "Epoch 62/100\n",
            "102/102 [==============================] - 0s 1ms/step - loss: 0.4739 - accuracy: 0.7678\n",
            "Epoch 63/100\n",
            "102/102 [==============================] - 0s 1ms/step - loss: 0.4720 - accuracy: 0.7699\n",
            "Epoch 64/100\n",
            "102/102 [==============================] - 0s 1ms/step - loss: 0.4716 - accuracy: 0.7712\n",
            "Epoch 65/100\n",
            "102/102 [==============================] - 0s 1ms/step - loss: 0.4722 - accuracy: 0.7678\n",
            "Epoch 66/100\n",
            "102/102 [==============================] - 0s 1ms/step - loss: 0.4702 - accuracy: 0.7699\n",
            "Epoch 67/100\n",
            "102/102 [==============================] - 0s 1ms/step - loss: 0.4718 - accuracy: 0.7693\n",
            "Epoch 68/100\n",
            "102/102 [==============================] - 0s 1ms/step - loss: 0.4695 - accuracy: 0.7693\n",
            "Epoch 69/100\n",
            "102/102 [==============================] - 0s 1ms/step - loss: 0.4709 - accuracy: 0.7712\n",
            "Epoch 70/100\n",
            "102/102 [==============================] - 0s 1ms/step - loss: 0.4710 - accuracy: 0.7669\n",
            "Epoch 71/100\n",
            "102/102 [==============================] - 0s 1ms/step - loss: 0.4691 - accuracy: 0.7748\n",
            "Epoch 72/100\n",
            "102/102 [==============================] - 0s 1ms/step - loss: 0.4705 - accuracy: 0.7660\n",
            "Epoch 73/100\n",
            "102/102 [==============================] - 0s 1ms/step - loss: 0.4684 - accuracy: 0.7739\n",
            "Epoch 74/100\n",
            "102/102 [==============================] - 0s 1ms/step - loss: 0.4669 - accuracy: 0.7742\n",
            "Epoch 75/100\n",
            "102/102 [==============================] - 0s 1ms/step - loss: 0.4681 - accuracy: 0.7706\n",
            "Epoch 76/100\n",
            "102/102 [==============================] - 0s 1ms/step - loss: 0.4670 - accuracy: 0.7748\n",
            "Epoch 77/100\n",
            "102/102 [==============================] - 0s 1ms/step - loss: 0.4666 - accuracy: 0.7730\n",
            "Epoch 78/100\n",
            "102/102 [==============================] - 0s 1ms/step - loss: 0.4665 - accuracy: 0.7724\n",
            "Epoch 79/100\n",
            "102/102 [==============================] - 0s 1ms/step - loss: 0.4653 - accuracy: 0.7706\n",
            "Epoch 80/100\n",
            "102/102 [==============================] - 0s 1ms/step - loss: 0.4660 - accuracy: 0.7730\n",
            "Epoch 81/100\n",
            "102/102 [==============================] - 0s 1ms/step - loss: 0.4660 - accuracy: 0.7709\n",
            "Epoch 82/100\n",
            "102/102 [==============================] - 0s 1ms/step - loss: 0.4646 - accuracy: 0.7788\n",
            "Epoch 83/100\n",
            "102/102 [==============================] - 0s 1ms/step - loss: 0.4648 - accuracy: 0.7733\n",
            "Epoch 84/100\n",
            "102/102 [==============================] - 0s 1ms/step - loss: 0.4648 - accuracy: 0.7761\n",
            "Epoch 85/100\n",
            "102/102 [==============================] - 0s 1ms/step - loss: 0.4642 - accuracy: 0.7724\n",
            "Epoch 86/100\n",
            "102/102 [==============================] - 0s 1ms/step - loss: 0.4649 - accuracy: 0.7761\n",
            "Epoch 87/100\n",
            "102/102 [==============================] - 0s 1ms/step - loss: 0.4638 - accuracy: 0.7745\n",
            "Epoch 88/100\n",
            "102/102 [==============================] - 0s 1ms/step - loss: 0.4633 - accuracy: 0.7770\n",
            "Epoch 89/100\n",
            "102/102 [==============================] - 0s 1ms/step - loss: 0.4633 - accuracy: 0.7742\n",
            "Epoch 90/100\n",
            "102/102 [==============================] - 0s 1ms/step - loss: 0.4630 - accuracy: 0.7736\n",
            "Epoch 91/100\n",
            "102/102 [==============================] - 0s 1ms/step - loss: 0.4635 - accuracy: 0.7742\n",
            "Epoch 92/100\n",
            "102/102 [==============================] - 0s 1ms/step - loss: 0.4625 - accuracy: 0.7742\n",
            "Epoch 93/100\n",
            "102/102 [==============================] - 0s 1ms/step - loss: 0.4622 - accuracy: 0.7798\n",
            "Epoch 94/100\n",
            "102/102 [==============================] - 0s 1ms/step - loss: 0.4625 - accuracy: 0.7758\n",
            "Epoch 95/100\n",
            "102/102 [==============================] - 0s 1ms/step - loss: 0.4619 - accuracy: 0.7764\n",
            "Epoch 96/100\n",
            "102/102 [==============================] - 0s 1ms/step - loss: 0.4628 - accuracy: 0.7770\n",
            "Epoch 97/100\n",
            "102/102 [==============================] - 0s 1ms/step - loss: 0.4615 - accuracy: 0.7782\n",
            "Epoch 98/100\n",
            "102/102 [==============================] - 0s 1ms/step - loss: 0.4609 - accuracy: 0.7785\n",
            "Epoch 99/100\n",
            "102/102 [==============================] - 0s 1ms/step - loss: 0.4617 - accuracy: 0.7791\n",
            "Epoch 100/100\n",
            "102/102 [==============================] - 0s 1ms/step - loss: 0.4609 - accuracy: 0.7776\n",
            "63/63 [==============================] - 0s 1ms/step - loss: 0.4454 - accuracy: 0.7840\n",
            "[0.4454372227191925, 0.7839999794960022]\n",
            "Classification Report: \n",
            "               precision    recall  f1-score   support\n",
            "\n",
            "           0       0.92      0.80      0.85      1593\n",
            "           1       0.48      0.73      0.58       407\n",
            "\n",
            "    accuracy                           0.78      2000\n",
            "   macro avg       0.70      0.76      0.72      2000\n",
            "weighted avg       0.83      0.78      0.80      2000\n",
            "\n"
          ],
          "name": "stdout"
        }
      ]
    },
    {
      "cell_type": "code",
      "metadata": {
        "colab": {
          "base_uri": "https://localhost:8080/"
        },
        "id": "hQQuxneBFajV",
        "outputId": "ac2a3a44-c7a3-4551-a072-dfb9d7a07871"
      },
      "source": [
        "X_train, y_train = get_train_batch(df2_class0, df2_class1, 1630,3260 )\n",
        "\n",
        "y_pred4_2 = ANN(X_train, y_train, X_test, y_test, 'binary_crossentropy', -1)"
      ],
      "execution_count": 370,
      "outputs": [
        {
          "output_type": "stream",
          "text": [
            "Epoch 1/100\n",
            "102/102 [==============================] - 1s 1ms/step - loss: 0.6982 - accuracy: 0.5043\n",
            "Epoch 2/100\n",
            "102/102 [==============================] - 0s 1ms/step - loss: 0.6788 - accuracy: 0.6282\n",
            "Epoch 3/100\n",
            "102/102 [==============================] - 0s 1ms/step - loss: 0.6617 - accuracy: 0.6350\n",
            "Epoch 4/100\n",
            "102/102 [==============================] - 0s 1ms/step - loss: 0.6410 - accuracy: 0.6494\n",
            "Epoch 5/100\n",
            "102/102 [==============================] - 0s 1ms/step - loss: 0.6238 - accuracy: 0.6623\n",
            "Epoch 6/100\n",
            "102/102 [==============================] - 0s 1ms/step - loss: 0.6136 - accuracy: 0.6761\n",
            "Epoch 7/100\n",
            "102/102 [==============================] - 0s 1ms/step - loss: 0.6041 - accuracy: 0.6819\n",
            "Epoch 8/100\n",
            "102/102 [==============================] - 0s 1ms/step - loss: 0.5961 - accuracy: 0.6911\n",
            "Epoch 9/100\n",
            "102/102 [==============================] - 0s 1ms/step - loss: 0.5903 - accuracy: 0.6926\n",
            "Epoch 10/100\n",
            "102/102 [==============================] - 0s 1ms/step - loss: 0.5826 - accuracy: 0.6988\n",
            "Epoch 11/100\n",
            "102/102 [==============================] - 0s 1ms/step - loss: 0.5757 - accuracy: 0.7012\n",
            "Epoch 12/100\n",
            "102/102 [==============================] - 0s 1ms/step - loss: 0.5694 - accuracy: 0.7058\n",
            "Epoch 13/100\n",
            "102/102 [==============================] - 0s 1ms/step - loss: 0.5623 - accuracy: 0.7138\n",
            "Epoch 14/100\n",
            "102/102 [==============================] - 0s 1ms/step - loss: 0.5558 - accuracy: 0.7202\n",
            "Epoch 15/100\n",
            "102/102 [==============================] - 0s 1ms/step - loss: 0.5504 - accuracy: 0.7221\n",
            "Epoch 16/100\n",
            "102/102 [==============================] - 0s 1ms/step - loss: 0.5437 - accuracy: 0.7310\n",
            "Epoch 17/100\n",
            "102/102 [==============================] - 0s 1ms/step - loss: 0.5385 - accuracy: 0.7399\n",
            "Epoch 18/100\n",
            "102/102 [==============================] - 0s 1ms/step - loss: 0.5318 - accuracy: 0.7433\n",
            "Epoch 19/100\n",
            "102/102 [==============================] - 0s 1ms/step - loss: 0.5298 - accuracy: 0.7463\n",
            "Epoch 20/100\n",
            "102/102 [==============================] - 0s 1ms/step - loss: 0.5240 - accuracy: 0.7393\n",
            "Epoch 21/100\n",
            "102/102 [==============================] - 0s 1ms/step - loss: 0.5189 - accuracy: 0.7521\n",
            "Epoch 22/100\n",
            "102/102 [==============================] - 0s 1ms/step - loss: 0.5154 - accuracy: 0.7534\n",
            "Epoch 23/100\n",
            "102/102 [==============================] - 0s 1ms/step - loss: 0.5118 - accuracy: 0.7601\n",
            "Epoch 24/100\n",
            "102/102 [==============================] - 0s 1ms/step - loss: 0.5083 - accuracy: 0.7583\n",
            "Epoch 25/100\n",
            "102/102 [==============================] - 0s 1ms/step - loss: 0.5074 - accuracy: 0.7552\n",
            "Epoch 26/100\n",
            "102/102 [==============================] - 0s 1ms/step - loss: 0.5025 - accuracy: 0.7656\n",
            "Epoch 27/100\n",
            "102/102 [==============================] - 0s 1ms/step - loss: 0.4999 - accuracy: 0.7650\n",
            "Epoch 28/100\n",
            "102/102 [==============================] - 0s 1ms/step - loss: 0.4980 - accuracy: 0.7632\n",
            "Epoch 29/100\n",
            "102/102 [==============================] - 0s 1ms/step - loss: 0.4962 - accuracy: 0.7672\n",
            "Epoch 30/100\n",
            "102/102 [==============================] - 0s 1ms/step - loss: 0.4946 - accuracy: 0.7620\n",
            "Epoch 31/100\n",
            "102/102 [==============================] - 0s 1ms/step - loss: 0.4934 - accuracy: 0.7678\n",
            "Epoch 32/100\n",
            "102/102 [==============================] - 0s 1ms/step - loss: 0.4923 - accuracy: 0.7681\n",
            "Epoch 33/100\n",
            "102/102 [==============================] - 0s 1ms/step - loss: 0.4917 - accuracy: 0.7626\n",
            "Epoch 34/100\n",
            "102/102 [==============================] - 0s 1ms/step - loss: 0.4894 - accuracy: 0.7675\n",
            "Epoch 35/100\n",
            "102/102 [==============================] - 0s 1ms/step - loss: 0.4879 - accuracy: 0.7678\n",
            "Epoch 36/100\n",
            "102/102 [==============================] - 0s 1ms/step - loss: 0.4871 - accuracy: 0.7684\n",
            "Epoch 37/100\n",
            "102/102 [==============================] - 0s 1ms/step - loss: 0.4866 - accuracy: 0.7687\n",
            "Epoch 38/100\n",
            "102/102 [==============================] - 0s 1ms/step - loss: 0.4853 - accuracy: 0.7653\n",
            "Epoch 39/100\n",
            "102/102 [==============================] - 0s 1ms/step - loss: 0.4866 - accuracy: 0.7672\n",
            "Epoch 40/100\n",
            "102/102 [==============================] - 0s 1ms/step - loss: 0.4836 - accuracy: 0.7672\n",
            "Epoch 41/100\n",
            "102/102 [==============================] - 0s 1ms/step - loss: 0.4837 - accuracy: 0.7690\n",
            "Epoch 42/100\n",
            "102/102 [==============================] - 0s 1ms/step - loss: 0.4818 - accuracy: 0.7687\n",
            "Epoch 43/100\n",
            "102/102 [==============================] - 0s 1ms/step - loss: 0.4807 - accuracy: 0.7706\n",
            "Epoch 44/100\n",
            "102/102 [==============================] - 0s 1ms/step - loss: 0.4802 - accuracy: 0.7647\n",
            "Epoch 45/100\n",
            "102/102 [==============================] - 0s 1ms/step - loss: 0.4805 - accuracy: 0.7653\n",
            "Epoch 46/100\n",
            "102/102 [==============================] - 0s 1ms/step - loss: 0.4810 - accuracy: 0.7660\n",
            "Epoch 47/100\n",
            "102/102 [==============================] - 0s 1ms/step - loss: 0.4818 - accuracy: 0.7672\n",
            "Epoch 48/100\n",
            "102/102 [==============================] - 0s 1ms/step - loss: 0.4799 - accuracy: 0.7696\n",
            "Epoch 49/100\n",
            "102/102 [==============================] - 0s 1ms/step - loss: 0.4790 - accuracy: 0.7693\n",
            "Epoch 50/100\n",
            "102/102 [==============================] - 0s 1ms/step - loss: 0.4786 - accuracy: 0.7656\n",
            "Epoch 51/100\n",
            "102/102 [==============================] - 0s 1ms/step - loss: 0.4785 - accuracy: 0.7660\n",
            "Epoch 52/100\n",
            "102/102 [==============================] - 0s 1ms/step - loss: 0.4777 - accuracy: 0.7693\n",
            "Epoch 53/100\n",
            "102/102 [==============================] - 0s 1ms/step - loss: 0.4771 - accuracy: 0.7718\n",
            "Epoch 54/100\n",
            "102/102 [==============================] - 0s 1ms/step - loss: 0.4760 - accuracy: 0.7712\n",
            "Epoch 55/100\n",
            "102/102 [==============================] - 0s 1ms/step - loss: 0.4753 - accuracy: 0.7687\n",
            "Epoch 56/100\n",
            "102/102 [==============================] - 0s 1ms/step - loss: 0.4762 - accuracy: 0.7672\n",
            "Epoch 57/100\n",
            "102/102 [==============================] - 0s 1ms/step - loss: 0.4753 - accuracy: 0.7699\n",
            "Epoch 58/100\n",
            "102/102 [==============================] - 0s 2ms/step - loss: 0.4768 - accuracy: 0.7690\n",
            "Epoch 59/100\n",
            "102/102 [==============================] - 0s 1ms/step - loss: 0.4756 - accuracy: 0.7644\n",
            "Epoch 60/100\n",
            "102/102 [==============================] - 0s 1ms/step - loss: 0.4743 - accuracy: 0.7675\n",
            "Epoch 61/100\n",
            "102/102 [==============================] - 0s 1ms/step - loss: 0.4755 - accuracy: 0.7727\n",
            "Epoch 62/100\n",
            "102/102 [==============================] - 0s 1ms/step - loss: 0.4732 - accuracy: 0.7693\n",
            "Epoch 63/100\n",
            "102/102 [==============================] - 0s 1ms/step - loss: 0.4723 - accuracy: 0.7666\n",
            "Epoch 64/100\n",
            "102/102 [==============================] - 0s 1ms/step - loss: 0.4762 - accuracy: 0.7690\n",
            "Epoch 65/100\n",
            "102/102 [==============================] - 0s 1ms/step - loss: 0.4725 - accuracy: 0.7718\n",
            "Epoch 66/100\n",
            "102/102 [==============================] - 0s 1ms/step - loss: 0.4732 - accuracy: 0.7693\n",
            "Epoch 67/100\n",
            "102/102 [==============================] - 0s 1ms/step - loss: 0.4717 - accuracy: 0.7706\n",
            "Epoch 68/100\n",
            "102/102 [==============================] - 0s 1ms/step - loss: 0.4724 - accuracy: 0.7699\n",
            "Epoch 69/100\n",
            "102/102 [==============================] - 0s 1ms/step - loss: 0.4736 - accuracy: 0.7706\n",
            "Epoch 70/100\n",
            "102/102 [==============================] - 0s 1ms/step - loss: 0.4716 - accuracy: 0.7718\n",
            "Epoch 71/100\n",
            "102/102 [==============================] - 0s 1ms/step - loss: 0.4736 - accuracy: 0.7702\n",
            "Epoch 72/100\n",
            "102/102 [==============================] - 0s 1ms/step - loss: 0.4725 - accuracy: 0.7678\n",
            "Epoch 73/100\n",
            "102/102 [==============================] - 0s 1ms/step - loss: 0.4705 - accuracy: 0.7687\n",
            "Epoch 74/100\n",
            "102/102 [==============================] - 0s 1ms/step - loss: 0.4710 - accuracy: 0.7733\n",
            "Epoch 75/100\n",
            "102/102 [==============================] - 0s 1ms/step - loss: 0.4704 - accuracy: 0.7687\n",
            "Epoch 76/100\n",
            "102/102 [==============================] - 0s 1ms/step - loss: 0.4725 - accuracy: 0.7687\n",
            "Epoch 77/100\n",
            "102/102 [==============================] - 0s 1ms/step - loss: 0.4709 - accuracy: 0.7721\n",
            "Epoch 78/100\n",
            "102/102 [==============================] - 0s 1ms/step - loss: 0.4699 - accuracy: 0.7715\n",
            "Epoch 79/100\n",
            "102/102 [==============================] - 0s 1ms/step - loss: 0.4724 - accuracy: 0.7690\n",
            "Epoch 80/100\n",
            "102/102 [==============================] - 0s 1ms/step - loss: 0.4711 - accuracy: 0.7727\n",
            "Epoch 81/100\n",
            "102/102 [==============================] - 0s 1ms/step - loss: 0.4712 - accuracy: 0.7712\n",
            "Epoch 82/100\n",
            "102/102 [==============================] - 0s 1ms/step - loss: 0.4689 - accuracy: 0.7730\n",
            "Epoch 83/100\n",
            "102/102 [==============================] - 0s 1ms/step - loss: 0.4696 - accuracy: 0.7727\n",
            "Epoch 84/100\n",
            "102/102 [==============================] - 0s 1ms/step - loss: 0.4699 - accuracy: 0.7702\n",
            "Epoch 85/100\n",
            "102/102 [==============================] - 0s 1ms/step - loss: 0.4688 - accuracy: 0.7755\n",
            "Epoch 86/100\n",
            "102/102 [==============================] - 0s 1ms/step - loss: 0.4700 - accuracy: 0.7690\n",
            "Epoch 87/100\n",
            "102/102 [==============================] - 0s 1ms/step - loss: 0.4683 - accuracy: 0.7724\n",
            "Epoch 88/100\n",
            "102/102 [==============================] - 0s 1ms/step - loss: 0.4681 - accuracy: 0.7761\n",
            "Epoch 89/100\n",
            "102/102 [==============================] - 0s 1ms/step - loss: 0.4682 - accuracy: 0.7730\n",
            "Epoch 90/100\n",
            "102/102 [==============================] - 0s 1ms/step - loss: 0.4687 - accuracy: 0.7764\n",
            "Epoch 91/100\n",
            "102/102 [==============================] - 0s 1ms/step - loss: 0.4686 - accuracy: 0.7712\n",
            "Epoch 92/100\n",
            "102/102 [==============================] - 0s 1ms/step - loss: 0.4678 - accuracy: 0.7730\n",
            "Epoch 93/100\n",
            "102/102 [==============================] - 0s 1ms/step - loss: 0.4677 - accuracy: 0.7724\n",
            "Epoch 94/100\n",
            "102/102 [==============================] - 0s 1ms/step - loss: 0.4675 - accuracy: 0.7727\n",
            "Epoch 95/100\n",
            "102/102 [==============================] - 0s 1ms/step - loss: 0.4692 - accuracy: 0.7712\n",
            "Epoch 96/100\n",
            "102/102 [==============================] - 0s 1ms/step - loss: 0.4677 - accuracy: 0.7678\n",
            "Epoch 97/100\n",
            "102/102 [==============================] - 0s 1ms/step - loss: 0.4682 - accuracy: 0.7739\n",
            "Epoch 98/100\n",
            "102/102 [==============================] - 0s 1ms/step - loss: 0.4678 - accuracy: 0.7706\n",
            "Epoch 99/100\n",
            "102/102 [==============================] - 0s 1ms/step - loss: 0.4674 - accuracy: 0.7706\n",
            "Epoch 100/100\n",
            "102/102 [==============================] - 0s 1ms/step - loss: 0.4672 - accuracy: 0.7733\n",
            "63/63 [==============================] - 0s 1ms/step - loss: 0.4375 - accuracy: 0.7875\n",
            "[0.43750542402267456, 0.7875000238418579]\n",
            "Classification Report: \n",
            "               precision    recall  f1-score   support\n",
            "\n",
            "           0       0.92      0.80      0.86      1593\n",
            "           1       0.49      0.74      0.59       407\n",
            "\n",
            "    accuracy                           0.79      2000\n",
            "   macro avg       0.70      0.77      0.72      2000\n",
            "weighted avg       0.83      0.79      0.80      2000\n",
            "\n"
          ],
          "name": "stdout"
        }
      ]
    },
    {
      "cell_type": "code",
      "metadata": {
        "colab": {
          "base_uri": "https://localhost:8080/"
        },
        "id": "zDgEvT9GFpRG",
        "outputId": "fe548d87-adbe-45cd-a33c-51cdafe415c4"
      },
      "source": [
        "X_train, y_train = get_train_batch(df2_class0, df2_class1, 3260, 4890)\n",
        "\n",
        "y_pred4_3 = ANN(X_train, y_train, X_test, y_test, 'binary_crossentropy', -1)"
      ],
      "execution_count": 371,
      "outputs": [
        {
          "output_type": "stream",
          "text": [
            "Epoch 1/100\n",
            "102/102 [==============================] - 1s 1ms/step - loss: 0.6699 - accuracy: 0.5933\n",
            "Epoch 2/100\n",
            "102/102 [==============================] - 0s 1ms/step - loss: 0.6466 - accuracy: 0.6485\n",
            "Epoch 3/100\n",
            "102/102 [==============================] - 0s 1ms/step - loss: 0.6293 - accuracy: 0.6558\n",
            "Epoch 4/100\n",
            "102/102 [==============================] - 0s 1ms/step - loss: 0.6181 - accuracy: 0.6632\n",
            "Epoch 5/100\n",
            "102/102 [==============================] - 0s 1ms/step - loss: 0.6096 - accuracy: 0.6755\n",
            "Epoch 6/100\n",
            "102/102 [==============================] - 0s 1ms/step - loss: 0.6015 - accuracy: 0.6844\n",
            "Epoch 7/100\n",
            "102/102 [==============================] - 0s 1ms/step - loss: 0.5942 - accuracy: 0.6926\n",
            "Epoch 8/100\n",
            "102/102 [==============================] - 0s 1ms/step - loss: 0.5886 - accuracy: 0.6914\n",
            "Epoch 9/100\n",
            "102/102 [==============================] - 0s 1ms/step - loss: 0.5807 - accuracy: 0.6991\n",
            "Epoch 10/100\n",
            "102/102 [==============================] - 0s 1ms/step - loss: 0.5764 - accuracy: 0.7061\n",
            "Epoch 11/100\n",
            "102/102 [==============================] - 0s 1ms/step - loss: 0.5697 - accuracy: 0.7107\n",
            "Epoch 12/100\n",
            "102/102 [==============================] - 0s 1ms/step - loss: 0.5670 - accuracy: 0.7129\n",
            "Epoch 13/100\n",
            "102/102 [==============================] - 0s 1ms/step - loss: 0.5627 - accuracy: 0.7187\n",
            "Epoch 14/100\n",
            "102/102 [==============================] - 0s 1ms/step - loss: 0.5598 - accuracy: 0.7190\n",
            "Epoch 15/100\n",
            "102/102 [==============================] - 0s 1ms/step - loss: 0.5559 - accuracy: 0.7282\n",
            "Epoch 16/100\n",
            "102/102 [==============================] - 0s 1ms/step - loss: 0.5536 - accuracy: 0.7196\n",
            "Epoch 17/100\n",
            "102/102 [==============================] - 0s 1ms/step - loss: 0.5508 - accuracy: 0.7291\n",
            "Epoch 18/100\n",
            "102/102 [==============================] - 0s 1ms/step - loss: 0.5484 - accuracy: 0.7304\n",
            "Epoch 19/100\n",
            "102/102 [==============================] - 0s 1ms/step - loss: 0.5455 - accuracy: 0.7298\n",
            "Epoch 20/100\n",
            "102/102 [==============================] - 0s 1ms/step - loss: 0.5424 - accuracy: 0.7365\n",
            "Epoch 21/100\n",
            "102/102 [==============================] - 0s 1ms/step - loss: 0.5397 - accuracy: 0.7387\n",
            "Epoch 22/100\n",
            "102/102 [==============================] - 0s 1ms/step - loss: 0.5376 - accuracy: 0.7368\n",
            "Epoch 23/100\n",
            "102/102 [==============================] - 0s 1ms/step - loss: 0.5348 - accuracy: 0.7380\n",
            "Epoch 24/100\n",
            "102/102 [==============================] - 0s 1ms/step - loss: 0.5316 - accuracy: 0.7390\n",
            "Epoch 25/100\n",
            "102/102 [==============================] - 0s 1ms/step - loss: 0.5302 - accuracy: 0.7405\n",
            "Epoch 26/100\n",
            "102/102 [==============================] - 0s 1ms/step - loss: 0.5282 - accuracy: 0.7420\n",
            "Epoch 27/100\n",
            "102/102 [==============================] - 0s 1ms/step - loss: 0.5273 - accuracy: 0.7423\n",
            "Epoch 28/100\n",
            "102/102 [==============================] - 0s 1ms/step - loss: 0.5250 - accuracy: 0.7454\n",
            "Epoch 29/100\n",
            "102/102 [==============================] - 0s 1ms/step - loss: 0.5225 - accuracy: 0.7445\n",
            "Epoch 30/100\n",
            "102/102 [==============================] - 0s 1ms/step - loss: 0.5231 - accuracy: 0.7411\n",
            "Epoch 31/100\n",
            "102/102 [==============================] - 0s 1ms/step - loss: 0.5202 - accuracy: 0.7448\n",
            "Epoch 32/100\n",
            "102/102 [==============================] - 0s 1ms/step - loss: 0.5201 - accuracy: 0.7451\n",
            "Epoch 33/100\n",
            "102/102 [==============================] - 0s 1ms/step - loss: 0.5173 - accuracy: 0.7451\n",
            "Epoch 34/100\n",
            "102/102 [==============================] - 0s 1ms/step - loss: 0.5152 - accuracy: 0.7463\n",
            "Epoch 35/100\n",
            "102/102 [==============================] - 0s 1ms/step - loss: 0.5148 - accuracy: 0.7457\n",
            "Epoch 36/100\n",
            "102/102 [==============================] - 0s 1ms/step - loss: 0.5134 - accuracy: 0.7451\n",
            "Epoch 37/100\n",
            "102/102 [==============================] - 0s 1ms/step - loss: 0.5121 - accuracy: 0.7488\n",
            "Epoch 38/100\n",
            "102/102 [==============================] - 0s 1ms/step - loss: 0.5093 - accuracy: 0.7521\n",
            "Epoch 39/100\n",
            "102/102 [==============================] - 0s 1ms/step - loss: 0.5080 - accuracy: 0.7475\n",
            "Epoch 40/100\n",
            "102/102 [==============================] - 0s 1ms/step - loss: 0.5052 - accuracy: 0.7552\n",
            "Epoch 41/100\n",
            "102/102 [==============================] - 0s 1ms/step - loss: 0.5037 - accuracy: 0.7537\n",
            "Epoch 42/100\n",
            "102/102 [==============================] - 0s 1ms/step - loss: 0.5027 - accuracy: 0.7494\n",
            "Epoch 43/100\n",
            "102/102 [==============================] - 0s 1ms/step - loss: 0.5010 - accuracy: 0.7543\n",
            "Epoch 44/100\n",
            "102/102 [==============================] - 0s 1ms/step - loss: 0.4988 - accuracy: 0.7571\n",
            "Epoch 45/100\n",
            "102/102 [==============================] - 0s 1ms/step - loss: 0.4973 - accuracy: 0.7580\n",
            "Epoch 46/100\n",
            "102/102 [==============================] - 0s 1ms/step - loss: 0.4960 - accuracy: 0.7589\n",
            "Epoch 47/100\n",
            "102/102 [==============================] - 0s 1ms/step - loss: 0.4955 - accuracy: 0.7607\n",
            "Epoch 48/100\n",
            "102/102 [==============================] - 0s 1ms/step - loss: 0.4927 - accuracy: 0.7601\n",
            "Epoch 49/100\n",
            "102/102 [==============================] - 0s 1ms/step - loss: 0.4903 - accuracy: 0.7617\n",
            "Epoch 50/100\n",
            "102/102 [==============================] - 0s 1ms/step - loss: 0.4893 - accuracy: 0.7641\n",
            "Epoch 51/100\n",
            "102/102 [==============================] - 0s 1ms/step - loss: 0.4864 - accuracy: 0.7650\n",
            "Epoch 52/100\n",
            "102/102 [==============================] - 0s 1ms/step - loss: 0.4848 - accuracy: 0.7669\n",
            "Epoch 53/100\n",
            "102/102 [==============================] - 0s 1ms/step - loss: 0.4845 - accuracy: 0.7663\n",
            "Epoch 54/100\n",
            "102/102 [==============================] - 0s 1ms/step - loss: 0.4815 - accuracy: 0.7669\n",
            "Epoch 55/100\n",
            "102/102 [==============================] - 0s 1ms/step - loss: 0.4795 - accuracy: 0.7663\n",
            "Epoch 56/100\n",
            "102/102 [==============================] - 0s 1ms/step - loss: 0.4784 - accuracy: 0.7687\n",
            "Epoch 57/100\n",
            "102/102 [==============================] - 0s 1ms/step - loss: 0.4771 - accuracy: 0.7660\n",
            "Epoch 58/100\n",
            "102/102 [==============================] - 0s 1ms/step - loss: 0.4763 - accuracy: 0.7644\n",
            "Epoch 59/100\n",
            "102/102 [==============================] - 0s 1ms/step - loss: 0.4738 - accuracy: 0.7681\n",
            "Epoch 60/100\n",
            "102/102 [==============================] - 0s 1ms/step - loss: 0.4730 - accuracy: 0.7718\n",
            "Epoch 61/100\n",
            "102/102 [==============================] - 0s 1ms/step - loss: 0.4732 - accuracy: 0.7693\n",
            "Epoch 62/100\n",
            "102/102 [==============================] - 0s 1ms/step - loss: 0.4716 - accuracy: 0.7742\n",
            "Epoch 63/100\n",
            "102/102 [==============================] - 0s 1ms/step - loss: 0.4714 - accuracy: 0.7672\n",
            "Epoch 64/100\n",
            "102/102 [==============================] - 0s 1ms/step - loss: 0.4704 - accuracy: 0.7709\n",
            "Epoch 65/100\n",
            "102/102 [==============================] - 0s 1ms/step - loss: 0.4689 - accuracy: 0.7690\n",
            "Epoch 66/100\n",
            "102/102 [==============================] - 0s 1ms/step - loss: 0.4676 - accuracy: 0.7712\n",
            "Epoch 67/100\n",
            "102/102 [==============================] - 0s 1ms/step - loss: 0.4665 - accuracy: 0.7718\n",
            "Epoch 68/100\n",
            "102/102 [==============================] - 0s 2ms/step - loss: 0.4650 - accuracy: 0.7718\n",
            "Epoch 69/100\n",
            "102/102 [==============================] - 0s 1ms/step - loss: 0.4659 - accuracy: 0.7715\n",
            "Epoch 70/100\n",
            "102/102 [==============================] - 0s 1ms/step - loss: 0.4676 - accuracy: 0.7724\n",
            "Epoch 71/100\n",
            "102/102 [==============================] - 0s 1ms/step - loss: 0.4648 - accuracy: 0.7715\n",
            "Epoch 72/100\n",
            "102/102 [==============================] - 0s 1ms/step - loss: 0.4638 - accuracy: 0.7730\n",
            "Epoch 73/100\n",
            "102/102 [==============================] - 0s 1ms/step - loss: 0.4631 - accuracy: 0.7715\n",
            "Epoch 74/100\n",
            "102/102 [==============================] - 0s 1ms/step - loss: 0.4628 - accuracy: 0.7770\n",
            "Epoch 75/100\n",
            "102/102 [==============================] - 0s 1ms/step - loss: 0.4635 - accuracy: 0.7736\n",
            "Epoch 76/100\n",
            "102/102 [==============================] - 0s 1ms/step - loss: 0.4613 - accuracy: 0.7773\n",
            "Epoch 77/100\n",
            "102/102 [==============================] - 0s 1ms/step - loss: 0.4620 - accuracy: 0.7764\n",
            "Epoch 78/100\n",
            "102/102 [==============================] - 0s 1ms/step - loss: 0.4601 - accuracy: 0.7742\n",
            "Epoch 79/100\n",
            "102/102 [==============================] - 0s 1ms/step - loss: 0.4601 - accuracy: 0.7779\n",
            "Epoch 80/100\n",
            "102/102 [==============================] - 0s 1ms/step - loss: 0.4605 - accuracy: 0.7770\n",
            "Epoch 81/100\n",
            "102/102 [==============================] - 0s 1ms/step - loss: 0.4597 - accuracy: 0.7791\n",
            "Epoch 82/100\n",
            "102/102 [==============================] - 0s 1ms/step - loss: 0.4588 - accuracy: 0.7758\n",
            "Epoch 83/100\n",
            "102/102 [==============================] - 0s 1ms/step - loss: 0.4604 - accuracy: 0.7785\n",
            "Epoch 84/100\n",
            "102/102 [==============================] - 0s 1ms/step - loss: 0.4594 - accuracy: 0.7761\n",
            "Epoch 85/100\n",
            "102/102 [==============================] - 0s 1ms/step - loss: 0.4578 - accuracy: 0.7739\n",
            "Epoch 86/100\n",
            "102/102 [==============================] - 0s 1ms/step - loss: 0.4582 - accuracy: 0.7794\n",
            "Epoch 87/100\n",
            "102/102 [==============================] - 0s 1ms/step - loss: 0.4579 - accuracy: 0.7776\n",
            "Epoch 88/100\n",
            "102/102 [==============================] - 0s 1ms/step - loss: 0.4577 - accuracy: 0.7788\n",
            "Epoch 89/100\n",
            "102/102 [==============================] - 0s 1ms/step - loss: 0.4573 - accuracy: 0.7733\n",
            "Epoch 90/100\n",
            "102/102 [==============================] - 0s 1ms/step - loss: 0.4561 - accuracy: 0.7788\n",
            "Epoch 91/100\n",
            "102/102 [==============================] - 0s 1ms/step - loss: 0.4573 - accuracy: 0.7773\n",
            "Epoch 92/100\n",
            "102/102 [==============================] - 0s 1ms/step - loss: 0.4553 - accuracy: 0.7782\n",
            "Epoch 93/100\n",
            "102/102 [==============================] - 0s 1ms/step - loss: 0.4563 - accuracy: 0.7798\n",
            "Epoch 94/100\n",
            "102/102 [==============================] - 0s 1ms/step - loss: 0.4572 - accuracy: 0.7755\n",
            "Epoch 95/100\n",
            "102/102 [==============================] - 0s 1ms/step - loss: 0.4554 - accuracy: 0.7807\n",
            "Epoch 96/100\n",
            "102/102 [==============================] - 0s 1ms/step - loss: 0.4556 - accuracy: 0.7788\n",
            "Epoch 97/100\n",
            "102/102 [==============================] - 0s 1ms/step - loss: 0.4555 - accuracy: 0.7813\n",
            "Epoch 98/100\n",
            "102/102 [==============================] - 0s 1ms/step - loss: 0.4541 - accuracy: 0.7825\n",
            "Epoch 99/100\n",
            "102/102 [==============================] - 0s 1ms/step - loss: 0.4543 - accuracy: 0.7813\n",
            "Epoch 100/100\n",
            "102/102 [==============================] - 0s 1ms/step - loss: 0.4544 - accuracy: 0.7773\n",
            "63/63 [==============================] - 0s 976us/step - loss: 0.4721 - accuracy: 0.7725\n",
            "[0.4721236228942871, 0.7724999785423279]\n",
            "Classification Report: \n",
            "               precision    recall  f1-score   support\n",
            "\n",
            "           0       0.92      0.78      0.85      1593\n",
            "           1       0.46      0.74      0.57       407\n",
            "\n",
            "    accuracy                           0.77      2000\n",
            "   macro avg       0.69      0.76      0.71      2000\n",
            "weighted avg       0.83      0.77      0.79      2000\n",
            "\n"
          ],
          "name": "stdout"
        }
      ]
    },
    {
      "cell_type": "code",
      "metadata": {
        "colab": {
          "base_uri": "https://localhost:8080/"
        },
        "id": "3AvIyT58F5ik",
        "outputId": "36544afb-2906-455a-a592-28a4aef90d77"
      },
      "source": [
        "X_train, y_train = get_train_batch(df2_class0, df2_class1, 4890, 6370)\n",
        "\n",
        "y_pred4_4 = ANN(X_train, y_train, X_test, y_test, 'binary_crossentropy', -1)"
      ],
      "execution_count": 372,
      "outputs": [
        {
          "output_type": "stream",
          "text": [
            "Epoch 1/100\n",
            "98/98 [==============================] - 1s 1ms/step - loss: 0.6589 - accuracy: 0.6219\n",
            "Epoch 2/100\n",
            "98/98 [==============================] - 0s 1ms/step - loss: 0.6428 - accuracy: 0.6431\n",
            "Epoch 3/100\n",
            "98/98 [==============================] - 0s 1ms/step - loss: 0.6284 - accuracy: 0.6611\n",
            "Epoch 4/100\n",
            "98/98 [==============================] - 0s 1ms/step - loss: 0.6167 - accuracy: 0.6682\n",
            "Epoch 5/100\n",
            "98/98 [==============================] - 0s 1ms/step - loss: 0.6070 - accuracy: 0.6714\n",
            "Epoch 6/100\n",
            "98/98 [==============================] - 0s 1ms/step - loss: 0.6014 - accuracy: 0.6765\n",
            "Epoch 7/100\n",
            "98/98 [==============================] - 0s 1ms/step - loss: 0.5939 - accuracy: 0.6772\n",
            "Epoch 8/100\n",
            "98/98 [==============================] - 0s 1ms/step - loss: 0.5887 - accuracy: 0.6849\n",
            "Epoch 9/100\n",
            "98/98 [==============================] - 0s 1ms/step - loss: 0.5826 - accuracy: 0.6910\n",
            "Epoch 10/100\n",
            "98/98 [==============================] - 0s 1ms/step - loss: 0.5777 - accuracy: 0.6936\n",
            "Epoch 11/100\n",
            "98/98 [==============================] - 0s 1ms/step - loss: 0.5735 - accuracy: 0.6997\n",
            "Epoch 12/100\n",
            "98/98 [==============================] - 0s 1ms/step - loss: 0.5691 - accuracy: 0.7016\n",
            "Epoch 13/100\n",
            "98/98 [==============================] - 0s 1ms/step - loss: 0.5644 - accuracy: 0.7048\n",
            "Epoch 14/100\n",
            "98/98 [==============================] - 0s 1ms/step - loss: 0.5616 - accuracy: 0.7106\n",
            "Epoch 15/100\n",
            "98/98 [==============================] - 0s 1ms/step - loss: 0.5565 - accuracy: 0.7138\n",
            "Epoch 16/100\n",
            "98/98 [==============================] - 0s 1ms/step - loss: 0.5528 - accuracy: 0.7170\n",
            "Epoch 17/100\n",
            "98/98 [==============================] - 0s 1ms/step - loss: 0.5510 - accuracy: 0.7219\n",
            "Epoch 18/100\n",
            "98/98 [==============================] - 0s 1ms/step - loss: 0.5454 - accuracy: 0.7260\n",
            "Epoch 19/100\n",
            "98/98 [==============================] - 0s 1ms/step - loss: 0.5436 - accuracy: 0.7270\n",
            "Epoch 20/100\n",
            "98/98 [==============================] - 0s 1ms/step - loss: 0.5407 - accuracy: 0.7312\n",
            "Epoch 21/100\n",
            "98/98 [==============================] - 0s 1ms/step - loss: 0.5366 - accuracy: 0.7309\n",
            "Epoch 22/100\n",
            "98/98 [==============================] - 0s 1ms/step - loss: 0.5340 - accuracy: 0.7367\n",
            "Epoch 23/100\n",
            "98/98 [==============================] - 0s 1ms/step - loss: 0.5324 - accuracy: 0.7421\n",
            "Epoch 24/100\n",
            "98/98 [==============================] - 0s 1ms/step - loss: 0.5289 - accuracy: 0.7347\n",
            "Epoch 25/100\n",
            "98/98 [==============================] - 0s 1ms/step - loss: 0.5253 - accuracy: 0.7408\n",
            "Epoch 26/100\n",
            "98/98 [==============================] - 0s 1ms/step - loss: 0.5244 - accuracy: 0.7405\n",
            "Epoch 27/100\n",
            "98/98 [==============================] - 0s 1ms/step - loss: 0.5191 - accuracy: 0.7457\n",
            "Epoch 28/100\n",
            "98/98 [==============================] - 0s 1ms/step - loss: 0.5180 - accuracy: 0.7447\n",
            "Epoch 29/100\n",
            "98/98 [==============================] - 0s 1ms/step - loss: 0.5131 - accuracy: 0.7514\n",
            "Epoch 30/100\n",
            "98/98 [==============================] - 0s 1ms/step - loss: 0.5123 - accuracy: 0.7508\n",
            "Epoch 31/100\n",
            "98/98 [==============================] - 0s 1ms/step - loss: 0.5089 - accuracy: 0.7527\n",
            "Epoch 32/100\n",
            "98/98 [==============================] - 0s 1ms/step - loss: 0.5054 - accuracy: 0.7514\n",
            "Epoch 33/100\n",
            "98/98 [==============================] - 0s 1ms/step - loss: 0.5026 - accuracy: 0.7531\n",
            "Epoch 34/100\n",
            "98/98 [==============================] - 0s 1ms/step - loss: 0.5014 - accuracy: 0.7550\n",
            "Epoch 35/100\n",
            "98/98 [==============================] - 0s 1ms/step - loss: 0.4991 - accuracy: 0.7511\n",
            "Epoch 36/100\n",
            "98/98 [==============================] - 0s 1ms/step - loss: 0.4963 - accuracy: 0.7566\n",
            "Epoch 37/100\n",
            "98/98 [==============================] - 0s 1ms/step - loss: 0.4944 - accuracy: 0.7531\n",
            "Epoch 38/100\n",
            "98/98 [==============================] - 0s 1ms/step - loss: 0.4922 - accuracy: 0.7550\n",
            "Epoch 39/100\n",
            "98/98 [==============================] - 0s 1ms/step - loss: 0.4906 - accuracy: 0.7601\n",
            "Epoch 40/100\n",
            "98/98 [==============================] - 0s 1ms/step - loss: 0.4896 - accuracy: 0.7592\n",
            "Epoch 41/100\n",
            "98/98 [==============================] - 0s 1ms/step - loss: 0.4896 - accuracy: 0.7559\n",
            "Epoch 42/100\n",
            "98/98 [==============================] - 0s 1ms/step - loss: 0.4884 - accuracy: 0.7627\n",
            "Epoch 43/100\n",
            "98/98 [==============================] - 0s 1ms/step - loss: 0.4878 - accuracy: 0.7579\n",
            "Epoch 44/100\n",
            "98/98 [==============================] - 0s 1ms/step - loss: 0.4859 - accuracy: 0.7598\n",
            "Epoch 45/100\n",
            "98/98 [==============================] - 0s 1ms/step - loss: 0.4852 - accuracy: 0.7643\n",
            "Epoch 46/100\n",
            "98/98 [==============================] - 0s 1ms/step - loss: 0.4855 - accuracy: 0.7611\n",
            "Epoch 47/100\n",
            "98/98 [==============================] - 0s 1ms/step - loss: 0.4844 - accuracy: 0.7633\n",
            "Epoch 48/100\n",
            "98/98 [==============================] - 0s 1ms/step - loss: 0.4829 - accuracy: 0.7650\n",
            "Epoch 49/100\n",
            "98/98 [==============================] - 0s 1ms/step - loss: 0.4831 - accuracy: 0.7624\n",
            "Epoch 50/100\n",
            "98/98 [==============================] - 0s 1ms/step - loss: 0.4824 - accuracy: 0.7627\n",
            "Epoch 51/100\n",
            "98/98 [==============================] - 0s 1ms/step - loss: 0.4823 - accuracy: 0.7659\n",
            "Epoch 52/100\n",
            "98/98 [==============================] - 0s 1ms/step - loss: 0.4831 - accuracy: 0.7608\n",
            "Epoch 53/100\n",
            "98/98 [==============================] - 0s 1ms/step - loss: 0.4817 - accuracy: 0.7666\n",
            "Epoch 54/100\n",
            "98/98 [==============================] - 0s 1ms/step - loss: 0.4813 - accuracy: 0.7637\n",
            "Epoch 55/100\n",
            "98/98 [==============================] - 0s 1ms/step - loss: 0.4815 - accuracy: 0.7653\n",
            "Epoch 56/100\n",
            "98/98 [==============================] - 0s 1ms/step - loss: 0.4804 - accuracy: 0.7656\n",
            "Epoch 57/100\n",
            "98/98 [==============================] - 0s 1ms/step - loss: 0.4811 - accuracy: 0.7640\n",
            "Epoch 58/100\n",
            "98/98 [==============================] - 0s 1ms/step - loss: 0.4804 - accuracy: 0.7621\n",
            "Epoch 59/100\n",
            "98/98 [==============================] - 0s 1ms/step - loss: 0.4789 - accuracy: 0.7675\n",
            "Epoch 60/100\n",
            "98/98 [==============================] - 0s 1ms/step - loss: 0.4806 - accuracy: 0.7611\n",
            "Epoch 61/100\n",
            "98/98 [==============================] - 0s 1ms/step - loss: 0.4793 - accuracy: 0.7646\n",
            "Epoch 62/100\n",
            "98/98 [==============================] - 0s 1ms/step - loss: 0.4780 - accuracy: 0.7666\n",
            "Epoch 63/100\n",
            "98/98 [==============================] - 0s 1ms/step - loss: 0.4789 - accuracy: 0.7643\n",
            "Epoch 64/100\n",
            "98/98 [==============================] - 0s 1ms/step - loss: 0.4786 - accuracy: 0.7662\n",
            "Epoch 65/100\n",
            "98/98 [==============================] - 0s 1ms/step - loss: 0.4785 - accuracy: 0.7662\n",
            "Epoch 66/100\n",
            "98/98 [==============================] - 0s 1ms/step - loss: 0.4783 - accuracy: 0.7678\n",
            "Epoch 67/100\n",
            "98/98 [==============================] - 0s 1ms/step - loss: 0.4769 - accuracy: 0.7630\n",
            "Epoch 68/100\n",
            "98/98 [==============================] - 0s 1ms/step - loss: 0.4782 - accuracy: 0.7650\n",
            "Epoch 69/100\n",
            "98/98 [==============================] - 0s 1ms/step - loss: 0.4785 - accuracy: 0.7669\n",
            "Epoch 70/100\n",
            "98/98 [==============================] - 0s 1ms/step - loss: 0.4779 - accuracy: 0.7650\n",
            "Epoch 71/100\n",
            "98/98 [==============================] - 0s 1ms/step - loss: 0.4758 - accuracy: 0.7659\n",
            "Epoch 72/100\n",
            "98/98 [==============================] - 0s 1ms/step - loss: 0.4767 - accuracy: 0.7675\n",
            "Epoch 73/100\n",
            "98/98 [==============================] - 0s 1ms/step - loss: 0.4752 - accuracy: 0.7669\n",
            "Epoch 74/100\n",
            "98/98 [==============================] - 0s 1ms/step - loss: 0.4755 - accuracy: 0.7682\n",
            "Epoch 75/100\n",
            "98/98 [==============================] - 0s 1ms/step - loss: 0.4750 - accuracy: 0.7675\n",
            "Epoch 76/100\n",
            "98/98 [==============================] - 0s 1ms/step - loss: 0.4754 - accuracy: 0.7704\n",
            "Epoch 77/100\n",
            "98/98 [==============================] - 0s 1ms/step - loss: 0.4739 - accuracy: 0.7707\n",
            "Epoch 78/100\n",
            "98/98 [==============================] - 0s 1ms/step - loss: 0.4733 - accuracy: 0.7682\n",
            "Epoch 79/100\n",
            "98/98 [==============================] - 0s 1ms/step - loss: 0.4750 - accuracy: 0.7688\n",
            "Epoch 80/100\n",
            "98/98 [==============================] - 0s 1ms/step - loss: 0.4739 - accuracy: 0.7662\n",
            "Epoch 81/100\n",
            "98/98 [==============================] - 0s 1ms/step - loss: 0.4746 - accuracy: 0.7633\n",
            "Epoch 82/100\n",
            "98/98 [==============================] - 0s 1ms/step - loss: 0.4728 - accuracy: 0.7675\n",
            "Epoch 83/100\n",
            "98/98 [==============================] - 0s 1ms/step - loss: 0.4740 - accuracy: 0.7701\n",
            "Epoch 84/100\n",
            "98/98 [==============================] - 0s 1ms/step - loss: 0.4736 - accuracy: 0.7707\n",
            "Epoch 85/100\n",
            "98/98 [==============================] - 0s 1ms/step - loss: 0.4727 - accuracy: 0.7678\n",
            "Epoch 86/100\n",
            "98/98 [==============================] - 0s 2ms/step - loss: 0.4726 - accuracy: 0.7704\n",
            "Epoch 87/100\n",
            "98/98 [==============================] - 0s 1ms/step - loss: 0.4726 - accuracy: 0.7704\n",
            "Epoch 88/100\n",
            "98/98 [==============================] - 0s 1ms/step - loss: 0.4719 - accuracy: 0.7730\n",
            "Epoch 89/100\n",
            "98/98 [==============================] - 0s 1ms/step - loss: 0.4725 - accuracy: 0.7678\n",
            "Epoch 90/100\n",
            "98/98 [==============================] - 0s 1ms/step - loss: 0.4722 - accuracy: 0.7662\n",
            "Epoch 91/100\n",
            "98/98 [==============================] - 0s 1ms/step - loss: 0.4717 - accuracy: 0.7656\n",
            "Epoch 92/100\n",
            "98/98 [==============================] - 0s 1ms/step - loss: 0.4725 - accuracy: 0.7695\n",
            "Epoch 93/100\n",
            "98/98 [==============================] - 0s 1ms/step - loss: 0.4720 - accuracy: 0.7717\n",
            "Epoch 94/100\n",
            "98/98 [==============================] - 0s 1ms/step - loss: 0.4719 - accuracy: 0.7688\n",
            "Epoch 95/100\n",
            "98/98 [==============================] - 0s 1ms/step - loss: 0.4722 - accuracy: 0.7678\n",
            "Epoch 96/100\n",
            "98/98 [==============================] - 0s 1ms/step - loss: 0.4715 - accuracy: 0.7720\n",
            "Epoch 97/100\n",
            "98/98 [==============================] - 0s 1ms/step - loss: 0.4701 - accuracy: 0.7736\n",
            "Epoch 98/100\n",
            "98/98 [==============================] - 0s 1ms/step - loss: 0.4708 - accuracy: 0.7669\n",
            "Epoch 99/100\n",
            "98/98 [==============================] - 0s 1ms/step - loss: 0.4701 - accuracy: 0.7685\n",
            "Epoch 100/100\n",
            "98/98 [==============================] - 0s 1ms/step - loss: 0.4712 - accuracy: 0.7691\n",
            "63/63 [==============================] - 0s 1ms/step - loss: 0.4889 - accuracy: 0.7625\n",
            "[0.48894137144088745, 0.762499988079071]\n",
            "Classification Report: \n",
            "               precision    recall  f1-score   support\n",
            "\n",
            "           0       0.93      0.76      0.84      1593\n",
            "           1       0.45      0.77      0.57       407\n",
            "\n",
            "    accuracy                           0.76      2000\n",
            "   macro avg       0.69      0.77      0.70      2000\n",
            "weighted avg       0.83      0.76      0.78      2000\n",
            "\n"
          ],
          "name": "stdout"
        }
      ]
    },
    {
      "cell_type": "code",
      "metadata": {
        "id": "u3HBg_9sGAQ8"
      },
      "source": [
        "y_pred_final = y_pred4_1.copy()\n",
        "for i in range(len(y_pred4_1)):\n",
        "    n_ones = y_pred4_1[i] + y_pred4_2[i] + y_pred4_3[i]+y_pred4_4[i]\n",
        "    if n_ones>1:\n",
        "        y_pred_final[i] = 1\n",
        "    else:\n",
        "        y_pred_final[i] = 0"
      ],
      "execution_count": 373,
      "outputs": []
    },
    {
      "cell_type": "code",
      "metadata": {
        "colab": {
          "base_uri": "https://localhost:8080/"
        },
        "id": "QnIipeB1GScH",
        "outputId": "f1e4d4f9-f677-4d4c-a35c-f61894f86587"
      },
      "source": [
        "cl_rep = classification_report(y_test, y_pred_final)\n",
        "print(cl_rep)"
      ],
      "execution_count": 374,
      "outputs": [
        {
          "output_type": "stream",
          "text": [
            "              precision    recall  f1-score   support\n",
            "\n",
            "           0       0.93      0.76      0.84      1593\n",
            "           1       0.45      0.78      0.57       407\n",
            "\n",
            "    accuracy                           0.76      2000\n",
            "   macro avg       0.69      0.77      0.70      2000\n",
            "weighted avg       0.83      0.76      0.78      2000\n",
            "\n"
          ],
          "name": "stdout"
        }
      ]
    },
    {
      "cell_type": "code",
      "metadata": {
        "colab": {
          "base_uri": "https://localhost:8080/",
          "height": 460
        },
        "id": "51yQuIr_GZBP",
        "outputId": "ee7a8ca2-d46c-4057-a3f0-67e608131b19"
      },
      "source": [
        "cm = tf.math.confusion_matrix(labels=y_test,predictions=y_pred_final)\n",
        "\n",
        "plt.figure(figsize = (10,7))\n",
        "sns.heatmap(cm, annot=True, fmt='d')\n",
        "plt.xlabel('Predicted')\n",
        "plt.ylabel('Truth')"
      ],
      "execution_count": 375,
      "outputs": [
        {
          "output_type": "execute_result",
          "data": {
            "text/plain": [
              "Text(69.0, 0.5, 'Truth')"
            ]
          },
          "metadata": {
            "tags": []
          },
          "execution_count": 375
        },
        {
          "output_type": "display_data",
          "data": {
            "image/png": "[encoded data removed]",
            "text/plain": [
              "<Figure size 720x504 with 2 Axes>"
            ]
          },
          "metadata": {
            "tags": []
          }
        }
      ]
    },
    {
      "cell_type": "code",
      "metadata": {
        "id": "UPPdYqKrGeS6"
      },
      "source": [
        ""
      ],
      "execution_count": 375,
      "outputs": []
    }
  ]
}