{
  "nbformat": 4,
  "nbformat_minor": 0,
  "metadata": {
    "colab": {
      "name": "BankTurnover_Dataset.ipynb",
      "provenance": [],
      "collapsed_sections": [],
      "toc_visible": true
    },
    "kernelspec": {
      "name": "python3",
      "display_name": "Python 3"
    },
    "language_info": {
      "name": "python"
    }
  },
  "cells": [
    {
      "cell_type": "code",
      "metadata": {
        "id": "5Lu5oIL6i8Hk"
      },
      "source": [
        "import pandas as pd\n",
        "from matplotlib import pyplot as plt\n",
        "import numpy as np\n",
        "import seaborn as sns\n",
        "import tensorflow as tf\n",
        "from tensorflow import keras\n",
        "from sklearn.metrics import classification_report"
      ],
      "execution_count": 33,
      "outputs": []
    },
    {
      "cell_type": "code",
      "metadata": {
        "colab": {
          "base_uri": "https://localhost:8080/",
          "height": 215
        },
        "id": "pL3GDLFMjGAX",
        "outputId": "f2747a81-3731-4349-e398-59ae5b9e925f"
      },
      "source": [
        "df = pd.read_csv(\"/content/Churn_Modelling.csv\")\n",
        "df.sample(5)"
      ],
      "execution_count": 34,
      "outputs": [
        {
          "output_type": "execute_result",
          "data": {
            "text/html": [
              "<div>\n",
              "<style scoped>\n",
              "    .dataframe tbody tr th:only-of-type {\n",
              "        vertical-align: middle;\n",
              "    }\n",
              "\n",
              "    .dataframe tbody tr th {\n",
              "        vertical-align: top;\n",
              "    }\n",
              "\n",
              "    .dataframe thead th {\n",
              "        text-align: right;\n",
              "    }\n",
              "</style>\n",
              "<table border=\"1\" class=\"dataframe\">\n",
              "  <thead>\n",
              "    <tr style=\"text-align: right;\">\n",
              "      <th></th>\n",
              "      <th>RowNumber</th>\n",
              "      <th>CustomerId</th>\n",
              "      <th>Surname</th>\n",
              "      <th>CreditScore</th>\n",
              "      <th>Geography</th>\n",
              "      <th>Gender</th>\n",
              "      <th>Age</th>\n",
              "      <th>Tenure</th>\n",
              "      <th>Balance</th>\n",
              "      <th>NumOfProducts</th>\n",
              "      <th>HasCrCard</th>\n",
              "      <th>IsActiveMember</th>\n",
              "      <th>EstimatedSalary</th>\n",
              "      <th>Exited</th>\n",
              "    </tr>\n",
              "  </thead>\n",
              "  <tbody>\n",
              "    <tr>\n",
              "      <th>9688</th>\n",
              "      <td>9689</td>\n",
              "      <td>15730579</td>\n",
              "      <td>Ward</td>\n",
              "      <td>850</td>\n",
              "      <td>France</td>\n",
              "      <td>Male</td>\n",
              "      <td>68</td>\n",
              "      <td>5</td>\n",
              "      <td>169445.40</td>\n",
              "      <td>1</td>\n",
              "      <td>1</td>\n",
              "      <td>1</td>\n",
              "      <td>186335.07</td>\n",
              "      <td>0</td>\n",
              "    </tr>\n",
              "    <tr>\n",
              "      <th>1909</th>\n",
              "      <td>1910</td>\n",
              "      <td>15773605</td>\n",
              "      <td>Iadanza</td>\n",
              "      <td>670</td>\n",
              "      <td>Spain</td>\n",
              "      <td>Female</td>\n",
              "      <td>32</td>\n",
              "      <td>3</td>\n",
              "      <td>0.00</td>\n",
              "      <td>2</td>\n",
              "      <td>1</td>\n",
              "      <td>0</td>\n",
              "      <td>46175.70</td>\n",
              "      <td>0</td>\n",
              "    </tr>\n",
              "    <tr>\n",
              "      <th>1528</th>\n",
              "      <td>1529</td>\n",
              "      <td>15597131</td>\n",
              "      <td>Fu</td>\n",
              "      <td>415</td>\n",
              "      <td>France</td>\n",
              "      <td>Male</td>\n",
              "      <td>32</td>\n",
              "      <td>5</td>\n",
              "      <td>145807.59</td>\n",
              "      <td>1</td>\n",
              "      <td>1</td>\n",
              "      <td>1</td>\n",
              "      <td>3064.65</td>\n",
              "      <td>0</td>\n",
              "    </tr>\n",
              "    <tr>\n",
              "      <th>9426</th>\n",
              "      <td>9427</td>\n",
              "      <td>15675518</td>\n",
              "      <td>Charlton</td>\n",
              "      <td>499</td>\n",
              "      <td>Spain</td>\n",
              "      <td>Female</td>\n",
              "      <td>53</td>\n",
              "      <td>1</td>\n",
              "      <td>75225.53</td>\n",
              "      <td>2</td>\n",
              "      <td>0</td>\n",
              "      <td>0</td>\n",
              "      <td>144849.10</td>\n",
              "      <td>1</td>\n",
              "    </tr>\n",
              "    <tr>\n",
              "      <th>3161</th>\n",
              "      <td>3162</td>\n",
              "      <td>15767681</td>\n",
              "      <td>Smalley</td>\n",
              "      <td>470</td>\n",
              "      <td>Spain</td>\n",
              "      <td>Male</td>\n",
              "      <td>34</td>\n",
              "      <td>9</td>\n",
              "      <td>0.00</td>\n",
              "      <td>2</td>\n",
              "      <td>0</td>\n",
              "      <td>1</td>\n",
              "      <td>89013.67</td>\n",
              "      <td>0</td>\n",
              "    </tr>\n",
              "  </tbody>\n",
              "</table>\n",
              "</div>"
            ],
            "text/plain": [
              "      RowNumber  CustomerId   Surname  ...  IsActiveMember EstimatedSalary Exited\n",
              "9688       9689    15730579      Ward  ...               1       186335.07      0\n",
              "1909       1910    15773605   Iadanza  ...               0        46175.70      0\n",
              "1528       1529    15597131        Fu  ...               1         3064.65      0\n",
              "9426       9427    15675518  Charlton  ...               0       144849.10      1\n",
              "3161       3162    15767681   Smalley  ...               1        89013.67      0\n",
              "\n",
              "[5 rows x 14 columns]"
            ]
          },
          "metadata": {
            "tags": []
          },
          "execution_count": 34
        }
      ]
    },
    {
      "cell_type": "code",
      "metadata": {
        "colab": {
          "base_uri": "https://localhost:8080/",
          "height": 422
        },
        "id": "M1YNk1iPj_fa",
        "outputId": "5068f691-4c2e-4b3a-91d8-b9fd33805283"
      },
      "source": [
        "df.isnull()"
      ],
      "execution_count": 35,
      "outputs": [
        {
          "output_type": "execute_result",
          "data": {
            "text/html": [
              "<div>\n",
              "<style scoped>\n",
              "    .dataframe tbody tr th:only-of-type {\n",
              "        vertical-align: middle;\n",
              "    }\n",
              "\n",
              "    .dataframe tbody tr th {\n",
              "        vertical-align: top;\n",
              "    }\n",
              "\n",
              "    .dataframe thead th {\n",
              "        text-align: right;\n",
              "    }\n",
              "</style>\n",
              "<table border=\"1\" class=\"dataframe\">\n",
              "  <thead>\n",
              "    <tr style=\"text-align: right;\">\n",
              "      <th></th>\n",
              "      <th>RowNumber</th>\n",
              "      <th>CustomerId</th>\n",
              "      <th>Surname</th>\n",
              "      <th>CreditScore</th>\n",
              "      <th>Geography</th>\n",
              "      <th>Gender</th>\n",
              "      <th>Age</th>\n",
              "      <th>Tenure</th>\n",
              "      <th>Balance</th>\n",
              "      <th>NumOfProducts</th>\n",
              "      <th>HasCrCard</th>\n",
              "      <th>IsActiveMember</th>\n",
              "      <th>EstimatedSalary</th>\n",
              "      <th>Exited</th>\n",
              "    </tr>\n",
              "  </thead>\n",
              "  <tbody>\n",
              "    <tr>\n",
              "      <th>0</th>\n",
              "      <td>False</td>\n",
              "      <td>False</td>\n",
              "      <td>False</td>\n",
              "      <td>False</td>\n",
              "      <td>False</td>\n",
              "      <td>False</td>\n",
              "      <td>False</td>\n",
              "      <td>False</td>\n",
              "      <td>False</td>\n",
              "      <td>False</td>\n",
              "      <td>False</td>\n",
              "      <td>False</td>\n",
              "      <td>False</td>\n",
              "      <td>False</td>\n",
              "    </tr>\n",
              "    <tr>\n",
              "      <th>1</th>\n",
              "      <td>False</td>\n",
              "      <td>False</td>\n",
              "      <td>False</td>\n",
              "      <td>False</td>\n",
              "      <td>False</td>\n",
              "      <td>False</td>\n",
              "      <td>False</td>\n",
              "      <td>False</td>\n",
              "      <td>False</td>\n",
              "      <td>False</td>\n",
              "      <td>False</td>\n",
              "      <td>False</td>\n",
              "      <td>False</td>\n",
              "      <td>False</td>\n",
              "    </tr>\n",
              "    <tr>\n",
              "      <th>2</th>\n",
              "      <td>False</td>\n",
              "      <td>False</td>\n",
              "      <td>False</td>\n",
              "      <td>False</td>\n",
              "      <td>False</td>\n",
              "      <td>False</td>\n",
              "      <td>False</td>\n",
              "      <td>False</td>\n",
              "      <td>False</td>\n",
              "      <td>False</td>\n",
              "      <td>False</td>\n",
              "      <td>False</td>\n",
              "      <td>False</td>\n",
              "      <td>False</td>\n",
              "    </tr>\n",
              "    <tr>\n",
              "      <th>3</th>\n",
              "      <td>False</td>\n",
              "      <td>False</td>\n",
              "      <td>False</td>\n",
              "      <td>False</td>\n",
              "      <td>False</td>\n",
              "      <td>False</td>\n",
              "      <td>False</td>\n",
              "      <td>False</td>\n",
              "      <td>False</td>\n",
              "      <td>False</td>\n",
              "      <td>False</td>\n",
              "      <td>False</td>\n",
              "      <td>False</td>\n",
              "      <td>False</td>\n",
              "    </tr>\n",
              "    <tr>\n",
              "      <th>4</th>\n",
              "      <td>False</td>\n",
              "      <td>False</td>\n",
              "      <td>False</td>\n",
              "      <td>False</td>\n",
              "      <td>False</td>\n",
              "      <td>False</td>\n",
              "      <td>False</td>\n",
              "      <td>False</td>\n",
              "      <td>False</td>\n",
              "      <td>False</td>\n",
              "      <td>False</td>\n",
              "      <td>False</td>\n",
              "      <td>False</td>\n",
              "      <td>False</td>\n",
              "    </tr>\n",
              "    <tr>\n",
              "      <th>...</th>\n",
              "      <td>...</td>\n",
              "      <td>...</td>\n",
              "      <td>...</td>\n",
              "      <td>...</td>\n",
              "      <td>...</td>\n",
              "      <td>...</td>\n",
              "      <td>...</td>\n",
              "      <td>...</td>\n",
              "      <td>...</td>\n",
              "      <td>...</td>\n",
              "      <td>...</td>\n",
              "      <td>...</td>\n",
              "      <td>...</td>\n",
              "      <td>...</td>\n",
              "    </tr>\n",
              "    <tr>\n",
              "      <th>9995</th>\n",
              "      <td>False</td>\n",
              "      <td>False</td>\n",
              "      <td>False</td>\n",
              "      <td>False</td>\n",
              "      <td>False</td>\n",
              "      <td>False</td>\n",
              "      <td>False</td>\n",
              "      <td>False</td>\n",
              "      <td>False</td>\n",
              "      <td>False</td>\n",
              "      <td>False</td>\n",
              "      <td>False</td>\n",
              "      <td>False</td>\n",
              "      <td>False</td>\n",
              "    </tr>\n",
              "    <tr>\n",
              "      <th>9996</th>\n",
              "      <td>False</td>\n",
              "      <td>False</td>\n",
              "      <td>False</td>\n",
              "      <td>False</td>\n",
              "      <td>False</td>\n",
              "      <td>False</td>\n",
              "      <td>False</td>\n",
              "      <td>False</td>\n",
              "      <td>False</td>\n",
              "      <td>False</td>\n",
              "      <td>False</td>\n",
              "      <td>False</td>\n",
              "      <td>False</td>\n",
              "      <td>False</td>\n",
              "    </tr>\n",
              "    <tr>\n",
              "      <th>9997</th>\n",
              "      <td>False</td>\n",
              "      <td>False</td>\n",
              "      <td>False</td>\n",
              "      <td>False</td>\n",
              "      <td>False</td>\n",
              "      <td>False</td>\n",
              "      <td>False</td>\n",
              "      <td>False</td>\n",
              "      <td>False</td>\n",
              "      <td>False</td>\n",
              "      <td>False</td>\n",
              "      <td>False</td>\n",
              "      <td>False</td>\n",
              "      <td>False</td>\n",
              "    </tr>\n",
              "    <tr>\n",
              "      <th>9998</th>\n",
              "      <td>False</td>\n",
              "      <td>False</td>\n",
              "      <td>False</td>\n",
              "      <td>False</td>\n",
              "      <td>False</td>\n",
              "      <td>False</td>\n",
              "      <td>False</td>\n",
              "      <td>False</td>\n",
              "      <td>False</td>\n",
              "      <td>False</td>\n",
              "      <td>False</td>\n",
              "      <td>False</td>\n",
              "      <td>False</td>\n",
              "      <td>False</td>\n",
              "    </tr>\n",
              "    <tr>\n",
              "      <th>9999</th>\n",
              "      <td>False</td>\n",
              "      <td>False</td>\n",
              "      <td>False</td>\n",
              "      <td>False</td>\n",
              "      <td>False</td>\n",
              "      <td>False</td>\n",
              "      <td>False</td>\n",
              "      <td>False</td>\n",
              "      <td>False</td>\n",
              "      <td>False</td>\n",
              "      <td>False</td>\n",
              "      <td>False</td>\n",
              "      <td>False</td>\n",
              "      <td>False</td>\n",
              "    </tr>\n",
              "  </tbody>\n",
              "</table>\n",
              "<p>10000 rows × 14 columns</p>\n",
              "</div>"
            ],
            "text/plain": [
              "      RowNumber  CustomerId  Surname  ...  IsActiveMember  EstimatedSalary  Exited\n",
              "0         False       False    False  ...           False            False   False\n",
              "1         False       False    False  ...           False            False   False\n",
              "2         False       False    False  ...           False            False   False\n",
              "3         False       False    False  ...           False            False   False\n",
              "4         False       False    False  ...           False            False   False\n",
              "...         ...         ...      ...  ...             ...              ...     ...\n",
              "9995      False       False    False  ...           False            False   False\n",
              "9996      False       False    False  ...           False            False   False\n",
              "9997      False       False    False  ...           False            False   False\n",
              "9998      False       False    False  ...           False            False   False\n",
              "9999      False       False    False  ...           False            False   False\n",
              "\n",
              "[10000 rows x 14 columns]"
            ]
          },
          "metadata": {
            "tags": []
          },
          "execution_count": 35
        }
      ]
    },
    {
      "cell_type": "code",
      "metadata": {
        "colab": {
          "base_uri": "https://localhost:8080/",
          "height": 358
        },
        "id": "VAr829rUklg4",
        "outputId": "03a18e80-d7d2-42c6-f1ae-9cf36d59275d"
      },
      "source": [
        "sns.heatmap(df.isnull(),yticklabels=False,cbar=True,cmap='cividis')"
      ],
      "execution_count": 36,
      "outputs": [
        {
          "output_type": "execute_result",
          "data": {
            "text/plain": [
              "<matplotlib.axes._subplots.AxesSubplot at 0x7fcb0a447a50>"
            ]
          },
          "metadata": {
            "tags": []
          },
          "execution_count": 36
        },
        {
          "output_type": "display_data",
          "data": {
            "image/png": "[encoded data removed]",
            "text/plain": [
              "<Figure size 432x288 with 2 Axes>"
            ]
          },
          "metadata": {
            "tags": []
          }
        }
      ]
    },
    {
      "cell_type": "code",
      "metadata": {
        "colab": {
          "base_uri": "https://localhost:8080/"
        },
        "id": "hl4h9I49kraU",
        "outputId": "f78dc6b6-6867-46a2-abdc-37b157a787c8"
      },
      "source": [
        "df.dtypes"
      ],
      "execution_count": 37,
      "outputs": [
        {
          "output_type": "execute_result",
          "data": {
            "text/plain": [
              "RowNumber            int64\n",
              "CustomerId           int64\n",
              "Surname             object\n",
              "CreditScore          int64\n",
              "Geography           object\n",
              "Gender              object\n",
              "Age                  int64\n",
              "Tenure               int64\n",
              "Balance            float64\n",
              "NumOfProducts        int64\n",
              "HasCrCard            int64\n",
              "IsActiveMember       int64\n",
              "EstimatedSalary    float64\n",
              "Exited               int64\n",
              "dtype: object"
            ]
          },
          "metadata": {
            "tags": []
          },
          "execution_count": 37
        }
      ]
    },
    {
      "cell_type": "code",
      "metadata": {
        "colab": {
          "base_uri": "https://localhost:8080/",
          "height": 304
        },
        "id": "cmVLKrQEN_oy",
        "outputId": "08c08163-db07-4baf-e156-a765efafb867"
      },
      "source": [
        "df.describe()"
      ],
      "execution_count": 38,
      "outputs": [
        {
          "output_type": "execute_result",
          "data": {
            "text/html": [
              "<div>\n",
              "<style scoped>\n",
              "    .dataframe tbody tr th:only-of-type {\n",
              "        vertical-align: middle;\n",
              "    }\n",
              "\n",
              "    .dataframe tbody tr th {\n",
              "        vertical-align: top;\n",
              "    }\n",
              "\n",
              "    .dataframe thead th {\n",
              "        text-align: right;\n",
              "    }\n",
              "</style>\n",
              "<table border=\"1\" class=\"dataframe\">\n",
              "  <thead>\n",
              "    <tr style=\"text-align: right;\">\n",
              "      <th></th>\n",
              "      <th>RowNumber</th>\n",
              "      <th>CustomerId</th>\n",
              "      <th>CreditScore</th>\n",
              "      <th>Age</th>\n",
              "      <th>Tenure</th>\n",
              "      <th>Balance</th>\n",
              "      <th>NumOfProducts</th>\n",
              "      <th>HasCrCard</th>\n",
              "      <th>IsActiveMember</th>\n",
              "      <th>EstimatedSalary</th>\n",
              "      <th>Exited</th>\n",
              "    </tr>\n",
              "  </thead>\n",
              "  <tbody>\n",
              "    <tr>\n",
              "      <th>count</th>\n",
              "      <td>10000.00000</td>\n",
              "      <td>1.000000e+04</td>\n",
              "      <td>10000.000000</td>\n",
              "      <td>10000.000000</td>\n",
              "      <td>10000.000000</td>\n",
              "      <td>10000.000000</td>\n",
              "      <td>10000.000000</td>\n",
              "      <td>10000.00000</td>\n",
              "      <td>10000.000000</td>\n",
              "      <td>10000.000000</td>\n",
              "      <td>10000.000000</td>\n",
              "    </tr>\n",
              "    <tr>\n",
              "      <th>mean</th>\n",
              "      <td>5000.50000</td>\n",
              "      <td>1.569094e+07</td>\n",
              "      <td>650.528800</td>\n",
              "      <td>38.921800</td>\n",
              "      <td>5.012800</td>\n",
              "      <td>76485.889288</td>\n",
              "      <td>1.530200</td>\n",
              "      <td>0.70550</td>\n",
              "      <td>0.515100</td>\n",
              "      <td>100090.239881</td>\n",
              "      <td>0.203700</td>\n",
              "    </tr>\n",
              "    <tr>\n",
              "      <th>std</th>\n",
              "      <td>2886.89568</td>\n",
              "      <td>7.193619e+04</td>\n",
              "      <td>96.653299</td>\n",
              "      <td>10.487806</td>\n",
              "      <td>2.892174</td>\n",
              "      <td>62397.405202</td>\n",
              "      <td>0.581654</td>\n",
              "      <td>0.45584</td>\n",
              "      <td>0.499797</td>\n",
              "      <td>57510.492818</td>\n",
              "      <td>0.402769</td>\n",
              "    </tr>\n",
              "    <tr>\n",
              "      <th>min</th>\n",
              "      <td>1.00000</td>\n",
              "      <td>1.556570e+07</td>\n",
              "      <td>350.000000</td>\n",
              "      <td>18.000000</td>\n",
              "      <td>0.000000</td>\n",
              "      <td>0.000000</td>\n",
              "      <td>1.000000</td>\n",
              "      <td>0.00000</td>\n",
              "      <td>0.000000</td>\n",
              "      <td>11.580000</td>\n",
              "      <td>0.000000</td>\n",
              "    </tr>\n",
              "    <tr>\n",
              "      <th>25%</th>\n",
              "      <td>2500.75000</td>\n",
              "      <td>1.562853e+07</td>\n",
              "      <td>584.000000</td>\n",
              "      <td>32.000000</td>\n",
              "      <td>3.000000</td>\n",
              "      <td>0.000000</td>\n",
              "      <td>1.000000</td>\n",
              "      <td>0.00000</td>\n",
              "      <td>0.000000</td>\n",
              "      <td>51002.110000</td>\n",
              "      <td>0.000000</td>\n",
              "    </tr>\n",
              "    <tr>\n",
              "      <th>50%</th>\n",
              "      <td>5000.50000</td>\n",
              "      <td>1.569074e+07</td>\n",
              "      <td>652.000000</td>\n",
              "      <td>37.000000</td>\n",
              "      <td>5.000000</td>\n",
              "      <td>97198.540000</td>\n",
              "      <td>1.000000</td>\n",
              "      <td>1.00000</td>\n",
              "      <td>1.000000</td>\n",
              "      <td>100193.915000</td>\n",
              "      <td>0.000000</td>\n",
              "    </tr>\n",
              "    <tr>\n",
              "      <th>75%</th>\n",
              "      <td>7500.25000</td>\n",
              "      <td>1.575323e+07</td>\n",
              "      <td>718.000000</td>\n",
              "      <td>44.000000</td>\n",
              "      <td>7.000000</td>\n",
              "      <td>127644.240000</td>\n",
              "      <td>2.000000</td>\n",
              "      <td>1.00000</td>\n",
              "      <td>1.000000</td>\n",
              "      <td>149388.247500</td>\n",
              "      <td>0.000000</td>\n",
              "    </tr>\n",
              "    <tr>\n",
              "      <th>max</th>\n",
              "      <td>10000.00000</td>\n",
              "      <td>1.581569e+07</td>\n",
              "      <td>850.000000</td>\n",
              "      <td>92.000000</td>\n",
              "      <td>10.000000</td>\n",
              "      <td>250898.090000</td>\n",
              "      <td>4.000000</td>\n",
              "      <td>1.00000</td>\n",
              "      <td>1.000000</td>\n",
              "      <td>199992.480000</td>\n",
              "      <td>1.000000</td>\n",
              "    </tr>\n",
              "  </tbody>\n",
              "</table>\n",
              "</div>"
            ],
            "text/plain": [
              "         RowNumber    CustomerId  ...  EstimatedSalary        Exited\n",
              "count  10000.00000  1.000000e+04  ...     10000.000000  10000.000000\n",
              "mean    5000.50000  1.569094e+07  ...    100090.239881      0.203700\n",
              "std     2886.89568  7.193619e+04  ...     57510.492818      0.402769\n",
              "min        1.00000  1.556570e+07  ...        11.580000      0.000000\n",
              "25%     2500.75000  1.562853e+07  ...     51002.110000      0.000000\n",
              "50%     5000.50000  1.569074e+07  ...    100193.915000      0.000000\n",
              "75%     7500.25000  1.575323e+07  ...    149388.247500      0.000000\n",
              "max    10000.00000  1.581569e+07  ...    199992.480000      1.000000\n",
              "\n",
              "[8 rows x 11 columns]"
            ]
          },
          "metadata": {
            "tags": []
          },
          "execution_count": 38
        }
      ]
    },
    {
      "cell_type": "code",
      "metadata": {
        "colab": {
          "base_uri": "https://localhost:8080/",
          "height": 296
        },
        "id": "XeXfHEPFOieq",
        "outputId": "e64b43f7-0aa2-43d7-f896-2e3f23674eb3"
      },
      "source": [
        "sns.set_style('darkgrid')\n",
        "sns.countplot(x=\"Exited\", data=df)"
      ],
      "execution_count": 39,
      "outputs": [
        {
          "output_type": "execute_result",
          "data": {
            "text/plain": [
              "<matplotlib.axes._subplots.AxesSubplot at 0x7fcb07481510>"
            ]
          },
          "metadata": {
            "tags": []
          },
          "execution_count": 39
        },
        {
          "output_type": "display_data",
          "data": {
            "image/png": "[encoded data removed]",
            "text/plain": [
              "<Figure size 432x288 with 1 Axes>"
            ]
          },
          "metadata": {
            "tags": []
          }
        }
      ]
    },
    {
      "cell_type": "code",
      "metadata": {
        "id": "ZnWyZBmPk8-D",
        "colab": {
          "base_uri": "https://localhost:8080/",
          "height": 296
        },
        "outputId": "2d39650e-4210-489d-892a-23b5bb7a08ca"
      },
      "source": [
        "sns.set_style('darkgrid')\n",
        "sns.countplot(x='NumOfProducts',hue='Exited',data=df,palette='rainbow')"
      ],
      "execution_count": 40,
      "outputs": [
        {
          "output_type": "execute_result",
          "data": {
            "text/plain": [
              "<matplotlib.axes._subplots.AxesSubplot at 0x7fcb074575d0>"
            ]
          },
          "metadata": {
            "tags": []
          },
          "execution_count": 40
        },
        {
          "output_type": "display_data",
          "data": {
            "image/png": "[encoded data removed]",
            "text/plain": [
              "<Figure size 432x288 with 1 Axes>"
            ]
          },
          "metadata": {
            "tags": []
          }
        }
      ]
    },
    {
      "cell_type": "code",
      "metadata": {
        "colab": {
          "base_uri": "https://localhost:8080/",
          "height": 296
        },
        "id": "QWpb2b5XN1NV",
        "outputId": "bcf6271c-d9e4-404a-f7b1-ce654e4138c9"
      },
      "source": [
        "sns.set_style('darkgrid')\n",
        "sns.countplot(x='HasCrCard',hue='Exited',data=df,palette='Set1')"
      ],
      "execution_count": 41,
      "outputs": [
        {
          "output_type": "execute_result",
          "data": {
            "text/plain": [
              "<matplotlib.axes._subplots.AxesSubplot at 0x7fcb07379ad0>"
            ]
          },
          "metadata": {
            "tags": []
          },
          "execution_count": 41
        },
        {
          "output_type": "display_data",
          "data": {
            "image/png": "[encoded data removed]",
            "text/plain": [
              "<Figure size 432x288 with 1 Axes>"
            ]
          },
          "metadata": {
            "tags": []
          }
        }
      ]
    },
    {
      "cell_type": "code",
      "metadata": {
        "colab": {
          "base_uri": "https://localhost:8080/",
          "height": 296
        },
        "id": "k92Ypo5ROYWG",
        "outputId": "268fc8ea-c81e-4267-fbff-8dc925ab430c"
      },
      "source": [
        "sns.set_style('darkgrid')\n",
        "sns.countplot(x='Gender',hue='Exited',data=df)"
      ],
      "execution_count": 42,
      "outputs": [
        {
          "output_type": "execute_result",
          "data": {
            "text/plain": [
              "<matplotlib.axes._subplots.AxesSubplot at 0x7fcb0735d110>"
            ]
          },
          "metadata": {
            "tags": []
          },
          "execution_count": 42
        },
        {
          "output_type": "display_data",
          "data": {
            "image/png": "[encoded data removed]",
            "text/plain": [
              "<Figure size 432x288 with 1 Axes>"
            ]
          },
          "metadata": {
            "tags": []
          }
        }
      ]
    },
    {
      "cell_type": "code",
      "metadata": {
        "colab": {
          "base_uri": "https://localhost:8080/",
          "height": 296
        },
        "id": "_Ik7f3ffO2lh",
        "outputId": "279425de-6577-4923-bfad-a61da191614b"
      },
      "source": [
        "sns.set_style('darkgrid')\n",
        "sns.countplot(x='Geography',hue='Exited',data=df,palette='pastel')"
      ],
      "execution_count": 43,
      "outputs": [
        {
          "output_type": "execute_result",
          "data": {
            "text/plain": [
              "<matplotlib.axes._subplots.AxesSubplot at 0x7fcb072bd190>"
            ]
          },
          "metadata": {
            "tags": []
          },
          "execution_count": 43
        },
        {
          "output_type": "display_data",
          "data": {
            "image/png": "[encoded data removed]",
            "text/plain": [
              "<Figure size 432x288 with 1 Axes>"
            ]
          },
          "metadata": {
            "tags": []
          }
        }
      ]
    },
    {
      "cell_type": "code",
      "metadata": {
        "colab": {
          "base_uri": "https://localhost:8080/",
          "height": 296
        },
        "id": "3Bb5NTCMO6Rc",
        "outputId": "6a0ac8b8-d8aa-46c5-dbe4-9170fd90de06"
      },
      "source": [
        "sns.set_style('darkgrid')\n",
        "sns.countplot(x='IsActiveMember',hue='Exited',data=df,palette='Set2')"
      ],
      "execution_count": 44,
      "outputs": [
        {
          "output_type": "execute_result",
          "data": {
            "text/plain": [
              "<matplotlib.axes._subplots.AxesSubplot at 0x7fcb07282910>"
            ]
          },
          "metadata": {
            "tags": []
          },
          "execution_count": 44
        },
        {
          "output_type": "display_data",
          "data": {
            "image/png": "[encoded data removed]",
            "text/plain": [
              "<Figure size 432x288 with 1 Axes>"
            ]
          },
          "metadata": {
            "tags": []
          }
        }
      ]
    },
    {
      "cell_type": "code",
      "metadata": {
        "colab": {
          "base_uri": "https://localhost:8080/",
          "height": 386
        },
        "id": "0L0ptMLTPAT7",
        "outputId": "2a4039e0-4b7f-4a98-d422-a477d3d548b1"
      },
      "source": [
        "sns.displot(df['Age'].dropna(),kde=True,color='skyblue')"
      ],
      "execution_count": 45,
      "outputs": [
        {
          "output_type": "execute_result",
          "data": {
            "text/plain": [
              "<seaborn.axisgrid.FacetGrid at 0x7fcb072bd950>"
            ]
          },
          "metadata": {
            "tags": []
          },
          "execution_count": 45
        },
        {
          "output_type": "display_data",
          "data": {
            "image/png": "[encoded data removed]",
            "text/plain": [
              "<Figure size 360x360 with 1 Axes>"
            ]
          },
          "metadata": {
            "tags": []
          }
        }
      ]
    },
    {
      "cell_type": "code",
      "metadata": {
        "colab": {
          "base_uri": "https://localhost:8080/"
        },
        "id": "i4rW5WncQzRF",
        "outputId": "ce685461-ad7d-4b24-f85c-4c500588861f"
      },
      "source": [
        "df.Gender.unique()"
      ],
      "execution_count": 46,
      "outputs": [
        {
          "output_type": "execute_result",
          "data": {
            "text/plain": [
              "array(['Female', 'Male'], dtype=object)"
            ]
          },
          "metadata": {
            "tags": []
          },
          "execution_count": 46
        }
      ]
    },
    {
      "cell_type": "code",
      "metadata": {
        "id": "Fru2mH3PRf8w"
      },
      "source": [
        "df['Gender'].replace({'Female':0,'Male':1},inplace=True)"
      ],
      "execution_count": 47,
      "outputs": []
    },
    {
      "cell_type": "code",
      "metadata": {
        "colab": {
          "base_uri": "https://localhost:8080/"
        },
        "id": "w3Jrq8G8RkSg",
        "outputId": "64d9de1f-dfae-467b-faa9-cb97f248aea4"
      },
      "source": [
        "df.Gender.unique()"
      ],
      "execution_count": 48,
      "outputs": [
        {
          "output_type": "execute_result",
          "data": {
            "text/plain": [
              "array([0, 1])"
            ]
          },
          "metadata": {
            "tags": []
          },
          "execution_count": 48
        }
      ]
    },
    {
      "cell_type": "code",
      "metadata": {
        "colab": {
          "base_uri": "https://localhost:8080/"
        },
        "id": "vbpopC3RRmGK",
        "outputId": "20c6ea46-f1ab-416d-f8a9-d95c3ac80644"
      },
      "source": [
        "df1 = pd.get_dummies(data=df,columns=['Geography'])\n",
        "df1.columns"
      ],
      "execution_count": 49,
      "outputs": [
        {
          "output_type": "execute_result",
          "data": {
            "text/plain": [
              "Index(['RowNumber', 'CustomerId', 'Surname', 'CreditScore', 'Gender', 'Age',\n",
              "       'Tenure', 'Balance', 'NumOfProducts', 'HasCrCard', 'IsActiveMember',\n",
              "       'EstimatedSalary', 'Exited', 'Geography_France', 'Geography_Germany',\n",
              "       'Geography_Spain'],\n",
              "      dtype='object')"
            ]
          },
          "metadata": {
            "tags": []
          },
          "execution_count": 49
        }
      ]
    },
    {
      "cell_type": "code",
      "metadata": {
        "id": "Gv-9bT8cSBJp"
      },
      "source": [
        "cols_to_scale=['CreditScore','Age','Balance','EstimatedSalary','Tenure','NumOfProducts']\n",
        "from sklearn.preprocessing import MinMaxScaler\n",
        "scaler = MinMaxScaler()\n",
        "df1[cols_to_scale] = scaler.fit_transform(df1[cols_to_scale])"
      ],
      "execution_count": 50,
      "outputs": []
    },
    {
      "cell_type": "code",
      "metadata": {
        "colab": {
          "base_uri": "https://localhost:8080/",
          "height": 422
        },
        "id": "8oT6nOMpSwaW",
        "outputId": "25e7f356-3611-423e-87d6-3f3559dc37e1"
      },
      "source": [
        "df1"
      ],
      "execution_count": 51,
      "outputs": [
        {
          "output_type": "execute_result",
          "data": {
            "text/html": [
              "<div>\n",
              "<style scoped>\n",
              "    .dataframe tbody tr th:only-of-type {\n",
              "        vertical-align: middle;\n",
              "    }\n",
              "\n",
              "    .dataframe tbody tr th {\n",
              "        vertical-align: top;\n",
              "    }\n",
              "\n",
              "    .dataframe thead th {\n",
              "        text-align: right;\n",
              "    }\n",
              "</style>\n",
              "<table border=\"1\" class=\"dataframe\">\n",
              "  <thead>\n",
              "    <tr style=\"text-align: right;\">\n",
              "      <th></th>\n",
              "      <th>RowNumber</th>\n",
              "      <th>CustomerId</th>\n",
              "      <th>Surname</th>\n",
              "      <th>CreditScore</th>\n",
              "      <th>Gender</th>\n",
              "      <th>Age</th>\n",
              "      <th>Tenure</th>\n",
              "      <th>Balance</th>\n",
              "      <th>NumOfProducts</th>\n",
              "      <th>HasCrCard</th>\n",
              "      <th>IsActiveMember</th>\n",
              "      <th>EstimatedSalary</th>\n",
              "      <th>Exited</th>\n",
              "      <th>Geography_France</th>\n",
              "      <th>Geography_Germany</th>\n",
              "      <th>Geography_Spain</th>\n",
              "    </tr>\n",
              "  </thead>\n",
              "  <tbody>\n",
              "    <tr>\n",
              "      <th>0</th>\n",
              "      <td>1</td>\n",
              "      <td>15634602</td>\n",
              "      <td>Hargrave</td>\n",
              "      <td>0.538</td>\n",
              "      <td>0</td>\n",
              "      <td>0.324324</td>\n",
              "      <td>0.2</td>\n",
              "      <td>0.000000</td>\n",
              "      <td>0.000000</td>\n",
              "      <td>1</td>\n",
              "      <td>1</td>\n",
              "      <td>0.506735</td>\n",
              "      <td>1</td>\n",
              "      <td>1</td>\n",
              "      <td>0</td>\n",
              "      <td>0</td>\n",
              "    </tr>\n",
              "    <tr>\n",
              "      <th>1</th>\n",
              "      <td>2</td>\n",
              "      <td>15647311</td>\n",
              "      <td>Hill</td>\n",
              "      <td>0.516</td>\n",
              "      <td>0</td>\n",
              "      <td>0.310811</td>\n",
              "      <td>0.1</td>\n",
              "      <td>0.334031</td>\n",
              "      <td>0.000000</td>\n",
              "      <td>0</td>\n",
              "      <td>1</td>\n",
              "      <td>0.562709</td>\n",
              "      <td>0</td>\n",
              "      <td>0</td>\n",
              "      <td>0</td>\n",
              "      <td>1</td>\n",
              "    </tr>\n",
              "    <tr>\n",
              "      <th>2</th>\n",
              "      <td>3</td>\n",
              "      <td>15619304</td>\n",
              "      <td>Onio</td>\n",
              "      <td>0.304</td>\n",
              "      <td>0</td>\n",
              "      <td>0.324324</td>\n",
              "      <td>0.8</td>\n",
              "      <td>0.636357</td>\n",
              "      <td>0.666667</td>\n",
              "      <td>1</td>\n",
              "      <td>0</td>\n",
              "      <td>0.569654</td>\n",
              "      <td>1</td>\n",
              "      <td>1</td>\n",
              "      <td>0</td>\n",
              "      <td>0</td>\n",
              "    </tr>\n",
              "    <tr>\n",
              "      <th>3</th>\n",
              "      <td>4</td>\n",
              "      <td>15701354</td>\n",
              "      <td>Boni</td>\n",
              "      <td>0.698</td>\n",
              "      <td>0</td>\n",
              "      <td>0.283784</td>\n",
              "      <td>0.1</td>\n",
              "      <td>0.000000</td>\n",
              "      <td>0.333333</td>\n",
              "      <td>0</td>\n",
              "      <td>0</td>\n",
              "      <td>0.469120</td>\n",
              "      <td>0</td>\n",
              "      <td>1</td>\n",
              "      <td>0</td>\n",
              "      <td>0</td>\n",
              "    </tr>\n",
              "    <tr>\n",
              "      <th>4</th>\n",
              "      <td>5</td>\n",
              "      <td>15737888</td>\n",
              "      <td>Mitchell</td>\n",
              "      <td>1.000</td>\n",
              "      <td>0</td>\n",
              "      <td>0.337838</td>\n",
              "      <td>0.2</td>\n",
              "      <td>0.500246</td>\n",
              "      <td>0.000000</td>\n",
              "      <td>1</td>\n",
              "      <td>1</td>\n",
              "      <td>0.395400</td>\n",
              "      <td>0</td>\n",
              "      <td>0</td>\n",
              "      <td>0</td>\n",
              "      <td>1</td>\n",
              "    </tr>\n",
              "    <tr>\n",
              "      <th>...</th>\n",
              "      <td>...</td>\n",
              "      <td>...</td>\n",
              "      <td>...</td>\n",
              "      <td>...</td>\n",
              "      <td>...</td>\n",
              "      <td>...</td>\n",
              "      <td>...</td>\n",
              "      <td>...</td>\n",
              "      <td>...</td>\n",
              "      <td>...</td>\n",
              "      <td>...</td>\n",
              "      <td>...</td>\n",
              "      <td>...</td>\n",
              "      <td>...</td>\n",
              "      <td>...</td>\n",
              "      <td>...</td>\n",
              "    </tr>\n",
              "    <tr>\n",
              "      <th>9995</th>\n",
              "      <td>9996</td>\n",
              "      <td>15606229</td>\n",
              "      <td>Obijiaku</td>\n",
              "      <td>0.842</td>\n",
              "      <td>1</td>\n",
              "      <td>0.283784</td>\n",
              "      <td>0.5</td>\n",
              "      <td>0.000000</td>\n",
              "      <td>0.333333</td>\n",
              "      <td>1</td>\n",
              "      <td>0</td>\n",
              "      <td>0.481341</td>\n",
              "      <td>0</td>\n",
              "      <td>1</td>\n",
              "      <td>0</td>\n",
              "      <td>0</td>\n",
              "    </tr>\n",
              "    <tr>\n",
              "      <th>9996</th>\n",
              "      <td>9997</td>\n",
              "      <td>15569892</td>\n",
              "      <td>Johnstone</td>\n",
              "      <td>0.332</td>\n",
              "      <td>1</td>\n",
              "      <td>0.229730</td>\n",
              "      <td>1.0</td>\n",
              "      <td>0.228657</td>\n",
              "      <td>0.000000</td>\n",
              "      <td>1</td>\n",
              "      <td>1</td>\n",
              "      <td>0.508490</td>\n",
              "      <td>0</td>\n",
              "      <td>1</td>\n",
              "      <td>0</td>\n",
              "      <td>0</td>\n",
              "    </tr>\n",
              "    <tr>\n",
              "      <th>9997</th>\n",
              "      <td>9998</td>\n",
              "      <td>15584532</td>\n",
              "      <td>Liu</td>\n",
              "      <td>0.718</td>\n",
              "      <td>0</td>\n",
              "      <td>0.243243</td>\n",
              "      <td>0.7</td>\n",
              "      <td>0.000000</td>\n",
              "      <td>0.000000</td>\n",
              "      <td>0</td>\n",
              "      <td>1</td>\n",
              "      <td>0.210390</td>\n",
              "      <td>1</td>\n",
              "      <td>1</td>\n",
              "      <td>0</td>\n",
              "      <td>0</td>\n",
              "    </tr>\n",
              "    <tr>\n",
              "      <th>9998</th>\n",
              "      <td>9999</td>\n",
              "      <td>15682355</td>\n",
              "      <td>Sabbatini</td>\n",
              "      <td>0.844</td>\n",
              "      <td>1</td>\n",
              "      <td>0.324324</td>\n",
              "      <td>0.3</td>\n",
              "      <td>0.299226</td>\n",
              "      <td>0.333333</td>\n",
              "      <td>1</td>\n",
              "      <td>0</td>\n",
              "      <td>0.464429</td>\n",
              "      <td>1</td>\n",
              "      <td>0</td>\n",
              "      <td>1</td>\n",
              "      <td>0</td>\n",
              "    </tr>\n",
              "    <tr>\n",
              "      <th>9999</th>\n",
              "      <td>10000</td>\n",
              "      <td>15628319</td>\n",
              "      <td>Walker</td>\n",
              "      <td>0.884</td>\n",
              "      <td>0</td>\n",
              "      <td>0.135135</td>\n",
              "      <td>0.4</td>\n",
              "      <td>0.518708</td>\n",
              "      <td>0.000000</td>\n",
              "      <td>1</td>\n",
              "      <td>0</td>\n",
              "      <td>0.190914</td>\n",
              "      <td>0</td>\n",
              "      <td>1</td>\n",
              "      <td>0</td>\n",
              "      <td>0</td>\n",
              "    </tr>\n",
              "  </tbody>\n",
              "</table>\n",
              "<p>10000 rows × 16 columns</p>\n",
              "</div>"
            ],
            "text/plain": [
              "      RowNumber  CustomerId  ... Geography_Germany  Geography_Spain\n",
              "0             1    15634602  ...                 0                0\n",
              "1             2    15647311  ...                 0                1\n",
              "2             3    15619304  ...                 0                0\n",
              "3             4    15701354  ...                 0                0\n",
              "4             5    15737888  ...                 0                1\n",
              "...         ...         ...  ...               ...              ...\n",
              "9995       9996    15606229  ...                 0                0\n",
              "9996       9997    15569892  ...                 0                0\n",
              "9997       9998    15584532  ...                 0                0\n",
              "9998       9999    15682355  ...                 1                0\n",
              "9999      10000    15628319  ...                 0                0\n",
              "\n",
              "[10000 rows x 16 columns]"
            ]
          },
          "metadata": {
            "tags": []
          },
          "execution_count": 51
        }
      ]
    },
    {
      "cell_type": "code",
      "metadata": {
        "id": "oKVfTNV5Sxmg"
      },
      "source": [
        "df1.drop(['RowNumber','CustomerId','Surname'],axis=1,inplace=True)"
      ],
      "execution_count": 52,
      "outputs": []
    },
    {
      "cell_type": "code",
      "metadata": {
        "colab": {
          "base_uri": "https://localhost:8080/",
          "height": 422
        },
        "id": "rhSVAbqZTCKF",
        "outputId": "b8bde4f1-d7af-48f8-ad43-69eda9073b48"
      },
      "source": [
        "df1"
      ],
      "execution_count": 53,
      "outputs": [
        {
          "output_type": "execute_result",
          "data": {
            "text/html": [
              "<div>\n",
              "<style scoped>\n",
              "    .dataframe tbody tr th:only-of-type {\n",
              "        vertical-align: middle;\n",
              "    }\n",
              "\n",
              "    .dataframe tbody tr th {\n",
              "        vertical-align: top;\n",
              "    }\n",
              "\n",
              "    .dataframe thead th {\n",
              "        text-align: right;\n",
              "    }\n",
              "</style>\n",
              "<table border=\"1\" class=\"dataframe\">\n",
              "  <thead>\n",
              "    <tr style=\"text-align: right;\">\n",
              "      <th></th>\n",
              "      <th>CreditScore</th>\n",
              "      <th>Gender</th>\n",
              "      <th>Age</th>\n",
              "      <th>Tenure</th>\n",
              "      <th>Balance</th>\n",
              "      <th>NumOfProducts</th>\n",
              "      <th>HasCrCard</th>\n",
              "      <th>IsActiveMember</th>\n",
              "      <th>EstimatedSalary</th>\n",
              "      <th>Exited</th>\n",
              "      <th>Geography_France</th>\n",
              "      <th>Geography_Germany</th>\n",
              "      <th>Geography_Spain</th>\n",
              "    </tr>\n",
              "  </thead>\n",
              "  <tbody>\n",
              "    <tr>\n",
              "      <th>0</th>\n",
              "      <td>0.538</td>\n",
              "      <td>0</td>\n",
              "      <td>0.324324</td>\n",
              "      <td>0.2</td>\n",
              "      <td>0.000000</td>\n",
              "      <td>0.000000</td>\n",
              "      <td>1</td>\n",
              "      <td>1</td>\n",
              "      <td>0.506735</td>\n",
              "      <td>1</td>\n",
              "      <td>1</td>\n",
              "      <td>0</td>\n",
              "      <td>0</td>\n",
              "    </tr>\n",
              "    <tr>\n",
              "      <th>1</th>\n",
              "      <td>0.516</td>\n",
              "      <td>0</td>\n",
              "      <td>0.310811</td>\n",
              "      <td>0.1</td>\n",
              "      <td>0.334031</td>\n",
              "      <td>0.000000</td>\n",
              "      <td>0</td>\n",
              "      <td>1</td>\n",
              "      <td>0.562709</td>\n",
              "      <td>0</td>\n",
              "      <td>0</td>\n",
              "      <td>0</td>\n",
              "      <td>1</td>\n",
              "    </tr>\n",
              "    <tr>\n",
              "      <th>2</th>\n",
              "      <td>0.304</td>\n",
              "      <td>0</td>\n",
              "      <td>0.324324</td>\n",
              "      <td>0.8</td>\n",
              "      <td>0.636357</td>\n",
              "      <td>0.666667</td>\n",
              "      <td>1</td>\n",
              "      <td>0</td>\n",
              "      <td>0.569654</td>\n",
              "      <td>1</td>\n",
              "      <td>1</td>\n",
              "      <td>0</td>\n",
              "      <td>0</td>\n",
              "    </tr>\n",
              "    <tr>\n",
              "      <th>3</th>\n",
              "      <td>0.698</td>\n",
              "      <td>0</td>\n",
              "      <td>0.283784</td>\n",
              "      <td>0.1</td>\n",
              "      <td>0.000000</td>\n",
              "      <td>0.333333</td>\n",
              "      <td>0</td>\n",
              "      <td>0</td>\n",
              "      <td>0.469120</td>\n",
              "      <td>0</td>\n",
              "      <td>1</td>\n",
              "      <td>0</td>\n",
              "      <td>0</td>\n",
              "    </tr>\n",
              "    <tr>\n",
              "      <th>4</th>\n",
              "      <td>1.000</td>\n",
              "      <td>0</td>\n",
              "      <td>0.337838</td>\n",
              "      <td>0.2</td>\n",
              "      <td>0.500246</td>\n",
              "      <td>0.000000</td>\n",
              "      <td>1</td>\n",
              "      <td>1</td>\n",
              "      <td>0.395400</td>\n",
              "      <td>0</td>\n",
              "      <td>0</td>\n",
              "      <td>0</td>\n",
              "      <td>1</td>\n",
              "    </tr>\n",
              "    <tr>\n",
              "      <th>...</th>\n",
              "      <td>...</td>\n",
              "      <td>...</td>\n",
              "      <td>...</td>\n",
              "      <td>...</td>\n",
              "      <td>...</td>\n",
              "      <td>...</td>\n",
              "      <td>...</td>\n",
              "      <td>...</td>\n",
              "      <td>...</td>\n",
              "      <td>...</td>\n",
              "      <td>...</td>\n",
              "      <td>...</td>\n",
              "      <td>...</td>\n",
              "    </tr>\n",
              "    <tr>\n",
              "      <th>9995</th>\n",
              "      <td>0.842</td>\n",
              "      <td>1</td>\n",
              "      <td>0.283784</td>\n",
              "      <td>0.5</td>\n",
              "      <td>0.000000</td>\n",
              "      <td>0.333333</td>\n",
              "      <td>1</td>\n",
              "      <td>0</td>\n",
              "      <td>0.481341</td>\n",
              "      <td>0</td>\n",
              "      <td>1</td>\n",
              "      <td>0</td>\n",
              "      <td>0</td>\n",
              "    </tr>\n",
              "    <tr>\n",
              "      <th>9996</th>\n",
              "      <td>0.332</td>\n",
              "      <td>1</td>\n",
              "      <td>0.229730</td>\n",
              "      <td>1.0</td>\n",
              "      <td>0.228657</td>\n",
              "      <td>0.000000</td>\n",
              "      <td>1</td>\n",
              "      <td>1</td>\n",
              "      <td>0.508490</td>\n",
              "      <td>0</td>\n",
              "      <td>1</td>\n",
              "      <td>0</td>\n",
              "      <td>0</td>\n",
              "    </tr>\n",
              "    <tr>\n",
              "      <th>9997</th>\n",
              "      <td>0.718</td>\n",
              "      <td>0</td>\n",
              "      <td>0.243243</td>\n",
              "      <td>0.7</td>\n",
              "      <td>0.000000</td>\n",
              "      <td>0.000000</td>\n",
              "      <td>0</td>\n",
              "      <td>1</td>\n",
              "      <td>0.210390</td>\n",
              "      <td>1</td>\n",
              "      <td>1</td>\n",
              "      <td>0</td>\n",
              "      <td>0</td>\n",
              "    </tr>\n",
              "    <tr>\n",
              "      <th>9998</th>\n",
              "      <td>0.844</td>\n",
              "      <td>1</td>\n",
              "      <td>0.324324</td>\n",
              "      <td>0.3</td>\n",
              "      <td>0.299226</td>\n",
              "      <td>0.333333</td>\n",
              "      <td>1</td>\n",
              "      <td>0</td>\n",
              "      <td>0.464429</td>\n",
              "      <td>1</td>\n",
              "      <td>0</td>\n",
              "      <td>1</td>\n",
              "      <td>0</td>\n",
              "    </tr>\n",
              "    <tr>\n",
              "      <th>9999</th>\n",
              "      <td>0.884</td>\n",
              "      <td>0</td>\n",
              "      <td>0.135135</td>\n",
              "      <td>0.4</td>\n",
              "      <td>0.518708</td>\n",
              "      <td>0.000000</td>\n",
              "      <td>1</td>\n",
              "      <td>0</td>\n",
              "      <td>0.190914</td>\n",
              "      <td>0</td>\n",
              "      <td>1</td>\n",
              "      <td>0</td>\n",
              "      <td>0</td>\n",
              "    </tr>\n",
              "  </tbody>\n",
              "</table>\n",
              "<p>10000 rows × 13 columns</p>\n",
              "</div>"
            ],
            "text/plain": [
              "      CreditScore  Gender  ...  Geography_Germany  Geography_Spain\n",
              "0           0.538       0  ...                  0                0\n",
              "1           0.516       0  ...                  0                1\n",
              "2           0.304       0  ...                  0                0\n",
              "3           0.698       0  ...                  0                0\n",
              "4           1.000       0  ...                  0                1\n",
              "...           ...     ...  ...                ...              ...\n",
              "9995        0.842       1  ...                  0                0\n",
              "9996        0.332       1  ...                  0                0\n",
              "9997        0.718       0  ...                  0                0\n",
              "9998        0.844       1  ...                  1                0\n",
              "9999        0.884       0  ...                  0                0\n",
              "\n",
              "[10000 rows x 13 columns]"
            ]
          },
          "metadata": {
            "tags": []
          },
          "execution_count": 53
        }
      ]
    },
    {
      "cell_type": "code",
      "metadata": {
        "colab": {
          "base_uri": "https://localhost:8080/",
          "height": 304
        },
        "id": "jWe_lNnqTFpj",
        "outputId": "71f799d9-0e3b-4b87-88ae-053bfcda1df4"
      },
      "source": [
        "df1.describe()"
      ],
      "execution_count": 54,
      "outputs": [
        {
          "output_type": "execute_result",
          "data": {
            "text/html": [
              "<div>\n",
              "<style scoped>\n",
              "    .dataframe tbody tr th:only-of-type {\n",
              "        vertical-align: middle;\n",
              "    }\n",
              "\n",
              "    .dataframe tbody tr th {\n",
              "        vertical-align: top;\n",
              "    }\n",
              "\n",
              "    .dataframe thead th {\n",
              "        text-align: right;\n",
              "    }\n",
              "</style>\n",
              "<table border=\"1\" class=\"dataframe\">\n",
              "  <thead>\n",
              "    <tr style=\"text-align: right;\">\n",
              "      <th></th>\n",
              "      <th>CreditScore</th>\n",
              "      <th>Gender</th>\n",
              "      <th>Age</th>\n",
              "      <th>Tenure</th>\n",
              "      <th>Balance</th>\n",
              "      <th>NumOfProducts</th>\n",
              "      <th>HasCrCard</th>\n",
              "      <th>IsActiveMember</th>\n",
              "      <th>EstimatedSalary</th>\n",
              "      <th>Exited</th>\n",
              "      <th>Geography_France</th>\n",
              "      <th>Geography_Germany</th>\n",
              "      <th>Geography_Spain</th>\n",
              "    </tr>\n",
              "  </thead>\n",
              "  <tbody>\n",
              "    <tr>\n",
              "      <th>count</th>\n",
              "      <td>10000.000000</td>\n",
              "      <td>10000.000000</td>\n",
              "      <td>10000.000000</td>\n",
              "      <td>10000.000000</td>\n",
              "      <td>10000.000000</td>\n",
              "      <td>10000.000000</td>\n",
              "      <td>10000.00000</td>\n",
              "      <td>10000.000000</td>\n",
              "      <td>10000.000000</td>\n",
              "      <td>10000.000000</td>\n",
              "      <td>10000.000000</td>\n",
              "      <td>10000.000000</td>\n",
              "      <td>10000.000000</td>\n",
              "    </tr>\n",
              "    <tr>\n",
              "      <th>mean</th>\n",
              "      <td>0.601058</td>\n",
              "      <td>0.545700</td>\n",
              "      <td>0.282727</td>\n",
              "      <td>0.501280</td>\n",
              "      <td>0.304848</td>\n",
              "      <td>0.176733</td>\n",
              "      <td>0.70550</td>\n",
              "      <td>0.515100</td>\n",
              "      <td>0.500441</td>\n",
              "      <td>0.203700</td>\n",
              "      <td>0.501400</td>\n",
              "      <td>0.250900</td>\n",
              "      <td>0.247700</td>\n",
              "    </tr>\n",
              "    <tr>\n",
              "      <th>std</th>\n",
              "      <td>0.193307</td>\n",
              "      <td>0.497932</td>\n",
              "      <td>0.141727</td>\n",
              "      <td>0.289217</td>\n",
              "      <td>0.248696</td>\n",
              "      <td>0.193885</td>\n",
              "      <td>0.45584</td>\n",
              "      <td>0.499797</td>\n",
              "      <td>0.287580</td>\n",
              "      <td>0.402769</td>\n",
              "      <td>0.500023</td>\n",
              "      <td>0.433553</td>\n",
              "      <td>0.431698</td>\n",
              "    </tr>\n",
              "    <tr>\n",
              "      <th>min</th>\n",
              "      <td>0.000000</td>\n",
              "      <td>0.000000</td>\n",
              "      <td>0.000000</td>\n",
              "      <td>0.000000</td>\n",
              "      <td>0.000000</td>\n",
              "      <td>0.000000</td>\n",
              "      <td>0.00000</td>\n",
              "      <td>0.000000</td>\n",
              "      <td>0.000000</td>\n",
              "      <td>0.000000</td>\n",
              "      <td>0.000000</td>\n",
              "      <td>0.000000</td>\n",
              "      <td>0.000000</td>\n",
              "    </tr>\n",
              "    <tr>\n",
              "      <th>25%</th>\n",
              "      <td>0.468000</td>\n",
              "      <td>0.000000</td>\n",
              "      <td>0.189189</td>\n",
              "      <td>0.300000</td>\n",
              "      <td>0.000000</td>\n",
              "      <td>0.000000</td>\n",
              "      <td>0.00000</td>\n",
              "      <td>0.000000</td>\n",
              "      <td>0.254977</td>\n",
              "      <td>0.000000</td>\n",
              "      <td>0.000000</td>\n",
              "      <td>0.000000</td>\n",
              "      <td>0.000000</td>\n",
              "    </tr>\n",
              "    <tr>\n",
              "      <th>50%</th>\n",
              "      <td>0.604000</td>\n",
              "      <td>1.000000</td>\n",
              "      <td>0.256757</td>\n",
              "      <td>0.500000</td>\n",
              "      <td>0.387402</td>\n",
              "      <td>0.000000</td>\n",
              "      <td>1.00000</td>\n",
              "      <td>1.000000</td>\n",
              "      <td>0.500960</td>\n",
              "      <td>0.000000</td>\n",
              "      <td>1.000000</td>\n",
              "      <td>0.000000</td>\n",
              "      <td>0.000000</td>\n",
              "    </tr>\n",
              "    <tr>\n",
              "      <th>75%</th>\n",
              "      <td>0.736000</td>\n",
              "      <td>1.000000</td>\n",
              "      <td>0.351351</td>\n",
              "      <td>0.700000</td>\n",
              "      <td>0.508749</td>\n",
              "      <td>0.333333</td>\n",
              "      <td>1.00000</td>\n",
              "      <td>1.000000</td>\n",
              "      <td>0.746955</td>\n",
              "      <td>0.000000</td>\n",
              "      <td>1.000000</td>\n",
              "      <td>1.000000</td>\n",
              "      <td>0.000000</td>\n",
              "    </tr>\n",
              "    <tr>\n",
              "      <th>max</th>\n",
              "      <td>1.000000</td>\n",
              "      <td>1.000000</td>\n",
              "      <td>1.000000</td>\n",
              "      <td>1.000000</td>\n",
              "      <td>1.000000</td>\n",
              "      <td>1.000000</td>\n",
              "      <td>1.00000</td>\n",
              "      <td>1.000000</td>\n",
              "      <td>1.000000</td>\n",
              "      <td>1.000000</td>\n",
              "      <td>1.000000</td>\n",
              "      <td>1.000000</td>\n",
              "      <td>1.000000</td>\n",
              "    </tr>\n",
              "  </tbody>\n",
              "</table>\n",
              "</div>"
            ],
            "text/plain": [
              "        CreditScore        Gender  ...  Geography_Germany  Geography_Spain\n",
              "count  10000.000000  10000.000000  ...       10000.000000     10000.000000\n",
              "mean       0.601058      0.545700  ...           0.250900         0.247700\n",
              "std        0.193307      0.497932  ...           0.433553         0.431698\n",
              "min        0.000000      0.000000  ...           0.000000         0.000000\n",
              "25%        0.468000      0.000000  ...           0.000000         0.000000\n",
              "50%        0.604000      1.000000  ...           0.000000         0.000000\n",
              "75%        0.736000      1.000000  ...           1.000000         0.000000\n",
              "max        1.000000      1.000000  ...           1.000000         1.000000\n",
              "\n",
              "[8 rows x 13 columns]"
            ]
          },
          "metadata": {
            "tags": []
          },
          "execution_count": 54
        }
      ]
    },
    {
      "cell_type": "code",
      "metadata": {
        "id": "tNR2TAoUTkLl",
        "colab": {
          "base_uri": "https://localhost:8080/",
          "height": 215
        },
        "outputId": "a7b1e0e6-b238-49ba-e8d8-d430910d2aeb"
      },
      "source": [
        "x = df1.drop(['Exited'],axis=1)\n",
        "x.head()"
      ],
      "execution_count": 55,
      "outputs": [
        {
          "output_type": "execute_result",
          "data": {
            "text/html": [
              "<div>\n",
              "<style scoped>\n",
              "    .dataframe tbody tr th:only-of-type {\n",
              "        vertical-align: middle;\n",
              "    }\n",
              "\n",
              "    .dataframe tbody tr th {\n",
              "        vertical-align: top;\n",
              "    }\n",
              "\n",
              "    .dataframe thead th {\n",
              "        text-align: right;\n",
              "    }\n",
              "</style>\n",
              "<table border=\"1\" class=\"dataframe\">\n",
              "  <thead>\n",
              "    <tr style=\"text-align: right;\">\n",
              "      <th></th>\n",
              "      <th>CreditScore</th>\n",
              "      <th>Gender</th>\n",
              "      <th>Age</th>\n",
              "      <th>Tenure</th>\n",
              "      <th>Balance</th>\n",
              "      <th>NumOfProducts</th>\n",
              "      <th>HasCrCard</th>\n",
              "      <th>IsActiveMember</th>\n",
              "      <th>EstimatedSalary</th>\n",
              "      <th>Geography_France</th>\n",
              "      <th>Geography_Germany</th>\n",
              "      <th>Geography_Spain</th>\n",
              "    </tr>\n",
              "  </thead>\n",
              "  <tbody>\n",
              "    <tr>\n",
              "      <th>0</th>\n",
              "      <td>0.538</td>\n",
              "      <td>0</td>\n",
              "      <td>0.324324</td>\n",
              "      <td>0.2</td>\n",
              "      <td>0.000000</td>\n",
              "      <td>0.000000</td>\n",
              "      <td>1</td>\n",
              "      <td>1</td>\n",
              "      <td>0.506735</td>\n",
              "      <td>1</td>\n",
              "      <td>0</td>\n",
              "      <td>0</td>\n",
              "    </tr>\n",
              "    <tr>\n",
              "      <th>1</th>\n",
              "      <td>0.516</td>\n",
              "      <td>0</td>\n",
              "      <td>0.310811</td>\n",
              "      <td>0.1</td>\n",
              "      <td>0.334031</td>\n",
              "      <td>0.000000</td>\n",
              "      <td>0</td>\n",
              "      <td>1</td>\n",
              "      <td>0.562709</td>\n",
              "      <td>0</td>\n",
              "      <td>0</td>\n",
              "      <td>1</td>\n",
              "    </tr>\n",
              "    <tr>\n",
              "      <th>2</th>\n",
              "      <td>0.304</td>\n",
              "      <td>0</td>\n",
              "      <td>0.324324</td>\n",
              "      <td>0.8</td>\n",
              "      <td>0.636357</td>\n",
              "      <td>0.666667</td>\n",
              "      <td>1</td>\n",
              "      <td>0</td>\n",
              "      <td>0.569654</td>\n",
              "      <td>1</td>\n",
              "      <td>0</td>\n",
              "      <td>0</td>\n",
              "    </tr>\n",
              "    <tr>\n",
              "      <th>3</th>\n",
              "      <td>0.698</td>\n",
              "      <td>0</td>\n",
              "      <td>0.283784</td>\n",
              "      <td>0.1</td>\n",
              "      <td>0.000000</td>\n",
              "      <td>0.333333</td>\n",
              "      <td>0</td>\n",
              "      <td>0</td>\n",
              "      <td>0.469120</td>\n",
              "      <td>1</td>\n",
              "      <td>0</td>\n",
              "      <td>0</td>\n",
              "    </tr>\n",
              "    <tr>\n",
              "      <th>4</th>\n",
              "      <td>1.000</td>\n",
              "      <td>0</td>\n",
              "      <td>0.337838</td>\n",
              "      <td>0.2</td>\n",
              "      <td>0.500246</td>\n",
              "      <td>0.000000</td>\n",
              "      <td>1</td>\n",
              "      <td>1</td>\n",
              "      <td>0.395400</td>\n",
              "      <td>0</td>\n",
              "      <td>0</td>\n",
              "      <td>1</td>\n",
              "    </tr>\n",
              "  </tbody>\n",
              "</table>\n",
              "</div>"
            ],
            "text/plain": [
              "   CreditScore  Gender  ...  Geography_Germany  Geography_Spain\n",
              "0        0.538       0  ...                  0                0\n",
              "1        0.516       0  ...                  0                1\n",
              "2        0.304       0  ...                  0                0\n",
              "3        0.698       0  ...                  0                0\n",
              "4        1.000       0  ...                  0                1\n",
              "\n",
              "[5 rows x 12 columns]"
            ]
          },
          "metadata": {
            "tags": []
          },
          "execution_count": 55
        }
      ]
    },
    {
      "cell_type": "code",
      "metadata": {
        "colab": {
          "base_uri": "https://localhost:8080/"
        },
        "id": "ALoULjQU3C2U",
        "outputId": "191e29a9-4784-47a1-9838-141bf244aad3"
      },
      "source": [
        "y = df1['Exited']\n",
        "y.head()"
      ],
      "execution_count": 56,
      "outputs": [
        {
          "output_type": "execute_result",
          "data": {
            "text/plain": [
              "0    1\n",
              "1    0\n",
              "2    1\n",
              "3    0\n",
              "4    0\n",
              "Name: Exited, dtype: int64"
            ]
          },
          "metadata": {
            "tags": []
          },
          "execution_count": 56
        }
      ]
    },
    {
      "cell_type": "code",
      "metadata": {
        "id": "fFORyXcP3Jee"
      },
      "source": [
        "from sklearn.model_selection import train_test_split\n",
        "X_train, X_test, y_train, y_test = train_test_split(x,y,test_size=0.2,random_state=15,stratify=y)"
      ],
      "execution_count": 57,
      "outputs": []
    },
    {
      "cell_type": "code",
      "metadata": {
        "colab": {
          "base_uri": "https://localhost:8080/"
        },
        "id": "NiQ81kb1Va5M",
        "outputId": "a4d01c13-8bf2-4b94-8cfb-d95f87433052"
      },
      "source": [
        "X_train.shape"
      ],
      "execution_count": 58,
      "outputs": [
        {
          "output_type": "execute_result",
          "data": {
            "text/plain": [
              "(8000, 12)"
            ]
          },
          "metadata": {
            "tags": []
          },
          "execution_count": 58
        }
      ]
    },
    {
      "cell_type": "code",
      "metadata": {
        "colab": {
          "base_uri": "https://localhost:8080/"
        },
        "id": "hac49oA-Vt00",
        "outputId": "48f5d6ac-3016-46f5-d02c-4ccf378a4c12"
      },
      "source": [
        "X_test.shape"
      ],
      "execution_count": 59,
      "outputs": [
        {
          "output_type": "execute_result",
          "data": {
            "text/plain": [
              "(2000, 12)"
            ]
          },
          "metadata": {
            "tags": []
          },
          "execution_count": 59
        }
      ]
    },
    {
      "cell_type": "code",
      "metadata": {
        "colab": {
          "base_uri": "https://localhost:8080/",
          "height": 363
        },
        "id": "8MSWtggWVvgt",
        "outputId": "5ee447b7-e4a5-4517-ce94-d44f0a5f810d"
      },
      "source": [
        "X_train[0:10]"
      ],
      "execution_count": 60,
      "outputs": [
        {
          "output_type": "execute_result",
          "data": {
            "text/html": [
              "<div>\n",
              "<style scoped>\n",
              "    .dataframe tbody tr th:only-of-type {\n",
              "        vertical-align: middle;\n",
              "    }\n",
              "\n",
              "    .dataframe tbody tr th {\n",
              "        vertical-align: top;\n",
              "    }\n",
              "\n",
              "    .dataframe thead th {\n",
              "        text-align: right;\n",
              "    }\n",
              "</style>\n",
              "<table border=\"1\" class=\"dataframe\">\n",
              "  <thead>\n",
              "    <tr style=\"text-align: right;\">\n",
              "      <th></th>\n",
              "      <th>CreditScore</th>\n",
              "      <th>Gender</th>\n",
              "      <th>Age</th>\n",
              "      <th>Tenure</th>\n",
              "      <th>Balance</th>\n",
              "      <th>NumOfProducts</th>\n",
              "      <th>HasCrCard</th>\n",
              "      <th>IsActiveMember</th>\n",
              "      <th>EstimatedSalary</th>\n",
              "      <th>Geography_France</th>\n",
              "      <th>Geography_Germany</th>\n",
              "      <th>Geography_Spain</th>\n",
              "    </tr>\n",
              "  </thead>\n",
              "  <tbody>\n",
              "    <tr>\n",
              "      <th>5710</th>\n",
              "      <td>0.856</td>\n",
              "      <td>1</td>\n",
              "      <td>0.216216</td>\n",
              "      <td>0.5</td>\n",
              "      <td>0.554265</td>\n",
              "      <td>0.333333</td>\n",
              "      <td>0</td>\n",
              "      <td>0</td>\n",
              "      <td>0.339721</td>\n",
              "      <td>1</td>\n",
              "      <td>0</td>\n",
              "      <td>0</td>\n",
              "    </tr>\n",
              "    <tr>\n",
              "      <th>3745</th>\n",
              "      <td>0.852</td>\n",
              "      <td>0</td>\n",
              "      <td>0.256757</td>\n",
              "      <td>0.1</td>\n",
              "      <td>0.371163</td>\n",
              "      <td>0.333333</td>\n",
              "      <td>1</td>\n",
              "      <td>1</td>\n",
              "      <td>0.980432</td>\n",
              "      <td>0</td>\n",
              "      <td>1</td>\n",
              "      <td>0</td>\n",
              "    </tr>\n",
              "    <tr>\n",
              "      <th>5429</th>\n",
              "      <td>0.664</td>\n",
              "      <td>0</td>\n",
              "      <td>0.405405</td>\n",
              "      <td>0.7</td>\n",
              "      <td>0.000000</td>\n",
              "      <td>0.333333</td>\n",
              "      <td>1</td>\n",
              "      <td>0</td>\n",
              "      <td>0.325318</td>\n",
              "      <td>1</td>\n",
              "      <td>0</td>\n",
              "      <td>0</td>\n",
              "    </tr>\n",
              "    <tr>\n",
              "      <th>551</th>\n",
              "      <td>0.648</td>\n",
              "      <td>1</td>\n",
              "      <td>0.391892</td>\n",
              "      <td>0.6</td>\n",
              "      <td>0.426077</td>\n",
              "      <td>0.000000</td>\n",
              "      <td>1</td>\n",
              "      <td>1</td>\n",
              "      <td>0.010339</td>\n",
              "      <td>0</td>\n",
              "      <td>1</td>\n",
              "      <td>0</td>\n",
              "    </tr>\n",
              "    <tr>\n",
              "      <th>8967</th>\n",
              "      <td>0.970</td>\n",
              "      <td>1</td>\n",
              "      <td>0.094595</td>\n",
              "      <td>0.7</td>\n",
              "      <td>0.000000</td>\n",
              "      <td>0.333333</td>\n",
              "      <td>1</td>\n",
              "      <td>1</td>\n",
              "      <td>0.417230</td>\n",
              "      <td>1</td>\n",
              "      <td>0</td>\n",
              "      <td>0</td>\n",
              "    </tr>\n",
              "    <tr>\n",
              "      <th>4131</th>\n",
              "      <td>0.366</td>\n",
              "      <td>1</td>\n",
              "      <td>0.391892</td>\n",
              "      <td>0.9</td>\n",
              "      <td>0.332196</td>\n",
              "      <td>0.000000</td>\n",
              "      <td>1</td>\n",
              "      <td>1</td>\n",
              "      <td>0.688489</td>\n",
              "      <td>1</td>\n",
              "      <td>0</td>\n",
              "      <td>0</td>\n",
              "    </tr>\n",
              "    <tr>\n",
              "      <th>7576</th>\n",
              "      <td>0.652</td>\n",
              "      <td>1</td>\n",
              "      <td>0.121622</td>\n",
              "      <td>0.4</td>\n",
              "      <td>0.000000</td>\n",
              "      <td>0.000000</td>\n",
              "      <td>0</td>\n",
              "      <td>1</td>\n",
              "      <td>0.539772</td>\n",
              "      <td>0</td>\n",
              "      <td>0</td>\n",
              "      <td>1</td>\n",
              "    </tr>\n",
              "    <tr>\n",
              "      <th>6066</th>\n",
              "      <td>0.304</td>\n",
              "      <td>1</td>\n",
              "      <td>0.364865</td>\n",
              "      <td>0.0</td>\n",
              "      <td>0.000000</td>\n",
              "      <td>0.000000</td>\n",
              "      <td>0</td>\n",
              "      <td>0</td>\n",
              "      <td>0.423299</td>\n",
              "      <td>1</td>\n",
              "      <td>0</td>\n",
              "      <td>0</td>\n",
              "    </tr>\n",
              "    <tr>\n",
              "      <th>3747</th>\n",
              "      <td>0.510</td>\n",
              "      <td>1</td>\n",
              "      <td>0.189189</td>\n",
              "      <td>0.9</td>\n",
              "      <td>0.000000</td>\n",
              "      <td>0.333333</td>\n",
              "      <td>1</td>\n",
              "      <td>1</td>\n",
              "      <td>0.278590</td>\n",
              "      <td>1</td>\n",
              "      <td>0</td>\n",
              "      <td>0</td>\n",
              "    </tr>\n",
              "    <tr>\n",
              "      <th>6345</th>\n",
              "      <td>0.808</td>\n",
              "      <td>0</td>\n",
              "      <td>0.229730</td>\n",
              "      <td>0.4</td>\n",
              "      <td>0.000000</td>\n",
              "      <td>0.333333</td>\n",
              "      <td>1</td>\n",
              "      <td>0</td>\n",
              "      <td>0.224117</td>\n",
              "      <td>1</td>\n",
              "      <td>0</td>\n",
              "      <td>0</td>\n",
              "    </tr>\n",
              "  </tbody>\n",
              "</table>\n",
              "</div>"
            ],
            "text/plain": [
              "      CreditScore  Gender  ...  Geography_Germany  Geography_Spain\n",
              "5710        0.856       1  ...                  0                0\n",
              "3745        0.852       0  ...                  1                0\n",
              "5429        0.664       0  ...                  0                0\n",
              "551         0.648       1  ...                  1                0\n",
              "8967        0.970       1  ...                  0                0\n",
              "4131        0.366       1  ...                  0                0\n",
              "7576        0.652       1  ...                  0                1\n",
              "6066        0.304       1  ...                  0                0\n",
              "3747        0.510       1  ...                  0                0\n",
              "6345        0.808       0  ...                  0                0\n",
              "\n",
              "[10 rows x 12 columns]"
            ]
          },
          "metadata": {
            "tags": []
          },
          "execution_count": 60
        }
      ]
    },
    {
      "cell_type": "code",
      "metadata": {
        "id": "Y9DpUEke5hZt"
      },
      "source": [
        "def ANN(X_train, y_train, X_test, y_test, loss, weights):\n",
        "    model = keras.Sequential([\n",
        "        keras.layers.Dense(12, input_dim=12, activation='relu'),\n",
        "        keras.layers.Dense(8, activation='relu'),\n",
        "        keras.layers.Dense(1, activation='sigmoid')\n",
        "    ])\n",
        "\n",
        "    model.compile(optimizer='adam', loss=loss, metrics=['accuracy'])\n",
        "    \n",
        "    if weights == -1:\n",
        "        model.fit(X_train, y_train, epochs=100)\n",
        "    else:\n",
        "        model.fit(X_train, y_train, epochs=100, class_weight = weights)\n",
        "    \n",
        "    print(model.evaluate(X_test, y_test))\n",
        "    \n",
        "    y_preds = model.predict(X_test)\n",
        "    y_preds = np.round(y_preds)\n",
        "    \n",
        "    print(\"Classification Report: \\n\", classification_report(y_test, y_preds))\n",
        "    \n",
        "    return y_preds"
      ],
      "execution_count": 61,
      "outputs": []
    },
    {
      "cell_type": "code",
      "metadata": {
        "colab": {
          "base_uri": "https://localhost:8080/"
        },
        "id": "juiYmLjO56ps",
        "outputId": "ec0e52c9-c0c0-40f0-804a-99cf91d0923f"
      },
      "source": [
        "y_pred = ANN(X_train, y_train, X_test, y_test, 'binary_crossentropy', -1)"
      ],
      "execution_count": 62,
      "outputs": [
        {
          "output_type": "stream",
          "text": [
            "Epoch 1/100\n",
            "250/250 [==============================] - 1s 1ms/step - loss: 0.5470 - accuracy: 0.7523\n",
            "Epoch 2/100\n",
            "250/250 [==============================] - 0s 1ms/step - loss: 0.4759 - accuracy: 0.7962\n",
            "Epoch 3/100\n",
            "250/250 [==============================] - 0s 1ms/step - loss: 0.4643 - accuracy: 0.8002\n",
            "Epoch 4/100\n",
            "250/250 [==============================] - 0s 1ms/step - loss: 0.4555 - accuracy: 0.8065\n",
            "Epoch 5/100\n",
            "250/250 [==============================] - 0s 1ms/step - loss: 0.4464 - accuracy: 0.8106\n",
            "Epoch 6/100\n",
            "250/250 [==============================] - 0s 1ms/step - loss: 0.4395 - accuracy: 0.8133\n",
            "Epoch 7/100\n",
            "250/250 [==============================] - 0s 1ms/step - loss: 0.4329 - accuracy: 0.8171\n",
            "Epoch 8/100\n",
            "250/250 [==============================] - 0s 1ms/step - loss: 0.4283 - accuracy: 0.8199\n",
            "Epoch 9/100\n",
            "250/250 [==============================] - 0s 1ms/step - loss: 0.4247 - accuracy: 0.8238\n",
            "Epoch 10/100\n",
            "250/250 [==============================] - 0s 1ms/step - loss: 0.4210 - accuracy: 0.8253\n",
            "Epoch 11/100\n",
            "250/250 [==============================] - 0s 1ms/step - loss: 0.4173 - accuracy: 0.8270\n",
            "Epoch 12/100\n",
            "250/250 [==============================] - 0s 1ms/step - loss: 0.4150 - accuracy: 0.8281\n",
            "Epoch 13/100\n",
            "250/250 [==============================] - 0s 1ms/step - loss: 0.4124 - accuracy: 0.8292\n",
            "Epoch 14/100\n",
            "250/250 [==============================] - 0s 1ms/step - loss: 0.4099 - accuracy: 0.8296\n",
            "Epoch 15/100\n",
            "250/250 [==============================] - 0s 1ms/step - loss: 0.4088 - accuracy: 0.8305\n",
            "Epoch 16/100\n",
            "250/250 [==============================] - 0s 1ms/step - loss: 0.4075 - accuracy: 0.8317\n",
            "Epoch 17/100\n",
            "250/250 [==============================] - 0s 1ms/step - loss: 0.4061 - accuracy: 0.8315\n",
            "Epoch 18/100\n",
            "250/250 [==============================] - 0s 1ms/step - loss: 0.4050 - accuracy: 0.8329\n",
            "Epoch 19/100\n",
            "250/250 [==============================] - 0s 1ms/step - loss: 0.4044 - accuracy: 0.8335\n",
            "Epoch 20/100\n",
            "250/250 [==============================] - 0s 1ms/step - loss: 0.4029 - accuracy: 0.8345\n",
            "Epoch 21/100\n",
            "250/250 [==============================] - 0s 1ms/step - loss: 0.4023 - accuracy: 0.8338\n",
            "Epoch 22/100\n",
            "250/250 [==============================] - 0s 1ms/step - loss: 0.4015 - accuracy: 0.8329\n",
            "Epoch 23/100\n",
            "250/250 [==============================] - 0s 1ms/step - loss: 0.4011 - accuracy: 0.8342\n",
            "Epoch 24/100\n",
            "250/250 [==============================] - 0s 1ms/step - loss: 0.3996 - accuracy: 0.8336\n",
            "Epoch 25/100\n",
            "250/250 [==============================] - 0s 1ms/step - loss: 0.3996 - accuracy: 0.8336\n",
            "Epoch 26/100\n",
            "250/250 [==============================] - 0s 1ms/step - loss: 0.3983 - accuracy: 0.8342\n",
            "Epoch 27/100\n",
            "250/250 [==============================] - 0s 1ms/step - loss: 0.3979 - accuracy: 0.8335\n",
            "Epoch 28/100\n",
            "250/250 [==============================] - 0s 1ms/step - loss: 0.3965 - accuracy: 0.8353\n",
            "Epoch 29/100\n",
            "250/250 [==============================] - 0s 1ms/step - loss: 0.3949 - accuracy: 0.8338\n",
            "Epoch 30/100\n",
            "250/250 [==============================] - 0s 1ms/step - loss: 0.3940 - accuracy: 0.8363\n",
            "Epoch 31/100\n",
            "250/250 [==============================] - 0s 1ms/step - loss: 0.3932 - accuracy: 0.8363\n",
            "Epoch 32/100\n",
            "250/250 [==============================] - 0s 1ms/step - loss: 0.3900 - accuracy: 0.8389\n",
            "Epoch 33/100\n",
            "250/250 [==============================] - 0s 1ms/step - loss: 0.3883 - accuracy: 0.8380\n",
            "Epoch 34/100\n",
            "250/250 [==============================] - 0s 1ms/step - loss: 0.3857 - accuracy: 0.8397\n",
            "Epoch 35/100\n",
            "250/250 [==============================] - 0s 1ms/step - loss: 0.3836 - accuracy: 0.8391\n",
            "Epoch 36/100\n",
            "250/250 [==============================] - 0s 1ms/step - loss: 0.3807 - accuracy: 0.8421\n",
            "Epoch 37/100\n",
            "250/250 [==============================] - 0s 1ms/step - loss: 0.3788 - accuracy: 0.8425\n",
            "Epoch 38/100\n",
            "250/250 [==============================] - 0s 1ms/step - loss: 0.3770 - accuracy: 0.8414\n",
            "Epoch 39/100\n",
            "250/250 [==============================] - 0s 1ms/step - loss: 0.3744 - accuracy: 0.8449\n",
            "Epoch 40/100\n",
            "250/250 [==============================] - 0s 1ms/step - loss: 0.3721 - accuracy: 0.8438\n",
            "Epoch 41/100\n",
            "250/250 [==============================] - 0s 1ms/step - loss: 0.3701 - accuracy: 0.8465\n",
            "Epoch 42/100\n",
            "250/250 [==============================] - 0s 1ms/step - loss: 0.3688 - accuracy: 0.8469\n",
            "Epoch 43/100\n",
            "250/250 [==============================] - 0s 1ms/step - loss: 0.3672 - accuracy: 0.8465\n",
            "Epoch 44/100\n",
            "250/250 [==============================] - 0s 1ms/step - loss: 0.3648 - accuracy: 0.8478\n",
            "Epoch 45/100\n",
            "250/250 [==============================] - 0s 1ms/step - loss: 0.3635 - accuracy: 0.8496\n",
            "Epoch 46/100\n",
            "250/250 [==============================] - 0s 1ms/step - loss: 0.3618 - accuracy: 0.8489\n",
            "Epoch 47/100\n",
            "250/250 [==============================] - 0s 1ms/step - loss: 0.3608 - accuracy: 0.8514\n",
            "Epoch 48/100\n",
            "250/250 [==============================] - 0s 1ms/step - loss: 0.3589 - accuracy: 0.8522\n",
            "Epoch 49/100\n",
            "250/250 [==============================] - 0s 1ms/step - loss: 0.3584 - accuracy: 0.8528\n",
            "Epoch 50/100\n",
            "250/250 [==============================] - 0s 1ms/step - loss: 0.3565 - accuracy: 0.8543\n",
            "Epoch 51/100\n",
            "250/250 [==============================] - 0s 1ms/step - loss: 0.3548 - accuracy: 0.8533\n",
            "Epoch 52/100\n",
            "250/250 [==============================] - 0s 1ms/step - loss: 0.3539 - accuracy: 0.8526\n",
            "Epoch 53/100\n",
            "250/250 [==============================] - 0s 1ms/step - loss: 0.3534 - accuracy: 0.8545\n",
            "Epoch 54/100\n",
            "250/250 [==============================] - 0s 1ms/step - loss: 0.3516 - accuracy: 0.8555\n",
            "Epoch 55/100\n",
            "250/250 [==============================] - 0s 1ms/step - loss: 0.3499 - accuracy: 0.8587\n",
            "Epoch 56/100\n",
            "250/250 [==============================] - 0s 1ms/step - loss: 0.3497 - accuracy: 0.8569\n",
            "Epoch 57/100\n",
            "250/250 [==============================] - 0s 1ms/step - loss: 0.3482 - accuracy: 0.8577\n",
            "Epoch 58/100\n",
            "250/250 [==============================] - 0s 1ms/step - loss: 0.3466 - accuracy: 0.8597\n",
            "Epoch 59/100\n",
            "250/250 [==============================] - 0s 1ms/step - loss: 0.3469 - accuracy: 0.8584\n",
            "Epoch 60/100\n",
            "250/250 [==============================] - 0s 1ms/step - loss: 0.3459 - accuracy: 0.8590\n",
            "Epoch 61/100\n",
            "250/250 [==============================] - 0s 1ms/step - loss: 0.3454 - accuracy: 0.8596\n",
            "Epoch 62/100\n",
            "250/250 [==============================] - 0s 1ms/step - loss: 0.3454 - accuracy: 0.8569\n",
            "Epoch 63/100\n",
            "250/250 [==============================] - 0s 1ms/step - loss: 0.3441 - accuracy: 0.8615\n",
            "Epoch 64/100\n",
            "250/250 [==============================] - 0s 1ms/step - loss: 0.3453 - accuracy: 0.8587\n",
            "Epoch 65/100\n",
            "250/250 [==============================] - 0s 1ms/step - loss: 0.3439 - accuracy: 0.8604\n",
            "Epoch 66/100\n",
            "250/250 [==============================] - 0s 1ms/step - loss: 0.3439 - accuracy: 0.8615\n",
            "Epoch 67/100\n",
            "250/250 [==============================] - 0s 1ms/step - loss: 0.3424 - accuracy: 0.8604\n",
            "Epoch 68/100\n",
            "250/250 [==============================] - 0s 1ms/step - loss: 0.3430 - accuracy: 0.8597\n",
            "Epoch 69/100\n",
            "250/250 [==============================] - 0s 1ms/step - loss: 0.3425 - accuracy: 0.8609\n",
            "Epoch 70/100\n",
            "250/250 [==============================] - 0s 1ms/step - loss: 0.3426 - accuracy: 0.8597\n",
            "Epoch 71/100\n",
            "250/250 [==============================] - 0s 1ms/step - loss: 0.3420 - accuracy: 0.8609\n",
            "Epoch 72/100\n",
            "250/250 [==============================] - 0s 1ms/step - loss: 0.3425 - accuracy: 0.8602\n",
            "Epoch 73/100\n",
            "250/250 [==============================] - 0s 1ms/step - loss: 0.3414 - accuracy: 0.8601\n",
            "Epoch 74/100\n",
            "250/250 [==============================] - 0s 1ms/step - loss: 0.3417 - accuracy: 0.8601\n",
            "Epoch 75/100\n",
            "250/250 [==============================] - 0s 1ms/step - loss: 0.3412 - accuracy: 0.8618\n",
            "Epoch 76/100\n",
            "250/250 [==============================] - 0s 1ms/step - loss: 0.3421 - accuracy: 0.8601\n",
            "Epoch 77/100\n",
            "250/250 [==============================] - 0s 1ms/step - loss: 0.3424 - accuracy: 0.8594\n",
            "Epoch 78/100\n",
            "250/250 [==============================] - 0s 1ms/step - loss: 0.3405 - accuracy: 0.8610\n",
            "Epoch 79/100\n",
            "250/250 [==============================] - 0s 1ms/step - loss: 0.3416 - accuracy: 0.8572\n",
            "Epoch 80/100\n",
            "250/250 [==============================] - 0s 1ms/step - loss: 0.3407 - accuracy: 0.8618\n",
            "Epoch 81/100\n",
            "250/250 [==============================] - 0s 1ms/step - loss: 0.3407 - accuracy: 0.8594\n",
            "Epoch 82/100\n",
            "250/250 [==============================] - 0s 1ms/step - loss: 0.3404 - accuracy: 0.8591\n",
            "Epoch 83/100\n",
            "250/250 [==============================] - 0s 1ms/step - loss: 0.3399 - accuracy: 0.8601\n",
            "Epoch 84/100\n",
            "250/250 [==============================] - 0s 1ms/step - loss: 0.3405 - accuracy: 0.8619\n",
            "Epoch 85/100\n",
            "250/250 [==============================] - 0s 1ms/step - loss: 0.3394 - accuracy: 0.8609\n",
            "Epoch 86/100\n",
            "250/250 [==============================] - 0s 1ms/step - loss: 0.3395 - accuracy: 0.8599\n",
            "Epoch 87/100\n",
            "250/250 [==============================] - 0s 1ms/step - loss: 0.3398 - accuracy: 0.8597\n",
            "Epoch 88/100\n",
            "250/250 [==============================] - 0s 1ms/step - loss: 0.3403 - accuracy: 0.8609\n",
            "Epoch 89/100\n",
            "250/250 [==============================] - 0s 1ms/step - loss: 0.3387 - accuracy: 0.8609\n",
            "Epoch 90/100\n",
            "250/250 [==============================] - 0s 1ms/step - loss: 0.3383 - accuracy: 0.8611\n",
            "Epoch 91/100\n",
            "250/250 [==============================] - 0s 1ms/step - loss: 0.3385 - accuracy: 0.8624\n",
            "Epoch 92/100\n",
            "250/250 [==============================] - 0s 1ms/step - loss: 0.3392 - accuracy: 0.8605\n",
            "Epoch 93/100\n",
            "250/250 [==============================] - 0s 1ms/step - loss: 0.3389 - accuracy: 0.8590\n",
            "Epoch 94/100\n",
            "250/250 [==============================] - 0s 1ms/step - loss: 0.3381 - accuracy: 0.8630\n",
            "Epoch 95/100\n",
            "250/250 [==============================] - 0s 1ms/step - loss: 0.3382 - accuracy: 0.8605\n",
            "Epoch 96/100\n",
            "250/250 [==============================] - 0s 1ms/step - loss: 0.3386 - accuracy: 0.8624\n",
            "Epoch 97/100\n",
            "250/250 [==============================] - 0s 1ms/step - loss: 0.3383 - accuracy: 0.8612\n",
            "Epoch 98/100\n",
            "250/250 [==============================] - 0s 1ms/step - loss: 0.3378 - accuracy: 0.8615\n",
            "Epoch 99/100\n",
            "250/250 [==============================] - 0s 1ms/step - loss: 0.3379 - accuracy: 0.8615\n",
            "Epoch 100/100\n",
            "250/250 [==============================] - 0s 1ms/step - loss: 0.3377 - accuracy: 0.8618\n",
            "63/63 [==============================] - 0s 1ms/step - loss: 0.3339 - accuracy: 0.8610\n",
            "[0.33389607071876526, 0.8610000014305115]\n",
            "Classification Report: \n",
            "               precision    recall  f1-score   support\n",
            "\n",
            "           0       0.87      0.96      0.92      1593\n",
            "           1       0.77      0.46      0.57       407\n",
            "\n",
            "    accuracy                           0.86      2000\n",
            "   macro avg       0.82      0.71      0.74      2000\n",
            "weighted avg       0.85      0.86      0.85      2000\n",
            "\n"
          ],
          "name": "stdout"
        }
      ]
    },
    {
      "cell_type": "code",
      "metadata": {
        "colab": {
          "base_uri": "https://localhost:8080/",
          "height": 459
        },
        "id": "zOyOW7_lYDt6",
        "outputId": "7aa1410f-ab35-4701-f7dd-8aa8853a4ad1"
      },
      "source": [
        "cm = tf.math.confusion_matrix(labels=y_test,predictions=y_pred)\n",
        "\n",
        "plt.figure(figsize = (10,7))\n",
        "sns.heatmap(cm, annot=True, fmt='d')\n",
        "plt.xlabel('Predicted')\n",
        "plt.ylabel('Truth')"
      ],
      "execution_count": 63,
      "outputs": [
        {
          "output_type": "execute_result",
          "data": {
            "text/plain": [
              "Text(69.0, 0.5, 'Truth')"
            ]
          },
          "metadata": {
            "tags": []
          },
          "execution_count": 63
        },
        {
          "output_type": "display_data",
          "data": {
            "image/png": "[encoded data removed]",
            "text/plain": [
              "<Figure size 720x504 with 2 Axes>"
            ]
          },
          "metadata": {
            "tags": []
          }
        }
      ]
    },
    {
      "cell_type": "code",
      "metadata": {
        "id": "KbIb9S9zXj84"
      },
      "source": [
        "y_pred = []\n",
        "for element in y_pred:\n",
        "    if element > 0.5:\n",
        "        y_pred.append(1)\n",
        "    else:\n",
        "        y_pred.append(0)"
      ],
      "execution_count": 65,
      "outputs": []
    },
    {
      "cell_type": "code",
      "metadata": {
        "colab": {
          "base_uri": "https://localhost:8080/"
        },
        "id": "yCRsE2GjXsOo",
        "outputId": "82575f05-fa1f-461b-9d0f-b198621df336"
      },
      "source": [
        "y_pred[:10]"
      ],
      "execution_count": 66,
      "outputs": [
        {
          "output_type": "execute_result",
          "data": {
            "text/plain": [
              "[]"
            ]
          },
          "metadata": {
            "tags": []
          },
          "execution_count": 66
        }
      ]
    },
    {
      "cell_type": "code",
      "metadata": {
        "colab": {
          "base_uri": "https://localhost:8080/"
        },
        "id": "oy5MrINsXwV4",
        "outputId": "c0c5f5ce-f533-4bc5-aaf6-4c2031ec5992"
      },
      "source": [
        "y_test[:10]"
      ],
      "execution_count": 67,
      "outputs": [
        {
          "output_type": "execute_result",
          "data": {
            "text/plain": [
              "5337    1\n",
              "8732    0\n",
              "3359    0\n",
              "5580    0\n",
              "3485    1\n",
              "2608    0\n",
              "5334    0\n",
              "5953    0\n",
              "3939    0\n",
              "6463    0\n",
              "Name: Exited, dtype: int64"
            ]
          },
          "metadata": {
            "tags": []
          },
          "execution_count": 67
        }
      ]
    },
    {
      "cell_type": "markdown",
      "metadata": {
        "id": "QWfZZ3TY4PU5"
      },
      "source": [
        "# Method 1: Undersampling"
      ]
    },
    {
      "cell_type": "code",
      "metadata": {
        "id": "RYaThuwzYdj4"
      },
      "source": [
        "# Class count\n",
        "count_class_0, count_class_1 = df1.Exited.value_counts()\n",
        "\n",
        "# Divide by class\n",
        "df_class_0 = df1[df1['Exited'] == 0]\n",
        "df_class_1 = df1[df1['Exited'] == 1]"
      ],
      "execution_count": 68,
      "outputs": []
    },
    {
      "cell_type": "code",
      "metadata": {
        "colab": {
          "base_uri": "https://localhost:8080/"
        },
        "id": "QTSnKRSA4lyJ",
        "outputId": "83369d05-4ebf-4203-8cc9-0d453fe1c966"
      },
      "source": [
        "# Undersample 0-class and concat the DataFrames of both class\n",
        "df_class_0_under = df_class_0.sample(count_class_1)\n",
        "df_test_under = pd.concat([df_class_0_under, df_class_1], axis=0)\n",
        "\n",
        "print('Random under-sampling:')\n",
        "print(df_test_under.Exited.value_counts())"
      ],
      "execution_count": 69,
      "outputs": [
        {
          "output_type": "stream",
          "text": [
            "Random under-sampling:\n",
            "1    2037\n",
            "0    2037\n",
            "Name: Exited, dtype: int64\n"
          ],
          "name": "stdout"
        }
      ]
    },
    {
      "cell_type": "code",
      "metadata": {
        "id": "GIvbSjaS9r8o"
      },
      "source": [
        "X = df_test_under.drop('Exited',axis='columns')\n",
        "y = df_test_under['Exited']\n",
        "\n",
        "X_train, X_test, y_train, y_test = train_test_split(X, y, test_size=0.2, random_state=15, stratify=y)"
      ],
      "execution_count": 70,
      "outputs": []
    },
    {
      "cell_type": "code",
      "metadata": {
        "colab": {
          "base_uri": "https://localhost:8080/"
        },
        "id": "ZgFu9VKh8MIn",
        "outputId": "931c7e98-2a13-4950-d26e-885d86fa079d"
      },
      "source": [
        "y_train.value_counts()"
      ],
      "execution_count": 71,
      "outputs": [
        {
          "output_type": "execute_result",
          "data": {
            "text/plain": [
              "1    1630\n",
              "0    1629\n",
              "Name: Exited, dtype: int64"
            ]
          },
          "metadata": {
            "tags": []
          },
          "execution_count": 71
        }
      ]
    },
    {
      "cell_type": "code",
      "metadata": {
        "colab": {
          "base_uri": "https://localhost:8080/"
        },
        "id": "AFzukVrT8yTB",
        "outputId": "efd3e15d-eeb2-4287-90dd-bfc418fa7a44"
      },
      "source": [
        "y_pred1 = ANN(X_train, y_train, X_test, y_test, 'binary_crossentropy', -1)"
      ],
      "execution_count": 72,
      "outputs": [
        {
          "output_type": "stream",
          "text": [
            "Epoch 1/100\n",
            "102/102 [==============================] - 1s 1ms/step - loss: 0.6763 - accuracy: 0.5882\n",
            "Epoch 2/100\n",
            "102/102 [==============================] - 0s 1ms/step - loss: 0.6516 - accuracy: 0.6401\n",
            "Epoch 3/100\n",
            "102/102 [==============================] - 0s 1ms/step - loss: 0.6337 - accuracy: 0.6542\n",
            "Epoch 4/100\n",
            "102/102 [==============================] - 0s 1ms/step - loss: 0.6171 - accuracy: 0.6683\n",
            "Epoch 5/100\n",
            "102/102 [==============================] - 0s 1ms/step - loss: 0.6037 - accuracy: 0.6757\n",
            "Epoch 6/100\n",
            "102/102 [==============================] - 0s 1ms/step - loss: 0.5913 - accuracy: 0.6849\n",
            "Epoch 7/100\n",
            "102/102 [==============================] - 0s 1ms/step - loss: 0.5820 - accuracy: 0.6971\n",
            "Epoch 8/100\n",
            "102/102 [==============================] - 0s 1ms/step - loss: 0.5721 - accuracy: 0.7033\n",
            "Epoch 9/100\n",
            "102/102 [==============================] - 0s 1ms/step - loss: 0.5660 - accuracy: 0.7088\n",
            "Epoch 10/100\n",
            "102/102 [==============================] - 0s 1ms/step - loss: 0.5576 - accuracy: 0.7159\n",
            "Epoch 11/100\n",
            "102/102 [==============================] - 0s 1ms/step - loss: 0.5518 - accuracy: 0.7159\n",
            "Epoch 12/100\n",
            "102/102 [==============================] - 0s 1ms/step - loss: 0.5458 - accuracy: 0.7226\n",
            "Epoch 13/100\n",
            "102/102 [==============================] - 0s 1ms/step - loss: 0.5392 - accuracy: 0.7275\n",
            "Epoch 14/100\n",
            "102/102 [==============================] - 0s 1ms/step - loss: 0.5342 - accuracy: 0.7315\n",
            "Epoch 15/100\n",
            "102/102 [==============================] - 0s 1ms/step - loss: 0.5294 - accuracy: 0.7373\n",
            "Epoch 16/100\n",
            "102/102 [==============================] - 0s 1ms/step - loss: 0.5253 - accuracy: 0.7435\n",
            "Epoch 17/100\n",
            "102/102 [==============================] - 0s 1ms/step - loss: 0.5192 - accuracy: 0.7453\n",
            "Epoch 18/100\n",
            "102/102 [==============================] - 0s 1ms/step - loss: 0.5147 - accuracy: 0.7481\n",
            "Epoch 19/100\n",
            "102/102 [==============================] - 0s 1ms/step - loss: 0.5103 - accuracy: 0.7545\n",
            "Epoch 20/100\n",
            "102/102 [==============================] - 0s 1ms/step - loss: 0.5052 - accuracy: 0.7561\n",
            "Epoch 21/100\n",
            "102/102 [==============================] - 0s 1ms/step - loss: 0.5027 - accuracy: 0.7570\n",
            "Epoch 22/100\n",
            "102/102 [==============================] - 0s 1ms/step - loss: 0.5000 - accuracy: 0.7564\n",
            "Epoch 23/100\n",
            "102/102 [==============================] - 0s 1ms/step - loss: 0.4947 - accuracy: 0.7604\n",
            "Epoch 24/100\n",
            "102/102 [==============================] - 0s 1ms/step - loss: 0.4919 - accuracy: 0.7671\n",
            "Epoch 25/100\n",
            "102/102 [==============================] - 0s 1ms/step - loss: 0.4900 - accuracy: 0.7616\n",
            "Epoch 26/100\n",
            "102/102 [==============================] - 0s 1ms/step - loss: 0.4882 - accuracy: 0.7686\n",
            "Epoch 27/100\n",
            "102/102 [==============================] - 0s 1ms/step - loss: 0.4846 - accuracy: 0.7702\n",
            "Epoch 28/100\n",
            "102/102 [==============================] - 0s 1ms/step - loss: 0.4825 - accuracy: 0.7714\n",
            "Epoch 29/100\n",
            "102/102 [==============================] - 0s 1ms/step - loss: 0.4803 - accuracy: 0.7677\n",
            "Epoch 30/100\n",
            "102/102 [==============================] - 0s 1ms/step - loss: 0.4789 - accuracy: 0.7723\n",
            "Epoch 31/100\n",
            "102/102 [==============================] - 0s 1ms/step - loss: 0.4786 - accuracy: 0.7711\n",
            "Epoch 32/100\n",
            "102/102 [==============================] - 0s 1ms/step - loss: 0.4747 - accuracy: 0.7702\n",
            "Epoch 33/100\n",
            "102/102 [==============================] - 0s 2ms/step - loss: 0.4758 - accuracy: 0.7766\n",
            "Epoch 34/100\n",
            "102/102 [==============================] - 0s 1ms/step - loss: 0.4741 - accuracy: 0.7726\n",
            "Epoch 35/100\n",
            "102/102 [==============================] - 0s 1ms/step - loss: 0.4728 - accuracy: 0.7754\n",
            "Epoch 36/100\n",
            "102/102 [==============================] - 0s 1ms/step - loss: 0.4717 - accuracy: 0.7769\n",
            "Epoch 37/100\n",
            "102/102 [==============================] - 0s 1ms/step - loss: 0.4701 - accuracy: 0.7720\n",
            "Epoch 38/100\n",
            "102/102 [==============================] - 0s 1ms/step - loss: 0.4700 - accuracy: 0.7742\n",
            "Epoch 39/100\n",
            "102/102 [==============================] - 0s 1ms/step - loss: 0.4702 - accuracy: 0.7754\n",
            "Epoch 40/100\n",
            "102/102 [==============================] - 0s 1ms/step - loss: 0.4668 - accuracy: 0.7736\n",
            "Epoch 41/100\n",
            "102/102 [==============================] - 0s 1ms/step - loss: 0.4677 - accuracy: 0.7723\n",
            "Epoch 42/100\n",
            "102/102 [==============================] - 0s 1ms/step - loss: 0.4666 - accuracy: 0.7785\n",
            "Epoch 43/100\n",
            "102/102 [==============================] - 0s 1ms/step - loss: 0.4676 - accuracy: 0.7757\n",
            "Epoch 44/100\n",
            "102/102 [==============================] - 0s 1ms/step - loss: 0.4655 - accuracy: 0.7732\n",
            "Epoch 45/100\n",
            "102/102 [==============================] - 0s 1ms/step - loss: 0.4645 - accuracy: 0.7760\n",
            "Epoch 46/100\n",
            "102/102 [==============================] - 0s 1ms/step - loss: 0.4643 - accuracy: 0.7775\n",
            "Epoch 47/100\n",
            "102/102 [==============================] - 0s 2ms/step - loss: 0.4638 - accuracy: 0.7791\n",
            "Epoch 48/100\n",
            "102/102 [==============================] - 0s 1ms/step - loss: 0.4621 - accuracy: 0.7821\n",
            "Epoch 49/100\n",
            "102/102 [==============================] - 0s 1ms/step - loss: 0.4638 - accuracy: 0.7742\n",
            "Epoch 50/100\n",
            "102/102 [==============================] - 0s 1ms/step - loss: 0.4613 - accuracy: 0.7778\n",
            "Epoch 51/100\n",
            "102/102 [==============================] - 0s 1ms/step - loss: 0.4613 - accuracy: 0.7818\n",
            "Epoch 52/100\n",
            "102/102 [==============================] - 0s 1ms/step - loss: 0.4605 - accuracy: 0.7794\n",
            "Epoch 53/100\n",
            "102/102 [==============================] - 0s 1ms/step - loss: 0.4604 - accuracy: 0.7782\n",
            "Epoch 54/100\n",
            "102/102 [==============================] - 0s 1ms/step - loss: 0.4598 - accuracy: 0.7803\n",
            "Epoch 55/100\n",
            "102/102 [==============================] - 0s 1ms/step - loss: 0.4596 - accuracy: 0.7824\n",
            "Epoch 56/100\n",
            "102/102 [==============================] - 0s 1ms/step - loss: 0.4592 - accuracy: 0.7769\n",
            "Epoch 57/100\n",
            "102/102 [==============================] - 0s 1ms/step - loss: 0.4582 - accuracy: 0.7803\n",
            "Epoch 58/100\n",
            "102/102 [==============================] - 0s 1ms/step - loss: 0.4587 - accuracy: 0.7821\n",
            "Epoch 59/100\n",
            "102/102 [==============================] - 0s 1ms/step - loss: 0.4592 - accuracy: 0.7806\n",
            "Epoch 60/100\n",
            "102/102 [==============================] - 0s 2ms/step - loss: 0.4567 - accuracy: 0.7806\n",
            "Epoch 61/100\n",
            "102/102 [==============================] - 0s 1ms/step - loss: 0.4574 - accuracy: 0.7782\n",
            "Epoch 62/100\n",
            "102/102 [==============================] - 0s 1ms/step - loss: 0.4560 - accuracy: 0.7778\n",
            "Epoch 63/100\n",
            "102/102 [==============================] - 0s 1ms/step - loss: 0.4559 - accuracy: 0.7809\n",
            "Epoch 64/100\n",
            "102/102 [==============================] - 0s 1ms/step - loss: 0.4576 - accuracy: 0.7775\n",
            "Epoch 65/100\n",
            "102/102 [==============================] - 0s 1ms/step - loss: 0.4572 - accuracy: 0.7775\n",
            "Epoch 66/100\n",
            "102/102 [==============================] - 0s 1ms/step - loss: 0.4549 - accuracy: 0.7815\n",
            "Epoch 67/100\n",
            "102/102 [==============================] - 0s 1ms/step - loss: 0.4554 - accuracy: 0.7800\n",
            "Epoch 68/100\n",
            "102/102 [==============================] - 0s 1ms/step - loss: 0.4543 - accuracy: 0.7794\n",
            "Epoch 69/100\n",
            "102/102 [==============================] - 0s 2ms/step - loss: 0.4561 - accuracy: 0.7775\n",
            "Epoch 70/100\n",
            "102/102 [==============================] - 0s 1ms/step - loss: 0.4565 - accuracy: 0.7809\n",
            "Epoch 71/100\n",
            "102/102 [==============================] - 0s 1ms/step - loss: 0.4540 - accuracy: 0.7818\n",
            "Epoch 72/100\n",
            "102/102 [==============================] - 0s 1ms/step - loss: 0.4557 - accuracy: 0.7778\n",
            "Epoch 73/100\n",
            "102/102 [==============================] - 0s 1ms/step - loss: 0.4532 - accuracy: 0.7828\n",
            "Epoch 74/100\n",
            "102/102 [==============================] - 0s 1ms/step - loss: 0.4537 - accuracy: 0.7806\n",
            "Epoch 75/100\n",
            "102/102 [==============================] - 0s 1ms/step - loss: 0.4536 - accuracy: 0.7809\n",
            "Epoch 76/100\n",
            "102/102 [==============================] - 0s 1ms/step - loss: 0.4521 - accuracy: 0.7815\n",
            "Epoch 77/100\n",
            "102/102 [==============================] - 0s 1ms/step - loss: 0.4517 - accuracy: 0.7861\n",
            "Epoch 78/100\n",
            "102/102 [==============================] - 0s 1ms/step - loss: 0.4522 - accuracy: 0.7806\n",
            "Epoch 79/100\n",
            "102/102 [==============================] - 0s 1ms/step - loss: 0.4521 - accuracy: 0.7818\n",
            "Epoch 80/100\n",
            "102/102 [==============================] - 0s 2ms/step - loss: 0.4503 - accuracy: 0.7855\n",
            "Epoch 81/100\n",
            "102/102 [==============================] - 0s 1ms/step - loss: 0.4528 - accuracy: 0.7775\n",
            "Epoch 82/100\n",
            "102/102 [==============================] - 0s 1ms/step - loss: 0.4510 - accuracy: 0.7834\n",
            "Epoch 83/100\n",
            "102/102 [==============================] - 0s 1ms/step - loss: 0.4514 - accuracy: 0.7818\n",
            "Epoch 84/100\n",
            "102/102 [==============================] - 0s 1ms/step - loss: 0.4496 - accuracy: 0.7806\n",
            "Epoch 85/100\n",
            "102/102 [==============================] - 0s 1ms/step - loss: 0.4515 - accuracy: 0.7772\n",
            "Epoch 86/100\n",
            "102/102 [==============================] - 0s 1ms/step - loss: 0.4519 - accuracy: 0.7818\n",
            "Epoch 87/100\n",
            "102/102 [==============================] - 0s 1ms/step - loss: 0.4496 - accuracy: 0.7840\n",
            "Epoch 88/100\n",
            "102/102 [==============================] - 0s 1ms/step - loss: 0.4501 - accuracy: 0.7815\n",
            "Epoch 89/100\n",
            "102/102 [==============================] - 0s 1ms/step - loss: 0.4502 - accuracy: 0.7858\n",
            "Epoch 90/100\n",
            "102/102 [==============================] - 0s 1ms/step - loss: 0.4501 - accuracy: 0.7864\n",
            "Epoch 91/100\n",
            "102/102 [==============================] - 0s 1ms/step - loss: 0.4476 - accuracy: 0.7821\n",
            "Epoch 92/100\n",
            "102/102 [==============================] - 0s 1ms/step - loss: 0.4501 - accuracy: 0.7818\n",
            "Epoch 93/100\n",
            "102/102 [==============================] - 0s 1ms/step - loss: 0.4499 - accuracy: 0.7861\n",
            "Epoch 94/100\n",
            "102/102 [==============================] - 0s 1ms/step - loss: 0.4493 - accuracy: 0.7843\n",
            "Epoch 95/100\n",
            "102/102 [==============================] - 0s 1ms/step - loss: 0.4495 - accuracy: 0.7846\n",
            "Epoch 96/100\n",
            "102/102 [==============================] - 0s 1ms/step - loss: 0.4503 - accuracy: 0.7824\n",
            "Epoch 97/100\n",
            "102/102 [==============================] - 0s 1ms/step - loss: 0.4484 - accuracy: 0.7818\n",
            "Epoch 98/100\n",
            "102/102 [==============================] - 0s 1ms/step - loss: 0.4478 - accuracy: 0.7892\n",
            "Epoch 99/100\n",
            "102/102 [==============================] - 0s 1ms/step - loss: 0.4490 - accuracy: 0.7849\n",
            "Epoch 100/100\n",
            "102/102 [==============================] - 0s 1ms/step - loss: 0.4479 - accuracy: 0.7867\n",
            "26/26 [==============================] - 0s 1ms/step - loss: 0.4855 - accuracy: 0.7607\n",
            "[0.48546648025512695, 0.7607361674308777]\n",
            "Classification Report: \n",
            "               precision    recall  f1-score   support\n",
            "\n",
            "           0       0.77      0.75      0.76       408\n",
            "           1       0.76      0.77      0.76       407\n",
            "\n",
            "    accuracy                           0.76       815\n",
            "   macro avg       0.76      0.76      0.76       815\n",
            "weighted avg       0.76      0.76      0.76       815\n",
            "\n"
          ],
          "name": "stdout"
        }
      ]
    },
    {
      "cell_type": "code",
      "metadata": {
        "colab": {
          "base_uri": "https://localhost:8080/",
          "height": 459
        },
        "id": "VEEPbTJJ_J0t",
        "outputId": "f3fcad99-4b10-4d05-dc00-41ce78f97679"
      },
      "source": [
        "cm = tf.math.confusion_matrix(labels=y_test,predictions=y_pred1)\n",
        "\n",
        "plt.figure(figsize = (10,7))\n",
        "sns.heatmap(cm, annot=True, fmt='d')\n",
        "plt.xlabel('Predicted')\n",
        "plt.ylabel('Truth')"
      ],
      "execution_count": 73,
      "outputs": [
        {
          "output_type": "execute_result",
          "data": {
            "text/plain": [
              "Text(69.0, 0.5, 'Truth')"
            ]
          },
          "metadata": {
            "tags": []
          },
          "execution_count": 73
        },
        {
          "output_type": "display_data",
          "data": {
            "image/png": "[encoded data removed]",
            "text/plain": [
              "<Figure size 720x504 with 2 Axes>"
            ]
          },
          "metadata": {
            "tags": []
          }
        }
      ]
    },
    {
      "cell_type": "markdown",
      "metadata": {
        "id": "HzT-ETo19Wrs"
      },
      "source": [
        "# Method2: Oversampling"
      ]
    },
    {
      "cell_type": "code",
      "metadata": {
        "colab": {
          "base_uri": "https://localhost:8080/"
        },
        "id": "PG8-JRGr9IU8",
        "outputId": "1889ebe7-b0bd-4730-ab05-e25f8b184f8a"
      },
      "source": [
        "df_class_1_over = df_class_1.sample(count_class_0, replace=True)\n",
        "df_test_over = pd.concat([df_class_0, df_class_1_over], axis=0)\n",
        "\n",
        "print('Random over-sampling:')\n",
        "print(df_test_over.Exited.value_counts())"
      ],
      "execution_count": 74,
      "outputs": [
        {
          "output_type": "stream",
          "text": [
            "Random over-sampling:\n",
            "1    7963\n",
            "0    7963\n",
            "Name: Exited, dtype: int64\n"
          ],
          "name": "stdout"
        }
      ]
    },
    {
      "cell_type": "code",
      "metadata": {
        "id": "rZU28iSP9ejW"
      },
      "source": [
        "X = df_test_over.drop('Exited',axis='columns')\n",
        "y = df_test_over['Exited']\n",
        "\n",
        "X_train, X_test, y_train, y_test = train_test_split(X, y, test_size=0.2, random_state=15, stratify=y)"
      ],
      "execution_count": 75,
      "outputs": []
    },
    {
      "cell_type": "code",
      "metadata": {
        "colab": {
          "base_uri": "https://localhost:8080/"
        },
        "id": "HueWqAUv92Ts",
        "outputId": "d39330f3-f066-4745-96fd-e64410d915b0"
      },
      "source": [
        "y_pred2 = ANN(X_train, y_train, X_test, y_test, 'binary_crossentropy', -1)"
      ],
      "execution_count": 76,
      "outputs": [
        {
          "output_type": "stream",
          "text": [
            "Epoch 1/100\n",
            "399/399 [==============================] - 1s 1ms/step - loss: 0.6543 - accuracy: 0.6178\n",
            "Epoch 2/100\n",
            "399/399 [==============================] - 1s 1ms/step - loss: 0.6108 - accuracy: 0.6666\n",
            "Epoch 3/100\n",
            "399/399 [==============================] - 0s 1ms/step - loss: 0.5896 - accuracy: 0.6870\n",
            "Epoch 4/100\n",
            "399/399 [==============================] - 1s 1ms/step - loss: 0.5757 - accuracy: 0.6998\n",
            "Epoch 5/100\n",
            "399/399 [==============================] - 1s 1ms/step - loss: 0.5615 - accuracy: 0.7107\n",
            "Epoch 6/100\n",
            "399/399 [==============================] - 0s 1ms/step - loss: 0.5445 - accuracy: 0.7234\n",
            "Epoch 7/100\n",
            "399/399 [==============================] - 1s 1ms/step - loss: 0.5271 - accuracy: 0.7392\n",
            "Epoch 8/100\n",
            "399/399 [==============================] - 1s 1ms/step - loss: 0.5122 - accuracy: 0.7458\n",
            "Epoch 9/100\n",
            "399/399 [==============================] - 1s 1ms/step - loss: 0.4996 - accuracy: 0.7515\n",
            "Epoch 10/100\n",
            "399/399 [==============================] - 0s 1ms/step - loss: 0.4900 - accuracy: 0.7582\n",
            "Epoch 11/100\n",
            "399/399 [==============================] - 0s 1ms/step - loss: 0.4819 - accuracy: 0.7623\n",
            "Epoch 12/100\n",
            "399/399 [==============================] - 1s 1ms/step - loss: 0.4762 - accuracy: 0.7622\n",
            "Epoch 13/100\n",
            "399/399 [==============================] - 0s 1ms/step - loss: 0.4710 - accuracy: 0.7684\n",
            "Epoch 14/100\n",
            "399/399 [==============================] - 1s 1ms/step - loss: 0.4682 - accuracy: 0.7683\n",
            "Epoch 15/100\n",
            "399/399 [==============================] - 1s 1ms/step - loss: 0.4644 - accuracy: 0.7732\n",
            "Epoch 16/100\n",
            "399/399 [==============================] - 1s 1ms/step - loss: 0.4613 - accuracy: 0.7751\n",
            "Epoch 17/100\n",
            "399/399 [==============================] - 0s 1ms/step - loss: 0.4605 - accuracy: 0.7740\n",
            "Epoch 18/100\n",
            "399/399 [==============================] - 1s 1ms/step - loss: 0.4580 - accuracy: 0.7772\n",
            "Epoch 19/100\n",
            "399/399 [==============================] - 1s 1ms/step - loss: 0.4576 - accuracy: 0.7757\n",
            "Epoch 20/100\n",
            "399/399 [==============================] - 1s 1ms/step - loss: 0.4563 - accuracy: 0.7739\n",
            "Epoch 21/100\n",
            "399/399 [==============================] - 0s 1ms/step - loss: 0.4550 - accuracy: 0.7771\n",
            "Epoch 22/100\n",
            "399/399 [==============================] - 0s 1ms/step - loss: 0.4540 - accuracy: 0.7784\n",
            "Epoch 23/100\n",
            "399/399 [==============================] - 0s 1ms/step - loss: 0.4530 - accuracy: 0.7783\n",
            "Epoch 24/100\n",
            "399/399 [==============================] - 1s 1ms/step - loss: 0.4519 - accuracy: 0.7776\n",
            "Epoch 25/100\n",
            "399/399 [==============================] - 0s 1ms/step - loss: 0.4515 - accuracy: 0.7795\n",
            "Epoch 26/100\n",
            "399/399 [==============================] - 1s 1ms/step - loss: 0.4503 - accuracy: 0.7781\n",
            "Epoch 27/100\n",
            "399/399 [==============================] - 1s 1ms/step - loss: 0.4503 - accuracy: 0.7790\n",
            "Epoch 28/100\n",
            "399/399 [==============================] - 1s 1ms/step - loss: 0.4489 - accuracy: 0.7791\n",
            "Epoch 29/100\n",
            "399/399 [==============================] - 0s 1ms/step - loss: 0.4501 - accuracy: 0.7801\n",
            "Epoch 30/100\n",
            "399/399 [==============================] - 1s 1ms/step - loss: 0.4476 - accuracy: 0.7805\n",
            "Epoch 31/100\n",
            "399/399 [==============================] - 1s 1ms/step - loss: 0.4478 - accuracy: 0.7781\n",
            "Epoch 32/100\n",
            "399/399 [==============================] - 1s 1ms/step - loss: 0.4474 - accuracy: 0.7797\n",
            "Epoch 33/100\n",
            "399/399 [==============================] - 0s 1ms/step - loss: 0.4474 - accuracy: 0.7822\n",
            "Epoch 34/100\n",
            "399/399 [==============================] - 1s 1ms/step - loss: 0.4472 - accuracy: 0.7810\n",
            "Epoch 35/100\n",
            "399/399 [==============================] - 0s 1ms/step - loss: 0.4476 - accuracy: 0.7807\n",
            "Epoch 36/100\n",
            "399/399 [==============================] - 1s 1ms/step - loss: 0.4470 - accuracy: 0.7810\n",
            "Epoch 37/100\n",
            "399/399 [==============================] - 1s 1ms/step - loss: 0.4467 - accuracy: 0.7790\n",
            "Epoch 38/100\n",
            "399/399 [==============================] - 1s 1ms/step - loss: 0.4463 - accuracy: 0.7827\n",
            "Epoch 39/100\n",
            "399/399 [==============================] - 0s 1ms/step - loss: 0.4459 - accuracy: 0.7801\n",
            "Epoch 40/100\n",
            "399/399 [==============================] - 1s 1ms/step - loss: 0.4457 - accuracy: 0.7819\n",
            "Epoch 41/100\n",
            "399/399 [==============================] - 1s 1ms/step - loss: 0.4452 - accuracy: 0.7808\n",
            "Epoch 42/100\n",
            "399/399 [==============================] - 1s 1ms/step - loss: 0.4452 - accuracy: 0.7818\n",
            "Epoch 43/100\n",
            "399/399 [==============================] - 1s 1ms/step - loss: 0.4455 - accuracy: 0.7815\n",
            "Epoch 44/100\n",
            "399/399 [==============================] - 1s 1ms/step - loss: 0.4456 - accuracy: 0.7818\n",
            "Epoch 45/100\n",
            "399/399 [==============================] - 1s 1ms/step - loss: 0.4461 - accuracy: 0.7780\n",
            "Epoch 46/100\n",
            "399/399 [==============================] - 0s 1ms/step - loss: 0.4456 - accuracy: 0.7841\n",
            "Epoch 47/100\n",
            "399/399 [==============================] - 1s 1ms/step - loss: 0.4449 - accuracy: 0.7810\n",
            "Epoch 48/100\n",
            "399/399 [==============================] - 1s 1ms/step - loss: 0.4449 - accuracy: 0.7786\n",
            "Epoch 49/100\n",
            "399/399 [==============================] - 1s 1ms/step - loss: 0.4450 - accuracy: 0.7821\n",
            "Epoch 50/100\n",
            "399/399 [==============================] - 1s 1ms/step - loss: 0.4448 - accuracy: 0.7827\n",
            "Epoch 51/100\n",
            "399/399 [==============================] - 0s 1ms/step - loss: 0.4451 - accuracy: 0.7821\n",
            "Epoch 52/100\n",
            "399/399 [==============================] - 1s 1ms/step - loss: 0.4459 - accuracy: 0.7812\n",
            "Epoch 53/100\n",
            "399/399 [==============================] - 1s 1ms/step - loss: 0.4446 - accuracy: 0.7831\n",
            "Epoch 54/100\n",
            "399/399 [==============================] - 0s 1ms/step - loss: 0.4436 - accuracy: 0.7841\n",
            "Epoch 55/100\n",
            "399/399 [==============================] - 1s 1ms/step - loss: 0.4441 - accuracy: 0.7819\n",
            "Epoch 56/100\n",
            "399/399 [==============================] - 1s 1ms/step - loss: 0.4441 - accuracy: 0.7811\n",
            "Epoch 57/100\n",
            "399/399 [==============================] - 1s 1ms/step - loss: 0.4444 - accuracy: 0.7819\n",
            "Epoch 58/100\n",
            "399/399 [==============================] - 0s 1ms/step - loss: 0.4434 - accuracy: 0.7828\n",
            "Epoch 59/100\n",
            "399/399 [==============================] - 1s 1ms/step - loss: 0.4440 - accuracy: 0.7804\n",
            "Epoch 60/100\n",
            "399/399 [==============================] - 1s 1ms/step - loss: 0.4429 - accuracy: 0.7841\n",
            "Epoch 61/100\n",
            "399/399 [==============================] - 0s 1ms/step - loss: 0.4434 - accuracy: 0.7832\n",
            "Epoch 62/100\n",
            "399/399 [==============================] - 0s 1ms/step - loss: 0.4436 - accuracy: 0.7850\n",
            "Epoch 63/100\n",
            "399/399 [==============================] - 1s 1ms/step - loss: 0.4430 - accuracy: 0.7852\n",
            "Epoch 64/100\n",
            "399/399 [==============================] - 0s 1ms/step - loss: 0.4441 - accuracy: 0.7816\n",
            "Epoch 65/100\n",
            "399/399 [==============================] - 1s 1ms/step - loss: 0.4430 - accuracy: 0.7811\n",
            "Epoch 66/100\n",
            "399/399 [==============================] - 1s 1ms/step - loss: 0.4429 - accuracy: 0.7822\n",
            "Epoch 67/100\n",
            "399/399 [==============================] - 1s 1ms/step - loss: 0.4425 - accuracy: 0.7848\n",
            "Epoch 68/100\n",
            "399/399 [==============================] - 1s 1ms/step - loss: 0.4428 - accuracy: 0.7840\n",
            "Epoch 69/100\n",
            "399/399 [==============================] - 1s 1ms/step - loss: 0.4427 - accuracy: 0.7870\n",
            "Epoch 70/100\n",
            "399/399 [==============================] - 1s 1ms/step - loss: 0.4438 - accuracy: 0.7823\n",
            "Epoch 71/100\n",
            "399/399 [==============================] - 1s 1ms/step - loss: 0.4423 - accuracy: 0.7845\n",
            "Epoch 72/100\n",
            "399/399 [==============================] - 0s 1ms/step - loss: 0.4424 - accuracy: 0.7849\n",
            "Epoch 73/100\n",
            "399/399 [==============================] - 1s 1ms/step - loss: 0.4426 - accuracy: 0.7874\n",
            "Epoch 74/100\n",
            "399/399 [==============================] - 1s 1ms/step - loss: 0.4424 - accuracy: 0.7845\n",
            "Epoch 75/100\n",
            "399/399 [==============================] - 1s 1ms/step - loss: 0.4421 - accuracy: 0.7846\n",
            "Epoch 76/100\n",
            "399/399 [==============================] - 1s 1ms/step - loss: 0.4427 - accuracy: 0.7846\n",
            "Epoch 77/100\n",
            "399/399 [==============================] - 1s 1ms/step - loss: 0.4418 - accuracy: 0.7851\n",
            "Epoch 78/100\n",
            "399/399 [==============================] - 1s 1ms/step - loss: 0.4419 - accuracy: 0.7837\n",
            "Epoch 79/100\n",
            "399/399 [==============================] - 1s 1ms/step - loss: 0.4420 - accuracy: 0.7841\n",
            "Epoch 80/100\n",
            "399/399 [==============================] - 1s 1ms/step - loss: 0.4416 - accuracy: 0.7825\n",
            "Epoch 81/100\n",
            "399/399 [==============================] - 0s 1ms/step - loss: 0.4420 - accuracy: 0.7845\n",
            "Epoch 82/100\n",
            "399/399 [==============================] - 1s 1ms/step - loss: 0.4414 - accuracy: 0.7874\n",
            "Epoch 83/100\n",
            "399/399 [==============================] - 0s 1ms/step - loss: 0.4421 - accuracy: 0.7843\n",
            "Epoch 84/100\n",
            "399/399 [==============================] - 1s 1ms/step - loss: 0.4395 - accuracy: 0.7870\n",
            "Epoch 85/100\n",
            "399/399 [==============================] - 1s 1ms/step - loss: 0.4417 - accuracy: 0.7855\n",
            "Epoch 86/100\n",
            "399/399 [==============================] - 1s 1ms/step - loss: 0.4408 - accuracy: 0.7878\n",
            "Epoch 87/100\n",
            "399/399 [==============================] - 1s 1ms/step - loss: 0.4413 - accuracy: 0.7872\n",
            "Epoch 88/100\n",
            "399/399 [==============================] - 1s 1ms/step - loss: 0.4410 - accuracy: 0.7881\n",
            "Epoch 89/100\n",
            "399/399 [==============================] - 1s 1ms/step - loss: 0.4411 - accuracy: 0.7864\n",
            "Epoch 90/100\n",
            "399/399 [==============================] - 1s 1ms/step - loss: 0.4400 - accuracy: 0.7856\n",
            "Epoch 91/100\n",
            "399/399 [==============================] - 1s 1ms/step - loss: 0.4415 - accuracy: 0.7842\n",
            "Epoch 92/100\n",
            "399/399 [==============================] - 1s 1ms/step - loss: 0.4408 - accuracy: 0.7865\n",
            "Epoch 93/100\n",
            "399/399 [==============================] - 1s 1ms/step - loss: 0.4404 - accuracy: 0.7867\n",
            "Epoch 94/100\n",
            "399/399 [==============================] - 1s 1ms/step - loss: 0.4409 - accuracy: 0.7844\n",
            "Epoch 95/100\n",
            "399/399 [==============================] - 1s 1ms/step - loss: 0.4413 - accuracy: 0.7876\n",
            "Epoch 96/100\n",
            "399/399 [==============================] - 1s 1ms/step - loss: 0.4412 - accuracy: 0.7875\n",
            "Epoch 97/100\n",
            "399/399 [==============================] - 1s 1ms/step - loss: 0.4408 - accuracy: 0.7869\n",
            "Epoch 98/100\n",
            "399/399 [==============================] - 1s 1ms/step - loss: 0.4405 - accuracy: 0.7860\n",
            "Epoch 99/100\n",
            "399/399 [==============================] - 1s 1ms/step - loss: 0.4405 - accuracy: 0.7878\n",
            "Epoch 100/100\n",
            "399/399 [==============================] - 1s 1ms/step - loss: 0.4404 - accuracy: 0.7868\n",
            "100/100 [==============================] - 0s 1ms/step - loss: 0.4333 - accuracy: 0.7897\n",
            "[0.4332553446292877, 0.7897049784660339]\n",
            "Classification Report: \n",
            "               precision    recall  f1-score   support\n",
            "\n",
            "           0       0.79      0.80      0.79      1593\n",
            "           1       0.79      0.78      0.79      1593\n",
            "\n",
            "    accuracy                           0.79      3186\n",
            "   macro avg       0.79      0.79      0.79      3186\n",
            "weighted avg       0.79      0.79      0.79      3186\n",
            "\n"
          ],
          "name": "stdout"
        }
      ]
    },
    {
      "cell_type": "code",
      "metadata": {
        "colab": {
          "base_uri": "https://localhost:8080/",
          "height": 459
        },
        "id": "pZCU2036-A3U",
        "outputId": "d9013516-efa5-4f7a-c941-099adcf0893d"
      },
      "source": [
        "cm = tf.math.confusion_matrix(labels=y_test,predictions=y_pred2)\n",
        "\n",
        "plt.figure(figsize = (10,7))\n",
        "sns.heatmap(cm, annot=True, fmt='d')\n",
        "plt.xlabel('Predicted')\n",
        "plt.ylabel('Truth')"
      ],
      "execution_count": 77,
      "outputs": [
        {
          "output_type": "execute_result",
          "data": {
            "text/plain": [
              "Text(69.0, 0.5, 'Truth')"
            ]
          },
          "metadata": {
            "tags": []
          },
          "execution_count": 77
        },
        {
          "output_type": "display_data",
          "data": {
            "image/png": "[encoded data removed]",
            "text/plain": [
              "<Figure size 720x504 with 2 Axes>"
            ]
          },
          "metadata": {
            "tags": []
          }
        }
      ]
    },
    {
      "cell_type": "markdown",
      "metadata": {
        "id": "z1h2eJPtBDhD"
      },
      "source": [
        "#Method3: SMOTE"
      ]
    },
    {
      "cell_type": "code",
      "metadata": {
        "id": "DUIBKVPzAnbL"
      },
      "source": [
        "X = df1.drop('Exited',axis='columns')\n",
        "y = df1['Exited']"
      ],
      "execution_count": 78,
      "outputs": []
    },
    {
      "cell_type": "code",
      "metadata": {
        "colab": {
          "base_uri": "https://localhost:8080/"
        },
        "id": "WWrTZ0hQBNkD",
        "outputId": "0f35251e-cb2b-4a68-e621-f9bf1f0f6c4c"
      },
      "source": [
        "from imblearn.over_sampling import SMOTE\n",
        "\n",
        "smote = SMOTE(sampling_strategy='minority')\n",
        "X_sm, y_sm = smote.fit_sample(X, y)"
      ],
      "execution_count": 79,
      "outputs": [
        {
          "output_type": "stream",
          "text": [
            "/usr/local/lib/python3.7/dist-packages/sklearn/externals/six.py:31: FutureWarning: The module is deprecated in version 0.21 and will be removed in version 0.23 since we've dropped support for Python 2.7. Please rely on the official version of six (https://pypi.org/project/six/).\n",
            "  \"(https://pypi.org/project/six/).\", FutureWarning)\n",
            "/usr/local/lib/python3.7/dist-packages/sklearn/utils/deprecation.py:144: FutureWarning: The sklearn.neighbors.base module is  deprecated in version 0.22 and will be removed in version 0.24. The corresponding classes / functions should instead be imported from sklearn.neighbors. Anything that cannot be imported from sklearn.neighbors is now part of the private API.\n",
            "  warnings.warn(message, FutureWarning)\n",
            "/usr/local/lib/python3.7/dist-packages/sklearn/utils/deprecation.py:87: FutureWarning: Function safe_indexing is deprecated; safe_indexing is deprecated in version 0.22 and will be removed in version 0.24.\n",
            "  warnings.warn(msg, category=FutureWarning)\n"
          ],
          "name": "stderr"
        }
      ]
    },
    {
      "cell_type": "code",
      "metadata": {
        "id": "KlZB0_POBRlF"
      },
      "source": [
        "X_train, X_test, y_train, y_test = train_test_split(X_sm, y_sm, test_size=0.2, random_state=15, stratify=y_sm)"
      ],
      "execution_count": 80,
      "outputs": []
    },
    {
      "cell_type": "code",
      "metadata": {
        "colab": {
          "base_uri": "https://localhost:8080/"
        },
        "id": "bcQQhP2XBfon",
        "outputId": "637bfe82-67b7-4e11-ccb1-44e1f7932edc"
      },
      "source": [
        "y_pred3 = ANN(X_train, y_train, X_test, y_test, 'binary_crossentropy', -1)"
      ],
      "execution_count": 81,
      "outputs": [
        {
          "output_type": "stream",
          "text": [
            "Epoch 1/100\n",
            "399/399 [==============================] - 1s 1ms/step - loss: 0.6491 - accuracy: 0.6239\n",
            "Epoch 2/100\n",
            "399/399 [==============================] - 0s 1ms/step - loss: 0.6074 - accuracy: 0.6694\n",
            "Epoch 3/100\n",
            "399/399 [==============================] - 1s 1ms/step - loss: 0.5771 - accuracy: 0.6986\n",
            "Epoch 4/100\n",
            "399/399 [==============================] - 1s 1ms/step - loss: 0.5517 - accuracy: 0.7206\n",
            "Epoch 5/100\n",
            "399/399 [==============================] - 1s 1ms/step - loss: 0.5334 - accuracy: 0.7344\n",
            "Epoch 6/100\n",
            "399/399 [==============================] - 0s 1ms/step - loss: 0.5199 - accuracy: 0.7443\n",
            "Epoch 7/100\n",
            "399/399 [==============================] - 1s 1ms/step - loss: 0.5078 - accuracy: 0.7519\n",
            "Epoch 8/100\n",
            "399/399 [==============================] - 0s 1ms/step - loss: 0.4981 - accuracy: 0.7571\n",
            "Epoch 9/100\n",
            "399/399 [==============================] - 1s 1ms/step - loss: 0.4903 - accuracy: 0.7619\n",
            "Epoch 10/100\n",
            "399/399 [==============================] - 0s 1ms/step - loss: 0.4840 - accuracy: 0.7649\n",
            "Epoch 11/100\n",
            "399/399 [==============================] - 1s 1ms/step - loss: 0.4796 - accuracy: 0.7695\n",
            "Epoch 12/100\n",
            "399/399 [==============================] - 0s 1ms/step - loss: 0.4754 - accuracy: 0.7716\n",
            "Epoch 13/100\n",
            "399/399 [==============================] - 0s 1ms/step - loss: 0.4718 - accuracy: 0.7723\n",
            "Epoch 14/100\n",
            "399/399 [==============================] - 1s 1ms/step - loss: 0.4687 - accuracy: 0.7743\n",
            "Epoch 15/100\n",
            "399/399 [==============================] - 1s 1ms/step - loss: 0.4671 - accuracy: 0.7738\n",
            "Epoch 16/100\n",
            "399/399 [==============================] - 1s 1ms/step - loss: 0.4656 - accuracy: 0.7768\n",
            "Epoch 17/100\n",
            "399/399 [==============================] - 1s 1ms/step - loss: 0.4631 - accuracy: 0.7753\n",
            "Epoch 18/100\n",
            "399/399 [==============================] - 0s 1ms/step - loss: 0.4607 - accuracy: 0.7801\n",
            "Epoch 19/100\n",
            "399/399 [==============================] - 0s 1ms/step - loss: 0.4591 - accuracy: 0.7798\n",
            "Epoch 20/100\n",
            "399/399 [==============================] - 0s 1ms/step - loss: 0.4569 - accuracy: 0.7851\n",
            "Epoch 21/100\n",
            "399/399 [==============================] - 1s 1ms/step - loss: 0.4549 - accuracy: 0.7843\n",
            "Epoch 22/100\n",
            "399/399 [==============================] - 1s 1ms/step - loss: 0.4546 - accuracy: 0.7855\n",
            "Epoch 23/100\n",
            "399/399 [==============================] - 0s 1ms/step - loss: 0.4528 - accuracy: 0.7861\n",
            "Epoch 24/100\n",
            "399/399 [==============================] - 1s 1ms/step - loss: 0.4520 - accuracy: 0.7880\n",
            "Epoch 25/100\n",
            "399/399 [==============================] - 1s 1ms/step - loss: 0.4508 - accuracy: 0.7883\n",
            "Epoch 26/100\n",
            "399/399 [==============================] - 1s 1ms/step - loss: 0.4486 - accuracy: 0.7878\n",
            "Epoch 27/100\n",
            "399/399 [==============================] - 1s 1ms/step - loss: 0.4488 - accuracy: 0.7912\n",
            "Epoch 28/100\n",
            "399/399 [==============================] - 1s 1ms/step - loss: 0.4468 - accuracy: 0.7894\n",
            "Epoch 29/100\n",
            "399/399 [==============================] - 1s 1ms/step - loss: 0.4464 - accuracy: 0.7916\n",
            "Epoch 30/100\n",
            "399/399 [==============================] - 1s 1ms/step - loss: 0.4459 - accuracy: 0.7912\n",
            "Epoch 31/100\n",
            "399/399 [==============================] - 1s 1ms/step - loss: 0.4439 - accuracy: 0.7890\n",
            "Epoch 32/100\n",
            "399/399 [==============================] - 1s 1ms/step - loss: 0.4432 - accuracy: 0.7900\n",
            "Epoch 33/100\n",
            "399/399 [==============================] - 1s 1ms/step - loss: 0.4422 - accuracy: 0.7904\n",
            "Epoch 34/100\n",
            "399/399 [==============================] - 1s 1ms/step - loss: 0.4418 - accuracy: 0.7912\n",
            "Epoch 35/100\n",
            "399/399 [==============================] - 1s 1ms/step - loss: 0.4418 - accuracy: 0.7942\n",
            "Epoch 36/100\n",
            "399/399 [==============================] - 1s 1ms/step - loss: 0.4402 - accuracy: 0.7930\n",
            "Epoch 37/100\n",
            "399/399 [==============================] - 1s 1ms/step - loss: 0.4409 - accuracy: 0.7932\n",
            "Epoch 38/100\n",
            "399/399 [==============================] - 1s 1ms/step - loss: 0.4378 - accuracy: 0.7947\n",
            "Epoch 39/100\n",
            "399/399 [==============================] - 1s 1ms/step - loss: 0.4380 - accuracy: 0.7936\n",
            "Epoch 40/100\n",
            "399/399 [==============================] - 1s 1ms/step - loss: 0.4391 - accuracy: 0.7962\n",
            "Epoch 41/100\n",
            "399/399 [==============================] - 1s 1ms/step - loss: 0.4387 - accuracy: 0.7942\n",
            "Epoch 42/100\n",
            "399/399 [==============================] - 1s 1ms/step - loss: 0.4371 - accuracy: 0.7925\n",
            "Epoch 43/100\n",
            "399/399 [==============================] - 0s 1ms/step - loss: 0.4364 - accuracy: 0.7939\n",
            "Epoch 44/100\n",
            "399/399 [==============================] - 1s 1ms/step - loss: 0.4363 - accuracy: 0.7952\n",
            "Epoch 45/100\n",
            "399/399 [==============================] - 1s 1ms/step - loss: 0.4370 - accuracy: 0.7977\n",
            "Epoch 46/100\n",
            "399/399 [==============================] - 1s 1ms/step - loss: 0.4356 - accuracy: 0.7954\n",
            "Epoch 47/100\n",
            "399/399 [==============================] - 1s 1ms/step - loss: 0.4353 - accuracy: 0.7952\n",
            "Epoch 48/100\n",
            "399/399 [==============================] - 1s 1ms/step - loss: 0.4351 - accuracy: 0.7954\n",
            "Epoch 49/100\n",
            "399/399 [==============================] - 1s 1ms/step - loss: 0.4354 - accuracy: 0.7934\n",
            "Epoch 50/100\n",
            "399/399 [==============================] - 1s 1ms/step - loss: 0.4342 - accuracy: 0.7946\n",
            "Epoch 51/100\n",
            "399/399 [==============================] - 1s 1ms/step - loss: 0.4342 - accuracy: 0.7945\n",
            "Epoch 52/100\n",
            "399/399 [==============================] - 1s 1ms/step - loss: 0.4350 - accuracy: 0.7962\n",
            "Epoch 53/100\n",
            "399/399 [==============================] - 1s 1ms/step - loss: 0.4343 - accuracy: 0.7932\n",
            "Epoch 54/100\n",
            "399/399 [==============================] - 1s 1ms/step - loss: 0.4333 - accuracy: 0.7961\n",
            "Epoch 55/100\n",
            "399/399 [==============================] - 1s 1ms/step - loss: 0.4331 - accuracy: 0.7961\n",
            "Epoch 56/100\n",
            "399/399 [==============================] - 1s 1ms/step - loss: 0.4325 - accuracy: 0.7971\n",
            "Epoch 57/100\n",
            "399/399 [==============================] - 1s 1ms/step - loss: 0.4331 - accuracy: 0.7975\n",
            "Epoch 58/100\n",
            "399/399 [==============================] - 1s 1ms/step - loss: 0.4325 - accuracy: 0.7982\n",
            "Epoch 59/100\n",
            "399/399 [==============================] - 1s 1ms/step - loss: 0.4326 - accuracy: 0.7969\n",
            "Epoch 60/100\n",
            "399/399 [==============================] - 1s 1ms/step - loss: 0.4319 - accuracy: 0.7974\n",
            "Epoch 61/100\n",
            "399/399 [==============================] - 1s 1ms/step - loss: 0.4320 - accuracy: 0.7980\n",
            "Epoch 62/100\n",
            "399/399 [==============================] - 1s 1ms/step - loss: 0.4310 - accuracy: 0.7969\n",
            "Epoch 63/100\n",
            "399/399 [==============================] - 1s 1ms/step - loss: 0.4326 - accuracy: 0.8002\n",
            "Epoch 64/100\n",
            "399/399 [==============================] - 1s 1ms/step - loss: 0.4325 - accuracy: 0.7957\n",
            "Epoch 65/100\n",
            "399/399 [==============================] - 1s 1ms/step - loss: 0.4315 - accuracy: 0.7972\n",
            "Epoch 66/100\n",
            "399/399 [==============================] - 0s 1ms/step - loss: 0.4311 - accuracy: 0.7955\n",
            "Epoch 67/100\n",
            "399/399 [==============================] - 1s 1ms/step - loss: 0.4310 - accuracy: 0.7970\n",
            "Epoch 68/100\n",
            "399/399 [==============================] - 1s 1ms/step - loss: 0.4316 - accuracy: 0.7970\n",
            "Epoch 69/100\n",
            "399/399 [==============================] - 1s 1ms/step - loss: 0.4302 - accuracy: 0.7986\n",
            "Epoch 70/100\n",
            "399/399 [==============================] - 1s 1ms/step - loss: 0.4312 - accuracy: 0.7980\n",
            "Epoch 71/100\n",
            "399/399 [==============================] - 1s 1ms/step - loss: 0.4310 - accuracy: 0.7978\n",
            "Epoch 72/100\n",
            "399/399 [==============================] - 1s 1ms/step - loss: 0.4303 - accuracy: 0.8005\n",
            "Epoch 73/100\n",
            "399/399 [==============================] - 1s 1ms/step - loss: 0.4304 - accuracy: 0.7979\n",
            "Epoch 74/100\n",
            "399/399 [==============================] - 1s 1ms/step - loss: 0.4303 - accuracy: 0.7996\n",
            "Epoch 75/100\n",
            "399/399 [==============================] - 1s 1ms/step - loss: 0.4300 - accuracy: 0.7994\n",
            "Epoch 76/100\n",
            "399/399 [==============================] - 0s 1ms/step - loss: 0.4302 - accuracy: 0.8002\n",
            "Epoch 77/100\n",
            "399/399 [==============================] - 1s 1ms/step - loss: 0.4297 - accuracy: 0.7979\n",
            "Epoch 78/100\n",
            "399/399 [==============================] - 1s 1ms/step - loss: 0.4301 - accuracy: 0.7975\n",
            "Epoch 79/100\n",
            "399/399 [==============================] - 1s 1ms/step - loss: 0.4284 - accuracy: 0.7994\n",
            "Epoch 80/100\n",
            "399/399 [==============================] - 1s 1ms/step - loss: 0.4288 - accuracy: 0.7973\n",
            "Epoch 81/100\n",
            "399/399 [==============================] - 1s 1ms/step - loss: 0.4304 - accuracy: 0.7978\n",
            "Epoch 82/100\n",
            "399/399 [==============================] - 1s 1ms/step - loss: 0.4281 - accuracy: 0.7998\n",
            "Epoch 83/100\n",
            "399/399 [==============================] - 1s 1ms/step - loss: 0.4283 - accuracy: 0.8004\n",
            "Epoch 84/100\n",
            "399/399 [==============================] - 1s 1ms/step - loss: 0.4278 - accuracy: 0.8002\n",
            "Epoch 85/100\n",
            "399/399 [==============================] - 1s 1ms/step - loss: 0.4276 - accuracy: 0.7979\n",
            "Epoch 86/100\n",
            "399/399 [==============================] - 1s 1ms/step - loss: 0.4271 - accuracy: 0.8005\n",
            "Epoch 87/100\n",
            "399/399 [==============================] - 1s 1ms/step - loss: 0.4276 - accuracy: 0.7991\n",
            "Epoch 88/100\n",
            "399/399 [==============================] - 1s 1ms/step - loss: 0.4274 - accuracy: 0.7962\n",
            "Epoch 89/100\n",
            "399/399 [==============================] - 1s 1ms/step - loss: 0.4267 - accuracy: 0.8008\n",
            "Epoch 90/100\n",
            "399/399 [==============================] - 1s 1ms/step - loss: 0.4269 - accuracy: 0.8009\n",
            "Epoch 91/100\n",
            "399/399 [==============================] - 1s 1ms/step - loss: 0.4264 - accuracy: 0.7986\n",
            "Epoch 92/100\n",
            "399/399 [==============================] - 1s 1ms/step - loss: 0.4267 - accuracy: 0.8016\n",
            "Epoch 93/100\n",
            "399/399 [==============================] - 1s 1ms/step - loss: 0.4256 - accuracy: 0.8020\n",
            "Epoch 94/100\n",
            "399/399 [==============================] - 1s 1ms/step - loss: 0.4257 - accuracy: 0.8010\n",
            "Epoch 95/100\n",
            "399/399 [==============================] - 1s 1ms/step - loss: 0.4240 - accuracy: 0.8046\n",
            "Epoch 96/100\n",
            "399/399 [==============================] - 1s 1ms/step - loss: 0.4245 - accuracy: 0.8020\n",
            "Epoch 97/100\n",
            "399/399 [==============================] - 1s 1ms/step - loss: 0.4240 - accuracy: 0.8031\n",
            "Epoch 98/100\n",
            "399/399 [==============================] - 1s 1ms/step - loss: 0.4236 - accuracy: 0.8032\n",
            "Epoch 99/100\n",
            "399/399 [==============================] - 1s 1ms/step - loss: 0.4236 - accuracy: 0.8032\n",
            "Epoch 100/100\n",
            "399/399 [==============================] - 1s 1ms/step - loss: 0.4230 - accuracy: 0.8026\n",
            "100/100 [==============================] - 0s 1ms/step - loss: 0.4240 - accuracy: 0.7960\n",
            "[0.42397865653038025, 0.7959824204444885]\n",
            "Classification Report: \n",
            "               precision    recall  f1-score   support\n",
            "\n",
            "           0       0.79      0.81      0.80      1593\n",
            "           1       0.80      0.79      0.79      1593\n",
            "\n",
            "    accuracy                           0.80      3186\n",
            "   macro avg       0.80      0.80      0.80      3186\n",
            "weighted avg       0.80      0.80      0.80      3186\n",
            "\n"
          ],
          "name": "stdout"
        }
      ]
    },
    {
      "cell_type": "code",
      "metadata": {
        "colab": {
          "base_uri": "https://localhost:8080/",
          "height": 459
        },
        "id": "kNrbcpawD0m-",
        "outputId": "2baf0f4e-aaba-437a-f760-a4f54d0208af"
      },
      "source": [
        "cm = tf.math.confusion_matrix(labels=y_test,predictions=y_pred3)\n",
        "\n",
        "plt.figure(figsize = (10,7))\n",
        "sns.heatmap(cm, annot=True, fmt='d')\n",
        "plt.xlabel('Predicted')\n",
        "plt.ylabel('Truth')"
      ],
      "execution_count": 82,
      "outputs": [
        {
          "output_type": "execute_result",
          "data": {
            "text/plain": [
              "Text(69.0, 0.5, 'Truth')"
            ]
          },
          "metadata": {
            "tags": []
          },
          "execution_count": 82
        },
        {
          "output_type": "display_data",
          "data": {
            "image/png": "[encoded data removed]",
            "text/plain": [
              "<Figure size 720x504 with 2 Axes>"
            ]
          },
          "metadata": {
            "tags": []
          }
        }
      ]
    },
    {
      "cell_type": "markdown",
      "metadata": {
        "id": "VdpebjtlEoCM"
      },
      "source": [
        "# Method4: Use of Ensemble with undersampling"
      ]
    },
    {
      "cell_type": "code",
      "metadata": {
        "colab": {
          "base_uri": "https://localhost:8080/"
        },
        "id": "84bCbdobEd2P",
        "outputId": "7a434b8a-12d0-47e9-def7-2c40cdb15ba0"
      },
      "source": [
        "df1.Exited.value_counts()"
      ],
      "execution_count": 83,
      "outputs": [
        {
          "output_type": "execute_result",
          "data": {
            "text/plain": [
              "0    7963\n",
              "1    2037\n",
              "Name: Exited, dtype: int64"
            ]
          },
          "metadata": {
            "tags": []
          },
          "execution_count": 83
        }
      ]
    },
    {
      "cell_type": "code",
      "metadata": {
        "id": "Dmo3SshLEvzS"
      },
      "source": [
        "X = df1.drop('Exited',axis='columns')\n",
        "y = df1['Exited']"
      ],
      "execution_count": 84,
      "outputs": []
    },
    {
      "cell_type": "code",
      "metadata": {
        "id": "t2kebLvpE1uX"
      },
      "source": [
        "X_train, X_test, y_train, y_test = train_test_split(X, y, test_size=0.2, random_state=15, stratify=y)"
      ],
      "execution_count": 85,
      "outputs": []
    },
    {
      "cell_type": "code",
      "metadata": {
        "colab": {
          "base_uri": "https://localhost:8080/"
        },
        "id": "El8G4Jw1E38l",
        "outputId": "f5492789-426d-4699-c6ad-e0423355f38d"
      },
      "source": [
        "y_train.value_counts()"
      ],
      "execution_count": 86,
      "outputs": [
        {
          "output_type": "execute_result",
          "data": {
            "text/plain": [
              "0    6370\n",
              "1    1630\n",
              "Name: Exited, dtype: int64"
            ]
          },
          "metadata": {
            "tags": []
          },
          "execution_count": 86
        }
      ]
    },
    {
      "cell_type": "code",
      "metadata": {
        "id": "bTS_GDODE5m7"
      },
      "source": [
        "df2 = X_train.copy()\n",
        "df2['Exited'] = y_train"
      ],
      "execution_count": 87,
      "outputs": []
    },
    {
      "cell_type": "code",
      "metadata": {
        "colab": {
          "base_uri": "https://localhost:8080/",
          "height": 215
        },
        "id": "VN-FJ7s_FBwt",
        "outputId": "b518ce1b-358d-453f-c561-c5f9c6f0c157"
      },
      "source": [
        "df2.head()"
      ],
      "execution_count": 88,
      "outputs": [
        {
          "output_type": "execute_result",
          "data": {
            "text/html": [
              "<div>\n",
              "<style scoped>\n",
              "    .dataframe tbody tr th:only-of-type {\n",
              "        vertical-align: middle;\n",
              "    }\n",
              "\n",
              "    .dataframe tbody tr th {\n",
              "        vertical-align: top;\n",
              "    }\n",
              "\n",
              "    .dataframe thead th {\n",
              "        text-align: right;\n",
              "    }\n",
              "</style>\n",
              "<table border=\"1\" class=\"dataframe\">\n",
              "  <thead>\n",
              "    <tr style=\"text-align: right;\">\n",
              "      <th></th>\n",
              "      <th>CreditScore</th>\n",
              "      <th>Gender</th>\n",
              "      <th>Age</th>\n",
              "      <th>Tenure</th>\n",
              "      <th>Balance</th>\n",
              "      <th>NumOfProducts</th>\n",
              "      <th>HasCrCard</th>\n",
              "      <th>IsActiveMember</th>\n",
              "      <th>EstimatedSalary</th>\n",
              "      <th>Geography_France</th>\n",
              "      <th>Geography_Germany</th>\n",
              "      <th>Geography_Spain</th>\n",
              "      <th>Exited</th>\n",
              "    </tr>\n",
              "  </thead>\n",
              "  <tbody>\n",
              "    <tr>\n",
              "      <th>5710</th>\n",
              "      <td>0.856</td>\n",
              "      <td>1</td>\n",
              "      <td>0.216216</td>\n",
              "      <td>0.5</td>\n",
              "      <td>0.554265</td>\n",
              "      <td>0.333333</td>\n",
              "      <td>0</td>\n",
              "      <td>0</td>\n",
              "      <td>0.339721</td>\n",
              "      <td>1</td>\n",
              "      <td>0</td>\n",
              "      <td>0</td>\n",
              "      <td>0</td>\n",
              "    </tr>\n",
              "    <tr>\n",
              "      <th>3745</th>\n",
              "      <td>0.852</td>\n",
              "      <td>0</td>\n",
              "      <td>0.256757</td>\n",
              "      <td>0.1</td>\n",
              "      <td>0.371163</td>\n",
              "      <td>0.333333</td>\n",
              "      <td>1</td>\n",
              "      <td>1</td>\n",
              "      <td>0.980432</td>\n",
              "      <td>0</td>\n",
              "      <td>1</td>\n",
              "      <td>0</td>\n",
              "      <td>0</td>\n",
              "    </tr>\n",
              "    <tr>\n",
              "      <th>5429</th>\n",
              "      <td>0.664</td>\n",
              "      <td>0</td>\n",
              "      <td>0.405405</td>\n",
              "      <td>0.7</td>\n",
              "      <td>0.000000</td>\n",
              "      <td>0.333333</td>\n",
              "      <td>1</td>\n",
              "      <td>0</td>\n",
              "      <td>0.325318</td>\n",
              "      <td>1</td>\n",
              "      <td>0</td>\n",
              "      <td>0</td>\n",
              "      <td>0</td>\n",
              "    </tr>\n",
              "    <tr>\n",
              "      <th>551</th>\n",
              "      <td>0.648</td>\n",
              "      <td>1</td>\n",
              "      <td>0.391892</td>\n",
              "      <td>0.6</td>\n",
              "      <td>0.426077</td>\n",
              "      <td>0.000000</td>\n",
              "      <td>1</td>\n",
              "      <td>1</td>\n",
              "      <td>0.010339</td>\n",
              "      <td>0</td>\n",
              "      <td>1</td>\n",
              "      <td>0</td>\n",
              "      <td>1</td>\n",
              "    </tr>\n",
              "    <tr>\n",
              "      <th>8967</th>\n",
              "      <td>0.970</td>\n",
              "      <td>1</td>\n",
              "      <td>0.094595</td>\n",
              "      <td>0.7</td>\n",
              "      <td>0.000000</td>\n",
              "      <td>0.333333</td>\n",
              "      <td>1</td>\n",
              "      <td>1</td>\n",
              "      <td>0.417230</td>\n",
              "      <td>1</td>\n",
              "      <td>0</td>\n",
              "      <td>0</td>\n",
              "      <td>0</td>\n",
              "    </tr>\n",
              "  </tbody>\n",
              "</table>\n",
              "</div>"
            ],
            "text/plain": [
              "      CreditScore  Gender       Age  ...  Geography_Germany  Geography_Spain  Exited\n",
              "5710        0.856       1  0.216216  ...                  0                0       0\n",
              "3745        0.852       0  0.256757  ...                  1                0       0\n",
              "5429        0.664       0  0.405405  ...                  0                0       0\n",
              "551         0.648       1  0.391892  ...                  1                0       1\n",
              "8967        0.970       1  0.094595  ...                  0                0       0\n",
              "\n",
              "[5 rows x 13 columns]"
            ]
          },
          "metadata": {
            "tags": []
          },
          "execution_count": 88
        }
      ]
    },
    {
      "cell_type": "code",
      "metadata": {
        "id": "E5_aEHUsFDtS"
      },
      "source": [
        "df2_class0 = df2[df2.Exited==0]\n",
        "df2_class1 = df2[df2.Exited==1]"
      ],
      "execution_count": 89,
      "outputs": []
    },
    {
      "cell_type": "code",
      "metadata": {
        "id": "fpLY6it5FMj3"
      },
      "source": [
        "def get_train_batch(df_majority, df_minority, start, end):\n",
        "    df_train = pd.concat([df_majority[start:end], df_minority], axis=0)\n",
        "\n",
        "    X_train = df_train.drop('Exited', axis='columns')\n",
        "    y_train = df_train.Exited\n",
        "    return X_train, y_train"
      ],
      "execution_count": 90,
      "outputs": []
    },
    {
      "cell_type": "code",
      "metadata": {
        "colab": {
          "base_uri": "https://localhost:8080/"
        },
        "id": "oa5ydZOrFT2e",
        "outputId": "c14903b3-8ebd-4bfd-b272-c2167608a234"
      },
      "source": [
        "X_train, y_train = get_train_batch(df2_class0, df2_class1, 0, 1630)\n",
        "\n",
        "y_pred4_1 = ANN(X_train, y_train, X_test, y_test, 'binary_crossentropy', -1)"
      ],
      "execution_count": 91,
      "outputs": [
        {
          "output_type": "stream",
          "text": [
            "Epoch 1/100\n",
            "102/102 [==============================] - 1s 1ms/step - loss: 0.7258 - accuracy: 0.5402\n",
            "Epoch 2/100\n",
            "102/102 [==============================] - 0s 1ms/step - loss: 0.6601 - accuracy: 0.6347\n",
            "Epoch 3/100\n",
            "102/102 [==============================] - 0s 1ms/step - loss: 0.6384 - accuracy: 0.6632\n",
            "Epoch 4/100\n",
            "102/102 [==============================] - 0s 1ms/step - loss: 0.6238 - accuracy: 0.6724\n",
            "Epoch 5/100\n",
            "102/102 [==============================] - 0s 1ms/step - loss: 0.6142 - accuracy: 0.6804\n",
            "Epoch 6/100\n",
            "102/102 [==============================] - 0s 1ms/step - loss: 0.6068 - accuracy: 0.6847\n",
            "Epoch 7/100\n",
            "102/102 [==============================] - 0s 1ms/step - loss: 0.6019 - accuracy: 0.6899\n",
            "Epoch 8/100\n",
            "102/102 [==============================] - 0s 1ms/step - loss: 0.5968 - accuracy: 0.6877\n",
            "Epoch 9/100\n",
            "102/102 [==============================] - 0s 1ms/step - loss: 0.5927 - accuracy: 0.6883\n",
            "Epoch 10/100\n",
            "102/102 [==============================] - 0s 1ms/step - loss: 0.5887 - accuracy: 0.6936\n",
            "Epoch 11/100\n",
            "102/102 [==============================] - 0s 1ms/step - loss: 0.5863 - accuracy: 0.6994\n",
            "Epoch 12/100\n",
            "102/102 [==============================] - 0s 1ms/step - loss: 0.5816 - accuracy: 0.7015\n",
            "Epoch 13/100\n",
            "102/102 [==============================] - 0s 1ms/step - loss: 0.5799 - accuracy: 0.7025\n",
            "Epoch 14/100\n",
            "102/102 [==============================] - 0s 1ms/step - loss: 0.5771 - accuracy: 0.7052\n",
            "Epoch 15/100\n",
            "102/102 [==============================] - 0s 2ms/step - loss: 0.5753 - accuracy: 0.7071\n",
            "Epoch 16/100\n",
            "102/102 [==============================] - 0s 1ms/step - loss: 0.5730 - accuracy: 0.7018\n",
            "Epoch 17/100\n",
            "102/102 [==============================] - 0s 1ms/step - loss: 0.5716 - accuracy: 0.7092\n",
            "Epoch 18/100\n",
            "102/102 [==============================] - 0s 1ms/step - loss: 0.5673 - accuracy: 0.7107\n",
            "Epoch 19/100\n",
            "102/102 [==============================] - 0s 1ms/step - loss: 0.5661 - accuracy: 0.7156\n",
            "Epoch 20/100\n",
            "102/102 [==============================] - 0s 1ms/step - loss: 0.5635 - accuracy: 0.7163\n",
            "Epoch 21/100\n",
            "102/102 [==============================] - 0s 1ms/step - loss: 0.5617 - accuracy: 0.7196\n",
            "Epoch 22/100\n",
            "102/102 [==============================] - 0s 1ms/step - loss: 0.5591 - accuracy: 0.7190\n",
            "Epoch 23/100\n",
            "102/102 [==============================] - 0s 1ms/step - loss: 0.5579 - accuracy: 0.7193\n",
            "Epoch 24/100\n",
            "102/102 [==============================] - 0s 1ms/step - loss: 0.5545 - accuracy: 0.7233\n",
            "Epoch 25/100\n",
            "102/102 [==============================] - 0s 1ms/step - loss: 0.5510 - accuracy: 0.7258\n",
            "Epoch 26/100\n",
            "102/102 [==============================] - 0s 1ms/step - loss: 0.5480 - accuracy: 0.7258\n",
            "Epoch 27/100\n",
            "102/102 [==============================] - 0s 1ms/step - loss: 0.5465 - accuracy: 0.7310\n",
            "Epoch 28/100\n",
            "102/102 [==============================] - 0s 1ms/step - loss: 0.5434 - accuracy: 0.7325\n",
            "Epoch 29/100\n",
            "102/102 [==============================] - 0s 1ms/step - loss: 0.5391 - accuracy: 0.7365\n",
            "Epoch 30/100\n",
            "102/102 [==============================] - 0s 1ms/step - loss: 0.5388 - accuracy: 0.7313\n",
            "Epoch 31/100\n",
            "102/102 [==============================] - 0s 1ms/step - loss: 0.5359 - accuracy: 0.7359\n",
            "Epoch 32/100\n",
            "102/102 [==============================] - 0s 1ms/step - loss: 0.5325 - accuracy: 0.7377\n",
            "Epoch 33/100\n",
            "102/102 [==============================] - 0s 1ms/step - loss: 0.5300 - accuracy: 0.7426\n",
            "Epoch 34/100\n",
            "102/102 [==============================] - 0s 1ms/step - loss: 0.5277 - accuracy: 0.7402\n",
            "Epoch 35/100\n",
            "102/102 [==============================] - 0s 1ms/step - loss: 0.5242 - accuracy: 0.7451\n",
            "Epoch 36/100\n",
            "102/102 [==============================] - 0s 1ms/step - loss: 0.5228 - accuracy: 0.7423\n",
            "Epoch 37/100\n",
            "102/102 [==============================] - 0s 1ms/step - loss: 0.5206 - accuracy: 0.7408\n",
            "Epoch 38/100\n",
            "102/102 [==============================] - 0s 1ms/step - loss: 0.5180 - accuracy: 0.7451\n",
            "Epoch 39/100\n",
            "102/102 [==============================] - 0s 1ms/step - loss: 0.5162 - accuracy: 0.7460\n",
            "Epoch 40/100\n",
            "102/102 [==============================] - 0s 1ms/step - loss: 0.5126 - accuracy: 0.7491\n",
            "Epoch 41/100\n",
            "102/102 [==============================] - 0s 1ms/step - loss: 0.5120 - accuracy: 0.7472\n",
            "Epoch 42/100\n",
            "102/102 [==============================] - 0s 1ms/step - loss: 0.5089 - accuracy: 0.7564\n",
            "Epoch 43/100\n",
            "102/102 [==============================] - 0s 1ms/step - loss: 0.5056 - accuracy: 0.7540\n",
            "Epoch 44/100\n",
            "102/102 [==============================] - 0s 1ms/step - loss: 0.5040 - accuracy: 0.7506\n",
            "Epoch 45/100\n",
            "102/102 [==============================] - 0s 1ms/step - loss: 0.5019 - accuracy: 0.7531\n",
            "Epoch 46/100\n",
            "102/102 [==============================] - 0s 1ms/step - loss: 0.5006 - accuracy: 0.7540\n",
            "Epoch 47/100\n",
            "102/102 [==============================] - 0s 1ms/step - loss: 0.5000 - accuracy: 0.7583\n",
            "Epoch 48/100\n",
            "102/102 [==============================] - 0s 1ms/step - loss: 0.4981 - accuracy: 0.7561\n",
            "Epoch 49/100\n",
            "102/102 [==============================] - 0s 1ms/step - loss: 0.4953 - accuracy: 0.7620\n",
            "Epoch 50/100\n",
            "102/102 [==============================] - 0s 1ms/step - loss: 0.4953 - accuracy: 0.7583\n",
            "Epoch 51/100\n",
            "102/102 [==============================] - 0s 1ms/step - loss: 0.4933 - accuracy: 0.7586\n",
            "Epoch 52/100\n",
            "102/102 [==============================] - 0s 1ms/step - loss: 0.4904 - accuracy: 0.7669\n",
            "Epoch 53/100\n",
            "102/102 [==============================] - 0s 1ms/step - loss: 0.4900 - accuracy: 0.7607\n",
            "Epoch 54/100\n",
            "102/102 [==============================] - 0s 1ms/step - loss: 0.4894 - accuracy: 0.7632\n",
            "Epoch 55/100\n",
            "102/102 [==============================] - 0s 1ms/step - loss: 0.4877 - accuracy: 0.7635\n",
            "Epoch 56/100\n",
            "102/102 [==============================] - 0s 1ms/step - loss: 0.4862 - accuracy: 0.7666\n",
            "Epoch 57/100\n",
            "102/102 [==============================] - 0s 1ms/step - loss: 0.4871 - accuracy: 0.7702\n",
            "Epoch 58/100\n",
            "102/102 [==============================] - 0s 1ms/step - loss: 0.4845 - accuracy: 0.7644\n",
            "Epoch 59/100\n",
            "102/102 [==============================] - 0s 1ms/step - loss: 0.4835 - accuracy: 0.7638\n",
            "Epoch 60/100\n",
            "102/102 [==============================] - 0s 1ms/step - loss: 0.4829 - accuracy: 0.7678\n",
            "Epoch 61/100\n",
            "102/102 [==============================] - 0s 1ms/step - loss: 0.4825 - accuracy: 0.7693\n",
            "Epoch 62/100\n",
            "102/102 [==============================] - 0s 1ms/step - loss: 0.4815 - accuracy: 0.7721\n",
            "Epoch 63/100\n",
            "102/102 [==============================] - 0s 1ms/step - loss: 0.4810 - accuracy: 0.7696\n",
            "Epoch 64/100\n",
            "102/102 [==============================] - 0s 1ms/step - loss: 0.4802 - accuracy: 0.7739\n",
            "Epoch 65/100\n",
            "102/102 [==============================] - 0s 1ms/step - loss: 0.4792 - accuracy: 0.7650\n",
            "Epoch 66/100\n",
            "102/102 [==============================] - 0s 1ms/step - loss: 0.4789 - accuracy: 0.7718\n",
            "Epoch 67/100\n",
            "102/102 [==============================] - 0s 1ms/step - loss: 0.4792 - accuracy: 0.7702\n",
            "Epoch 68/100\n",
            "102/102 [==============================] - 0s 1ms/step - loss: 0.4766 - accuracy: 0.7724\n",
            "Epoch 69/100\n",
            "102/102 [==============================] - 0s 1ms/step - loss: 0.4774 - accuracy: 0.7721\n",
            "Epoch 70/100\n",
            "102/102 [==============================] - 0s 1ms/step - loss: 0.4772 - accuracy: 0.7712\n",
            "Epoch 71/100\n",
            "102/102 [==============================] - 0s 2ms/step - loss: 0.4762 - accuracy: 0.7727\n",
            "Epoch 72/100\n",
            "102/102 [==============================] - 0s 1ms/step - loss: 0.4769 - accuracy: 0.7712\n",
            "Epoch 73/100\n",
            "102/102 [==============================] - 0s 1ms/step - loss: 0.4744 - accuracy: 0.7699\n",
            "Epoch 74/100\n",
            "102/102 [==============================] - 0s 1ms/step - loss: 0.4744 - accuracy: 0.7748\n",
            "Epoch 75/100\n",
            "102/102 [==============================] - 0s 1ms/step - loss: 0.4748 - accuracy: 0.7690\n",
            "Epoch 76/100\n",
            "102/102 [==============================] - 0s 1ms/step - loss: 0.4742 - accuracy: 0.7715\n",
            "Epoch 77/100\n",
            "102/102 [==============================] - 0s 1ms/step - loss: 0.4735 - accuracy: 0.7742\n",
            "Epoch 78/100\n",
            "102/102 [==============================] - 0s 1ms/step - loss: 0.4731 - accuracy: 0.7755\n",
            "Epoch 79/100\n",
            "102/102 [==============================] - 0s 2ms/step - loss: 0.4739 - accuracy: 0.7752\n",
            "Epoch 80/100\n",
            "102/102 [==============================] - 0s 1ms/step - loss: 0.4737 - accuracy: 0.7730\n",
            "Epoch 81/100\n",
            "102/102 [==============================] - 0s 1ms/step - loss: 0.4725 - accuracy: 0.7755\n",
            "Epoch 82/100\n",
            "102/102 [==============================] - 0s 1ms/step - loss: 0.4714 - accuracy: 0.7748\n",
            "Epoch 83/100\n",
            "102/102 [==============================] - 0s 1ms/step - loss: 0.4709 - accuracy: 0.7724\n",
            "Epoch 84/100\n",
            "102/102 [==============================] - 0s 1ms/step - loss: 0.4716 - accuracy: 0.7770\n",
            "Epoch 85/100\n",
            "102/102 [==============================] - 0s 1ms/step - loss: 0.4702 - accuracy: 0.7739\n",
            "Epoch 86/100\n",
            "102/102 [==============================] - 0s 1ms/step - loss: 0.4699 - accuracy: 0.7748\n",
            "Epoch 87/100\n",
            "102/102 [==============================] - 0s 1ms/step - loss: 0.4691 - accuracy: 0.7752\n",
            "Epoch 88/100\n",
            "102/102 [==============================] - 0s 1ms/step - loss: 0.4700 - accuracy: 0.7736\n",
            "Epoch 89/100\n",
            "102/102 [==============================] - 0s 1ms/step - loss: 0.4708 - accuracy: 0.7733\n",
            "Epoch 90/100\n",
            "102/102 [==============================] - 0s 1ms/step - loss: 0.4686 - accuracy: 0.7755\n",
            "Epoch 91/100\n",
            "102/102 [==============================] - 0s 1ms/step - loss: 0.4695 - accuracy: 0.7730\n",
            "Epoch 92/100\n",
            "102/102 [==============================] - 0s 1ms/step - loss: 0.4684 - accuracy: 0.7702\n",
            "Epoch 93/100\n",
            "102/102 [==============================] - 0s 1ms/step - loss: 0.4670 - accuracy: 0.7718\n",
            "Epoch 94/100\n",
            "102/102 [==============================] - 0s 1ms/step - loss: 0.4678 - accuracy: 0.7696\n",
            "Epoch 95/100\n",
            "102/102 [==============================] - 0s 1ms/step - loss: 0.4670 - accuracy: 0.7752\n",
            "Epoch 96/100\n",
            "102/102 [==============================] - 0s 1ms/step - loss: 0.4667 - accuracy: 0.7736\n",
            "Epoch 97/100\n",
            "102/102 [==============================] - 0s 1ms/step - loss: 0.4663 - accuracy: 0.7730\n",
            "Epoch 98/100\n",
            "102/102 [==============================] - 0s 1ms/step - loss: 0.4645 - accuracy: 0.7794\n",
            "Epoch 99/100\n",
            "102/102 [==============================] - 0s 1ms/step - loss: 0.4656 - accuracy: 0.7699\n",
            "Epoch 100/100\n",
            "102/102 [==============================] - 0s 1ms/step - loss: 0.4640 - accuracy: 0.7702\n",
            "63/63 [==============================] - 0s 1ms/step - loss: 0.4478 - accuracy: 0.7855\n",
            "[0.44783857464790344, 0.7854999899864197]\n",
            "Classification Report: \n",
            "               precision    recall  f1-score   support\n",
            "\n",
            "           0       0.92      0.80      0.86      1593\n",
            "           1       0.48      0.73      0.58       407\n",
            "\n",
            "    accuracy                           0.79      2000\n",
            "   macro avg       0.70      0.76      0.72      2000\n",
            "weighted avg       0.83      0.79      0.80      2000\n",
            "\n"
          ],
          "name": "stdout"
        }
      ]
    },
    {
      "cell_type": "code",
      "metadata": {
        "colab": {
          "base_uri": "https://localhost:8080/"
        },
        "id": "hQQuxneBFajV",
        "outputId": "cf056f9e-d155-443d-edd9-cd378f94d0c7"
      },
      "source": [
        "X_train, y_train = get_train_batch(df2_class0, df2_class1, 1630,3260 )\n",
        "\n",
        "y_pred4_2 = ANN(X_train, y_train, X_test, y_test, 'binary_crossentropy', -1)"
      ],
      "execution_count": 92,
      "outputs": [
        {
          "output_type": "stream",
          "text": [
            "Epoch 1/100\n",
            "102/102 [==============================] - 1s 1ms/step - loss: 0.6927 - accuracy: 0.4988\n",
            "Epoch 2/100\n",
            "102/102 [==============================] - 0s 1ms/step - loss: 0.6743 - accuracy: 0.5788\n",
            "Epoch 3/100\n",
            "102/102 [==============================] - 0s 1ms/step - loss: 0.6583 - accuracy: 0.6239\n",
            "Epoch 4/100\n",
            "102/102 [==============================] - 0s 1ms/step - loss: 0.6417 - accuracy: 0.6521\n",
            "Epoch 5/100\n",
            "102/102 [==============================] - 0s 1ms/step - loss: 0.6262 - accuracy: 0.6604\n",
            "Epoch 6/100\n",
            "102/102 [==============================] - 0s 1ms/step - loss: 0.6156 - accuracy: 0.6752\n",
            "Epoch 7/100\n",
            "102/102 [==============================] - 0s 1ms/step - loss: 0.6049 - accuracy: 0.6840\n",
            "Epoch 8/100\n",
            "102/102 [==============================] - 0s 1ms/step - loss: 0.5949 - accuracy: 0.6868\n",
            "Epoch 9/100\n",
            "102/102 [==============================] - 0s 1ms/step - loss: 0.5830 - accuracy: 0.7015\n",
            "Epoch 10/100\n",
            "102/102 [==============================] - 0s 1ms/step - loss: 0.5705 - accuracy: 0.7074\n",
            "Epoch 11/100\n",
            "102/102 [==============================] - 0s 1ms/step - loss: 0.5590 - accuracy: 0.7261\n",
            "Epoch 12/100\n",
            "102/102 [==============================] - 0s 1ms/step - loss: 0.5496 - accuracy: 0.7307\n",
            "Epoch 13/100\n",
            "102/102 [==============================] - 0s 1ms/step - loss: 0.5427 - accuracy: 0.7368\n",
            "Epoch 14/100\n",
            "102/102 [==============================] - 0s 1ms/step - loss: 0.5346 - accuracy: 0.7387\n",
            "Epoch 15/100\n",
            "102/102 [==============================] - 0s 1ms/step - loss: 0.5274 - accuracy: 0.7469\n",
            "Epoch 16/100\n",
            "102/102 [==============================] - 0s 1ms/step - loss: 0.5234 - accuracy: 0.7525\n",
            "Epoch 17/100\n",
            "102/102 [==============================] - 0s 1ms/step - loss: 0.5184 - accuracy: 0.7549\n",
            "Epoch 18/100\n",
            "102/102 [==============================] - 0s 1ms/step - loss: 0.5148 - accuracy: 0.7574\n",
            "Epoch 19/100\n",
            "102/102 [==============================] - 0s 1ms/step - loss: 0.5116 - accuracy: 0.7561\n",
            "Epoch 20/100\n",
            "102/102 [==============================] - 0s 1ms/step - loss: 0.5095 - accuracy: 0.7589\n",
            "Epoch 21/100\n",
            "102/102 [==============================] - 0s 1ms/step - loss: 0.5067 - accuracy: 0.7620\n",
            "Epoch 22/100\n",
            "102/102 [==============================] - 0s 1ms/step - loss: 0.5036 - accuracy: 0.7644\n",
            "Epoch 23/100\n",
            "102/102 [==============================] - 0s 1ms/step - loss: 0.5021 - accuracy: 0.7653\n",
            "Epoch 24/100\n",
            "102/102 [==============================] - 0s 1ms/step - loss: 0.5023 - accuracy: 0.7647\n",
            "Epoch 25/100\n",
            "102/102 [==============================] - 0s 1ms/step - loss: 0.4993 - accuracy: 0.7666\n",
            "Epoch 26/100\n",
            "102/102 [==============================] - 0s 1ms/step - loss: 0.4993 - accuracy: 0.7613\n",
            "Epoch 27/100\n",
            "102/102 [==============================] - 0s 1ms/step - loss: 0.4978 - accuracy: 0.7684\n",
            "Epoch 28/100\n",
            "102/102 [==============================] - 0s 1ms/step - loss: 0.4963 - accuracy: 0.7666\n",
            "Epoch 29/100\n",
            "102/102 [==============================] - 0s 1ms/step - loss: 0.4952 - accuracy: 0.7678\n",
            "Epoch 30/100\n",
            "102/102 [==============================] - 0s 1ms/step - loss: 0.4961 - accuracy: 0.7647\n",
            "Epoch 31/100\n",
            "102/102 [==============================] - 0s 1ms/step - loss: 0.4937 - accuracy: 0.7681\n",
            "Epoch 32/100\n",
            "102/102 [==============================] - 0s 1ms/step - loss: 0.4939 - accuracy: 0.7638\n",
            "Epoch 33/100\n",
            "102/102 [==============================] - 0s 1ms/step - loss: 0.4928 - accuracy: 0.7693\n",
            "Epoch 34/100\n",
            "102/102 [==============================] - 0s 1ms/step - loss: 0.4924 - accuracy: 0.7672\n",
            "Epoch 35/100\n",
            "102/102 [==============================] - 0s 1ms/step - loss: 0.4918 - accuracy: 0.7706\n",
            "Epoch 36/100\n",
            "102/102 [==============================] - 0s 1ms/step - loss: 0.4922 - accuracy: 0.7696\n",
            "Epoch 37/100\n",
            "102/102 [==============================] - 0s 1ms/step - loss: 0.4908 - accuracy: 0.7696\n",
            "Epoch 38/100\n",
            "102/102 [==============================] - 0s 1ms/step - loss: 0.4909 - accuracy: 0.7672\n",
            "Epoch 39/100\n",
            "102/102 [==============================] - 0s 1ms/step - loss: 0.4917 - accuracy: 0.7678\n",
            "Epoch 40/100\n",
            "102/102 [==============================] - 0s 1ms/step - loss: 0.4903 - accuracy: 0.7678\n",
            "Epoch 41/100\n",
            "102/102 [==============================] - 0s 1ms/step - loss: 0.4892 - accuracy: 0.7690\n",
            "Epoch 42/100\n",
            "102/102 [==============================] - 0s 1ms/step - loss: 0.4902 - accuracy: 0.7675\n",
            "Epoch 43/100\n",
            "102/102 [==============================] - 0s 1ms/step - loss: 0.4884 - accuracy: 0.7632\n",
            "Epoch 44/100\n",
            "102/102 [==============================] - 0s 1ms/step - loss: 0.4894 - accuracy: 0.7684\n",
            "Epoch 45/100\n",
            "102/102 [==============================] - 0s 1ms/step - loss: 0.4873 - accuracy: 0.7635\n",
            "Epoch 46/100\n",
            "102/102 [==============================] - 0s 1ms/step - loss: 0.4882 - accuracy: 0.7650\n",
            "Epoch 47/100\n",
            "102/102 [==============================] - 0s 1ms/step - loss: 0.4860 - accuracy: 0.7638\n",
            "Epoch 48/100\n",
            "102/102 [==============================] - 0s 1ms/step - loss: 0.4845 - accuracy: 0.7678\n",
            "Epoch 49/100\n",
            "102/102 [==============================] - 0s 1ms/step - loss: 0.4833 - accuracy: 0.7669\n",
            "Epoch 50/100\n",
            "102/102 [==============================] - 0s 1ms/step - loss: 0.4820 - accuracy: 0.7684\n",
            "Epoch 51/100\n",
            "102/102 [==============================] - 0s 1ms/step - loss: 0.4813 - accuracy: 0.7715\n",
            "Epoch 52/100\n",
            "102/102 [==============================] - 0s 1ms/step - loss: 0.4812 - accuracy: 0.7690\n",
            "Epoch 53/100\n",
            "102/102 [==============================] - 0s 1ms/step - loss: 0.4806 - accuracy: 0.7681\n",
            "Epoch 54/100\n",
            "102/102 [==============================] - 0s 1ms/step - loss: 0.4800 - accuracy: 0.7699\n",
            "Epoch 55/100\n",
            "102/102 [==============================] - 0s 1ms/step - loss: 0.4785 - accuracy: 0.7660\n",
            "Epoch 56/100\n",
            "102/102 [==============================] - 0s 1ms/step - loss: 0.4780 - accuracy: 0.7684\n",
            "Epoch 57/100\n",
            "102/102 [==============================] - 0s 1ms/step - loss: 0.4767 - accuracy: 0.7678\n",
            "Epoch 58/100\n",
            "102/102 [==============================] - 0s 1ms/step - loss: 0.4756 - accuracy: 0.7696\n",
            "Epoch 59/100\n",
            "102/102 [==============================] - 0s 1ms/step - loss: 0.4765 - accuracy: 0.7733\n",
            "Epoch 60/100\n",
            "102/102 [==============================] - 0s 1ms/step - loss: 0.4744 - accuracy: 0.7684\n",
            "Epoch 61/100\n",
            "102/102 [==============================] - 0s 1ms/step - loss: 0.4744 - accuracy: 0.7693\n",
            "Epoch 62/100\n",
            "102/102 [==============================] - 0s 1ms/step - loss: 0.4737 - accuracy: 0.7715\n",
            "Epoch 63/100\n",
            "102/102 [==============================] - 0s 1ms/step - loss: 0.4727 - accuracy: 0.7748\n",
            "Epoch 64/100\n",
            "102/102 [==============================] - 0s 1ms/step - loss: 0.4725 - accuracy: 0.7718\n",
            "Epoch 65/100\n",
            "102/102 [==============================] - 0s 1ms/step - loss: 0.4708 - accuracy: 0.7696\n",
            "Epoch 66/100\n",
            "102/102 [==============================] - 0s 1ms/step - loss: 0.4717 - accuracy: 0.7721\n",
            "Epoch 67/100\n",
            "102/102 [==============================] - 0s 1ms/step - loss: 0.4708 - accuracy: 0.7709\n",
            "Epoch 68/100\n",
            "102/102 [==============================] - 0s 1ms/step - loss: 0.4719 - accuracy: 0.7742\n",
            "Epoch 69/100\n",
            "102/102 [==============================] - 0s 1ms/step - loss: 0.4699 - accuracy: 0.7718\n",
            "Epoch 70/100\n",
            "102/102 [==============================] - 0s 1ms/step - loss: 0.4704 - accuracy: 0.7736\n",
            "Epoch 71/100\n",
            "102/102 [==============================] - 0s 1ms/step - loss: 0.4700 - accuracy: 0.7724\n",
            "Epoch 72/100\n",
            "102/102 [==============================] - 0s 1ms/step - loss: 0.4704 - accuracy: 0.7742\n",
            "Epoch 73/100\n",
            "102/102 [==============================] - 0s 1ms/step - loss: 0.4676 - accuracy: 0.7764\n",
            "Epoch 74/100\n",
            "102/102 [==============================] - 0s 1ms/step - loss: 0.4680 - accuracy: 0.7742\n",
            "Epoch 75/100\n",
            "102/102 [==============================] - 0s 1ms/step - loss: 0.4674 - accuracy: 0.7776\n",
            "Epoch 76/100\n",
            "102/102 [==============================] - 0s 1ms/step - loss: 0.4665 - accuracy: 0.7748\n",
            "Epoch 77/100\n",
            "102/102 [==============================] - 0s 1ms/step - loss: 0.4690 - accuracy: 0.7745\n",
            "Epoch 78/100\n",
            "102/102 [==============================] - 0s 1ms/step - loss: 0.4663 - accuracy: 0.7779\n",
            "Epoch 79/100\n",
            "102/102 [==============================] - 0s 1ms/step - loss: 0.4653 - accuracy: 0.7776\n",
            "Epoch 80/100\n",
            "102/102 [==============================] - 0s 1ms/step - loss: 0.4658 - accuracy: 0.7706\n",
            "Epoch 81/100\n",
            "102/102 [==============================] - 0s 1ms/step - loss: 0.4662 - accuracy: 0.7733\n",
            "Epoch 82/100\n",
            "102/102 [==============================] - 0s 1ms/step - loss: 0.4643 - accuracy: 0.7798\n",
            "Epoch 83/100\n",
            "102/102 [==============================] - 0s 1ms/step - loss: 0.4645 - accuracy: 0.7801\n",
            "Epoch 84/100\n",
            "102/102 [==============================] - 0s 1ms/step - loss: 0.4646 - accuracy: 0.7804\n",
            "Epoch 85/100\n",
            "102/102 [==============================] - 0s 1ms/step - loss: 0.4648 - accuracy: 0.7767\n",
            "Epoch 86/100\n",
            "102/102 [==============================] - 0s 1ms/step - loss: 0.4627 - accuracy: 0.7782\n",
            "Epoch 87/100\n",
            "102/102 [==============================] - 0s 1ms/step - loss: 0.4650 - accuracy: 0.7761\n",
            "Epoch 88/100\n",
            "102/102 [==============================] - 0s 1ms/step - loss: 0.4624 - accuracy: 0.7788\n",
            "Epoch 89/100\n",
            "102/102 [==============================] - 0s 2ms/step - loss: 0.4623 - accuracy: 0.7816\n",
            "Epoch 90/100\n",
            "102/102 [==============================] - 0s 1ms/step - loss: 0.4624 - accuracy: 0.7801\n",
            "Epoch 91/100\n",
            "102/102 [==============================] - 0s 1ms/step - loss: 0.4636 - accuracy: 0.7776\n",
            "Epoch 92/100\n",
            "102/102 [==============================] - 0s 1ms/step - loss: 0.4606 - accuracy: 0.7794\n",
            "Epoch 93/100\n",
            "102/102 [==============================] - 0s 1ms/step - loss: 0.4619 - accuracy: 0.7801\n",
            "Epoch 94/100\n",
            "102/102 [==============================] - 0s 1ms/step - loss: 0.4618 - accuracy: 0.7770\n",
            "Epoch 95/100\n",
            "102/102 [==============================] - 0s 1ms/step - loss: 0.4616 - accuracy: 0.7804\n",
            "Epoch 96/100\n",
            "102/102 [==============================] - 0s 1ms/step - loss: 0.4616 - accuracy: 0.7819\n",
            "Epoch 97/100\n",
            "102/102 [==============================] - 0s 1ms/step - loss: 0.4622 - accuracy: 0.7804\n",
            "Epoch 98/100\n",
            "102/102 [==============================] - 0s 1ms/step - loss: 0.4624 - accuracy: 0.7798\n",
            "Epoch 99/100\n",
            "102/102 [==============================] - 0s 1ms/step - loss: 0.4601 - accuracy: 0.7782\n",
            "Epoch 100/100\n",
            "102/102 [==============================] - 0s 1ms/step - loss: 0.4608 - accuracy: 0.7804\n",
            "63/63 [==============================] - 0s 1ms/step - loss: 0.4585 - accuracy: 0.7725\n",
            "[0.45846670866012573, 0.7724999785423279]\n",
            "Classification Report: \n",
            "               precision    recall  f1-score   support\n",
            "\n",
            "           0       0.93      0.77      0.84      1593\n",
            "           1       0.46      0.77      0.58       407\n",
            "\n",
            "    accuracy                           0.77      2000\n",
            "   macro avg       0.70      0.77      0.71      2000\n",
            "weighted avg       0.83      0.77      0.79      2000\n",
            "\n"
          ],
          "name": "stdout"
        }
      ]
    },
    {
      "cell_type": "code",
      "metadata": {
        "colab": {
          "base_uri": "https://localhost:8080/"
        },
        "id": "zDgEvT9GFpRG",
        "outputId": "2d48205d-2809-4ec5-883f-d760b7a7e761"
      },
      "source": [
        "X_train, y_train = get_train_batch(df2_class0, df2_class1, 3260, 4890)\n",
        "\n",
        "y_pred4_3 = ANN(X_train, y_train, X_test, y_test, 'binary_crossentropy', -1)"
      ],
      "execution_count": 93,
      "outputs": [
        {
          "output_type": "stream",
          "text": [
            "Epoch 1/100\n",
            "102/102 [==============================] - 1s 1ms/step - loss: 0.7051 - accuracy: 0.5227\n",
            "Epoch 2/100\n",
            "102/102 [==============================] - 0s 1ms/step - loss: 0.6663 - accuracy: 0.6086\n",
            "Epoch 3/100\n",
            "102/102 [==============================] - 0s 1ms/step - loss: 0.6352 - accuracy: 0.6580\n",
            "Epoch 4/100\n",
            "102/102 [==============================] - 0s 1ms/step - loss: 0.6131 - accuracy: 0.6752\n",
            "Epoch 5/100\n",
            "102/102 [==============================] - 0s 1ms/step - loss: 0.6003 - accuracy: 0.6893\n",
            "Epoch 6/100\n",
            "102/102 [==============================] - 0s 1ms/step - loss: 0.5921 - accuracy: 0.6899\n",
            "Epoch 7/100\n",
            "102/102 [==============================] - 0s 1ms/step - loss: 0.5852 - accuracy: 0.6948\n",
            "Epoch 8/100\n",
            "102/102 [==============================] - 0s 1ms/step - loss: 0.5794 - accuracy: 0.7049\n",
            "Epoch 9/100\n",
            "102/102 [==============================] - 0s 1ms/step - loss: 0.5747 - accuracy: 0.7071\n",
            "Epoch 10/100\n",
            "102/102 [==============================] - 0s 1ms/step - loss: 0.5685 - accuracy: 0.7150\n",
            "Epoch 11/100\n",
            "102/102 [==============================] - 0s 1ms/step - loss: 0.5642 - accuracy: 0.7184\n",
            "Epoch 12/100\n",
            "102/102 [==============================] - 0s 1ms/step - loss: 0.5602 - accuracy: 0.7166\n",
            "Epoch 13/100\n",
            "102/102 [==============================] - 0s 1ms/step - loss: 0.5580 - accuracy: 0.7212\n",
            "Epoch 14/100\n",
            "102/102 [==============================] - 0s 1ms/step - loss: 0.5539 - accuracy: 0.7212\n",
            "Epoch 15/100\n",
            "102/102 [==============================] - 0s 1ms/step - loss: 0.5507 - accuracy: 0.7276\n",
            "Epoch 16/100\n",
            "102/102 [==============================] - 0s 1ms/step - loss: 0.5468 - accuracy: 0.7313\n",
            "Epoch 17/100\n",
            "102/102 [==============================] - 0s 1ms/step - loss: 0.5446 - accuracy: 0.7304\n",
            "Epoch 18/100\n",
            "102/102 [==============================] - 0s 1ms/step - loss: 0.5418 - accuracy: 0.7344\n",
            "Epoch 19/100\n",
            "102/102 [==============================] - 0s 1ms/step - loss: 0.5390 - accuracy: 0.7371\n",
            "Epoch 20/100\n",
            "102/102 [==============================] - 0s 1ms/step - loss: 0.5359 - accuracy: 0.7405\n",
            "Epoch 21/100\n",
            "102/102 [==============================] - 0s 1ms/step - loss: 0.5344 - accuracy: 0.7429\n",
            "Epoch 22/100\n",
            "102/102 [==============================] - 0s 1ms/step - loss: 0.5306 - accuracy: 0.7463\n",
            "Epoch 23/100\n",
            "102/102 [==============================] - 0s 1ms/step - loss: 0.5291 - accuracy: 0.7500\n",
            "Epoch 24/100\n",
            "102/102 [==============================] - 0s 1ms/step - loss: 0.5270 - accuracy: 0.7479\n",
            "Epoch 25/100\n",
            "102/102 [==============================] - 0s 1ms/step - loss: 0.5260 - accuracy: 0.7472\n",
            "Epoch 26/100\n",
            "102/102 [==============================] - 0s 1ms/step - loss: 0.5246 - accuracy: 0.7521\n",
            "Epoch 27/100\n",
            "102/102 [==============================] - 0s 1ms/step - loss: 0.5221 - accuracy: 0.7525\n",
            "Epoch 28/100\n",
            "102/102 [==============================] - 0s 1ms/step - loss: 0.5200 - accuracy: 0.7558\n",
            "Epoch 29/100\n",
            "102/102 [==============================] - 0s 1ms/step - loss: 0.5180 - accuracy: 0.7601\n",
            "Epoch 30/100\n",
            "102/102 [==============================] - 0s 1ms/step - loss: 0.5161 - accuracy: 0.7558\n",
            "Epoch 31/100\n",
            "102/102 [==============================] - 0s 1ms/step - loss: 0.5150 - accuracy: 0.7564\n",
            "Epoch 32/100\n",
            "102/102 [==============================] - 0s 1ms/step - loss: 0.5126 - accuracy: 0.7564\n",
            "Epoch 33/100\n",
            "102/102 [==============================] - 0s 1ms/step - loss: 0.5108 - accuracy: 0.7574\n",
            "Epoch 34/100\n",
            "102/102 [==============================] - 0s 1ms/step - loss: 0.5098 - accuracy: 0.7567\n",
            "Epoch 35/100\n",
            "102/102 [==============================] - 0s 1ms/step - loss: 0.5076 - accuracy: 0.7601\n",
            "Epoch 36/100\n",
            "102/102 [==============================] - 0s 1ms/step - loss: 0.5077 - accuracy: 0.7592\n",
            "Epoch 37/100\n",
            "102/102 [==============================] - 0s 1ms/step - loss: 0.5052 - accuracy: 0.7638\n",
            "Epoch 38/100\n",
            "102/102 [==============================] - 0s 1ms/step - loss: 0.5036 - accuracy: 0.7641\n",
            "Epoch 39/100\n",
            "102/102 [==============================] - 0s 1ms/step - loss: 0.5024 - accuracy: 0.7632\n",
            "Epoch 40/100\n",
            "102/102 [==============================] - 0s 1ms/step - loss: 0.5017 - accuracy: 0.7635\n",
            "Epoch 41/100\n",
            "102/102 [==============================] - 0s 1ms/step - loss: 0.5002 - accuracy: 0.7644\n",
            "Epoch 42/100\n",
            "102/102 [==============================] - 0s 1ms/step - loss: 0.4986 - accuracy: 0.7613\n",
            "Epoch 43/100\n",
            "102/102 [==============================] - 0s 1ms/step - loss: 0.4986 - accuracy: 0.7629\n",
            "Epoch 44/100\n",
            "102/102 [==============================] - 0s 1ms/step - loss: 0.4956 - accuracy: 0.7660\n",
            "Epoch 45/100\n",
            "102/102 [==============================] - 0s 1ms/step - loss: 0.4941 - accuracy: 0.7641\n",
            "Epoch 46/100\n",
            "102/102 [==============================] - 0s 1ms/step - loss: 0.4928 - accuracy: 0.7693\n",
            "Epoch 47/100\n",
            "102/102 [==============================] - 0s 1ms/step - loss: 0.4928 - accuracy: 0.7678\n",
            "Epoch 48/100\n",
            "102/102 [==============================] - 0s 1ms/step - loss: 0.4908 - accuracy: 0.7675\n",
            "Epoch 49/100\n",
            "102/102 [==============================] - 0s 1ms/step - loss: 0.4904 - accuracy: 0.7706\n",
            "Epoch 50/100\n",
            "102/102 [==============================] - 0s 1ms/step - loss: 0.4898 - accuracy: 0.7693\n",
            "Epoch 51/100\n",
            "102/102 [==============================] - 0s 1ms/step - loss: 0.4881 - accuracy: 0.7699\n",
            "Epoch 52/100\n",
            "102/102 [==============================] - 0s 1ms/step - loss: 0.4884 - accuracy: 0.7663\n",
            "Epoch 53/100\n",
            "102/102 [==============================] - 0s 1ms/step - loss: 0.4872 - accuracy: 0.7675\n",
            "Epoch 54/100\n",
            "102/102 [==============================] - 0s 1ms/step - loss: 0.4870 - accuracy: 0.7675\n",
            "Epoch 55/100\n",
            "102/102 [==============================] - 0s 1ms/step - loss: 0.4856 - accuracy: 0.7684\n",
            "Epoch 56/100\n",
            "102/102 [==============================] - 0s 1ms/step - loss: 0.4843 - accuracy: 0.7718\n",
            "Epoch 57/100\n",
            "102/102 [==============================] - 0s 1ms/step - loss: 0.4843 - accuracy: 0.7702\n",
            "Epoch 58/100\n",
            "102/102 [==============================] - 0s 1ms/step - loss: 0.4846 - accuracy: 0.7635\n",
            "Epoch 59/100\n",
            "102/102 [==============================] - 0s 1ms/step - loss: 0.4834 - accuracy: 0.7693\n",
            "Epoch 60/100\n",
            "102/102 [==============================] - 0s 1ms/step - loss: 0.4817 - accuracy: 0.7709\n",
            "Epoch 61/100\n",
            "102/102 [==============================] - 0s 1ms/step - loss: 0.4821 - accuracy: 0.7672\n",
            "Epoch 62/100\n",
            "102/102 [==============================] - 0s 1ms/step - loss: 0.4806 - accuracy: 0.7687\n",
            "Epoch 63/100\n",
            "102/102 [==============================] - 0s 1ms/step - loss: 0.4842 - accuracy: 0.7681\n",
            "Epoch 64/100\n",
            "102/102 [==============================] - 0s 1ms/step - loss: 0.4800 - accuracy: 0.7681\n",
            "Epoch 65/100\n",
            "102/102 [==============================] - 0s 1ms/step - loss: 0.4793 - accuracy: 0.7709\n",
            "Epoch 66/100\n",
            "102/102 [==============================] - 0s 1ms/step - loss: 0.4789 - accuracy: 0.7702\n",
            "Epoch 67/100\n",
            "102/102 [==============================] - 0s 1ms/step - loss: 0.4785 - accuracy: 0.7742\n",
            "Epoch 68/100\n",
            "102/102 [==============================] - 0s 1ms/step - loss: 0.4784 - accuracy: 0.7733\n",
            "Epoch 69/100\n",
            "102/102 [==============================] - 0s 1ms/step - loss: 0.4777 - accuracy: 0.7669\n",
            "Epoch 70/100\n",
            "102/102 [==============================] - 0s 1ms/step - loss: 0.4756 - accuracy: 0.7709\n",
            "Epoch 71/100\n",
            "102/102 [==============================] - 0s 1ms/step - loss: 0.4761 - accuracy: 0.7730\n",
            "Epoch 72/100\n",
            "102/102 [==============================] - 0s 1ms/step - loss: 0.4745 - accuracy: 0.7733\n",
            "Epoch 73/100\n",
            "102/102 [==============================] - 0s 1ms/step - loss: 0.4748 - accuracy: 0.7724\n",
            "Epoch 74/100\n",
            "102/102 [==============================] - 0s 1ms/step - loss: 0.4747 - accuracy: 0.7690\n",
            "Epoch 75/100\n",
            "102/102 [==============================] - 0s 1ms/step - loss: 0.4757 - accuracy: 0.7702\n",
            "Epoch 76/100\n",
            "102/102 [==============================] - 0s 1ms/step - loss: 0.4735 - accuracy: 0.7696\n",
            "Epoch 77/100\n",
            "102/102 [==============================] - 0s 1ms/step - loss: 0.4723 - accuracy: 0.7712\n",
            "Epoch 78/100\n",
            "102/102 [==============================] - 0s 1ms/step - loss: 0.4731 - accuracy: 0.7745\n",
            "Epoch 79/100\n",
            "102/102 [==============================] - 0s 1ms/step - loss: 0.4701 - accuracy: 0.7712\n",
            "Epoch 80/100\n",
            "102/102 [==============================] - 0s 1ms/step - loss: 0.4706 - accuracy: 0.7745\n",
            "Epoch 81/100\n",
            "102/102 [==============================] - 0s 1ms/step - loss: 0.4701 - accuracy: 0.7761\n",
            "Epoch 82/100\n",
            "102/102 [==============================] - 0s 1ms/step - loss: 0.4687 - accuracy: 0.7727\n",
            "Epoch 83/100\n",
            "102/102 [==============================] - 0s 1ms/step - loss: 0.4684 - accuracy: 0.7739\n",
            "Epoch 84/100\n",
            "102/102 [==============================] - 0s 1ms/step - loss: 0.4684 - accuracy: 0.7767\n",
            "Epoch 85/100\n",
            "102/102 [==============================] - 0s 1ms/step - loss: 0.4673 - accuracy: 0.7761\n",
            "Epoch 86/100\n",
            "102/102 [==============================] - 0s 1ms/step - loss: 0.4672 - accuracy: 0.7764\n",
            "Epoch 87/100\n",
            "102/102 [==============================] - 0s 1ms/step - loss: 0.4686 - accuracy: 0.7702\n",
            "Epoch 88/100\n",
            "102/102 [==============================] - 0s 1ms/step - loss: 0.4664 - accuracy: 0.7791\n",
            "Epoch 89/100\n",
            "102/102 [==============================] - 0s 1ms/step - loss: 0.4653 - accuracy: 0.7770\n",
            "Epoch 90/100\n",
            "102/102 [==============================] - 0s 1ms/step - loss: 0.4672 - accuracy: 0.7733\n",
            "Epoch 91/100\n",
            "102/102 [==============================] - 0s 1ms/step - loss: 0.4655 - accuracy: 0.7752\n",
            "Epoch 92/100\n",
            "102/102 [==============================] - 0s 1ms/step - loss: 0.4652 - accuracy: 0.7761\n",
            "Epoch 93/100\n",
            "102/102 [==============================] - 0s 1ms/step - loss: 0.4668 - accuracy: 0.7798\n",
            "Epoch 94/100\n",
            "102/102 [==============================] - 0s 1ms/step - loss: 0.4654 - accuracy: 0.7798\n",
            "Epoch 95/100\n",
            "102/102 [==============================] - 0s 1ms/step - loss: 0.4633 - accuracy: 0.7770\n",
            "Epoch 96/100\n",
            "102/102 [==============================] - 0s 1ms/step - loss: 0.4635 - accuracy: 0.7779\n",
            "Epoch 97/100\n",
            "102/102 [==============================] - 0s 1ms/step - loss: 0.4626 - accuracy: 0.7794\n",
            "Epoch 98/100\n",
            "102/102 [==============================] - 0s 1ms/step - loss: 0.4642 - accuracy: 0.7755\n",
            "Epoch 99/100\n",
            "102/102 [==============================] - 0s 1ms/step - loss: 0.4630 - accuracy: 0.7782\n",
            "Epoch 100/100\n",
            "102/102 [==============================] - 0s 1ms/step - loss: 0.4631 - accuracy: 0.7779\n",
            "63/63 [==============================] - 0s 1ms/step - loss: 0.4672 - accuracy: 0.7720\n",
            "[0.4671693742275238, 0.7720000147819519]\n",
            "Classification Report: \n",
            "               precision    recall  f1-score   support\n",
            "\n",
            "           0       0.92      0.79      0.85      1593\n",
            "           1       0.46      0.72      0.56       407\n",
            "\n",
            "    accuracy                           0.77      2000\n",
            "   macro avg       0.69      0.75      0.70      2000\n",
            "weighted avg       0.82      0.77      0.79      2000\n",
            "\n"
          ],
          "name": "stdout"
        }
      ]
    },
    {
      "cell_type": "code",
      "metadata": {
        "colab": {
          "base_uri": "https://localhost:8080/"
        },
        "id": "3AvIyT58F5ik",
        "outputId": "cf5097ef-c124-454b-99c2-e5e6a2aa8ee8"
      },
      "source": [
        "X_train, y_train = get_train_batch(df2_class0, df2_class1, 4890, 6370)\n",
        "\n",
        "y_pred4_4 = ANN(X_train, y_train, X_test, y_test, 'binary_crossentropy', -1)"
      ],
      "execution_count": 94,
      "outputs": [
        {
          "output_type": "stream",
          "text": [
            "Epoch 1/100\n",
            "98/98 [==============================] - 1s 1ms/step - loss: 0.6845 - accuracy: 0.5704\n",
            "Epoch 2/100\n",
            "98/98 [==============================] - 0s 1ms/step - loss: 0.6640 - accuracy: 0.6219\n",
            "Epoch 3/100\n",
            "98/98 [==============================] - 0s 1ms/step - loss: 0.6439 - accuracy: 0.6354\n",
            "Epoch 4/100\n",
            "98/98 [==============================] - 0s 1ms/step - loss: 0.6260 - accuracy: 0.6514\n",
            "Epoch 5/100\n",
            "98/98 [==============================] - 0s 1ms/step - loss: 0.6121 - accuracy: 0.6659\n",
            "Epoch 6/100\n",
            "98/98 [==============================] - 0s 1ms/step - loss: 0.6007 - accuracy: 0.6904\n",
            "Epoch 7/100\n",
            "98/98 [==============================] - 0s 1ms/step - loss: 0.5880 - accuracy: 0.7003\n",
            "Epoch 8/100\n",
            "98/98 [==============================] - 0s 1ms/step - loss: 0.5767 - accuracy: 0.7058\n",
            "Epoch 9/100\n",
            "98/98 [==============================] - 0s 1ms/step - loss: 0.5669 - accuracy: 0.7116\n",
            "Epoch 10/100\n",
            "98/98 [==============================] - 0s 1ms/step - loss: 0.5568 - accuracy: 0.7225\n",
            "Epoch 11/100\n",
            "98/98 [==============================] - 0s 1ms/step - loss: 0.5501 - accuracy: 0.7264\n",
            "Epoch 12/100\n",
            "98/98 [==============================] - 0s 1ms/step - loss: 0.5423 - accuracy: 0.7293\n",
            "Epoch 13/100\n",
            "98/98 [==============================] - 0s 1ms/step - loss: 0.5384 - accuracy: 0.7376\n",
            "Epoch 14/100\n",
            "98/98 [==============================] - 0s 1ms/step - loss: 0.5303 - accuracy: 0.7392\n",
            "Epoch 15/100\n",
            "98/98 [==============================] - 0s 1ms/step - loss: 0.5266 - accuracy: 0.7431\n",
            "Epoch 16/100\n",
            "98/98 [==============================] - 0s 1ms/step - loss: 0.5232 - accuracy: 0.7460\n",
            "Epoch 17/100\n",
            "98/98 [==============================] - 0s 1ms/step - loss: 0.5176 - accuracy: 0.7495\n",
            "Epoch 18/100\n",
            "98/98 [==============================] - 0s 1ms/step - loss: 0.5177 - accuracy: 0.7460\n",
            "Epoch 19/100\n",
            "98/98 [==============================] - 0s 1ms/step - loss: 0.5155 - accuracy: 0.7450\n",
            "Epoch 20/100\n",
            "98/98 [==============================] - 0s 1ms/step - loss: 0.5129 - accuracy: 0.7511\n",
            "Epoch 21/100\n",
            "98/98 [==============================] - 0s 1ms/step - loss: 0.5099 - accuracy: 0.7508\n",
            "Epoch 22/100\n",
            "98/98 [==============================] - 0s 1ms/step - loss: 0.5052 - accuracy: 0.7537\n",
            "Epoch 23/100\n",
            "98/98 [==============================] - 0s 1ms/step - loss: 0.5031 - accuracy: 0.7543\n",
            "Epoch 24/100\n",
            "98/98 [==============================] - 0s 1ms/step - loss: 0.5015 - accuracy: 0.7550\n",
            "Epoch 25/100\n",
            "98/98 [==============================] - 0s 1ms/step - loss: 0.5006 - accuracy: 0.7595\n",
            "Epoch 26/100\n",
            "98/98 [==============================] - 0s 1ms/step - loss: 0.4981 - accuracy: 0.7550\n",
            "Epoch 27/100\n",
            "98/98 [==============================] - 0s 1ms/step - loss: 0.4966 - accuracy: 0.7547\n",
            "Epoch 28/100\n",
            "98/98 [==============================] - 0s 1ms/step - loss: 0.4951 - accuracy: 0.7592\n",
            "Epoch 29/100\n",
            "98/98 [==============================] - 0s 1ms/step - loss: 0.4943 - accuracy: 0.7566\n",
            "Epoch 30/100\n",
            "98/98 [==============================] - 0s 1ms/step - loss: 0.4937 - accuracy: 0.7585\n",
            "Epoch 31/100\n",
            "98/98 [==============================] - 0s 1ms/step - loss: 0.4918 - accuracy: 0.7550\n",
            "Epoch 32/100\n",
            "98/98 [==============================] - 0s 1ms/step - loss: 0.4922 - accuracy: 0.7588\n",
            "Epoch 33/100\n",
            "98/98 [==============================] - 0s 1ms/step - loss: 0.4890 - accuracy: 0.7572\n",
            "Epoch 34/100\n",
            "98/98 [==============================] - 0s 1ms/step - loss: 0.4899 - accuracy: 0.7627\n",
            "Epoch 35/100\n",
            "98/98 [==============================] - 0s 1ms/step - loss: 0.4869 - accuracy: 0.7630\n",
            "Epoch 36/100\n",
            "98/98 [==============================] - 0s 1ms/step - loss: 0.4853 - accuracy: 0.7611\n",
            "Epoch 37/100\n",
            "98/98 [==============================] - 0s 1ms/step - loss: 0.4850 - accuracy: 0.7666\n",
            "Epoch 38/100\n",
            "98/98 [==============================] - 0s 1ms/step - loss: 0.4842 - accuracy: 0.7601\n",
            "Epoch 39/100\n",
            "98/98 [==============================] - 0s 1ms/step - loss: 0.4833 - accuracy: 0.7621\n",
            "Epoch 40/100\n",
            "98/98 [==============================] - 0s 1ms/step - loss: 0.4824 - accuracy: 0.7691\n",
            "Epoch 41/100\n",
            "98/98 [==============================] - 0s 1ms/step - loss: 0.4821 - accuracy: 0.7678\n",
            "Epoch 42/100\n",
            "98/98 [==============================] - 0s 1ms/step - loss: 0.4808 - accuracy: 0.7637\n",
            "Epoch 43/100\n",
            "98/98 [==============================] - 0s 1ms/step - loss: 0.4829 - accuracy: 0.7643\n",
            "Epoch 44/100\n",
            "98/98 [==============================] - 0s 1ms/step - loss: 0.4802 - accuracy: 0.7682\n",
            "Epoch 45/100\n",
            "98/98 [==============================] - 0s 1ms/step - loss: 0.4788 - accuracy: 0.7688\n",
            "Epoch 46/100\n",
            "98/98 [==============================] - 0s 1ms/step - loss: 0.4781 - accuracy: 0.7736\n",
            "Epoch 47/100\n",
            "98/98 [==============================] - 0s 1ms/step - loss: 0.4781 - accuracy: 0.7630\n",
            "Epoch 48/100\n",
            "98/98 [==============================] - 0s 1ms/step - loss: 0.4774 - accuracy: 0.7675\n",
            "Epoch 49/100\n",
            "98/98 [==============================] - 0s 1ms/step - loss: 0.4787 - accuracy: 0.7637\n",
            "Epoch 50/100\n",
            "98/98 [==============================] - 0s 1ms/step - loss: 0.4755 - accuracy: 0.7678\n",
            "Epoch 51/100\n",
            "98/98 [==============================] - 0s 1ms/step - loss: 0.4744 - accuracy: 0.7695\n",
            "Epoch 52/100\n",
            "98/98 [==============================] - 0s 1ms/step - loss: 0.4750 - accuracy: 0.7659\n",
            "Epoch 53/100\n",
            "98/98 [==============================] - 0s 1ms/step - loss: 0.4756 - accuracy: 0.7653\n",
            "Epoch 54/100\n",
            "98/98 [==============================] - 0s 1ms/step - loss: 0.4734 - accuracy: 0.7717\n",
            "Epoch 55/100\n",
            "98/98 [==============================] - 0s 1ms/step - loss: 0.4764 - accuracy: 0.7704\n",
            "Epoch 56/100\n",
            "98/98 [==============================] - 0s 2ms/step - loss: 0.4730 - accuracy: 0.7717\n",
            "Epoch 57/100\n",
            "98/98 [==============================] - 0s 1ms/step - loss: 0.4741 - accuracy: 0.7691\n",
            "Epoch 58/100\n",
            "98/98 [==============================] - 0s 1ms/step - loss: 0.4719 - accuracy: 0.7685\n",
            "Epoch 59/100\n",
            "98/98 [==============================] - 0s 1ms/step - loss: 0.4718 - accuracy: 0.7714\n",
            "Epoch 60/100\n",
            "98/98 [==============================] - 0s 1ms/step - loss: 0.4720 - accuracy: 0.7749\n",
            "Epoch 61/100\n",
            "98/98 [==============================] - 0s 1ms/step - loss: 0.4710 - accuracy: 0.7704\n",
            "Epoch 62/100\n",
            "98/98 [==============================] - 0s 1ms/step - loss: 0.4713 - accuracy: 0.7733\n",
            "Epoch 63/100\n",
            "98/98 [==============================] - 0s 1ms/step - loss: 0.4698 - accuracy: 0.7669\n",
            "Epoch 64/100\n",
            "98/98 [==============================] - 0s 1ms/step - loss: 0.4690 - accuracy: 0.7733\n",
            "Epoch 65/100\n",
            "98/98 [==============================] - 0s 1ms/step - loss: 0.4693 - accuracy: 0.7701\n",
            "Epoch 66/100\n",
            "98/98 [==============================] - 0s 2ms/step - loss: 0.4708 - accuracy: 0.7714\n",
            "Epoch 67/100\n",
            "98/98 [==============================] - 0s 1ms/step - loss: 0.4705 - accuracy: 0.7698\n",
            "Epoch 68/100\n",
            "98/98 [==============================] - 0s 1ms/step - loss: 0.4691 - accuracy: 0.7701\n",
            "Epoch 69/100\n",
            "98/98 [==============================] - 0s 1ms/step - loss: 0.4690 - accuracy: 0.7727\n",
            "Epoch 70/100\n",
            "98/98 [==============================] - 0s 1ms/step - loss: 0.4667 - accuracy: 0.7740\n",
            "Epoch 71/100\n",
            "98/98 [==============================] - 0s 1ms/step - loss: 0.4671 - accuracy: 0.7717\n",
            "Epoch 72/100\n",
            "98/98 [==============================] - 0s 1ms/step - loss: 0.4668 - accuracy: 0.7727\n",
            "Epoch 73/100\n",
            "98/98 [==============================] - 0s 1ms/step - loss: 0.4660 - accuracy: 0.7740\n",
            "Epoch 74/100\n",
            "98/98 [==============================] - 0s 1ms/step - loss: 0.4653 - accuracy: 0.7723\n",
            "Epoch 75/100\n",
            "98/98 [==============================] - 0s 1ms/step - loss: 0.4656 - accuracy: 0.7756\n",
            "Epoch 76/100\n",
            "98/98 [==============================] - 0s 1ms/step - loss: 0.4661 - accuracy: 0.7743\n",
            "Epoch 77/100\n",
            "98/98 [==============================] - 0s 1ms/step - loss: 0.4677 - accuracy: 0.7711\n",
            "Epoch 78/100\n",
            "98/98 [==============================] - 0s 1ms/step - loss: 0.4648 - accuracy: 0.7765\n",
            "Epoch 79/100\n",
            "98/98 [==============================] - 0s 1ms/step - loss: 0.4645 - accuracy: 0.7743\n",
            "Epoch 80/100\n",
            "98/98 [==============================] - 0s 1ms/step - loss: 0.4648 - accuracy: 0.7733\n",
            "Epoch 81/100\n",
            "98/98 [==============================] - 0s 1ms/step - loss: 0.4642 - accuracy: 0.7740\n",
            "Epoch 82/100\n",
            "98/98 [==============================] - 0s 1ms/step - loss: 0.4646 - accuracy: 0.7698\n",
            "Epoch 83/100\n",
            "98/98 [==============================] - 0s 1ms/step - loss: 0.4651 - accuracy: 0.7707\n",
            "Epoch 84/100\n",
            "98/98 [==============================] - 0s 1ms/step - loss: 0.4640 - accuracy: 0.7698\n",
            "Epoch 85/100\n",
            "98/98 [==============================] - 0s 1ms/step - loss: 0.4653 - accuracy: 0.7752\n",
            "Epoch 86/100\n",
            "98/98 [==============================] - 0s 1ms/step - loss: 0.4634 - accuracy: 0.7714\n",
            "Epoch 87/100\n",
            "98/98 [==============================] - 0s 1ms/step - loss: 0.4634 - accuracy: 0.7756\n",
            "Epoch 88/100\n",
            "98/98 [==============================] - 0s 1ms/step - loss: 0.4649 - accuracy: 0.7704\n",
            "Epoch 89/100\n",
            "98/98 [==============================] - 0s 1ms/step - loss: 0.4618 - accuracy: 0.7749\n",
            "Epoch 90/100\n",
            "98/98 [==============================] - 0s 1ms/step - loss: 0.4619 - accuracy: 0.7775\n",
            "Epoch 91/100\n",
            "98/98 [==============================] - 0s 1ms/step - loss: 0.4618 - accuracy: 0.7759\n",
            "Epoch 92/100\n",
            "98/98 [==============================] - 0s 1ms/step - loss: 0.4612 - accuracy: 0.7733\n",
            "Epoch 93/100\n",
            "98/98 [==============================] - 0s 2ms/step - loss: 0.4631 - accuracy: 0.7723\n",
            "Epoch 94/100\n",
            "98/98 [==============================] - 0s 1ms/step - loss: 0.4618 - accuracy: 0.7730\n",
            "Epoch 95/100\n",
            "98/98 [==============================] - 0s 1ms/step - loss: 0.4604 - accuracy: 0.7752\n",
            "Epoch 96/100\n",
            "98/98 [==============================] - 0s 1ms/step - loss: 0.4621 - accuracy: 0.7785\n",
            "Epoch 97/100\n",
            "98/98 [==============================] - 0s 1ms/step - loss: 0.4600 - accuracy: 0.7756\n",
            "Epoch 98/100\n",
            "98/98 [==============================] - 0s 1ms/step - loss: 0.4609 - accuracy: 0.7730\n",
            "Epoch 99/100\n",
            "98/98 [==============================] - 0s 1ms/step - loss: 0.4614 - accuracy: 0.7781\n",
            "Epoch 100/100\n",
            "98/98 [==============================] - 0s 1ms/step - loss: 0.4616 - accuracy: 0.7768\n",
            "63/63 [==============================] - 0s 1ms/step - loss: 0.4807 - accuracy: 0.7670\n",
            "[0.4807251989841461, 0.7670000195503235]\n",
            "Classification Report: \n",
            "               precision    recall  f1-score   support\n",
            "\n",
            "           0       0.94      0.76      0.84      1593\n",
            "           1       0.46      0.79      0.58       407\n",
            "\n",
            "    accuracy                           0.77      2000\n",
            "   macro avg       0.70      0.78      0.71      2000\n",
            "weighted avg       0.84      0.77      0.79      2000\n",
            "\n"
          ],
          "name": "stdout"
        }
      ]
    },
    {
      "cell_type": "code",
      "metadata": {
        "id": "u3HBg_9sGAQ8"
      },
      "source": [
        "y_pred_final = y_pred4_1.copy()\n",
        "for i in range(len(y_pred4_1)):\n",
        "    n_ones = y_pred4_1[i] + y_pred4_2[i] + y_pred4_3[i]+y_pred4_4[i]\n",
        "    if n_ones>1:\n",
        "        y_pred_final[i] = 1\n",
        "    else:\n",
        "        y_pred_final[i] = 0"
      ],
      "execution_count": 95,
      "outputs": []
    },
    {
      "cell_type": "code",
      "metadata": {
        "colab": {
          "base_uri": "https://localhost:8080/"
        },
        "id": "QnIipeB1GScH",
        "outputId": "5ee6bfa7-5622-4953-ae5a-8a101e2fa1ad"
      },
      "source": [
        "cl_rep = classification_report(y_test, y_pred_final)\n",
        "print(cl_rep)"
      ],
      "execution_count": 96,
      "outputs": [
        {
          "output_type": "stream",
          "text": [
            "              precision    recall  f1-score   support\n",
            "\n",
            "           0       0.93      0.75      0.83      1593\n",
            "           1       0.44      0.77      0.56       407\n",
            "\n",
            "    accuracy                           0.76      2000\n",
            "   macro avg       0.69      0.76      0.70      2000\n",
            "weighted avg       0.83      0.76      0.78      2000\n",
            "\n"
          ],
          "name": "stdout"
        }
      ]
    },
    {
      "cell_type": "code",
      "metadata": {
        "colab": {
          "base_uri": "https://localhost:8080/",
          "height": 459
        },
        "id": "51yQuIr_GZBP",
        "outputId": "67204368-07ef-4c5a-a758-92a06a0448e2"
      },
      "source": [
        "cm = tf.math.confusion_matrix(labels=y_test,predictions=y_pred_final)\n",
        "\n",
        "plt.figure(figsize = (10,7))\n",
        "sns.heatmap(cm, annot=True, fmt='d')\n",
        "plt.xlabel('Predicted')\n",
        "plt.ylabel('Truth')"
      ],
      "execution_count": 97,
      "outputs": [
        {
          "output_type": "execute_result",
          "data": {
            "text/plain": [
              "Text(69.0, 0.5, 'Truth')"
            ]
          },
          "metadata": {
            "tags": []
          },
          "execution_count": 97
        },
        {
          "output_type": "display_data",
          "data": {
            "image/png": "[encoded data removed]",
            "text/plain": [
              "<Figure size 720x504 with 2 Axes>"
            ]
          },
          "metadata": {
            "tags": []
          }
        }
      ]
    }
  ]
}